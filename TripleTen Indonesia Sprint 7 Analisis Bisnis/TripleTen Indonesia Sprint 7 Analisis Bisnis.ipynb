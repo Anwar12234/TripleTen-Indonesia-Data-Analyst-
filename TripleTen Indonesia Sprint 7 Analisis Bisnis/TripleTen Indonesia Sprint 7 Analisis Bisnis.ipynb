{
 "cells": [
  {
   "cell_type": "markdown",
   "metadata": {},
   "source": [
    "# Analisis Bisnis Y.Afisha\n",
    "\n",
    "Memanfaatkan pengetahuan dan keterampilan yang diperoleh dari kursus Practicum, saya siap untuk menerima tantangan pertama dalam program magang di departemen analitik perusahaan Y.Afisha. Tugas saya adalah membantu mengoptimalkan anggaran biaya pemasaran, dan saya berkomitmen untuk memberikan kontribusi maksimal dalam mencapai tujuan perusahaan.\n",
    "\n",
    "## Diskripsi Proyek\n",
    "\n",
    "Proyek analisis bisnis ini berkaitan dengan data kunjungan situs dan pesanan Y.Afisha dari Januari 2017 hingga Desember 2018, serta statistik biaya pemasaran.\n",
    "\n",
    "## Daftar Isi\n",
    "\n",
    "* [Tujuan](#)\n",
    "* [Tahapan](#)\n",
    "* [1. Pra-pemrosesan Data](#)\n",
    "    * [1.1. Memuat Data](#)\n",
    "    * [1.2. Mengeksplorasi Data Awal](#)\n",
    "    * [Kesimpulan dan Langkah-Langkah Selanjutnya](#)\n",
    "    * [1.3. Megoptimalkan Data](#)\n",
    "    * [1.4. Memperbaiki Penulisan Judul](#)\n",
    "    * [1.5. Memperbaiki Anomali Data](#)\n",
    "* [2. Analisis Data Exploratif (EDA)](#)\n",
    "    * [2.1. Memeriksa Data yang Sudah Bersih](#)\n",
    "    * [2.2. Menyusun Laporan dan Menghitung Metrik](#)\n",
    "        * [2.2.1. Product Analysis](#)\n",
    "        * [2.2.2. Sales Analysis](#)\n",
    "        * [2.2.3. Marketing Analysis](#)\n",
    "* [Kesimpulan Umum](#)\n",
    "    * [A. Pra-pemrosesan](#)\n",
    "    * [B. Analisis Data Eksploratif (EDA)](#)\n",
    "    \n",
    "### Tujuan\n",
    "\n",
    "1. Melakukan analisis perilaku pengguna dalam penggunaan produk Y.Afisha.\n",
    "2. Mengidentifikasi titik awal pembelian oleh pengguna Y.Afisha.\n",
    "3. Menghitung total sumbangan uang dari setiap pengguna Y.Afisha.\n",
    "4. Mengidentifikasi waktu terbayarnya semua biaya pemasaran.\n",
    "\n",
    "### Tahapan\n",
    "\n",
    "Data proyek analisis bisnis ini disimpan dalam file:\n",
    "\n",
    "* `/datasets/costs_us.csv`\n",
    "* `/datasets/orders_log_us.csv`\n",
    "* `/datasets/visits_log_us.csv`\n",
    "\n",
    "Proyek ini terdiri dari dua tahap:\n",
    "\n",
    "1. Pra-pemrosesan Data\n",
    "2. Analisis Data Exploratif (EDA)"
   ]
  },
  {
   "cell_type": "markdown",
   "metadata": {},
   "source": [
    "## 1. Pra-pemrosesan Data"
   ]
  },
  {
   "cell_type": "code",
   "execution_count": 1,
   "metadata": {},
   "outputs": [],
   "source": [
    "# Import library\n",
    "import pandas as pd\n",
    "import matplotlib.pyplot as plt\n",
    "from scipy import stats as st\n",
    "import seaborn as sns\n",
    "import numpy as np\n",
    "from scipy import stats as st\n",
    "\n",
    "import warnings\n",
    "warnings.filterwarnings('ignore')\n",
    "\n",
    "import datetime as dt\n",
    "import matplotlib.ticker as ticker"
   ]
  },
  {
   "cell_type": "markdown",
   "metadata": {},
   "source": [
    "### 1.1. Memuat Data"
   ]
  },
  {
   "cell_type": "code",
   "execution_count": 2,
   "metadata": {},
   "outputs": [],
   "source": [
    "# Try and except datasets\n",
    "try:\n",
    "    data_visits = pd.read_csv('visits_log_us.csv')\n",
    "    data_orders = pd.read_csv('orders_log_us.csv')\n",
    "    data_costs = pd.read_csv('costs_us.csv')\n",
    "except:\n",
    "    data_visits = pd.read_csv('/datasets/visits_log_us.csv')\n",
    "    data_orders = pd.read_csv('/datasets/orders_log_us.csv')\n",
    "    data_costs = pd.read_csv('/datasets/costs_us.csv')"
   ]
  },
  {
   "cell_type": "markdown",
   "metadata": {},
   "source": [
    "### 1.2. Mengeksplorasi Data Awal\n",
    "\n",
    "**Data Visits** (log/catatan server yang memuat data kunjungan ke situs web)"
   ]
  },
  {
   "cell_type": "code",
   "execution_count": 3,
   "metadata": {},
   "outputs": [
    {
     "data": {
      "text/html": [
       "<div>\n",
       "<style scoped>\n",
       "    .dataframe tbody tr th:only-of-type {\n",
       "        vertical-align: middle;\n",
       "    }\n",
       "\n",
       "    .dataframe tbody tr th {\n",
       "        vertical-align: top;\n",
       "    }\n",
       "\n",
       "    .dataframe thead th {\n",
       "        text-align: right;\n",
       "    }\n",
       "</style>\n",
       "<table border=\"1\" class=\"dataframe\">\n",
       "  <thead>\n",
       "    <tr style=\"text-align: right;\">\n",
       "      <th></th>\n",
       "      <th>Device</th>\n",
       "      <th>End Ts</th>\n",
       "      <th>Source Id</th>\n",
       "      <th>Start Ts</th>\n",
       "      <th>Uid</th>\n",
       "    </tr>\n",
       "  </thead>\n",
       "  <tbody>\n",
       "    <tr>\n",
       "      <th>0</th>\n",
       "      <td>touch</td>\n",
       "      <td>2017-12-20 17:38:00</td>\n",
       "      <td>4</td>\n",
       "      <td>2017-12-20 17:20:00</td>\n",
       "      <td>16879256277535980062</td>\n",
       "    </tr>\n",
       "    <tr>\n",
       "      <th>1</th>\n",
       "      <td>desktop</td>\n",
       "      <td>2018-02-19 17:21:00</td>\n",
       "      <td>2</td>\n",
       "      <td>2018-02-19 16:53:00</td>\n",
       "      <td>104060357244891740</td>\n",
       "    </tr>\n",
       "    <tr>\n",
       "      <th>2</th>\n",
       "      <td>touch</td>\n",
       "      <td>2017-07-01 01:54:00</td>\n",
       "      <td>5</td>\n",
       "      <td>2017-07-01 01:54:00</td>\n",
       "      <td>7459035603376831527</td>\n",
       "    </tr>\n",
       "    <tr>\n",
       "      <th>3</th>\n",
       "      <td>desktop</td>\n",
       "      <td>2018-05-20 11:23:00</td>\n",
       "      <td>9</td>\n",
       "      <td>2018-05-20 10:59:00</td>\n",
       "      <td>16174680259334210214</td>\n",
       "    </tr>\n",
       "    <tr>\n",
       "      <th>4</th>\n",
       "      <td>desktop</td>\n",
       "      <td>2017-12-27 14:06:00</td>\n",
       "      <td>3</td>\n",
       "      <td>2017-12-27 14:06:00</td>\n",
       "      <td>9969694820036681168</td>\n",
       "    </tr>\n",
       "    <tr>\n",
       "      <th>...</th>\n",
       "      <td>...</td>\n",
       "      <td>...</td>\n",
       "      <td>...</td>\n",
       "      <td>...</td>\n",
       "      <td>...</td>\n",
       "    </tr>\n",
       "    <tr>\n",
       "      <th>359395</th>\n",
       "      <td>desktop</td>\n",
       "      <td>2017-07-29 19:07:19</td>\n",
       "      <td>2</td>\n",
       "      <td>2017-07-29 19:07:00</td>\n",
       "      <td>18363291481961487539</td>\n",
       "    </tr>\n",
       "    <tr>\n",
       "      <th>359396</th>\n",
       "      <td>touch</td>\n",
       "      <td>2018-01-25 17:38:19</td>\n",
       "      <td>1</td>\n",
       "      <td>2018-01-25 17:38:00</td>\n",
       "      <td>18370831553019119586</td>\n",
       "    </tr>\n",
       "    <tr>\n",
       "      <th>359397</th>\n",
       "      <td>desktop</td>\n",
       "      <td>2018-03-03 10:12:19</td>\n",
       "      <td>4</td>\n",
       "      <td>2018-03-03 10:12:00</td>\n",
       "      <td>18387297585500748294</td>\n",
       "    </tr>\n",
       "    <tr>\n",
       "      <th>359398</th>\n",
       "      <td>desktop</td>\n",
       "      <td>2017-11-02 10:12:19</td>\n",
       "      <td>5</td>\n",
       "      <td>2017-11-02 10:12:00</td>\n",
       "      <td>18388616944624776485</td>\n",
       "    </tr>\n",
       "    <tr>\n",
       "      <th>359399</th>\n",
       "      <td>touch</td>\n",
       "      <td>2017-09-10 13:13:19</td>\n",
       "      <td>2</td>\n",
       "      <td>2017-09-10 13:13:00</td>\n",
       "      <td>18396128934054549559</td>\n",
       "    </tr>\n",
       "  </tbody>\n",
       "</table>\n",
       "<p>359400 rows × 5 columns</p>\n",
       "</div>"
      ],
      "text/plain": [
       "         Device               End Ts  Source Id             Start Ts  \\\n",
       "0         touch  2017-12-20 17:38:00          4  2017-12-20 17:20:00   \n",
       "1       desktop  2018-02-19 17:21:00          2  2018-02-19 16:53:00   \n",
       "2         touch  2017-07-01 01:54:00          5  2017-07-01 01:54:00   \n",
       "3       desktop  2018-05-20 11:23:00          9  2018-05-20 10:59:00   \n",
       "4       desktop  2017-12-27 14:06:00          3  2017-12-27 14:06:00   \n",
       "...         ...                  ...        ...                  ...   \n",
       "359395  desktop  2017-07-29 19:07:19          2  2017-07-29 19:07:00   \n",
       "359396    touch  2018-01-25 17:38:19          1  2018-01-25 17:38:00   \n",
       "359397  desktop  2018-03-03 10:12:19          4  2018-03-03 10:12:00   \n",
       "359398  desktop  2017-11-02 10:12:19          5  2017-11-02 10:12:00   \n",
       "359399    touch  2017-09-10 13:13:19          2  2017-09-10 13:13:00   \n",
       "\n",
       "                         Uid  \n",
       "0       16879256277535980062  \n",
       "1         104060357244891740  \n",
       "2        7459035603376831527  \n",
       "3       16174680259334210214  \n",
       "4        9969694820036681168  \n",
       "...                      ...  \n",
       "359395  18363291481961487539  \n",
       "359396  18370831553019119586  \n",
       "359397  18387297585500748294  \n",
       "359398  18388616944624776485  \n",
       "359399  18396128934054549559  \n",
       "\n",
       "[359400 rows x 5 columns]"
      ]
     },
     "execution_count": 3,
     "metadata": {},
     "output_type": "execute_result"
    }
   ],
   "source": [
    "data_visits"
   ]
  },
  {
   "cell_type": "markdown",
   "metadata": {},
   "source": [
    "**Deskripsi data_visits:**\n",
    "\n",
    "* `Uid` — ID pengguna\n",
    "* `Device` — perangkat pengguna\n",
    "* `Start Ts` — tanggal dan waktu dimulainya sesi\n",
    "* `End Ts` — tanggal dan waktu berakhirnya sesi\n",
    "* `Source Id` — ID sumber iklan, sumber yang digunakan pengguna untuk datang ke situs web\n",
    "\n",
    "Semua tanggal dalam tabel ini menggunakan format YYYY-MM-DD"
   ]
  },
  {
   "cell_type": "code",
   "execution_count": 4,
   "metadata": {},
   "outputs": [
    {
     "name": "stdout",
     "output_type": "stream",
     "text": [
      "<class 'pandas.core.frame.DataFrame'>\n",
      "RangeIndex: 359400 entries, 0 to 359399\n",
      "Data columns (total 5 columns):\n",
      " #   Column     Non-Null Count   Dtype \n",
      "---  ------     --------------   ----- \n",
      " 0   Device     359400 non-null  object\n",
      " 1   End Ts     359400 non-null  object\n",
      " 2   Source Id  359400 non-null  int64 \n",
      " 3   Start Ts   359400 non-null  object\n",
      " 4   Uid        359400 non-null  uint64\n",
      "dtypes: int64(1), object(3), uint64(1)\n",
      "memory usage: 13.7+ MB\n"
     ]
    }
   ],
   "source": [
    "# Check data info\n",
    "data_visits.info()"
   ]
  },
  {
   "cell_type": "code",
   "execution_count": 5,
   "metadata": {},
   "outputs": [
    {
     "data": {
      "text/plain": [
       "array(['touch', 'desktop'], dtype=object)"
      ]
     },
     "execution_count": 5,
     "metadata": {},
     "output_type": "execute_result"
    }
   ],
   "source": [
    "data_visits['Device'].unique()"
   ]
  },
  {
   "cell_type": "code",
   "execution_count": 6,
   "metadata": {},
   "outputs": [
    {
     "data": {
      "text/plain": [
       "Device       0\n",
       "End Ts       0\n",
       "Source Id    0\n",
       "Start Ts     0\n",
       "Uid          0\n",
       "dtype: int64"
      ]
     },
     "execution_count": 6,
     "metadata": {},
     "output_type": "execute_result"
    }
   ],
   "source": [
    "# Check total missing values descending\n",
    "data_visits.isna().sum().sort_values(ascending=False)"
   ]
  },
  {
   "cell_type": "code",
   "execution_count": 7,
   "metadata": {},
   "outputs": [
    {
     "data": {
      "text/plain": [
       "0"
      ]
     },
     "execution_count": 7,
     "metadata": {},
     "output_type": "execute_result"
    }
   ],
   "source": [
    "# Check duplicated data\n",
    "data_visits.duplicated().sum()"
   ]
  },
  {
   "cell_type": "code",
   "execution_count": 8,
   "metadata": {},
   "outputs": [
    {
     "data": {
      "text/html": [
       "<div>\n",
       "<style scoped>\n",
       "    .dataframe tbody tr th:only-of-type {\n",
       "        vertical-align: middle;\n",
       "    }\n",
       "\n",
       "    .dataframe tbody tr th {\n",
       "        vertical-align: top;\n",
       "    }\n",
       "\n",
       "    .dataframe thead th {\n",
       "        text-align: right;\n",
       "    }\n",
       "</style>\n",
       "<table border=\"1\" class=\"dataframe\">\n",
       "  <thead>\n",
       "    <tr style=\"text-align: right;\">\n",
       "      <th></th>\n",
       "      <th>Device</th>\n",
       "      <th>End Ts</th>\n",
       "      <th>Source Id</th>\n",
       "      <th>Start Ts</th>\n",
       "      <th>Uid</th>\n",
       "    </tr>\n",
       "  </thead>\n",
       "  <tbody>\n",
       "    <tr>\n",
       "      <th>4181</th>\n",
       "      <td>desktop</td>\n",
       "      <td>2018-03-25 03:18:00</td>\n",
       "      <td>3</td>\n",
       "      <td>2018-03-25 03:50:00</td>\n",
       "      <td>13092152539246794986</td>\n",
       "    </tr>\n",
       "    <tr>\n",
       "      <th>177972</th>\n",
       "      <td>desktop</td>\n",
       "      <td>2018-03-25 03:09:00</td>\n",
       "      <td>9</td>\n",
       "      <td>2018-03-25 03:55:00</td>\n",
       "      <td>4621202742905035453</td>\n",
       "    </tr>\n",
       "  </tbody>\n",
       "</table>\n",
       "</div>"
      ],
      "text/plain": [
       "         Device               End Ts  Source Id             Start Ts  \\\n",
       "4181    desktop  2018-03-25 03:18:00          3  2018-03-25 03:50:00   \n",
       "177972  desktop  2018-03-25 03:09:00          9  2018-03-25 03:55:00   \n",
       "\n",
       "                         Uid  \n",
       "4181    13092152539246794986  \n",
       "177972   4621202742905035453  "
      ]
     },
     "execution_count": 8,
     "metadata": {},
     "output_type": "execute_result"
    }
   ],
   "source": [
    "# Check anomaly timestamp\n",
    "time_check = data_visits.query(\"`End Ts` < `Start Ts`\")\n",
    "time_check"
   ]
  },
  {
   "cell_type": "markdown",
   "metadata": {},
   "source": [
    "**Kesimpulan sementara:**\n",
    "\n",
    "* Tabel `data_visits` memiliki entri nama yang memerlukan pembenahan, dengan adanya campuran huruf besar dan spasi yang tidak konsisten.\n",
    "* Tabel `data_visits` menunjukkan penggunaan memori yang tinggi, kemungkinan karena penyimpanan yang tidak optimal pada kolom date/time.\n",
    "* Kolom `Device` memiliki jumlah kategori yang terbatas.\n",
    "* Tidak ada nilai yang hilang pada data tersebut.\n",
    "* Tabel `data_visits` tidak mengandung duplikat nilai.\n",
    "* Ditemukan anomali data di mana nilai Start Ts melebihi nilai End Ts."
   ]
  },
  {
   "cell_type": "markdown",
   "metadata": {},
   "source": [
    "**Data Orders** (data terkait pesanan)"
   ]
  },
  {
   "cell_type": "code",
   "execution_count": 9,
   "metadata": {},
   "outputs": [
    {
     "data": {
      "text/html": [
       "<div>\n",
       "<style scoped>\n",
       "    .dataframe tbody tr th:only-of-type {\n",
       "        vertical-align: middle;\n",
       "    }\n",
       "\n",
       "    .dataframe tbody tr th {\n",
       "        vertical-align: top;\n",
       "    }\n",
       "\n",
       "    .dataframe thead th {\n",
       "        text-align: right;\n",
       "    }\n",
       "</style>\n",
       "<table border=\"1\" class=\"dataframe\">\n",
       "  <thead>\n",
       "    <tr style=\"text-align: right;\">\n",
       "      <th></th>\n",
       "      <th>Buy Ts</th>\n",
       "      <th>Revenue</th>\n",
       "      <th>Uid</th>\n",
       "    </tr>\n",
       "  </thead>\n",
       "  <tbody>\n",
       "    <tr>\n",
       "      <th>0</th>\n",
       "      <td>2017-06-01 00:10:00</td>\n",
       "      <td>17.00</td>\n",
       "      <td>10329302124590727494</td>\n",
       "    </tr>\n",
       "    <tr>\n",
       "      <th>1</th>\n",
       "      <td>2017-06-01 00:25:00</td>\n",
       "      <td>0.55</td>\n",
       "      <td>11627257723692907447</td>\n",
       "    </tr>\n",
       "    <tr>\n",
       "      <th>2</th>\n",
       "      <td>2017-06-01 00:27:00</td>\n",
       "      <td>0.37</td>\n",
       "      <td>17903680561304213844</td>\n",
       "    </tr>\n",
       "    <tr>\n",
       "      <th>3</th>\n",
       "      <td>2017-06-01 00:29:00</td>\n",
       "      <td>0.55</td>\n",
       "      <td>16109239769442553005</td>\n",
       "    </tr>\n",
       "    <tr>\n",
       "      <th>4</th>\n",
       "      <td>2017-06-01 07:58:00</td>\n",
       "      <td>0.37</td>\n",
       "      <td>14200605875248379450</td>\n",
       "    </tr>\n",
       "    <tr>\n",
       "      <th>...</th>\n",
       "      <td>...</td>\n",
       "      <td>...</td>\n",
       "      <td>...</td>\n",
       "    </tr>\n",
       "    <tr>\n",
       "      <th>50410</th>\n",
       "      <td>2018-05-31 23:50:00</td>\n",
       "      <td>4.64</td>\n",
       "      <td>12296626599487328624</td>\n",
       "    </tr>\n",
       "    <tr>\n",
       "      <th>50411</th>\n",
       "      <td>2018-05-31 23:50:00</td>\n",
       "      <td>5.80</td>\n",
       "      <td>11369640365507475976</td>\n",
       "    </tr>\n",
       "    <tr>\n",
       "      <th>50412</th>\n",
       "      <td>2018-05-31 23:54:00</td>\n",
       "      <td>0.30</td>\n",
       "      <td>1786462140797698849</td>\n",
       "    </tr>\n",
       "    <tr>\n",
       "      <th>50413</th>\n",
       "      <td>2018-05-31 23:56:00</td>\n",
       "      <td>3.67</td>\n",
       "      <td>3993697860786194247</td>\n",
       "    </tr>\n",
       "    <tr>\n",
       "      <th>50414</th>\n",
       "      <td>2018-06-01 00:02:00</td>\n",
       "      <td>3.42</td>\n",
       "      <td>83872787173869366</td>\n",
       "    </tr>\n",
       "  </tbody>\n",
       "</table>\n",
       "<p>50415 rows × 3 columns</p>\n",
       "</div>"
      ],
      "text/plain": [
       "                    Buy Ts  Revenue                   Uid\n",
       "0      2017-06-01 00:10:00    17.00  10329302124590727494\n",
       "1      2017-06-01 00:25:00     0.55  11627257723692907447\n",
       "2      2017-06-01 00:27:00     0.37  17903680561304213844\n",
       "3      2017-06-01 00:29:00     0.55  16109239769442553005\n",
       "4      2017-06-01 07:58:00     0.37  14200605875248379450\n",
       "...                    ...      ...                   ...\n",
       "50410  2018-05-31 23:50:00     4.64  12296626599487328624\n",
       "50411  2018-05-31 23:50:00     5.80  11369640365507475976\n",
       "50412  2018-05-31 23:54:00     0.30   1786462140797698849\n",
       "50413  2018-05-31 23:56:00     3.67   3993697860786194247\n",
       "50414  2018-06-01 00:02:00     3.42     83872787173869366\n",
       "\n",
       "[50415 rows x 3 columns]"
      ]
     },
     "execution_count": 9,
     "metadata": {},
     "output_type": "execute_result"
    }
   ],
   "source": [
    "data_orders"
   ]
  },
  {
   "cell_type": "markdown",
   "metadata": {},
   "source": [
    "**Deskripsi data_orders:**\n",
    "\n",
    "* `Uid` — ID pengguna yang membuat pesanan\n",
    "* `Buy Ts` — tanggal dan waktu pesanan dibuat\n",
    "* `Revenue` — pendapatan Y.Afisha dari pesanan tersebut"
   ]
  },
  {
   "cell_type": "code",
   "execution_count": 10,
   "metadata": {},
   "outputs": [
    {
     "name": "stdout",
     "output_type": "stream",
     "text": [
      "<class 'pandas.core.frame.DataFrame'>\n",
      "RangeIndex: 50415 entries, 0 to 50414\n",
      "Data columns (total 3 columns):\n",
      " #   Column   Non-Null Count  Dtype  \n",
      "---  ------   --------------  -----  \n",
      " 0   Buy Ts   50415 non-null  object \n",
      " 1   Revenue  50415 non-null  float64\n",
      " 2   Uid      50415 non-null  uint64 \n",
      "dtypes: float64(1), object(1), uint64(1)\n",
      "memory usage: 1.2+ MB\n"
     ]
    }
   ],
   "source": [
    "# Check data info\n",
    "data_orders.info()"
   ]
  },
  {
   "cell_type": "code",
   "execution_count": 11,
   "metadata": {},
   "outputs": [
    {
     "data": {
      "text/html": [
       "<div>\n",
       "<style scoped>\n",
       "    .dataframe tbody tr th:only-of-type {\n",
       "        vertical-align: middle;\n",
       "    }\n",
       "\n",
       "    .dataframe tbody tr th {\n",
       "        vertical-align: top;\n",
       "    }\n",
       "\n",
       "    .dataframe thead th {\n",
       "        text-align: right;\n",
       "    }\n",
       "</style>\n",
       "<table border=\"1\" class=\"dataframe\">\n",
       "  <thead>\n",
       "    <tr style=\"text-align: right;\">\n",
       "      <th></th>\n",
       "      <th>Revenue</th>\n",
       "      <th>Uid</th>\n",
       "    </tr>\n",
       "  </thead>\n",
       "  <tbody>\n",
       "    <tr>\n",
       "      <th>count</th>\n",
       "      <td>50415.000000</td>\n",
       "      <td>5.041500e+04</td>\n",
       "    </tr>\n",
       "    <tr>\n",
       "      <th>mean</th>\n",
       "      <td>4.999647</td>\n",
       "      <td>9.098161e+18</td>\n",
       "    </tr>\n",
       "    <tr>\n",
       "      <th>std</th>\n",
       "      <td>21.818359</td>\n",
       "      <td>5.285742e+18</td>\n",
       "    </tr>\n",
       "    <tr>\n",
       "      <th>min</th>\n",
       "      <td>0.000000</td>\n",
       "      <td>3.135781e+14</td>\n",
       "    </tr>\n",
       "    <tr>\n",
       "      <th>25%</th>\n",
       "      <td>1.220000</td>\n",
       "      <td>4.533567e+18</td>\n",
       "    </tr>\n",
       "    <tr>\n",
       "      <th>50%</th>\n",
       "      <td>2.500000</td>\n",
       "      <td>9.102274e+18</td>\n",
       "    </tr>\n",
       "    <tr>\n",
       "      <th>75%</th>\n",
       "      <td>4.890000</td>\n",
       "      <td>1.368290e+19</td>\n",
       "    </tr>\n",
       "    <tr>\n",
       "      <th>max</th>\n",
       "      <td>2633.280000</td>\n",
       "      <td>1.844617e+19</td>\n",
       "    </tr>\n",
       "  </tbody>\n",
       "</table>\n",
       "</div>"
      ],
      "text/plain": [
       "            Revenue           Uid\n",
       "count  50415.000000  5.041500e+04\n",
       "mean       4.999647  9.098161e+18\n",
       "std       21.818359  5.285742e+18\n",
       "min        0.000000  3.135781e+14\n",
       "25%        1.220000  4.533567e+18\n",
       "50%        2.500000  9.102274e+18\n",
       "75%        4.890000  1.368290e+19\n",
       "max     2633.280000  1.844617e+19"
      ]
     },
     "execution_count": 11,
     "metadata": {},
     "output_type": "execute_result"
    }
   ],
   "source": [
    "# Check statistics data\n",
    "data_orders.describe()"
   ]
  },
  {
   "cell_type": "code",
   "execution_count": 12,
   "metadata": {},
   "outputs": [
    {
     "data": {
      "text/plain": [
       "0"
      ]
     },
     "execution_count": 12,
     "metadata": {},
     "output_type": "execute_result"
    }
   ],
   "source": [
    "# Check duplicated data\n",
    "data_orders.duplicated().sum()"
   ]
  },
  {
   "cell_type": "code",
   "execution_count": 13,
   "metadata": {},
   "outputs": [
    {
     "data": {
      "text/plain": [
       "0"
      ]
     },
     "execution_count": 13,
     "metadata": {},
     "output_type": "execute_result"
    }
   ],
   "source": [
    "# Check duplicated data\n",
    "data_orders.duplicated().sum()"
   ]
  },
  {
   "cell_type": "markdown",
   "metadata": {},
   "source": [
    "**Kesimpulan sementara:**\n",
    "\n",
    "* Tabel `data_orders` memiliki entri nama yang memerlukan penataan, dengan adanya campuran huruf besar yang tidak konsisten pada kata-kata.\n",
    "* Tabel `data_orders` mengandung nilai anomali pada kolom Revenue, yang perlu dianalisis untuk memahami dampaknya terhadap keseluruhan data.\n",
    "* Tidak ada nilai yang hilang pada data tersebut.\n",
    "* Tabel `data_orders` tidak mengandung duplikat nilai."
   ]
  },
  {
   "cell_type": "markdown",
   "metadata": {},
   "source": [
    "**Data Costs** (data terkait pengeluaran pemasaran):"
   ]
  },
  {
   "cell_type": "code",
   "execution_count": 14,
   "metadata": {},
   "outputs": [
    {
     "data": {
      "text/html": [
       "<div>\n",
       "<style scoped>\n",
       "    .dataframe tbody tr th:only-of-type {\n",
       "        vertical-align: middle;\n",
       "    }\n",
       "\n",
       "    .dataframe tbody tr th {\n",
       "        vertical-align: top;\n",
       "    }\n",
       "\n",
       "    .dataframe thead th {\n",
       "        text-align: right;\n",
       "    }\n",
       "</style>\n",
       "<table border=\"1\" class=\"dataframe\">\n",
       "  <thead>\n",
       "    <tr style=\"text-align: right;\">\n",
       "      <th></th>\n",
       "      <th>source_id</th>\n",
       "      <th>dt</th>\n",
       "      <th>costs</th>\n",
       "    </tr>\n",
       "  </thead>\n",
       "  <tbody>\n",
       "    <tr>\n",
       "      <th>0</th>\n",
       "      <td>1</td>\n",
       "      <td>2017-06-01</td>\n",
       "      <td>75.20</td>\n",
       "    </tr>\n",
       "    <tr>\n",
       "      <th>1</th>\n",
       "      <td>1</td>\n",
       "      <td>2017-06-02</td>\n",
       "      <td>62.25</td>\n",
       "    </tr>\n",
       "    <tr>\n",
       "      <th>2</th>\n",
       "      <td>1</td>\n",
       "      <td>2017-06-03</td>\n",
       "      <td>36.53</td>\n",
       "    </tr>\n",
       "    <tr>\n",
       "      <th>3</th>\n",
       "      <td>1</td>\n",
       "      <td>2017-06-04</td>\n",
       "      <td>55.00</td>\n",
       "    </tr>\n",
       "    <tr>\n",
       "      <th>4</th>\n",
       "      <td>1</td>\n",
       "      <td>2017-06-05</td>\n",
       "      <td>57.08</td>\n",
       "    </tr>\n",
       "    <tr>\n",
       "      <th>...</th>\n",
       "      <td>...</td>\n",
       "      <td>...</td>\n",
       "      <td>...</td>\n",
       "    </tr>\n",
       "    <tr>\n",
       "      <th>2537</th>\n",
       "      <td>10</td>\n",
       "      <td>2018-05-27</td>\n",
       "      <td>9.92</td>\n",
       "    </tr>\n",
       "    <tr>\n",
       "      <th>2538</th>\n",
       "      <td>10</td>\n",
       "      <td>2018-05-28</td>\n",
       "      <td>21.26</td>\n",
       "    </tr>\n",
       "    <tr>\n",
       "      <th>2539</th>\n",
       "      <td>10</td>\n",
       "      <td>2018-05-29</td>\n",
       "      <td>11.32</td>\n",
       "    </tr>\n",
       "    <tr>\n",
       "      <th>2540</th>\n",
       "      <td>10</td>\n",
       "      <td>2018-05-30</td>\n",
       "      <td>33.15</td>\n",
       "    </tr>\n",
       "    <tr>\n",
       "      <th>2541</th>\n",
       "      <td>10</td>\n",
       "      <td>2018-05-31</td>\n",
       "      <td>17.60</td>\n",
       "    </tr>\n",
       "  </tbody>\n",
       "</table>\n",
       "<p>2542 rows × 3 columns</p>\n",
       "</div>"
      ],
      "text/plain": [
       "      source_id          dt  costs\n",
       "0             1  2017-06-01  75.20\n",
       "1             1  2017-06-02  62.25\n",
       "2             1  2017-06-03  36.53\n",
       "3             1  2017-06-04  55.00\n",
       "4             1  2017-06-05  57.08\n",
       "...         ...         ...    ...\n",
       "2537         10  2018-05-27   9.92\n",
       "2538         10  2018-05-28  21.26\n",
       "2539         10  2018-05-29  11.32\n",
       "2540         10  2018-05-30  33.15\n",
       "2541         10  2018-05-31  17.60\n",
       "\n",
       "[2542 rows x 3 columns]"
      ]
     },
     "execution_count": 14,
     "metadata": {},
     "output_type": "execute_result"
    }
   ],
   "source": [
    "data_costs"
   ]
  },
  {
   "cell_type": "markdown",
   "metadata": {},
   "source": [
    "**Deskripsi data_costs:**\n",
    "\n",
    "* `source_id` — ID sumber iklan\n",
    "* `dt` — tanggal\n",
    "* `costs` — pengeluaran untuk sumber iklan pada tanggal tersebut"
   ]
  },
  {
   "cell_type": "code",
   "execution_count": 15,
   "metadata": {},
   "outputs": [
    {
     "name": "stdout",
     "output_type": "stream",
     "text": [
      "<class 'pandas.core.frame.DataFrame'>\n",
      "RangeIndex: 2542 entries, 0 to 2541\n",
      "Data columns (total 3 columns):\n",
      " #   Column     Non-Null Count  Dtype  \n",
      "---  ------     --------------  -----  \n",
      " 0   source_id  2542 non-null   int64  \n",
      " 1   dt         2542 non-null   object \n",
      " 2   costs      2542 non-null   float64\n",
      "dtypes: float64(1), int64(1), object(1)\n",
      "memory usage: 59.7+ KB\n"
     ]
    }
   ],
   "source": [
    "# Check data info\n",
    "data_costs.info()"
   ]
  },
  {
   "cell_type": "code",
   "execution_count": 16,
   "metadata": {},
   "outputs": [
    {
     "data": {
      "text/html": [
       "<div>\n",
       "<style scoped>\n",
       "    .dataframe tbody tr th:only-of-type {\n",
       "        vertical-align: middle;\n",
       "    }\n",
       "\n",
       "    .dataframe tbody tr th {\n",
       "        vertical-align: top;\n",
       "    }\n",
       "\n",
       "    .dataframe thead th {\n",
       "        text-align: right;\n",
       "    }\n",
       "</style>\n",
       "<table border=\"1\" class=\"dataframe\">\n",
       "  <thead>\n",
       "    <tr style=\"text-align: right;\">\n",
       "      <th></th>\n",
       "      <th>source_id</th>\n",
       "      <th>costs</th>\n",
       "    </tr>\n",
       "  </thead>\n",
       "  <tbody>\n",
       "    <tr>\n",
       "      <th>count</th>\n",
       "      <td>2542.000000</td>\n",
       "      <td>2542.000000</td>\n",
       "    </tr>\n",
       "    <tr>\n",
       "      <th>mean</th>\n",
       "      <td>4.857199</td>\n",
       "      <td>129.477427</td>\n",
       "    </tr>\n",
       "    <tr>\n",
       "      <th>std</th>\n",
       "      <td>3.181581</td>\n",
       "      <td>156.296628</td>\n",
       "    </tr>\n",
       "    <tr>\n",
       "      <th>min</th>\n",
       "      <td>1.000000</td>\n",
       "      <td>0.540000</td>\n",
       "    </tr>\n",
       "    <tr>\n",
       "      <th>25%</th>\n",
       "      <td>2.000000</td>\n",
       "      <td>21.945000</td>\n",
       "    </tr>\n",
       "    <tr>\n",
       "      <th>50%</th>\n",
       "      <td>4.000000</td>\n",
       "      <td>77.295000</td>\n",
       "    </tr>\n",
       "    <tr>\n",
       "      <th>75%</th>\n",
       "      <td>9.000000</td>\n",
       "      <td>170.065000</td>\n",
       "    </tr>\n",
       "    <tr>\n",
       "      <th>max</th>\n",
       "      <td>10.000000</td>\n",
       "      <td>1788.280000</td>\n",
       "    </tr>\n",
       "  </tbody>\n",
       "</table>\n",
       "</div>"
      ],
      "text/plain": [
       "         source_id        costs\n",
       "count  2542.000000  2542.000000\n",
       "mean      4.857199   129.477427\n",
       "std       3.181581   156.296628\n",
       "min       1.000000     0.540000\n",
       "25%       2.000000    21.945000\n",
       "50%       4.000000    77.295000\n",
       "75%       9.000000   170.065000\n",
       "max      10.000000  1788.280000"
      ]
     },
     "execution_count": 16,
     "metadata": {},
     "output_type": "execute_result"
    }
   ],
   "source": [
    "# Check statistics data\n",
    "data_costs.describe()"
   ]
  },
  {
   "cell_type": "code",
   "execution_count": 17,
   "metadata": {},
   "outputs": [
    {
     "data": {
      "text/plain": [
       "source_id    0\n",
       "dt           0\n",
       "costs        0\n",
       "dtype: int64"
      ]
     },
     "execution_count": 17,
     "metadata": {},
     "output_type": "execute_result"
    }
   ],
   "source": [
    "# Check total missing values descending\n",
    "data_costs.isna().sum().sort_values(ascending=False)"
   ]
  },
  {
   "cell_type": "code",
   "execution_count": 18,
   "metadata": {},
   "outputs": [
    {
     "data": {
      "text/plain": [
       "0"
      ]
     },
     "execution_count": 18,
     "metadata": {},
     "output_type": "execute_result"
    }
   ],
   "source": [
    "# Check duplicated data\n",
    "data_costs.duplicated().sum()"
   ]
  },
  {
   "cell_type": "markdown",
   "metadata": {},
   "source": [
    "**Kesimpulan sementara:**\n",
    "\n",
    "* Tabel `data_costs` telah memiliki penulisan kolom yang teratur.\n",
    "* Kolom `costs` perlu diperiksa untuk mendeteksi adanya anomali data.\n",
    "* Tidak terdapat nilai hilang.\n",
    "* Tabel `data_costs` tidak mengandung duplikat nilai."
   ]
  },
  {
   "cell_type": "markdown",
   "metadata": {},
   "source": [
    "### Kesimpulan dan Langkah-Langkah Selanjutnya\n",
    "\n",
    "**Nilai yang Hilang**\n",
    "\n",
    "Untuk mengoptimalkan data guna analisis, pastikan setiap kolom disajikan dalam tipe data yang tepat.\n",
    "Langkah pertama yaitu memeriksa nilai yang hilang dalam data:\n",
    "\n",
    "* Dalam setiap tabel, tidak ditemukan nilai yang hilang. Proses pengisian nilai hilang dapat dilanjutkan ke tahap selanjutnya\n",
    "\n",
    "**Gaya Penulisan**\n",
    "\n",
    "Setelah mengatasi nilai-nilai yang hilang, langkah selanjutnya yaitu merapihkan data:\n",
    "\n",
    "* Untuk mengoptimalkan penggunaan memori, akan dilakukan konversi format objek pada kolom tanggal di tiga tabel. Kolom `Start Ts`, `End Ts`, `Buy Ts`, dan `dt` akan diubah menjadi objek Datetime\n",
    "* Untuk mengoptimalkan kolom `Device` yang memiliki kategori yang terbatas, akan dilakukan penyesuaian tipe data yang lebih sesuai.\n",
    "* Pada tabel `data_visits` dan `data_orders`, perlu dilakukan penyesuaian format penulisan kolom menjadi huruf kecil dan mengganti spasi dengan underscore (_).\n",
    "\n",
    "**Duplikat**\n",
    "\n",
    "Setelah mengoptimalkan data serta merapihkannya, selanjutnya memeriksa duplikat pada data:\n",
    "\n",
    "* Dalam analisis awal, tidak ditemukan adanya nilai duplikat di setiap tabel. Proses penghapusan nilai duplikat dapat dilanjutkan ke tahap selanjutnya.\n",
    "\n",
    "**Anomali Data**\n",
    "\n",
    "Setelah memeriksa data duplikat, perlu mempertimbangkan adanya data anomali yang dapat mempengaruhi analisis penelitian.\n",
    "Berikut data anomali yang diperiksa:\n",
    "\n",
    "* Pada kolom `Revenue` dalam tabel `data_orders`, perlu dilakukan pemeriksaan untuk mendeteksi adanya anomali data atau nilai outlier.\n",
    "* Pada kolom `costs` dalam tabel `data_costs`, perlu dilakukan pemeriksaan untuk mendeteksi adanya anomali data atau nilai outlier.\n",
    "* Terjadi anomali pada tabel 'data_visits' terkait kolom TS yang tidak tepat."
   ]
  },
  {
   "cell_type": "markdown",
   "metadata": {},
   "source": [
    "### 1.3. Mengoptimalkan Data\n",
    "\n",
    "data dioptimalkan menggunakan dtype dan parse_dates"
   ]
  },
  {
   "cell_type": "code",
   "execution_count": 19,
   "metadata": {},
   "outputs": [],
   "source": [
    "# Try and except datasets\n",
    "try:\n",
    "    data_visits = pd.read_csv('visits_log_us.csv', dtype={'Device': 'category'}, parse_dates=['Start Ts', 'End Ts'])\n",
    "    data_orders = pd.read_csv('orders_log_us.csv', parse_dates=['Buy Ts'])\n",
    "    data_costs = pd.read_csv('costs_us.csv', parse_dates=['dt'])\n",
    "except:\n",
    "    data_visits = pd.read_csv('/datasets/visits_log_us.csv', dtype={'Device': 'category'}, parse_dates=['Start Ts', 'End Ts'])\n",
    "    data_orders = pd.read_csv('/datasets/orders_log_us.csv', parse_dates=['Buy Ts'])\n",
    "    data_costs = pd.read_csv('/datasets/costs_us.csv', parse_dates=['dt'])"
   ]
  },
  {
   "cell_type": "code",
   "execution_count": 20,
   "metadata": {},
   "outputs": [],
   "source": [
    "# Create a tuple from the dataframes.\n",
    "data = (data_visits, data_orders, data_costs)\n",
    "\n",
    "# Assign names to the dataframes\n",
    "data_visits.name = 'visits_log_us'\n",
    "data_orders.name = 'orders_log_us'\n",
    "data_costs.name = 'costs_us'"
   ]
  },
  {
   "cell_type": "markdown",
   "metadata": {},
   "source": [
    "### 1.4. Memperbaiki Penulisan Judul"
   ]
  },
  {
   "cell_type": "code",
   "execution_count": 21,
   "metadata": {},
   "outputs": [],
   "source": [
    "# Loop for changing column name in every table\n",
    "for df in data:\n",
    "    df.columns = df.columns.str.lower()\n",
    "    df.columns = df.columns.str.replace('\\s+', '_', regex=True)"
   ]
  },
  {
   "cell_type": "code",
   "execution_count": 22,
   "metadata": {},
   "outputs": [
    {
     "name": "stdout",
     "output_type": "stream",
     "text": [
      "visits_log_us\n",
      "<class 'pandas.core.frame.DataFrame'>\n",
      "RangeIndex: 359400 entries, 0 to 359399\n",
      "Data columns (total 5 columns):\n",
      " #   Column     Non-Null Count   Dtype         \n",
      "---  ------     --------------   -----         \n",
      " 0   device     359400 non-null  category      \n",
      " 1   end_ts     359400 non-null  datetime64[ns]\n",
      " 2   source_id  359400 non-null  int64         \n",
      " 3   start_ts   359400 non-null  datetime64[ns]\n",
      " 4   uid        359400 non-null  uint64        \n",
      "dtypes: category(1), datetime64[ns](2), int64(1), uint64(1)\n",
      "memory usage: 11.3 MB\n",
      "\n",
      "orders_log_us\n",
      "<class 'pandas.core.frame.DataFrame'>\n",
      "RangeIndex: 50415 entries, 0 to 50414\n",
      "Data columns (total 3 columns):\n",
      " #   Column   Non-Null Count  Dtype         \n",
      "---  ------   --------------  -----         \n",
      " 0   buy_ts   50415 non-null  datetime64[ns]\n",
      " 1   revenue  50415 non-null  float64       \n",
      " 2   uid      50415 non-null  uint64        \n",
      "dtypes: datetime64[ns](1), float64(1), uint64(1)\n",
      "memory usage: 1.2 MB\n",
      "\n",
      "costs_us\n",
      "<class 'pandas.core.frame.DataFrame'>\n",
      "RangeIndex: 2542 entries, 0 to 2541\n",
      "Data columns (total 3 columns):\n",
      " #   Column     Non-Null Count  Dtype         \n",
      "---  ------     --------------  -----         \n",
      " 0   source_id  2542 non-null   int64         \n",
      " 1   dt         2542 non-null   datetime64[ns]\n",
      " 2   costs      2542 non-null   float64       \n",
      "dtypes: datetime64[ns](1), float64(1), int64(1)\n",
      "memory usage: 59.7 KB\n",
      "\n"
     ]
    }
   ],
   "source": [
    "# Print a concise summary of the dataFrames with pandas.DataFrame.info() method.\n",
    "for df in data:\n",
    "    print(\"{}\".format(df.name))\n",
    "    df.info()\n",
    "    print()"
   ]
  },
  {
   "cell_type": "markdown",
   "metadata": {},
   "source": [
    "### 1.5. Memperbaiki Anomali Data"
   ]
  },
  {
   "cell_type": "code",
   "execution_count": 23,
   "metadata": {},
   "outputs": [],
   "source": [
    "data_visits = data_visits.query(\"`start_ts` <= `end_ts`\").reset_index(drop=True)"
   ]
  },
  {
   "cell_type": "code",
   "execution_count": 24,
   "metadata": {},
   "outputs": [
    {
     "data": {
      "text/html": [
       "<div>\n",
       "<style scoped>\n",
       "    .dataframe tbody tr th:only-of-type {\n",
       "        vertical-align: middle;\n",
       "    }\n",
       "\n",
       "    .dataframe tbody tr th {\n",
       "        vertical-align: top;\n",
       "    }\n",
       "\n",
       "    .dataframe thead th {\n",
       "        text-align: right;\n",
       "    }\n",
       "</style>\n",
       "<table border=\"1\" class=\"dataframe\">\n",
       "  <thead>\n",
       "    <tr style=\"text-align: right;\">\n",
       "      <th></th>\n",
       "      <th>device</th>\n",
       "      <th>end_ts</th>\n",
       "      <th>source_id</th>\n",
       "      <th>start_ts</th>\n",
       "      <th>uid</th>\n",
       "    </tr>\n",
       "  </thead>\n",
       "  <tbody>\n",
       "    <tr>\n",
       "      <th>0</th>\n",
       "      <td>touch</td>\n",
       "      <td>2017-12-20 17:38:00</td>\n",
       "      <td>4</td>\n",
       "      <td>2017-12-20 17:20:00</td>\n",
       "      <td>16879256277535980062</td>\n",
       "    </tr>\n",
       "    <tr>\n",
       "      <th>1</th>\n",
       "      <td>desktop</td>\n",
       "      <td>2018-02-19 17:21:00</td>\n",
       "      <td>2</td>\n",
       "      <td>2018-02-19 16:53:00</td>\n",
       "      <td>104060357244891740</td>\n",
       "    </tr>\n",
       "    <tr>\n",
       "      <th>2</th>\n",
       "      <td>touch</td>\n",
       "      <td>2017-07-01 01:54:00</td>\n",
       "      <td>5</td>\n",
       "      <td>2017-07-01 01:54:00</td>\n",
       "      <td>7459035603376831527</td>\n",
       "    </tr>\n",
       "    <tr>\n",
       "      <th>3</th>\n",
       "      <td>desktop</td>\n",
       "      <td>2018-05-20 11:23:00</td>\n",
       "      <td>9</td>\n",
       "      <td>2018-05-20 10:59:00</td>\n",
       "      <td>16174680259334210214</td>\n",
       "    </tr>\n",
       "    <tr>\n",
       "      <th>4</th>\n",
       "      <td>desktop</td>\n",
       "      <td>2017-12-27 14:06:00</td>\n",
       "      <td>3</td>\n",
       "      <td>2017-12-27 14:06:00</td>\n",
       "      <td>9969694820036681168</td>\n",
       "    </tr>\n",
       "    <tr>\n",
       "      <th>...</th>\n",
       "      <td>...</td>\n",
       "      <td>...</td>\n",
       "      <td>...</td>\n",
       "      <td>...</td>\n",
       "      <td>...</td>\n",
       "    </tr>\n",
       "    <tr>\n",
       "      <th>359393</th>\n",
       "      <td>desktop</td>\n",
       "      <td>2017-07-29 19:07:19</td>\n",
       "      <td>2</td>\n",
       "      <td>2017-07-29 19:07:00</td>\n",
       "      <td>18363291481961487539</td>\n",
       "    </tr>\n",
       "    <tr>\n",
       "      <th>359394</th>\n",
       "      <td>touch</td>\n",
       "      <td>2018-01-25 17:38:19</td>\n",
       "      <td>1</td>\n",
       "      <td>2018-01-25 17:38:00</td>\n",
       "      <td>18370831553019119586</td>\n",
       "    </tr>\n",
       "    <tr>\n",
       "      <th>359395</th>\n",
       "      <td>desktop</td>\n",
       "      <td>2018-03-03 10:12:19</td>\n",
       "      <td>4</td>\n",
       "      <td>2018-03-03 10:12:00</td>\n",
       "      <td>18387297585500748294</td>\n",
       "    </tr>\n",
       "    <tr>\n",
       "      <th>359396</th>\n",
       "      <td>desktop</td>\n",
       "      <td>2017-11-02 10:12:19</td>\n",
       "      <td>5</td>\n",
       "      <td>2017-11-02 10:12:00</td>\n",
       "      <td>18388616944624776485</td>\n",
       "    </tr>\n",
       "    <tr>\n",
       "      <th>359397</th>\n",
       "      <td>touch</td>\n",
       "      <td>2017-09-10 13:13:19</td>\n",
       "      <td>2</td>\n",
       "      <td>2017-09-10 13:13:00</td>\n",
       "      <td>18396128934054549559</td>\n",
       "    </tr>\n",
       "  </tbody>\n",
       "</table>\n",
       "<p>359398 rows × 5 columns</p>\n",
       "</div>"
      ],
      "text/plain": [
       "         device              end_ts  source_id            start_ts  \\\n",
       "0         touch 2017-12-20 17:38:00          4 2017-12-20 17:20:00   \n",
       "1       desktop 2018-02-19 17:21:00          2 2018-02-19 16:53:00   \n",
       "2         touch 2017-07-01 01:54:00          5 2017-07-01 01:54:00   \n",
       "3       desktop 2018-05-20 11:23:00          9 2018-05-20 10:59:00   \n",
       "4       desktop 2017-12-27 14:06:00          3 2017-12-27 14:06:00   \n",
       "...         ...                 ...        ...                 ...   \n",
       "359393  desktop 2017-07-29 19:07:19          2 2017-07-29 19:07:00   \n",
       "359394    touch 2018-01-25 17:38:19          1 2018-01-25 17:38:00   \n",
       "359395  desktop 2018-03-03 10:12:19          4 2018-03-03 10:12:00   \n",
       "359396  desktop 2017-11-02 10:12:19          5 2017-11-02 10:12:00   \n",
       "359397    touch 2017-09-10 13:13:19          2 2017-09-10 13:13:00   \n",
       "\n",
       "                         uid  \n",
       "0       16879256277535980062  \n",
       "1         104060357244891740  \n",
       "2        7459035603376831527  \n",
       "3       16174680259334210214  \n",
       "4        9969694820036681168  \n",
       "...                      ...  \n",
       "359393  18363291481961487539  \n",
       "359394  18370831553019119586  \n",
       "359395  18387297585500748294  \n",
       "359396  18388616944624776485  \n",
       "359397  18396128934054549559  \n",
       "\n",
       "[359398 rows x 5 columns]"
      ]
     },
     "execution_count": 24,
     "metadata": {},
     "output_type": "execute_result"
    }
   ],
   "source": [
    "data_visits"
   ]
  },
  {
   "cell_type": "markdown",
   "metadata": {},
   "source": [
    "## 2. Analisis Data Exploratif (EDA)\n",
    "\n",
    "### 2.1. Memeriksa Data yang Sudah Bersih"
   ]
  },
  {
   "cell_type": "code",
   "execution_count": 25,
   "metadata": {},
   "outputs": [
    {
     "name": "stdout",
     "output_type": "stream",
     "text": [
      "visits_log_us\n",
      "    device              end_ts  source_id            start_ts  \\\n",
      "0    touch 2017-12-20 17:38:00          4 2017-12-20 17:20:00   \n",
      "1  desktop 2018-02-19 17:21:00          2 2018-02-19 16:53:00   \n",
      "2    touch 2017-07-01 01:54:00          5 2017-07-01 01:54:00   \n",
      "3  desktop 2018-05-20 11:23:00          9 2018-05-20 10:59:00   \n",
      "4  desktop 2017-12-27 14:06:00          3 2017-12-27 14:06:00   \n",
      "5  desktop 2017-09-03 21:36:00          5 2017-09-03 21:35:00   \n",
      "6  desktop 2018-01-30 12:09:00          1 2018-01-30 11:13:00   \n",
      "7    touch 2017-11-05 15:15:00          3 2017-11-05 15:14:00   \n",
      "8  desktop 2017-07-19 10:44:00          3 2017-07-19 10:41:00   \n",
      "9  desktop 2017-11-08 13:43:00          5 2017-11-08 13:42:00   \n",
      "\n",
      "                    uid  \n",
      "0  16879256277535980062  \n",
      "1    104060357244891740  \n",
      "2   7459035603376831527  \n",
      "3  16174680259334210214  \n",
      "4   9969694820036681168  \n",
      "5  16007536194108375387  \n",
      "6   6661610529277171451  \n",
      "7  11423865690854540312  \n",
      "8   2987360259350925644  \n",
      "9   1289240080042562063  \n",
      "\n",
      "orders_log_us\n",
      "               buy_ts  revenue                   uid\n",
      "0 2017-06-01 00:10:00    17.00  10329302124590727494\n",
      "1 2017-06-01 00:25:00     0.55  11627257723692907447\n",
      "2 2017-06-01 00:27:00     0.37  17903680561304213844\n",
      "3 2017-06-01 00:29:00     0.55  16109239769442553005\n",
      "4 2017-06-01 07:58:00     0.37  14200605875248379450\n",
      "5 2017-06-01 08:43:00     0.18  10402394430196413321\n",
      "6 2017-06-01 08:54:00     1.83  12464626743129688638\n",
      "7 2017-06-01 09:22:00     1.22   3644482766749211722\n",
      "8 2017-06-01 09:22:00     3.30  17542070709969841479\n",
      "9 2017-06-01 09:23:00     0.37   1074355127080856382\n",
      "\n",
      "costs_us\n",
      "   source_id         dt  costs\n",
      "0          1 2017-06-01  75.20\n",
      "1          1 2017-06-02  62.25\n",
      "2          1 2017-06-03  36.53\n",
      "3          1 2017-06-04  55.00\n",
      "4          1 2017-06-05  57.08\n",
      "5          1 2017-06-06  40.39\n",
      "6          1 2017-06-07  40.59\n",
      "7          1 2017-06-08  56.63\n",
      "8          1 2017-06-09  40.16\n",
      "9          1 2017-06-10  43.24\n",
      "\n"
     ]
    }
   ],
   "source": [
    "for df in data:\n",
    "    print(\"{}\".format(df.name))\n",
    "    print(df.head(10))\n",
    "    print()"
   ]
  },
  {
   "cell_type": "markdown",
   "metadata": {},
   "source": [
    "\n",
    "### 2.2. Menyusun Laporan dan Menghitung Metrik\n",
    "\n",
    "Dalam menganalisis data ini perlu menjawab beberapa pertanyaan berikut:\n",
    "\n",
    "1. Produk\n",
    "* Berapa jumlah orang yang menggunakan produk setiap hari, minggu, dan bulan?\n",
    "* Berapa jumlah sesi per harinya?\n",
    "* Berapa lama durasi untuk setiap sesi?\n",
    "* Seberapa sering pengguna kembali menggunakan produk?\n",
    "\n",
    "2. Penjualan\n",
    "* Kapan orang-orang mulai melakukan pembelian?\n",
    "* Berapa jumlah pesanan yang mereka buat selama periode waktu tertentu?\n",
    "* Berapa besaran rata-rata pembeliannya?\n",
    "* Berapa jumlah uang yang mereka kontribusikan?\n",
    "\n",
    "3. Pemasaran\n",
    "* Berapa jumlah uang yang dihabiskan? Keseluruhan/per sumber/dari waktu ke waktu?\n",
    "* Berapa biaya akuisisi pelanggan dari masing-masing sumber?\n",
    "* Seberapa menguntungkannya investasi tersebut?"
   ]
  },
  {
   "cell_type": "markdown",
   "metadata": {},
   "source": [
    "#### 2.2.1. Product Analysis\n",
    "\n",
    "**a. Berapa jumlah orang yang menggunakan produk setiap hari, minggu, dan bulan?**"
   ]
  },
  {
   "cell_type": "code",
   "execution_count": 26,
   "metadata": {
    "scrolled": true
   },
   "outputs": [
    {
     "data": {
      "text/html": [
       "<div>\n",
       "<style scoped>\n",
       "    .dataframe tbody tr th:only-of-type {\n",
       "        vertical-align: middle;\n",
       "    }\n",
       "\n",
       "    .dataframe tbody tr th {\n",
       "        vertical-align: top;\n",
       "    }\n",
       "\n",
       "    .dataframe thead th {\n",
       "        text-align: right;\n",
       "    }\n",
       "</style>\n",
       "<table border=\"1\" class=\"dataframe\">\n",
       "  <thead>\n",
       "    <tr style=\"text-align: right;\">\n",
       "      <th></th>\n",
       "      <th>device</th>\n",
       "      <th>end_ts</th>\n",
       "      <th>source_id</th>\n",
       "      <th>start_ts</th>\n",
       "      <th>uid</th>\n",
       "      <th>visits_year</th>\n",
       "      <th>visits_month</th>\n",
       "      <th>visits_week</th>\n",
       "      <th>visits_date</th>\n",
       "    </tr>\n",
       "  </thead>\n",
       "  <tbody>\n",
       "    <tr>\n",
       "      <th>0</th>\n",
       "      <td>touch</td>\n",
       "      <td>2017-12-20 17:38:00</td>\n",
       "      <td>4</td>\n",
       "      <td>2017-12-20 17:20:00</td>\n",
       "      <td>16879256277535980062</td>\n",
       "      <td>2017</td>\n",
       "      <td>12</td>\n",
       "      <td>51</td>\n",
       "      <td>2017-12-20</td>\n",
       "    </tr>\n",
       "    <tr>\n",
       "      <th>1</th>\n",
       "      <td>desktop</td>\n",
       "      <td>2018-02-19 17:21:00</td>\n",
       "      <td>2</td>\n",
       "      <td>2018-02-19 16:53:00</td>\n",
       "      <td>104060357244891740</td>\n",
       "      <td>2018</td>\n",
       "      <td>2</td>\n",
       "      <td>8</td>\n",
       "      <td>2018-02-19</td>\n",
       "    </tr>\n",
       "    <tr>\n",
       "      <th>2</th>\n",
       "      <td>touch</td>\n",
       "      <td>2017-07-01 01:54:00</td>\n",
       "      <td>5</td>\n",
       "      <td>2017-07-01 01:54:00</td>\n",
       "      <td>7459035603376831527</td>\n",
       "      <td>2017</td>\n",
       "      <td>7</td>\n",
       "      <td>26</td>\n",
       "      <td>2017-07-01</td>\n",
       "    </tr>\n",
       "    <tr>\n",
       "      <th>3</th>\n",
       "      <td>desktop</td>\n",
       "      <td>2018-05-20 11:23:00</td>\n",
       "      <td>9</td>\n",
       "      <td>2018-05-20 10:59:00</td>\n",
       "      <td>16174680259334210214</td>\n",
       "      <td>2018</td>\n",
       "      <td>5</td>\n",
       "      <td>20</td>\n",
       "      <td>2018-05-20</td>\n",
       "    </tr>\n",
       "    <tr>\n",
       "      <th>4</th>\n",
       "      <td>desktop</td>\n",
       "      <td>2017-12-27 14:06:00</td>\n",
       "      <td>3</td>\n",
       "      <td>2017-12-27 14:06:00</td>\n",
       "      <td>9969694820036681168</td>\n",
       "      <td>2017</td>\n",
       "      <td>12</td>\n",
       "      <td>52</td>\n",
       "      <td>2017-12-27</td>\n",
       "    </tr>\n",
       "  </tbody>\n",
       "</table>\n",
       "</div>"
      ],
      "text/plain": [
       "    device              end_ts  source_id            start_ts  \\\n",
       "0    touch 2017-12-20 17:38:00          4 2017-12-20 17:20:00   \n",
       "1  desktop 2018-02-19 17:21:00          2 2018-02-19 16:53:00   \n",
       "2    touch 2017-07-01 01:54:00          5 2017-07-01 01:54:00   \n",
       "3  desktop 2018-05-20 11:23:00          9 2018-05-20 10:59:00   \n",
       "4  desktop 2017-12-27 14:06:00          3 2017-12-27 14:06:00   \n",
       "\n",
       "                    uid  visits_year  visits_month  visits_week visits_date  \n",
       "0  16879256277535980062         2017            12           51  2017-12-20  \n",
       "1    104060357244891740         2018             2            8  2018-02-19  \n",
       "2   7459035603376831527         2017             7           26  2017-07-01  \n",
       "3  16174680259334210214         2018             5           20  2018-05-20  \n",
       "4   9969694820036681168         2017            12           52  2017-12-27  "
      ]
     },
     "execution_count": 26,
     "metadata": {},
     "output_type": "execute_result"
    }
   ],
   "source": [
    "# Analysis data_visits\n",
    "data_visits['visits_year']  = data_visits['start_ts'].dt.year\n",
    "data_visits['visits_month'] = data_visits['start_ts'].dt.month\n",
    "data_visits['visits_week']  = data_visits['start_ts'].dt.week\n",
    "data_visits['visits_date'] = data_visits['start_ts'].dt.date\n",
    "data_visits.head()"
   ]
  },
  {
   "cell_type": "code",
   "execution_count": 27,
   "metadata": {},
   "outputs": [
    {
     "name": "stdout",
     "output_type": "stream",
     "text": [
      "Average Daily Active (unique) Users : 907\n",
      "Average Weekly Active (unique) Users : 5716\n",
      "Average Monthly Active (unique) Users : 23228\n"
     ]
    }
   ],
   "source": [
    "dau_total = data_visits.groupby('visits_date').agg({'uid': 'nunique'}).mean()\n",
    "wau_total = data_visits.groupby(['visits_year', 'visits_week']).agg({'uid': 'nunique'}).mean()\n",
    "mau_total = data_visits.groupby(['visits_year', 'visits_month']).agg({'uid': 'nunique'}).mean()\n",
    "\n",
    "print('Average Daily Active (unique) Users :', int(dau_total))\n",
    "print('Average Weekly Active (unique) Users :',int(wau_total))\n",
    "print('Average Monthly Active (unique) Users :',int(mau_total)) "
   ]
  },
  {
   "cell_type": "code",
   "execution_count": 28,
   "metadata": {},
   "outputs": [
    {
     "data": {
      "image/png": "[encoded data removed]",
      "text/plain": [
       "<Figure size 1152x432 with 1 Axes>"
      ]
     },
     "metadata": {
      "needs_background": "light"
     },
     "output_type": "display_data"
    },
    {
     "data": {
      "image/png": "[encoded data removed]",
      "text/plain": [
       "<Figure size 1152x432 with 1 Axes>"
      ]
     },
     "metadata": {
      "needs_background": "light"
     },
     "output_type": "display_data"
    },
    {
     "data": {
      "image/png": "[encoded data removed]",
      "text/plain": [
       "<Figure size 1152x432 with 1 Axes>"
      ]
     },
     "metadata": {
      "needs_background": "light"
     },
     "output_type": "display_data"
    }
   ],
   "source": [
    "# Plot for daily, weekly and monthly\n",
    "visits_plot = data_visits.copy()\n",
    "fig, ax = plt.subplots(figsize=(16,6))\n",
    "visits_plot.groupby(visits_plot['start_ts'].dt.date)['uid'].nunique().plot()\n",
    "plt.xlabel(\"Dates\", fontsize=14)\n",
    "plt.ylabel(\"Number of unique users\", fontsize=14)\n",
    "plt.title(f\"Number of daily active users (DAUs), Average(mean) :{int(round(visits_plot.groupby(visits_plot['start_ts'].dt.date)['uid'].nunique().mean(),2))}\", fontsize=14)\n",
    "plt.grid(True)\n",
    "plt.show()\n",
    "fig, ax = plt.subplots(figsize=(16,6))\n",
    "visits_plot.groupby([visits_plot['start_ts'].dt.year,visits_plot['start_ts'].dt.isocalendar().week])['uid'].nunique().plot()\n",
    "plt.xlabel(\"Weeks\", fontsize=14)\n",
    "plt.ylabel(\"Number of unique users\", fontsize=14)\n",
    "plt.title(f\"Number of weekly active users (WAUs), Average(mean) : {int(round(visits_plot.groupby([visits_plot['start_ts'].dt.year,visits_plot['start_ts'].dt.isocalendar().week])['uid'].nunique().mean(),2))}\", fontsize=14)\n",
    "plt.grid(True)\n",
    "plt.show()\n",
    "fig, ax = plt.subplots(figsize=(16,6))\n",
    "visits_plot.groupby(visits_plot['start_ts'].dt.to_period('M'))['uid'].nunique().plot()\n",
    "plt.xlabel(\"Months\", fontsize=14)\n",
    "plt.ylabel(\"Number of unique users\", fontsize=14)\n",
    "plt.title(f\"Number of monthly active users (MAUs), Average(mean) : {int(round(visits_plot.groupby(visits_plot['start_ts'].dt.to_period('M'))['uid'].nunique().mean(),2))}\")\n",
    "plt.grid(True)\n",
    "plt.show()"
   ]
  },
  {
   "cell_type": "markdown",
   "metadata": {},
   "source": [
    "**Kesimpulan:**\n",
    "\n",
    "* Rata-rata jumlah pengguna harian (DAU) sebanyak 907 pengguna. Terjadi peningkatan dari awal Oktober 2017 hingga akhir Maret 2018.\n",
    "* Rata-rata jumlah pengguna per minggu (WAU) sebanyak 5716 pengguna. Seperti DAU, WAU juga mengalami peningkatan dari minggu ke-32 hingga pertengahan minggu akhir tahun (minggu ke-53).\n",
    "* Rata-rata jumlah pengguna per bulan (MAU) sebanyak 23,228 pengguna. Terlihat dari plot bahwa terjadi peningkatan mulai dari bulan Agustus 2017 hingga November 2017. Dari November 2017 hingga Maret 2018, pengguna tetap aktif dan jumlahnya tetap tinggi."
   ]
  },
  {
   "cell_type": "markdown",
   "metadata": {},
   "source": [
    "**b. Berapa jumlah sesi perharinya?**"
   ]
  },
  {
   "cell_type": "code",
   "execution_count": 29,
   "metadata": {},
   "outputs": [
    {
     "data": {
      "text/html": [
       "<div>\n",
       "<style scoped>\n",
       "    .dataframe tbody tr th:only-of-type {\n",
       "        vertical-align: middle;\n",
       "    }\n",
       "\n",
       "    .dataframe tbody tr th {\n",
       "        vertical-align: top;\n",
       "    }\n",
       "\n",
       "    .dataframe thead th {\n",
       "        text-align: right;\n",
       "    }\n",
       "</style>\n",
       "<table border=\"1\" class=\"dataframe\">\n",
       "  <thead>\n",
       "    <tr style=\"text-align: right;\">\n",
       "      <th></th>\n",
       "      <th>n_sessions</th>\n",
       "      <th>n_users</th>\n",
       "      <th>sess_per_user</th>\n",
       "    </tr>\n",
       "    <tr>\n",
       "      <th>visits_date</th>\n",
       "      <th></th>\n",
       "      <th></th>\n",
       "      <th></th>\n",
       "    </tr>\n",
       "  </thead>\n",
       "  <tbody>\n",
       "    <tr>\n",
       "      <th>2017-06-01</th>\n",
       "      <td>664</td>\n",
       "      <td>605</td>\n",
       "      <td>1.097521</td>\n",
       "    </tr>\n",
       "    <tr>\n",
       "      <th>2017-06-02</th>\n",
       "      <td>658</td>\n",
       "      <td>608</td>\n",
       "      <td>1.082237</td>\n",
       "    </tr>\n",
       "    <tr>\n",
       "      <th>2017-06-03</th>\n",
       "      <td>477</td>\n",
       "      <td>445</td>\n",
       "      <td>1.071910</td>\n",
       "    </tr>\n",
       "    <tr>\n",
       "      <th>2017-06-04</th>\n",
       "      <td>510</td>\n",
       "      <td>476</td>\n",
       "      <td>1.071429</td>\n",
       "    </tr>\n",
       "    <tr>\n",
       "      <th>2017-06-05</th>\n",
       "      <td>893</td>\n",
       "      <td>820</td>\n",
       "      <td>1.089024</td>\n",
       "    </tr>\n",
       "    <tr>\n",
       "      <th>...</th>\n",
       "      <td>...</td>\n",
       "      <td>...</td>\n",
       "      <td>...</td>\n",
       "    </tr>\n",
       "    <tr>\n",
       "      <th>2018-05-27</th>\n",
       "      <td>672</td>\n",
       "      <td>620</td>\n",
       "      <td>1.083871</td>\n",
       "    </tr>\n",
       "    <tr>\n",
       "      <th>2018-05-28</th>\n",
       "      <td>1156</td>\n",
       "      <td>1039</td>\n",
       "      <td>1.112608</td>\n",
       "    </tr>\n",
       "    <tr>\n",
       "      <th>2018-05-29</th>\n",
       "      <td>1035</td>\n",
       "      <td>948</td>\n",
       "      <td>1.091772</td>\n",
       "    </tr>\n",
       "    <tr>\n",
       "      <th>2018-05-30</th>\n",
       "      <td>1410</td>\n",
       "      <td>1289</td>\n",
       "      <td>1.093871</td>\n",
       "    </tr>\n",
       "    <tr>\n",
       "      <th>2018-05-31</th>\n",
       "      <td>2256</td>\n",
       "      <td>1997</td>\n",
       "      <td>1.129695</td>\n",
       "    </tr>\n",
       "  </tbody>\n",
       "</table>\n",
       "<p>364 rows × 3 columns</p>\n",
       "</div>"
      ],
      "text/plain": [
       "             n_sessions  n_users  sess_per_user\n",
       "visits_date                                    \n",
       "2017-06-01          664      605       1.097521\n",
       "2017-06-02          658      608       1.082237\n",
       "2017-06-03          477      445       1.071910\n",
       "2017-06-04          510      476       1.071429\n",
       "2017-06-05          893      820       1.089024\n",
       "...                 ...      ...            ...\n",
       "2018-05-27          672      620       1.083871\n",
       "2018-05-28         1156     1039       1.112608\n",
       "2018-05-29         1035      948       1.091772\n",
       "2018-05-30         1410     1289       1.093871\n",
       "2018-05-31         2256     1997       1.129695\n",
       "\n",
       "[364 rows x 3 columns]"
      ]
     },
     "execution_count": 29,
     "metadata": {},
     "output_type": "execute_result"
    }
   ],
   "source": [
    "sessions_per_user = data_visits.groupby('visits_date').agg({'uid': ['count', 'nunique']})\n",
    "\n",
    "sessions_per_user.columns = ['n_sessions', 'n_users']\n",
    "sessions_per_user['sess_per_user'] = (sessions_per_user['n_sessions'] / sessions_per_user['n_users'])\n",
    "sessions_per_user"
   ]
  },
  {
   "cell_type": "code",
   "execution_count": 30,
   "metadata": {},
   "outputs": [
    {
     "data": {
      "image/png": "[encoded data removed]",
      "text/plain": [
       "<Figure size 720x432 with 1 Axes>"
      ]
     },
     "metadata": {
      "needs_background": "light"
     },
     "output_type": "display_data"
    }
   ],
   "source": [
    "# Boxplot for finding session per day\n",
    "fig, ax = plt.subplots(figsize=(10,6))\n",
    "data_visits.groupby([data_visits['start_ts'].dt.date,'uid']).size()\\\n",
    "    .reset_index()\\\n",
    "    .rename(columns={0:'sessions_per_user'})\\\n",
    "    .groupby('start_ts')['sessions_per_user'].mean()\\\n",
    "    .plot(kind='box')\n",
    "plt.grid(True)\n",
    "plt.show()"
   ]
  },
  {
   "cell_type": "markdown",
   "metadata": {},
   "source": [
    "**Kesimpulan:**\n",
    "\n",
    "* Secara rata-rata dan berdasarkan diagram boxplot, ditemukan bahwa setiap pengguna hanya menggunakan 1 sesi per hari dalam menggunakan produk. Hal ini menunjukkan bahwa pengguna tidak menggunakan produk secara rutin."
   ]
  },
  {
   "cell_type": "markdown",
   "metadata": {},
   "source": [
    "**c. Berapa lama durasi untuk setiap sesi?**\n",
    "\n",
    "Average Session Length (ASL) digunakan untuk mengukur durasi rata-rata setiap sesi pengguna."
   ]
  },
  {
   "cell_type": "code",
   "execution_count": 31,
   "metadata": {},
   "outputs": [
    {
     "data": {
      "text/plain": [
       "643.0422873805642"
      ]
     },
     "execution_count": 31,
     "metadata": {},
     "output_type": "execute_result"
    }
   ],
   "source": [
    "data_visits['session_duration_sec'] = (data_visits['end_ts'] - data_visits['start_ts']).dt.seconds\n",
    "data_visits['session_duration_sec'].mean()"
   ]
  },
  {
   "cell_type": "code",
   "execution_count": 32,
   "metadata": {},
   "outputs": [
    {
     "data": {
      "image/png": "[encoded data removed]",
      "text/plain": [
       "<Figure size 1152x216 with 1 Axes>"
      ]
     },
     "metadata": {
      "needs_background": "light"
     },
     "output_type": "display_data"
    }
   ],
   "source": [
    "plt.figure(figsize=(16,3))\n",
    "data_visits['session_duration_sec'].plot(kind='hist', y='session_duration_sec', histtype='step', range=(0, 4000), grid=True, legend=True)\n",
    "plt.axvline(data_visits['session_duration_sec'].mean(), color='red', linestyle='dashed', linewidth=2)\n",
    "plt.axvline(data_visits['session_duration_sec'].median(), color='cyan', linewidth=2)\n",
    "min_ylim, max_ylim = plt.ylim()\n",
    "plt.text(data_visits['session_duration_sec'].mean()*1.1, max_ylim*0.9, \n",
    "         'Mean: {:.1f}'.format(data_visits['session_duration_sec'].mean()))\n",
    "plt.text(data_visits['session_duration_sec'].median()*1.1, max_ylim*0.6, \n",
    "         'Median: {:.1f}'.format(data_visits['session_duration_sec'].median()))\n",
    "plt.show()"
   ]
  },
  {
   "cell_type": "code",
   "execution_count": 33,
   "metadata": {},
   "outputs": [
    {
     "data": {
      "text/plain": [
       "0    60\n",
       "dtype: int64"
      ]
     },
     "execution_count": 33,
     "metadata": {},
     "output_type": "execute_result"
    }
   ],
   "source": [
    "asl = data_visits['session_duration_sec'].mode()\n",
    "asl"
   ]
  },
  {
   "cell_type": "markdown",
   "metadata": {},
   "source": [
    "**Kesimpulan:**\n",
    "\n",
    "* Rata-rata durasi setiap sesi per pengguna adalah 643.5 detik (10 menit). Median durasi sesi per pengguna terlihat pada 300 detik (5 menit).\n",
    "* Secara Average Session Length (ASL), pengguna dalam satu sesi rata-rata menggunakan produk selama 60 detik."
   ]
  },
  {
   "cell_type": "markdown",
   "metadata": {},
   "source": [
    "**d. Seberapa sering pengguna kembali menggunakan produk?**\n",
    "\n",
    "Sticky Factors adalah metrik yang digunakan untuk mengukur tingkat loyalitas audiens, yaitu seberapa sering pengguna kembali menggunakan produk."
   ]
  },
  {
   "cell_type": "code",
   "execution_count": 34,
   "metadata": {},
   "outputs": [
    {
     "name": "stdout",
     "output_type": "stream",
     "text": [
      "uid    15.884409\n",
      "dtype: float64\n",
      "uid    3.90897\n",
      "dtype: float64\n"
     ]
    }
   ],
   "source": [
    "# Sticky factors\n",
    "sticky_wau = dau_total / wau_total * 100\n",
    "print(sticky_wau)\n",
    "sticky_mau = dau_total / mau_total * 100\n",
    "print(sticky_mau)"
   ]
  },
  {
   "cell_type": "markdown",
   "metadata": {},
   "source": [
    "**Kesimpulan:**\n",
    "\n",
    "Dilihat dari metrik perminggu (WAU), tingkat kembali pengguna dalam menggunakan produk adalah sebesar 15%. Sedangkan dalam metrik perbulan (MAU), tingkat kembali pengguna adalah sebesar 3%."
   ]
  },
  {
   "cell_type": "markdown",
   "metadata": {},
   "source": [
    "#### 2.2.2. Sales Analysis\n",
    "\n",
    "**a. Kapan orang-orang mulai melakukan pembelian?**"
   ]
  },
  {
   "cell_type": "code",
   "execution_count": 35,
   "metadata": {},
   "outputs": [],
   "source": [
    "first_order_dates = data_orders.groupby('uid')['buy_ts'].min()\n",
    "first_order_dates.name = 'first_order_datetime'"
   ]
  },
  {
   "cell_type": "code",
   "execution_count": 36,
   "metadata": {},
   "outputs": [],
   "source": [
    "data_orders = data_orders.join(first_order_dates, on='uid')"
   ]
  },
  {
   "cell_type": "code",
   "execution_count": 37,
   "metadata": {},
   "outputs": [
    {
     "data": {
      "text/html": [
       "<div>\n",
       "<style scoped>\n",
       "    .dataframe tbody tr th:only-of-type {\n",
       "        vertical-align: middle;\n",
       "    }\n",
       "\n",
       "    .dataframe tbody tr th {\n",
       "        vertical-align: top;\n",
       "    }\n",
       "\n",
       "    .dataframe thead th {\n",
       "        text-align: right;\n",
       "    }\n",
       "</style>\n",
       "<table border=\"1\" class=\"dataframe\">\n",
       "  <thead>\n",
       "    <tr style=\"text-align: right;\">\n",
       "      <th></th>\n",
       "      <th>buy_ts</th>\n",
       "      <th>revenue</th>\n",
       "      <th>uid</th>\n",
       "      <th>first_order_datetime</th>\n",
       "      <th>orders_month</th>\n",
       "      <th>first_order_month</th>\n",
       "    </tr>\n",
       "  </thead>\n",
       "  <tbody>\n",
       "    <tr>\n",
       "      <th>0</th>\n",
       "      <td>2017-06-01 00:10:00</td>\n",
       "      <td>17.00</td>\n",
       "      <td>10329302124590727494</td>\n",
       "      <td>2017-06-01 00:10:00</td>\n",
       "      <td>2017-06-01</td>\n",
       "      <td>2017-06-01</td>\n",
       "    </tr>\n",
       "    <tr>\n",
       "      <th>1</th>\n",
       "      <td>2017-06-01 00:25:00</td>\n",
       "      <td>0.55</td>\n",
       "      <td>11627257723692907447</td>\n",
       "      <td>2017-06-01 00:25:00</td>\n",
       "      <td>2017-06-01</td>\n",
       "      <td>2017-06-01</td>\n",
       "    </tr>\n",
       "    <tr>\n",
       "      <th>2</th>\n",
       "      <td>2017-06-01 00:27:00</td>\n",
       "      <td>0.37</td>\n",
       "      <td>17903680561304213844</td>\n",
       "      <td>2017-06-01 00:27:00</td>\n",
       "      <td>2017-06-01</td>\n",
       "      <td>2017-06-01</td>\n",
       "    </tr>\n",
       "    <tr>\n",
       "      <th>3</th>\n",
       "      <td>2017-06-01 00:29:00</td>\n",
       "      <td>0.55</td>\n",
       "      <td>16109239769442553005</td>\n",
       "      <td>2017-06-01 00:29:00</td>\n",
       "      <td>2017-06-01</td>\n",
       "      <td>2017-06-01</td>\n",
       "    </tr>\n",
       "    <tr>\n",
       "      <th>4</th>\n",
       "      <td>2017-06-01 07:58:00</td>\n",
       "      <td>0.37</td>\n",
       "      <td>14200605875248379450</td>\n",
       "      <td>2017-06-01 07:58:00</td>\n",
       "      <td>2017-06-01</td>\n",
       "      <td>2017-06-01</td>\n",
       "    </tr>\n",
       "    <tr>\n",
       "      <th>5</th>\n",
       "      <td>2017-06-01 08:43:00</td>\n",
       "      <td>0.18</td>\n",
       "      <td>10402394430196413321</td>\n",
       "      <td>2017-06-01 08:43:00</td>\n",
       "      <td>2017-06-01</td>\n",
       "      <td>2017-06-01</td>\n",
       "    </tr>\n",
       "    <tr>\n",
       "      <th>6</th>\n",
       "      <td>2017-06-01 08:54:00</td>\n",
       "      <td>1.83</td>\n",
       "      <td>12464626743129688638</td>\n",
       "      <td>2017-06-01 08:54:00</td>\n",
       "      <td>2017-06-01</td>\n",
       "      <td>2017-06-01</td>\n",
       "    </tr>\n",
       "    <tr>\n",
       "      <th>7</th>\n",
       "      <td>2017-06-01 09:22:00</td>\n",
       "      <td>1.22</td>\n",
       "      <td>3644482766749211722</td>\n",
       "      <td>2017-06-01 09:22:00</td>\n",
       "      <td>2017-06-01</td>\n",
       "      <td>2017-06-01</td>\n",
       "    </tr>\n",
       "    <tr>\n",
       "      <th>8</th>\n",
       "      <td>2017-06-01 09:22:00</td>\n",
       "      <td>3.30</td>\n",
       "      <td>17542070709969841479</td>\n",
       "      <td>2017-06-01 09:22:00</td>\n",
       "      <td>2017-06-01</td>\n",
       "      <td>2017-06-01</td>\n",
       "    </tr>\n",
       "    <tr>\n",
       "      <th>9</th>\n",
       "      <td>2017-06-01 09:23:00</td>\n",
       "      <td>0.37</td>\n",
       "      <td>1074355127080856382</td>\n",
       "      <td>2017-06-01 09:23:00</td>\n",
       "      <td>2017-06-01</td>\n",
       "      <td>2017-06-01</td>\n",
       "    </tr>\n",
       "  </tbody>\n",
       "</table>\n",
       "</div>"
      ],
      "text/plain": [
       "               buy_ts  revenue                   uid first_order_datetime  \\\n",
       "0 2017-06-01 00:10:00    17.00  10329302124590727494  2017-06-01 00:10:00   \n",
       "1 2017-06-01 00:25:00     0.55  11627257723692907447  2017-06-01 00:25:00   \n",
       "2 2017-06-01 00:27:00     0.37  17903680561304213844  2017-06-01 00:27:00   \n",
       "3 2017-06-01 00:29:00     0.55  16109239769442553005  2017-06-01 00:29:00   \n",
       "4 2017-06-01 07:58:00     0.37  14200605875248379450  2017-06-01 07:58:00   \n",
       "5 2017-06-01 08:43:00     0.18  10402394430196413321  2017-06-01 08:43:00   \n",
       "6 2017-06-01 08:54:00     1.83  12464626743129688638  2017-06-01 08:54:00   \n",
       "7 2017-06-01 09:22:00     1.22   3644482766749211722  2017-06-01 09:22:00   \n",
       "8 2017-06-01 09:22:00     3.30  17542070709969841479  2017-06-01 09:22:00   \n",
       "9 2017-06-01 09:23:00     0.37   1074355127080856382  2017-06-01 09:23:00   \n",
       "\n",
       "  orders_month first_order_month  \n",
       "0   2017-06-01        2017-06-01  \n",
       "1   2017-06-01        2017-06-01  \n",
       "2   2017-06-01        2017-06-01  \n",
       "3   2017-06-01        2017-06-01  \n",
       "4   2017-06-01        2017-06-01  \n",
       "5   2017-06-01        2017-06-01  \n",
       "6   2017-06-01        2017-06-01  \n",
       "7   2017-06-01        2017-06-01  \n",
       "8   2017-06-01        2017-06-01  \n",
       "9   2017-06-01        2017-06-01  "
      ]
     },
     "execution_count": 37,
     "metadata": {},
     "output_type": "execute_result"
    }
   ],
   "source": [
    "data_orders['orders_month'] = data_orders['buy_ts'].astype('datetime64[M]')\n",
    "data_orders['first_order_month'] = data_orders['first_order_datetime'].astype('datetime64[M]')\n",
    "data_orders.head(10)"
   ]
  },
  {
   "cell_type": "code",
   "execution_count": 38,
   "metadata": {},
   "outputs": [
    {
     "data": {
      "text/plain": [
       "count                         36523\n",
       "mean     16 days 21:40:10.550064343\n",
       "std      47 days 01:44:46.481416776\n",
       "min                 0 days 00:00:00\n",
       "25%                 0 days 00:04:00\n",
       "50%                 0 days 00:16:00\n",
       "75%                 2 days 00:17:00\n",
       "max               363 days 07:04:00\n",
       "Name: diff, dtype: object"
      ]
     },
     "execution_count": 38,
     "metadata": {},
     "output_type": "execute_result"
    }
   ],
   "source": [
    "first_purchase = pd.DataFrame(\n",
    "    data_visits.sort_values(by=['uid','start_ts'])\\\n",
    "        .reset_index(drop=True)\\\n",
    "        .groupby('uid')['start_ts'].first()\n",
    ").join(\n",
    "    pd.DataFrame(\n",
    "        data_orders.sort_values(by=['uid','buy_ts'])\\\n",
    "            .reset_index(drop=True)\\\n",
    "            .groupby(['uid'])['buy_ts'].first()\n",
    "    ),\n",
    "    how='inner'\n",
    ")\n",
    "first_purchase['diff'] = first_purchase['buy_ts'] - first_purchase['start_ts']\n",
    "first_purchase['diff'].describe()"
   ]
  },
  {
   "cell_type": "code",
   "execution_count": 39,
   "metadata": {},
   "outputs": [
    {
     "data": {
      "text/plain": [
       "'first purchase in 16.0 minutes'"
      ]
     },
     "execution_count": 39,
     "metadata": {},
     "output_type": "execute_result"
    }
   ],
   "source": [
    "f\"first purchase in {first_purchase['diff'].median().seconds/60} minutes\""
   ]
  },
  {
   "cell_type": "markdown",
   "metadata": {},
   "source": [
    "**Kesimpulan:**\n",
    "\n",
    "* Rata-rata pengguna membeli produk pertama kali setelah 16 menit sejak awal kunjungan."
   ]
  },
  {
   "cell_type": "markdown",
   "metadata": {},
   "source": [
    "**b. Berapa jumlah pesanan yang mereka buat selama periode waktu tertentu?**"
   ]
  },
  {
   "cell_type": "code",
   "execution_count": 40,
   "metadata": {},
   "outputs": [
    {
     "data": {
      "text/html": [
       "<div>\n",
       "<style scoped>\n",
       "    .dataframe tbody tr th:only-of-type {\n",
       "        vertical-align: middle;\n",
       "    }\n",
       "\n",
       "    .dataframe tbody tr th {\n",
       "        vertical-align: top;\n",
       "    }\n",
       "\n",
       "    .dataframe thead th {\n",
       "        text-align: right;\n",
       "    }\n",
       "</style>\n",
       "<table border=\"1\" class=\"dataframe\">\n",
       "  <thead>\n",
       "    <tr style=\"text-align: right;\">\n",
       "      <th></th>\n",
       "      <th>device</th>\n",
       "      <th>end_ts</th>\n",
       "      <th>source_id</th>\n",
       "      <th>start_ts</th>\n",
       "      <th>uid</th>\n",
       "      <th>visits_year</th>\n",
       "      <th>visits_month</th>\n",
       "      <th>visits_week</th>\n",
       "      <th>visits_date</th>\n",
       "      <th>session_duration_sec</th>\n",
       "      <th>cohort</th>\n",
       "    </tr>\n",
       "  </thead>\n",
       "  <tbody>\n",
       "    <tr>\n",
       "      <th>0</th>\n",
       "      <td>touch</td>\n",
       "      <td>2017-12-20 17:38:00</td>\n",
       "      <td>4</td>\n",
       "      <td>2017-12-20 17:20:00</td>\n",
       "      <td>16879256277535980062</td>\n",
       "      <td>2017</td>\n",
       "      <td>12</td>\n",
       "      <td>51</td>\n",
       "      <td>2017-12-20</td>\n",
       "      <td>1080</td>\n",
       "      <td>2017-12</td>\n",
       "    </tr>\n",
       "    <tr>\n",
       "      <th>1</th>\n",
       "      <td>desktop</td>\n",
       "      <td>2018-02-19 17:21:00</td>\n",
       "      <td>2</td>\n",
       "      <td>2018-02-19 16:53:00</td>\n",
       "      <td>104060357244891740</td>\n",
       "      <td>2018</td>\n",
       "      <td>2</td>\n",
       "      <td>8</td>\n",
       "      <td>2018-02-19</td>\n",
       "      <td>1680</td>\n",
       "      <td>2018-02</td>\n",
       "    </tr>\n",
       "    <tr>\n",
       "      <th>2</th>\n",
       "      <td>touch</td>\n",
       "      <td>2017-07-01 01:54:00</td>\n",
       "      <td>5</td>\n",
       "      <td>2017-07-01 01:54:00</td>\n",
       "      <td>7459035603376831527</td>\n",
       "      <td>2017</td>\n",
       "      <td>7</td>\n",
       "      <td>26</td>\n",
       "      <td>2017-07-01</td>\n",
       "      <td>0</td>\n",
       "      <td>2017-07</td>\n",
       "    </tr>\n",
       "    <tr>\n",
       "      <th>3</th>\n",
       "      <td>desktop</td>\n",
       "      <td>2018-05-20 11:23:00</td>\n",
       "      <td>9</td>\n",
       "      <td>2018-05-20 10:59:00</td>\n",
       "      <td>16174680259334210214</td>\n",
       "      <td>2018</td>\n",
       "      <td>5</td>\n",
       "      <td>20</td>\n",
       "      <td>2018-05-20</td>\n",
       "      <td>1440</td>\n",
       "      <td>2018-05</td>\n",
       "    </tr>\n",
       "    <tr>\n",
       "      <th>4</th>\n",
       "      <td>desktop</td>\n",
       "      <td>2017-12-27 14:06:00</td>\n",
       "      <td>3</td>\n",
       "      <td>2017-12-27 14:06:00</td>\n",
       "      <td>9969694820036681168</td>\n",
       "      <td>2017</td>\n",
       "      <td>12</td>\n",
       "      <td>52</td>\n",
       "      <td>2017-12-27</td>\n",
       "      <td>0</td>\n",
       "      <td>2017-12</td>\n",
       "    </tr>\n",
       "  </tbody>\n",
       "</table>\n",
       "</div>"
      ],
      "text/plain": [
       "    device              end_ts  source_id            start_ts  \\\n",
       "0    touch 2017-12-20 17:38:00          4 2017-12-20 17:20:00   \n",
       "1  desktop 2018-02-19 17:21:00          2 2018-02-19 16:53:00   \n",
       "2    touch 2017-07-01 01:54:00          5 2017-07-01 01:54:00   \n",
       "3  desktop 2018-05-20 11:23:00          9 2018-05-20 10:59:00   \n",
       "4  desktop 2017-12-27 14:06:00          3 2017-12-27 14:06:00   \n",
       "\n",
       "                    uid  visits_year  visits_month  visits_week visits_date  \\\n",
       "0  16879256277535980062         2017            12           51  2017-12-20   \n",
       "1    104060357244891740         2018             2            8  2018-02-19   \n",
       "2   7459035603376831527         2017             7           26  2017-07-01   \n",
       "3  16174680259334210214         2018             5           20  2018-05-20   \n",
       "4   9969694820036681168         2017            12           52  2017-12-27   \n",
       "\n",
       "   session_duration_sec   cohort  \n",
       "0                  1080  2017-12  \n",
       "1                  1680  2018-02  \n",
       "2                     0  2017-07  \n",
       "3                  1440  2018-05  \n",
       "4                     0  2017-12  "
      ]
     },
     "execution_count": 40,
     "metadata": {},
     "output_type": "execute_result"
    }
   ],
   "source": [
    "# Create cohorts\n",
    "data_visits['cohort'] = pd.to_datetime(data_visits['start_ts']).dt.to_period('M')\n",
    "data_visits.head()"
   ]
  },
  {
   "cell_type": "code",
   "execution_count": 41,
   "metadata": {},
   "outputs": [],
   "source": [
    "user_dict = pd.to_datetime(data_visits.groupby('uid')['start_ts'].min()).dt.to_period('M').to_dict()"
   ]
  },
  {
   "cell_type": "code",
   "execution_count": 42,
   "metadata": {},
   "outputs": [],
   "source": [
    "data_orders['cohort'] = data_orders['uid'].map(user_dict)"
   ]
  },
  {
   "cell_type": "code",
   "execution_count": 43,
   "metadata": {},
   "outputs": [],
   "source": [
    "data_orders['year'] = pd.to_datetime(data_orders['buy_ts']).dt.year\n",
    "data_orders['month'] = pd.to_datetime(data_orders['buy_ts']).dt.month"
   ]
  },
  {
   "cell_type": "code",
   "execution_count": 44,
   "metadata": {},
   "outputs": [],
   "source": [
    "data_orders['ts'] = data_orders.apply(lambda x: x['month'] - x['cohort'].month if x['year'] == x['cohort'].year else (((x['year'] - x['cohort'].year) * 12) + x['month']) - x['cohort'].month, axis=1)"
   ]
  },
  {
   "cell_type": "code",
   "execution_count": 45,
   "metadata": {},
   "outputs": [
    {
     "data": {
      "image/png": "[encoded data removed]",
      "text/plain": [
       "<Figure size 936x648 with 2 Axes>"
      ]
     },
     "metadata": {},
     "output_type": "display_data"
    }
   ],
   "source": [
    "sns.set(style='white')\n",
    "plt.figure(figsize=(13, 9))\n",
    "plt.title('Average Monthly User Orders', fontsize=18)\n",
    "ax = sns.heatmap(data_orders.groupby(['cohort', 'ts']).size().reset_index().pivot(index='cohort', columns='ts', values=0), annot=True, fmt='.0f', linewidths=1, linecolor='gray')\n",
    "ax.tick_params(axis='y', rotation=0, labelsize=14)\n",
    "ax.set_xlabel('Cohort_Lifetime', fontsize=16)\n",
    "ax.set_ylabel('', fontsize=16)\n",
    "plt.show()"
   ]
  },
  {
   "cell_type": "markdown",
   "metadata": {},
   "source": [
    "**Kesimpulan:**\n",
    "\n",
    "* Jumlah pelanggan aktif dalam kohort mengalami penurunan yang sangat drastis setelah bulan pertama.\n",
    "* Beberapa kohort menunjukkan peningkatan jumlah pelanggan aktif, seperti contohnya kohort 2017-06."
   ]
  },
  {
   "cell_type": "markdown",
   "metadata": {},
   "source": [
    "**c. Berapa besaran rata-rata pembeliannya?**"
   ]
  },
  {
   "cell_type": "code",
   "execution_count": 46,
   "metadata": {},
   "outputs": [
    {
     "data": {
      "text/html": [
       "<div>\n",
       "<style scoped>\n",
       "    .dataframe tbody tr th:only-of-type {\n",
       "        vertical-align: middle;\n",
       "    }\n",
       "\n",
       "    .dataframe tbody tr th {\n",
       "        vertical-align: top;\n",
       "    }\n",
       "\n",
       "    .dataframe thead th {\n",
       "        text-align: right;\n",
       "    }\n",
       "</style>\n",
       "<table border=\"1\" class=\"dataframe\">\n",
       "  <thead>\n",
       "    <tr style=\"text-align: right;\">\n",
       "      <th>ts</th>\n",
       "      <th>0</th>\n",
       "      <th>1</th>\n",
       "      <th>2</th>\n",
       "      <th>3</th>\n",
       "      <th>4</th>\n",
       "      <th>5</th>\n",
       "      <th>6</th>\n",
       "      <th>7</th>\n",
       "      <th>8</th>\n",
       "      <th>9</th>\n",
       "      <th>10</th>\n",
       "      <th>11</th>\n",
       "    </tr>\n",
       "    <tr>\n",
       "      <th>cohort</th>\n",
       "      <th></th>\n",
       "      <th></th>\n",
       "      <th></th>\n",
       "      <th></th>\n",
       "      <th></th>\n",
       "      <th></th>\n",
       "      <th></th>\n",
       "      <th></th>\n",
       "      <th></th>\n",
       "      <th></th>\n",
       "      <th></th>\n",
       "      <th></th>\n",
       "    </tr>\n",
       "  </thead>\n",
       "  <tbody>\n",
       "    <tr>\n",
       "      <th>2017-06</th>\n",
       "      <td>4.060106</td>\n",
       "      <td>6.885220</td>\n",
       "      <td>5.365165</td>\n",
       "      <td>8.783009</td>\n",
       "      <td>7.636802</td>\n",
       "      <td>6.599252</td>\n",
       "      <td>6.979900</td>\n",
       "      <td>6.902158</td>\n",
       "      <td>6.247736</td>\n",
       "      <td>10.948553</td>\n",
       "      <td>11.913568</td>\n",
       "      <td>6.557177</td>\n",
       "    </tr>\n",
       "    <tr>\n",
       "      <th>2017-07</th>\n",
       "      <td>4.997414</td>\n",
       "      <td>5.756957</td>\n",
       "      <td>5.435784</td>\n",
       "      <td>5.015102</td>\n",
       "      <td>4.411406</td>\n",
       "      <td>4.694588</td>\n",
       "      <td>4.140845</td>\n",
       "      <td>4.937821</td>\n",
       "      <td>4.798146</td>\n",
       "      <td>6.793448</td>\n",
       "      <td>5.369655</td>\n",
       "      <td>NaN</td>\n",
       "    </tr>\n",
       "    <tr>\n",
       "      <th>2017-08</th>\n",
       "      <td>4.618378</td>\n",
       "      <td>4.512760</td>\n",
       "      <td>4.884634</td>\n",
       "      <td>5.286089</td>\n",
       "      <td>5.000247</td>\n",
       "      <td>4.980374</td>\n",
       "      <td>4.771078</td>\n",
       "      <td>8.594690</td>\n",
       "      <td>10.007711</td>\n",
       "      <td>4.472857</td>\n",
       "      <td>NaN</td>\n",
       "      <td>NaN</td>\n",
       "    </tr>\n",
       "    <tr>\n",
       "      <th>2017-09</th>\n",
       "      <td>4.903651</td>\n",
       "      <td>7.521301</td>\n",
       "      <td>6.415289</td>\n",
       "      <td>37.959745</td>\n",
       "      <td>9.544296</td>\n",
       "      <td>9.948177</td>\n",
       "      <td>4.983711</td>\n",
       "      <td>5.065773</td>\n",
       "      <td>3.737232</td>\n",
       "      <td>NaN</td>\n",
       "      <td>NaN</td>\n",
       "      <td>NaN</td>\n",
       "    </tr>\n",
       "    <tr>\n",
       "      <th>2017-10</th>\n",
       "      <td>4.300309</td>\n",
       "      <td>6.154814</td>\n",
       "      <td>3.727584</td>\n",
       "      <td>4.502340</td>\n",
       "      <td>4.259061</td>\n",
       "      <td>4.667534</td>\n",
       "      <td>4.419160</td>\n",
       "      <td>4.151266</td>\n",
       "      <td>NaN</td>\n",
       "      <td>NaN</td>\n",
       "      <td>NaN</td>\n",
       "      <td>NaN</td>\n",
       "    </tr>\n",
       "    <tr>\n",
       "      <th>2017-11</th>\n",
       "      <td>4.225918</td>\n",
       "      <td>3.482480</td>\n",
       "      <td>3.639160</td>\n",
       "      <td>4.320284</td>\n",
       "      <td>3.647171</td>\n",
       "      <td>5.054500</td>\n",
       "      <td>3.992000</td>\n",
       "      <td>NaN</td>\n",
       "      <td>NaN</td>\n",
       "      <td>NaN</td>\n",
       "      <td>NaN</td>\n",
       "      <td>NaN</td>\n",
       "    </tr>\n",
       "    <tr>\n",
       "      <th>2017-12</th>\n",
       "      <td>4.225871</td>\n",
       "      <td>3.747909</td>\n",
       "      <td>16.024046</td>\n",
       "      <td>20.495280</td>\n",
       "      <td>12.898850</td>\n",
       "      <td>11.279304</td>\n",
       "      <td>NaN</td>\n",
       "      <td>NaN</td>\n",
       "      <td>NaN</td>\n",
       "      <td>NaN</td>\n",
       "      <td>NaN</td>\n",
       "      <td>NaN</td>\n",
       "    </tr>\n",
       "    <tr>\n",
       "      <th>2018-01</th>\n",
       "      <td>3.604425</td>\n",
       "      <td>4.317920</td>\n",
       "      <td>4.567686</td>\n",
       "      <td>3.254043</td>\n",
       "      <td>4.288374</td>\n",
       "      <td>NaN</td>\n",
       "      <td>NaN</td>\n",
       "      <td>NaN</td>\n",
       "      <td>NaN</td>\n",
       "      <td>NaN</td>\n",
       "      <td>NaN</td>\n",
       "      <td>NaN</td>\n",
       "    </tr>\n",
       "    <tr>\n",
       "      <th>2018-02</th>\n",
       "      <td>3.615776</td>\n",
       "      <td>4.804988</td>\n",
       "      <td>5.101462</td>\n",
       "      <td>6.482086</td>\n",
       "      <td>NaN</td>\n",
       "      <td>NaN</td>\n",
       "      <td>NaN</td>\n",
       "      <td>NaN</td>\n",
       "      <td>NaN</td>\n",
       "      <td>NaN</td>\n",
       "      <td>NaN</td>\n",
       "      <td>NaN</td>\n",
       "    </tr>\n",
       "    <tr>\n",
       "      <th>2018-03</th>\n",
       "      <td>3.903604</td>\n",
       "      <td>3.685393</td>\n",
       "      <td>3.854577</td>\n",
       "      <td>NaN</td>\n",
       "      <td>NaN</td>\n",
       "      <td>NaN</td>\n",
       "      <td>NaN</td>\n",
       "      <td>NaN</td>\n",
       "      <td>NaN</td>\n",
       "      <td>NaN</td>\n",
       "      <td>NaN</td>\n",
       "      <td>NaN</td>\n",
       "    </tr>\n",
       "    <tr>\n",
       "      <th>2018-04</th>\n",
       "      <td>4.133515</td>\n",
       "      <td>5.423982</td>\n",
       "      <td>NaN</td>\n",
       "      <td>NaN</td>\n",
       "      <td>NaN</td>\n",
       "      <td>NaN</td>\n",
       "      <td>NaN</td>\n",
       "      <td>NaN</td>\n",
       "      <td>NaN</td>\n",
       "      <td>NaN</td>\n",
       "      <td>NaN</td>\n",
       "      <td>NaN</td>\n",
       "    </tr>\n",
       "    <tr>\n",
       "      <th>2018-05</th>\n",
       "      <td>4.187443</td>\n",
       "      <td>3.420000</td>\n",
       "      <td>NaN</td>\n",
       "      <td>NaN</td>\n",
       "      <td>NaN</td>\n",
       "      <td>NaN</td>\n",
       "      <td>NaN</td>\n",
       "      <td>NaN</td>\n",
       "      <td>NaN</td>\n",
       "      <td>NaN</td>\n",
       "      <td>NaN</td>\n",
       "      <td>NaN</td>\n",
       "    </tr>\n",
       "  </tbody>\n",
       "</table>\n",
       "</div>"
      ],
      "text/plain": [
       "ts             0         1          2          3          4          5   \\\n",
       "cohort                                                                    \n",
       "2017-06  4.060106  6.885220   5.365165   8.783009   7.636802   6.599252   \n",
       "2017-07  4.997414  5.756957   5.435784   5.015102   4.411406   4.694588   \n",
       "2017-08  4.618378  4.512760   4.884634   5.286089   5.000247   4.980374   \n",
       "2017-09  4.903651  7.521301   6.415289  37.959745   9.544296   9.948177   \n",
       "2017-10  4.300309  6.154814   3.727584   4.502340   4.259061   4.667534   \n",
       "2017-11  4.225918  3.482480   3.639160   4.320284   3.647171   5.054500   \n",
       "2017-12  4.225871  3.747909  16.024046  20.495280  12.898850  11.279304   \n",
       "2018-01  3.604425  4.317920   4.567686   3.254043   4.288374        NaN   \n",
       "2018-02  3.615776  4.804988   5.101462   6.482086        NaN        NaN   \n",
       "2018-03  3.903604  3.685393   3.854577        NaN        NaN        NaN   \n",
       "2018-04  4.133515  5.423982        NaN        NaN        NaN        NaN   \n",
       "2018-05  4.187443  3.420000        NaN        NaN        NaN        NaN   \n",
       "\n",
       "ts             6         7          8          9          10        11  \n",
       "cohort                                                                  \n",
       "2017-06  6.979900  6.902158   6.247736  10.948553  11.913568  6.557177  \n",
       "2017-07  4.140845  4.937821   4.798146   6.793448   5.369655       NaN  \n",
       "2017-08  4.771078  8.594690  10.007711   4.472857        NaN       NaN  \n",
       "2017-09  4.983711  5.065773   3.737232        NaN        NaN       NaN  \n",
       "2017-10  4.419160  4.151266        NaN        NaN        NaN       NaN  \n",
       "2017-11  3.992000       NaN        NaN        NaN        NaN       NaN  \n",
       "2017-12       NaN       NaN        NaN        NaN        NaN       NaN  \n",
       "2018-01       NaN       NaN        NaN        NaN        NaN       NaN  \n",
       "2018-02       NaN       NaN        NaN        NaN        NaN       NaN  \n",
       "2018-03       NaN       NaN        NaN        NaN        NaN       NaN  \n",
       "2018-04       NaN       NaN        NaN        NaN        NaN       NaN  \n",
       "2018-05       NaN       NaN        NaN        NaN        NaN       NaN  "
      ]
     },
     "execution_count": 46,
     "metadata": {},
     "output_type": "execute_result"
    }
   ],
   "source": [
    "avg_buy = data_orders.groupby(['cohort', 'ts']).agg({'revenue': ['sum', 'count']}).reset_index()\n",
    "avg_buy['average_revenue'] = avg_buy[('revenue',   'sum')] / avg_buy[('revenue', 'count')]\n",
    "avg_buy.pivot(index='cohort', columns='ts', values='average_revenue')"
   ]
  },
  {
   "cell_type": "code",
   "execution_count": 47,
   "metadata": {},
   "outputs": [
    {
     "data": {
      "image/png": "[encoded data removed]",
      "text/plain": [
       "<Figure size 936x648 with 2 Axes>"
      ]
     },
     "metadata": {},
     "output_type": "display_data"
    }
   ],
   "source": [
    "sns.set(style='white')\n",
    "plt.figure(figsize=(13, 9))\n",
    "plt.title('Average Monthly Revenue', fontsize=18)\n",
    "ax = sns.heatmap(avg_buy.pivot(index='cohort', columns='ts', values='average_revenue'), annot=True, fmt='.2f', linewidths=1, linecolor='gray')\n",
    "ax.tick_params(axis='y', rotation=0, labelsize=14)\n",
    "ax.set_xlabel('Cohort_Lifetime', fontsize=16)\n",
    "ax.set_ylabel('', fontsize=16)\n",
    "plt.show()"
   ]
  },
  {
   "cell_type": "markdown",
   "metadata": {},
   "source": [
    "**Kesimpulan:**\n",
    "\n",
    "* Dilihat dari tabel cohort, rata-rata pembelian pada bulan pertama sebesar 4%, dan cenderung mengalami peningkatan pada bulan-bulan selanjutnya.\n",
    "* Pada bulan ke-3, kohort pada bulan 09-2017 mengalami peningkatan rata-rata pembelian hingga 37%."
   ]
  },
  {
   "cell_type": "markdown",
   "metadata": {},
   "source": [
    "**d. Berapa jumlah uang yang mereka kontribusikan?**"
   ]
  },
  {
   "cell_type": "code",
   "execution_count": 48,
   "metadata": {},
   "outputs": [],
   "source": [
    "unique_user = data_orders.groupby(['cohort', 'ts']).agg({'uid': 'nunique'}).reset_index()"
   ]
  },
  {
   "cell_type": "code",
   "execution_count": 49,
   "metadata": {},
   "outputs": [],
   "source": [
    "ltv = data_orders.groupby(['cohort', 'ts']).agg({'revenue': ['sum', 'count']}).reset_index()"
   ]
  },
  {
   "cell_type": "code",
   "execution_count": 50,
   "metadata": {},
   "outputs": [],
   "source": [
    "ltv['ltv'] = avg_buy[('revenue', 'sum')] / unique_user['uid']"
   ]
  },
  {
   "cell_type": "code",
   "execution_count": 51,
   "metadata": {},
   "outputs": [
    {
     "data": {
      "text/html": [
       "<div>\n",
       "<style scoped>\n",
       "    .dataframe tbody tr th:only-of-type {\n",
       "        vertical-align: middle;\n",
       "    }\n",
       "\n",
       "    .dataframe tbody tr th {\n",
       "        vertical-align: top;\n",
       "    }\n",
       "\n",
       "    .dataframe thead th {\n",
       "        text-align: right;\n",
       "    }\n",
       "</style>\n",
       "<table border=\"1\" class=\"dataframe\">\n",
       "  <thead>\n",
       "    <tr style=\"text-align: right;\">\n",
       "      <th>ts</th>\n",
       "      <th>0</th>\n",
       "      <th>1</th>\n",
       "      <th>2</th>\n",
       "      <th>3</th>\n",
       "      <th>4</th>\n",
       "      <th>5</th>\n",
       "      <th>6</th>\n",
       "      <th>7</th>\n",
       "      <th>8</th>\n",
       "      <th>9</th>\n",
       "      <th>10</th>\n",
       "      <th>11</th>\n",
       "    </tr>\n",
       "    <tr>\n",
       "      <th>cohort</th>\n",
       "      <th></th>\n",
       "      <th></th>\n",
       "      <th></th>\n",
       "      <th></th>\n",
       "      <th></th>\n",
       "      <th></th>\n",
       "      <th></th>\n",
       "      <th></th>\n",
       "      <th></th>\n",
       "      <th></th>\n",
       "      <th></th>\n",
       "      <th></th>\n",
       "    </tr>\n",
       "  </thead>\n",
       "  <tbody>\n",
       "    <tr>\n",
       "      <th>2017-06</th>\n",
       "      <td>4.724414</td>\n",
       "      <td>11.534978</td>\n",
       "      <td>11.354186</td>\n",
       "      <td>20.649415</td>\n",
       "      <td>15.333035</td>\n",
       "      <td>13.913695</td>\n",
       "      <td>18.465344</td>\n",
       "      <td>14.650387</td>\n",
       "      <td>13.476221</td>\n",
       "      <td>22.318205</td>\n",
       "      <td>19.333421</td>\n",
       "      <td>11.543772</td>\n",
       "    </tr>\n",
       "    <tr>\n",
       "      <th>2017-07</th>\n",
       "      <td>5.633137</td>\n",
       "      <td>7.846519</td>\n",
       "      <td>7.442282</td>\n",
       "      <td>6.382857</td>\n",
       "      <td>5.535882</td>\n",
       "      <td>6.000602</td>\n",
       "      <td>4.819672</td>\n",
       "      <td>6.017969</td>\n",
       "      <td>6.300174</td>\n",
       "      <td>8.208750</td>\n",
       "      <td>6.228800</td>\n",
       "      <td>NaN</td>\n",
       "    </tr>\n",
       "    <tr>\n",
       "      <th>2017-08</th>\n",
       "      <td>5.161267</td>\n",
       "      <td>6.393077</td>\n",
       "      <td>7.256159</td>\n",
       "      <td>8.087265</td>\n",
       "      <td>7.864466</td>\n",
       "      <td>7.011842</td>\n",
       "      <td>6.403289</td>\n",
       "      <td>14.491047</td>\n",
       "      <td>15.672453</td>\n",
       "      <td>6.477931</td>\n",
       "      <td>NaN</td>\n",
       "      <td>NaN</td>\n",
       "    </tr>\n",
       "    <tr>\n",
       "      <th>2017-09</th>\n",
       "      <td>5.475055</td>\n",
       "      <td>10.138301</td>\n",
       "      <td>8.757801</td>\n",
       "      <td>58.645674</td>\n",
       "      <td>11.607928</td>\n",
       "      <td>13.643214</td>\n",
       "      <td>6.906000</td>\n",
       "      <td>7.121449</td>\n",
       "      <td>4.500753</td>\n",
       "      <td>NaN</td>\n",
       "      <td>NaN</td>\n",
       "      <td>NaN</td>\n",
       "    </tr>\n",
       "    <tr>\n",
       "      <th>2017-10</th>\n",
       "      <td>4.882297</td>\n",
       "      <td>8.003845</td>\n",
       "      <td>4.544589</td>\n",
       "      <td>5.370812</td>\n",
       "      <td>5.270051</td>\n",
       "      <td>5.775085</td>\n",
       "      <td>4.990603</td>\n",
       "      <td>5.332520</td>\n",
       "      <td>NaN</td>\n",
       "      <td>NaN</td>\n",
       "      <td>NaN</td>\n",
       "      <td>NaN</td>\n",
       "    </tr>\n",
       "    <tr>\n",
       "      <th>2017-11</th>\n",
       "      <td>4.924573</td>\n",
       "      <td>4.797806</td>\n",
       "      <td>5.105894</td>\n",
       "      <td>7.483770</td>\n",
       "      <td>5.516119</td>\n",
       "      <td>6.492018</td>\n",
       "      <td>5.415504</td>\n",
       "      <td>NaN</td>\n",
       "      <td>NaN</td>\n",
       "      <td>NaN</td>\n",
       "      <td>NaN</td>\n",
       "      <td>NaN</td>\n",
       "    </tr>\n",
       "    <tr>\n",
       "      <th>2017-12</th>\n",
       "      <td>4.828702</td>\n",
       "      <td>5.269788</td>\n",
       "      <td>22.213228</td>\n",
       "      <td>27.400107</td>\n",
       "      <td>16.753678</td>\n",
       "      <td>14.372016</td>\n",
       "      <td>NaN</td>\n",
       "      <td>NaN</td>\n",
       "      <td>NaN</td>\n",
       "      <td>NaN</td>\n",
       "      <td>NaN</td>\n",
       "      <td>NaN</td>\n",
       "    </tr>\n",
       "    <tr>\n",
       "      <th>2018-01</th>\n",
       "      <td>4.007946</td>\n",
       "      <td>6.099063</td>\n",
       "      <td>6.655771</td>\n",
       "      <td>3.871899</td>\n",
       "      <td>5.860778</td>\n",
       "      <td>NaN</td>\n",
       "      <td>NaN</td>\n",
       "      <td>NaN</td>\n",
       "      <td>NaN</td>\n",
       "      <td>NaN</td>\n",
       "      <td>NaN</td>\n",
       "      <td>NaN</td>\n",
       "    </tr>\n",
       "    <tr>\n",
       "      <th>2018-02</th>\n",
       "      <td>4.036687</td>\n",
       "      <td>7.062135</td>\n",
       "      <td>6.698889</td>\n",
       "      <td>8.500094</td>\n",
       "      <td>NaN</td>\n",
       "      <td>NaN</td>\n",
       "      <td>NaN</td>\n",
       "      <td>NaN</td>\n",
       "      <td>NaN</td>\n",
       "      <td>NaN</td>\n",
       "      <td>NaN</td>\n",
       "      <td>NaN</td>\n",
       "    </tr>\n",
       "    <tr>\n",
       "      <th>2018-03</th>\n",
       "      <td>4.510473</td>\n",
       "      <td>5.377049</td>\n",
       "      <td>8.608556</td>\n",
       "      <td>NaN</td>\n",
       "      <td>NaN</td>\n",
       "      <td>NaN</td>\n",
       "      <td>NaN</td>\n",
       "      <td>NaN</td>\n",
       "      <td>NaN</td>\n",
       "      <td>NaN</td>\n",
       "      <td>NaN</td>\n",
       "      <td>NaN</td>\n",
       "    </tr>\n",
       "    <tr>\n",
       "      <th>2018-04</th>\n",
       "      <td>4.562575</td>\n",
       "      <td>10.567414</td>\n",
       "      <td>NaN</td>\n",
       "      <td>NaN</td>\n",
       "      <td>NaN</td>\n",
       "      <td>NaN</td>\n",
       "      <td>NaN</td>\n",
       "      <td>NaN</td>\n",
       "      <td>NaN</td>\n",
       "      <td>NaN</td>\n",
       "      <td>NaN</td>\n",
       "      <td>NaN</td>\n",
       "    </tr>\n",
       "    <tr>\n",
       "      <th>2018-05</th>\n",
       "      <td>4.478665</td>\n",
       "      <td>3.420000</td>\n",
       "      <td>NaN</td>\n",
       "      <td>NaN</td>\n",
       "      <td>NaN</td>\n",
       "      <td>NaN</td>\n",
       "      <td>NaN</td>\n",
       "      <td>NaN</td>\n",
       "      <td>NaN</td>\n",
       "      <td>NaN</td>\n",
       "      <td>NaN</td>\n",
       "      <td>NaN</td>\n",
       "    </tr>\n",
       "  </tbody>\n",
       "</table>\n",
       "</div>"
      ],
      "text/plain": [
       "ts             0          1          2          3          4          5   \\\n",
       "cohort                                                                     \n",
       "2017-06  4.724414  11.534978  11.354186  20.649415  15.333035  13.913695   \n",
       "2017-07  5.633137   7.846519   7.442282   6.382857   5.535882   6.000602   \n",
       "2017-08  5.161267   6.393077   7.256159   8.087265   7.864466   7.011842   \n",
       "2017-09  5.475055  10.138301   8.757801  58.645674  11.607928  13.643214   \n",
       "2017-10  4.882297   8.003845   4.544589   5.370812   5.270051   5.775085   \n",
       "2017-11  4.924573   4.797806   5.105894   7.483770   5.516119   6.492018   \n",
       "2017-12  4.828702   5.269788  22.213228  27.400107  16.753678  14.372016   \n",
       "2018-01  4.007946   6.099063   6.655771   3.871899   5.860778        NaN   \n",
       "2018-02  4.036687   7.062135   6.698889   8.500094        NaN        NaN   \n",
       "2018-03  4.510473   5.377049   8.608556        NaN        NaN        NaN   \n",
       "2018-04  4.562575  10.567414        NaN        NaN        NaN        NaN   \n",
       "2018-05  4.478665   3.420000        NaN        NaN        NaN        NaN   \n",
       "\n",
       "ts              6          7          8          9          10         11  \n",
       "cohort                                                                     \n",
       "2017-06  18.465344  14.650387  13.476221  22.318205  19.333421  11.543772  \n",
       "2017-07   4.819672   6.017969   6.300174   8.208750   6.228800        NaN  \n",
       "2017-08   6.403289  14.491047  15.672453   6.477931        NaN        NaN  \n",
       "2017-09   6.906000   7.121449   4.500753        NaN        NaN        NaN  \n",
       "2017-10   4.990603   5.332520        NaN        NaN        NaN        NaN  \n",
       "2017-11   5.415504        NaN        NaN        NaN        NaN        NaN  \n",
       "2017-12        NaN        NaN        NaN        NaN        NaN        NaN  \n",
       "2018-01        NaN        NaN        NaN        NaN        NaN        NaN  \n",
       "2018-02        NaN        NaN        NaN        NaN        NaN        NaN  \n",
       "2018-03        NaN        NaN        NaN        NaN        NaN        NaN  \n",
       "2018-04        NaN        NaN        NaN        NaN        NaN        NaN  \n",
       "2018-05        NaN        NaN        NaN        NaN        NaN        NaN  "
      ]
     },
     "execution_count": 51,
     "metadata": {},
     "output_type": "execute_result"
    }
   ],
   "source": [
    "ltv.pivot(index='cohort', columns='ts', values='ltv')"
   ]
  },
  {
   "cell_type": "code",
   "execution_count": 52,
   "metadata": {},
   "outputs": [
    {
     "data": {
      "image/png": "[encoded data removed]",
      "text/plain": [
       "<Figure size 936x648 with 2 Axes>"
      ]
     },
     "metadata": {},
     "output_type": "display_data"
    }
   ],
   "source": [
    "sns.set(style='white')\n",
    "plt.figure(figsize=(13, 9))\n",
    "plt.title('LTV', fontsize=18)\n",
    "ax = sns.heatmap(ltv.pivot(index='cohort', columns='ts', values='ltv'), annot=True, fmt='.2f', linewidths=1, linecolor='gray')\n",
    "ax.tick_params(axis='y', rotation=0, labelsize=14)\n",
    "ax.set_xlabel('Cohort_Lifetime', fontsize=16)\n",
    "ax.set_ylabel('', fontsize=16)\n",
    "plt.show()"
   ]
  },
  {
   "cell_type": "markdown",
   "metadata": {},
   "source": [
    "**Kesimpulan:**\n",
    "\n",
    "* Dilihat dari tabel cohort, rata-rata Lifetime Value (LTV) pada bulan pertama berkisar antara 4% hingga 5%, dan cenderung mengalami peningkatan pada bulan-bulan selanjutnya.\n",
    "* Pada bulan ke-3, kohort pada bulan 09-2017 mengalami peningkatan Lifetime Value (LTV) hingga 58%"
   ]
  },
  {
   "cell_type": "markdown",
   "metadata": {},
   "source": [
    "#### 2.2.3. Marketing Analysis\n",
    "\n",
    "**a. Berapa jumlah uang yang dihabiskan? Keseluruhan/per sumber/dari waktu ke waktu?**"
   ]
  },
  {
   "cell_type": "code",
   "execution_count": 53,
   "metadata": {},
   "outputs": [
    {
     "data": {
      "text/plain": [
       "329131.62"
      ]
     },
     "execution_count": 53,
     "metadata": {},
     "output_type": "execute_result"
    }
   ],
   "source": [
    "# Total cost\n",
    "total_cost = data_costs['costs'].sum()\n",
    "total_cost"
   ]
  },
  {
   "cell_type": "code",
   "execution_count": 54,
   "metadata": {},
   "outputs": [
    {
     "data": {
      "text/plain": [
       "source_id\n",
       "1      20833.27\n",
       "2      42806.04\n",
       "3     141321.63\n",
       "4      61073.60\n",
       "5      51757.10\n",
       "9       5517.49\n",
       "10      5822.49\n",
       "Name: costs, dtype: float64"
      ]
     },
     "execution_count": 54,
     "metadata": {},
     "output_type": "execute_result"
    }
   ],
   "source": [
    "# Total cost by source\n",
    "cost_source = data_costs.groupby(['source_id'])['costs'].sum()\n",
    "cost_source"
   ]
  },
  {
   "cell_type": "code",
   "execution_count": 55,
   "metadata": {},
   "outputs": [
    {
     "data": {
      "text/plain": [
       "<Figure size 720x432 with 0 Axes>"
      ]
     },
     "metadata": {},
     "output_type": "display_data"
    },
    {
     "data": {
      "image/png": "[encoded data removed]",
      "text/plain": [
       "<Figure size 432x288 with 1 Axes>"
      ]
     },
     "metadata": {},
     "output_type": "display_data"
    },
    {
     "data": {
      "text/plain": [
       "<Figure size 720x432 with 0 Axes>"
      ]
     },
     "metadata": {},
     "output_type": "display_data"
    },
    {
     "data": {
      "image/png": "[encoded data removed]",
      "text/plain": [
       "<Figure size 432x288 with 1 Axes>"
      ]
     },
     "metadata": {},
     "output_type": "display_data"
    },
    {
     "data": {
      "text/plain": [
       "<Figure size 720x432 with 0 Axes>"
      ]
     },
     "metadata": {},
     "output_type": "display_data"
    },
    {
     "data": {
      "image/png": "[encoded data removed]",
      "text/plain": [
       "<Figure size 432x288 with 1 Axes>"
      ]
     },
     "metadata": {},
     "output_type": "display_data"
    }
   ],
   "source": [
    "# Total Cost Daily\n",
    "plt.figure(figsize=(10, 6))\n",
    "data_costs.groupby(['dt','source_id'])['costs'].sum()\\\n",
    "    .reset_index()\\\n",
    "    .pivot(index='dt',columns='source_id',values='costs')\\\n",
    "    .plot(kind='area',stacked=True)\n",
    "plt.title('Total Cost Daily')\n",
    "plt.show()\n",
    "# Total Cost Weekly\n",
    "plt.figure(figsize=(10, 6))\n",
    "data_costs.groupby([data_costs['dt'].dt.to_period('W'),'source_id'])['costs'].sum()\\\n",
    "    .reset_index()\\\n",
    "    .pivot(index='dt',columns='source_id',values='costs')\\\n",
    "    .plot(kind='area',stacked=True)\n",
    "plt.title('Total Cost Weekly')\n",
    "plt.show()\n",
    "# Total Cost Monthly\n",
    "plt.figure(figsize=(10, 6))\n",
    "data_costs.groupby([data_costs['dt'].dt.to_period('M'),'source_id'])['costs'].sum()\\\n",
    "    .reset_index()\\\n",
    "    .pivot(index='dt',columns='source_id',values='costs')\\\n",
    "    .plot(kind='area',stacked=True)\n",
    "plt.title('Total Cost Monthly')\n",
    "plt.show()"
   ]
  },
  {
   "cell_type": "markdown",
   "metadata": {},
   "source": [
    "**Kesimpulan:**\n",
    "\n",
    "* Jumlah total uang yang dihabiskan adalah sebesar 329,131. Berdasarkan source_id, sumber dengan ID 3 memiliki biaya tertinggi."
   ]
  },
  {
   "cell_type": "markdown",
   "metadata": {},
   "source": [
    "**b. Berapa biaya akuisisi pelanggan dari masing-masing sumber?**\n",
    "\n",
    "Untuk menemukan biaya akuisisi pelanggan dari masing-masing sumber, saya akan mengumpulkan data biaya pemasaran dan jumlah pelanggan yang berhasil didapatkan dari setiap sumber. Selanjutnya, saya akan melakukan perhitungan CAC (Customer Acquisition Cost) untuk masing-masing sumber."
   ]
  },
  {
   "cell_type": "code",
   "execution_count": 56,
   "metadata": {},
   "outputs": [],
   "source": [
    "cac = data_orders.merge(data_visits, on=['uid', 'cohort'])"
   ]
  },
  {
   "cell_type": "code",
   "execution_count": 57,
   "metadata": {},
   "outputs": [],
   "source": [
    "cac_fix = cac.merge(data_costs, left_on=['buy_ts', 'source_id'], right_on=['dt', 'source_id'])"
   ]
  },
  {
   "cell_type": "code",
   "execution_count": 58,
   "metadata": {},
   "outputs": [
    {
     "name": "stdout",
     "output_type": "stream",
     "text": [
      "<class 'pandas.core.frame.DataFrame'>\n",
      "Int64Index: 60 entries, 0 to 59\n",
      "Data columns (total 21 columns):\n",
      " #   Column                Non-Null Count  Dtype         \n",
      "---  ------                --------------  -----         \n",
      " 0   buy_ts                60 non-null     datetime64[ns]\n",
      " 1   revenue               60 non-null     float64       \n",
      " 2   uid                   60 non-null     uint64        \n",
      " 3   first_order_datetime  60 non-null     datetime64[ns]\n",
      " 4   orders_month          60 non-null     datetime64[ns]\n",
      " 5   first_order_month     60 non-null     datetime64[ns]\n",
      " 6   cohort                60 non-null     period[M]     \n",
      " 7   year                  60 non-null     int64         \n",
      " 8   month                 60 non-null     int64         \n",
      " 9   ts                    60 non-null     int64         \n",
      " 10  device                60 non-null     category      \n",
      " 11  end_ts                60 non-null     datetime64[ns]\n",
      " 12  source_id             60 non-null     int64         \n",
      " 13  start_ts              60 non-null     datetime64[ns]\n",
      " 14  visits_year           60 non-null     int64         \n",
      " 15  visits_month          60 non-null     int64         \n",
      " 16  visits_week           60 non-null     int64         \n",
      " 17  visits_date           60 non-null     object        \n",
      " 18  session_duration_sec  60 non-null     int64         \n",
      " 19  dt                    60 non-null     datetime64[ns]\n",
      " 20  costs                 60 non-null     float64       \n",
      "dtypes: category(1), datetime64[ns](7), float64(2), int64(8), object(1), period[M](1), uint64(1)\n",
      "memory usage: 10.0+ KB\n"
     ]
    }
   ],
   "source": [
    "cac_fix.info()"
   ]
  },
  {
   "cell_type": "code",
   "execution_count": 59,
   "metadata": {},
   "outputs": [],
   "source": [
    "cac_ = cac_fix.groupby('source_id').agg({'costs': 'sum', 'uid': 'count'})"
   ]
  },
  {
   "cell_type": "code",
   "execution_count": 60,
   "metadata": {},
   "outputs": [
    {
     "data": {
      "text/html": [
       "<div>\n",
       "<style scoped>\n",
       "    .dataframe tbody tr th:only-of-type {\n",
       "        vertical-align: middle;\n",
       "    }\n",
       "\n",
       "    .dataframe tbody tr th {\n",
       "        vertical-align: top;\n",
       "    }\n",
       "\n",
       "    .dataframe thead th {\n",
       "        text-align: right;\n",
       "    }\n",
       "</style>\n",
       "<table border=\"1\" class=\"dataframe\">\n",
       "  <thead>\n",
       "    <tr style=\"text-align: right;\">\n",
       "      <th></th>\n",
       "      <th>total_cost</th>\n",
       "      <th>count_user</th>\n",
       "    </tr>\n",
       "    <tr>\n",
       "      <th>source_id</th>\n",
       "      <th></th>\n",
       "      <th></th>\n",
       "    </tr>\n",
       "  </thead>\n",
       "  <tbody>\n",
       "    <tr>\n",
       "      <th>1</th>\n",
       "      <td>821.97</td>\n",
       "      <td>10</td>\n",
       "    </tr>\n",
       "    <tr>\n",
       "      <th>2</th>\n",
       "      <td>1885.71</td>\n",
       "      <td>12</td>\n",
       "    </tr>\n",
       "    <tr>\n",
       "      <th>3</th>\n",
       "      <td>5074.85</td>\n",
       "      <td>14</td>\n",
       "    </tr>\n",
       "    <tr>\n",
       "      <th>4</th>\n",
       "      <td>1908.81</td>\n",
       "      <td>12</td>\n",
       "    </tr>\n",
       "    <tr>\n",
       "      <th>5</th>\n",
       "      <td>1282.14</td>\n",
       "      <td>9</td>\n",
       "    </tr>\n",
       "    <tr>\n",
       "      <th>9</th>\n",
       "      <td>27.80</td>\n",
       "      <td>2</td>\n",
       "    </tr>\n",
       "    <tr>\n",
       "      <th>10</th>\n",
       "      <td>21.46</td>\n",
       "      <td>1</td>\n",
       "    </tr>\n",
       "  </tbody>\n",
       "</table>\n",
       "</div>"
      ],
      "text/plain": [
       "           total_cost  count_user\n",
       "source_id                        \n",
       "1              821.97          10\n",
       "2             1885.71          12\n",
       "3             5074.85          14\n",
       "4             1908.81          12\n",
       "5             1282.14           9\n",
       "9               27.80           2\n",
       "10              21.46           1"
      ]
     },
     "execution_count": 60,
     "metadata": {},
     "output_type": "execute_result"
    }
   ],
   "source": [
    "cac_ = cac_.rename(columns={'costs': 'total_cost', 'uid': 'count_user'})\n",
    "cac_"
   ]
  },
  {
   "cell_type": "code",
   "execution_count": 61,
   "metadata": {},
   "outputs": [
    {
     "data": {
      "text/html": [
       "<div>\n",
       "<style scoped>\n",
       "    .dataframe tbody tr th:only-of-type {\n",
       "        vertical-align: middle;\n",
       "    }\n",
       "\n",
       "    .dataframe tbody tr th {\n",
       "        vertical-align: top;\n",
       "    }\n",
       "\n",
       "    .dataframe thead th {\n",
       "        text-align: right;\n",
       "    }\n",
       "</style>\n",
       "<table border=\"1\" class=\"dataframe\">\n",
       "  <thead>\n",
       "    <tr style=\"text-align: right;\">\n",
       "      <th></th>\n",
       "      <th>total_cost</th>\n",
       "      <th>count_user</th>\n",
       "      <th>cac</th>\n",
       "    </tr>\n",
       "    <tr>\n",
       "      <th>source_id</th>\n",
       "      <th></th>\n",
       "      <th></th>\n",
       "      <th></th>\n",
       "    </tr>\n",
       "  </thead>\n",
       "  <tbody>\n",
       "    <tr>\n",
       "      <th>1</th>\n",
       "      <td>821.97</td>\n",
       "      <td>10</td>\n",
       "      <td>82.197000</td>\n",
       "    </tr>\n",
       "    <tr>\n",
       "      <th>2</th>\n",
       "      <td>1885.71</td>\n",
       "      <td>12</td>\n",
       "      <td>157.142500</td>\n",
       "    </tr>\n",
       "    <tr>\n",
       "      <th>3</th>\n",
       "      <td>5074.85</td>\n",
       "      <td>14</td>\n",
       "      <td>362.489286</td>\n",
       "    </tr>\n",
       "    <tr>\n",
       "      <th>4</th>\n",
       "      <td>1908.81</td>\n",
       "      <td>12</td>\n",
       "      <td>159.067500</td>\n",
       "    </tr>\n",
       "    <tr>\n",
       "      <th>5</th>\n",
       "      <td>1282.14</td>\n",
       "      <td>9</td>\n",
       "      <td>142.460000</td>\n",
       "    </tr>\n",
       "    <tr>\n",
       "      <th>9</th>\n",
       "      <td>27.80</td>\n",
       "      <td>2</td>\n",
       "      <td>13.900000</td>\n",
       "    </tr>\n",
       "    <tr>\n",
       "      <th>10</th>\n",
       "      <td>21.46</td>\n",
       "      <td>1</td>\n",
       "      <td>21.460000</td>\n",
       "    </tr>\n",
       "  </tbody>\n",
       "</table>\n",
       "</div>"
      ],
      "text/plain": [
       "           total_cost  count_user         cac\n",
       "source_id                                    \n",
       "1              821.97          10   82.197000\n",
       "2             1885.71          12  157.142500\n",
       "3             5074.85          14  362.489286\n",
       "4             1908.81          12  159.067500\n",
       "5             1282.14           9  142.460000\n",
       "9               27.80           2   13.900000\n",
       "10              21.46           1   21.460000"
      ]
     },
     "execution_count": 61,
     "metadata": {},
     "output_type": "execute_result"
    }
   ],
   "source": [
    "cac_['cac'] = cac_['total_cost'] / cac_['count_user']\n",
    "cac_"
   ]
  },
  {
   "cell_type": "code",
   "execution_count": 62,
   "metadata": {},
   "outputs": [
    {
     "data": {
      "image/png": "[encoded data removed]",
      "text/plain": [
       "<Figure size 432x288 with 1 Axes>"
      ]
     },
     "metadata": {},
     "output_type": "display_data"
    }
   ],
   "source": [
    "cac_['cac'].sort_values().plot(kind='barh')\n",
    "plt.show()"
   ]
  },
  {
   "cell_type": "markdown",
   "metadata": {},
   "source": [
    "**Kesimpulan:**\n",
    "\n",
    "* Dilihat berdasarkan source_id, pengguna yang membeli produk dari source_id 3 memiliki Customer Acquisition Cost (CAC) tertinggi."
   ]
  },
  {
   "cell_type": "markdown",
   "metadata": {},
   "source": [
    "**c. Seberapa menguntungkannya investasi tersebut?**"
   ]
  },
  {
   "cell_type": "code",
   "execution_count": 63,
   "metadata": {},
   "outputs": [
    {
     "data": {
      "image/png": "[encoded data removed]",
      "text/plain": [
       "<Figure size 432x288 with 1 Axes>"
      ]
     },
     "metadata": {},
     "output_type": "display_data"
    }
   ],
   "source": [
    "#ROI per marketing channel\n",
    "roi = pd.DataFrame(pd.DataFrame(data_orders[['uid','revenue']].groupby('uid')['revenue'].sum())\\\n",
    "    .join(pd.DataFrame(data_visits.sort_values(by=['uid','start_ts']).groupby('uid')['source_id'].first()))\\\n",
    "    .groupby('source_id')['revenue'].sum())\\\n",
    "    .join(data_costs.groupby('source_id')['costs'].sum())\\\n",
    "    .fillna(0)\n",
    "roi['roi'] = (roi['revenue'] - roi['costs'])/roi['revenue']\n",
    "roi['roi'].sort_values().plot(kind='barh')\n",
    "plt.show()"
   ]
  },
  {
   "cell_type": "markdown",
   "metadata": {},
   "source": [
    "**Kesimpulan:**\n",
    "\n",
    "* Dilihat berdasarkan source_id, para pengguna yang membeli produk lebih banyak berasal dari source_id 3. Hal ini menunjukkan bahwa investasi pada sumber tersebut lebih menguntungkan bagi para investor."
   ]
  },
  {
   "cell_type": "markdown",
   "metadata": {},
   "source": [
    "## Kesimpulan Umum\n",
    "\n",
    "### A. Pra-pemrosesan\n",
    "\n",
    "Dari eksplorasi pra-pemrosesan data, dapat disimpulkan bahwa:\n",
    "\n",
    "1. Terdapat 3 data, visit, order, dan cost.\n",
    "2. Kolom nama dalam tabel data_visits telah dirapihkan agar lebih terstruktur. Selain itu, optimisasi telah dilakukan pada penggunaan memori sehingga menghasilkan penggunaan memori yang lebih efisien. Seluruh tabel data_visits tidak memiliki nilai yang hilang maupun duplikat.\n",
    "3. Kolom nama dalam tabel data_orders telah dirapihkan untuk meningkatkan keteraturan. Selain itu, terdapat nilai anomali dalam data, namun dampaknya terhadap keseluruhan data tidak signifikan. Secara keseluruhan, tabel data_orders tidak memiliki nilai yang hilang maupun duplikat.\n",
    "4. Tabel data_costs sudah rapih dan tidak ada perubahan yang dilakukan pada data tersebut.\n",
    "\n",
    "### B. Analisis Data Esksploratif (EDA)\n",
    "\n",
    "Dari hasil analisis data esksploratif, dapat disimpulkan bahwa:\n",
    "\n",
    "1. Dalam analisis produk, rata-rata jumlah orang yang menggunakan produk setiap hari adalah 907, setiap minggu adalah 5716, dan setiap bulan adalah 23228.\n",
    "2. Dalam analisis produk, rata-rata pengguna hanya menggunakan 1 sesi per hari.\n",
    "3. Dalam analisis produk, durasi rata-rata setiap sesi per pengguna adalah 10 menit, dengan median pengguna sebesar 5 menit. Secara Average Session Length (ASL), rata-rata pengguna menggunakan produk selama 60 detik.\n",
    "4. Dalam analisis produk, persentase pengguna yang kembali menggunakan produk setiap minggu adalah 15%, sementara persentase pengguna yang kembali setiap bulan adalah 3%.\n",
    "5. Dalam analisis penjualan, pengguna mulai melakukan pembelian setelah 16 menit pertama kali mengunjungi produk.\n",
    "6. Dalam analisis penjualan, jumlah pesanan yang dibuat selama periode tertentu dipetakan dalam bentuk kohort. Dari gambar, terlihat bahwa jumlah pelanggan aktif mengalami penurunan yang drastis setelah bulan pertama. Namun, terdapat beberapa kohort yang mengalami peningkatan jumlah pelanggan aktif pada bulan-bulan berikutnya.\n",
    "7. Dalam analisis penjualan, rata-rata pembelian pada bulan pertama sebesar 4% dari total pengguna. Namun, pada bulan-bulan berikutnya terjadi peningkatan pendapatan. Sebagai contoh, pada kohort 09-2017, terjadi peningkatan pendapatan sebesar 37% pada bulan ke-3.\n",
    "8. Dalam analisis penjualan, rata-rata Lifetime Value (LTV) pengguna pada bulan pertama berkisar antara 4% hingga 5%, dan mengalami peningkatan pada bulan-bulan selanjutnya. Bahkan, pada kohort 09-2017, terjadi peningkatan LTV hingga 58% pada bulan ketiga.\n",
    "9. Dalam analisis pemasaran, total biaya yang dihabiskan adalah sebesar 329,131. Biaya tersebut bervariasi berdasarkan sumbernya, namun biaya pemasaran dari sumber 3 merupakan yang tertinggi.\n",
    "10. Dalam analisis pemasaran, banyak biaya akuisisi pelanggan berasal dari source_id 3 dengan CAC (Customer Acquisition Cost) sebesar 362.4.\n",
    "11. Dalam analisis pemasaran, pengguna yang menggunakan produk berasal banyak dari source_id 3. Oleh karena itu, berinvestasi lebih lanjut pada sumber tersebut dapat menjadi lebih menguntungkan."
   ]
  }
 ],
 "metadata": {
  "kernelspec": {
   "display_name": "Python 3 (ipykernel)",
   "language": "python",
   "name": "python3"
  },
  "language_info": {
   "codemirror_mode": {
    "name": "ipython",
    "version": 3
   },
   "file_extension": ".py",
   "mimetype": "text/x-python",
   "name": "python",
   "nbconvert_exporter": "python",
   "pygments_lexer": "ipython3",
   "version": "3.9.5"
  },
  "toc": {
   "base_numbering": 1,
   "nav_menu": {},
   "number_sections": false,
   "sideBar": true,
   "skip_h1_title": true,
   "title_cell": "Table of Contents",
   "title_sidebar": "Contents",
   "toc_cell": false,
   "toc_position": {
    "height": "calc(100% - 180px)",
    "left": "10px",
    "top": "150px",
    "width": "231px"
   },
   "toc_section_display": true,
   "toc_window_display": false
  }
 },
 "nbformat": 4,
 "nbformat_minor": 2
}
