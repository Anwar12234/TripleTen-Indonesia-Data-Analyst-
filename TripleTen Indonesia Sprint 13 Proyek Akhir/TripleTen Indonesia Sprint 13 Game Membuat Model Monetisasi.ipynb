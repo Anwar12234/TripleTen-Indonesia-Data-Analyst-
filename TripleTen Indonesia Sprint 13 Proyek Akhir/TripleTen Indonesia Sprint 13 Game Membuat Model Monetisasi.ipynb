{
 "cells": [
  {
   "cell_type": "markdown",
   "metadata": {},
   "source": [
    "# Game: Membuat Model Monetisasi\n",
    "\n",
    "## Tugas:\n",
    "\n",
    "Membentuk model monetisasi untuk aplikasi game dan memilih waktu yang optimal untuk menampilkan iklan. Melakukan analisis data penelitian, menguji hipotesis, dan menghitung metrik bisnis utama dari aplikasi tersebut.\n",
    "\n",
    "## Deskripsi Dataset:\n",
    "\n",
    "Dataset utama berisi data tentang peristiwa yang terjadi dalam permainan mobile \"Space Brothers\". Dalam permainan ini, pengguna membangun program luar angkasa mereka sendiri dan mencoba untuk berhasil dalam tugas sulit kolonisasi galaksi.\n",
    "\n",
    "Monetisasi utama permainan - yang masih dalam tahap perencanaan. Namun, diperkirakan bahwa dalam aplikasi ini akan ada tampilan iklan pada layar saat pemain memilih jenis objek yang akan dibangun.\n",
    "\n",
    "Dataset ini berisi data tentang permainan pengguna pada tingkat pertama. Menyelesaikan tingkat pertama memerlukan pemain untuk memenuhi salah satu dari dua kondisi berikut:\n",
    "\n",
    "* Mengalahkan musuh pertama.\n",
    "* Melaksanakan proyek - pengembangan perakitan satelit orbital.\n",
    "\n",
    "Dataset ini berisi data tentang pengguna awal dari aplikasi - kohor pengguna yang mulai menggunakan aplikasi dalam rentang tanggal 4 hingga 10 Mei.\n",
    "\n",
    "Selain dataset utama, ada dua dataset tambahan dengan informasi tentang aktivitas periklanan. Dataset ini juga akan membantu dalam penyelesaian tugas.\n",
    "\n",
    "## Tabel\n",
    "\n",
    "* 1. Pengenalan Data\n",
    "* 2. Pra-pemrosesan Data\n",
    "    * 2.1. Menangani data yang hilang.\n",
    "    * 2.2. Mengubah jenis data yang diperlukan.\n",
    "    * 2.3. Mencari duplikat dalam data.\n",
    "* 3. Eksploratif Data Analisis (EDA)\n",
    "    * 3.1. Analisis Pengguna:\n",
    "        * 3.1.1. Membangun diagram jumlah objek yang dibangun.\n",
    "        * 3.1.2. Membangun diagram jumlah peristiwa per hari.\n",
    "        * 3.1.3. Membangun diagram jumlah bangunan yang dibangun per hari dengan pemisahan berdasarkan jenis bangunan.\n",
    "    * 3.2. Analisis Aktivitas Periklanan:\n",
    "        * 3.2.1. Membangun diagram jumlah sumber pengguna yang mengunduh aplikasi.\n",
    "        * 3.2.2. Membangun diagram biaya berdasarkan sumber.\n",
    "        * 3.2.3. Membangun diagram biaya per hari.\n",
    "    * 3.3. Analisis Pengaruh Peristiwa Terhadap Pencapaian Tujuan:\n",
    "        * 3.3.1. Membangun grafik ketergantungan antara jumlah bangunan dan penyelesaian level.\n",
    "        * 3.3.2. Membangun grafik ketergantungan antara jumlah hari dalam permainan dan penyelesaian level.\n",
    "        * 3.3.3. Membangun grafik ketergantungan antara sumber pengguna dan penyelesaian level.\n",
    "* 4. Pengujian Hipotesis\n",
    "    * 4.1. Hipotesis tentang perbedaan waktu penyelesaian level antara pengguna yang menyelesaikan level dengan proyek dan yang menyelesaikannya dengan mengalahkan pemain lain.\n",
    "    * 4.2. Hipotesis tentang perbedaan rata-rata jumlah bangunan yang dibangun oleh pengguna yang menyelesaikan level melalui proyek dan dengan mengalahkan pemain lain.\n",
    "* 5. Analisis Indikator Bisnis\n",
    "    * 5.1. Analisis biaya akuisisi pelanggan (CAC).\n",
    "    * 5.2. Analisis pendapatan dari iklan (LTV).\n",
    "* 6. Kesimpulan Umum\n",
    "    * 6.1. Temuan utama, momen menarik, dan kesimpulan dari proyek ini."
   ]
  },
  {
   "cell_type": "markdown",
   "metadata": {},
   "source": [
    "## 1. Pengenalan Data"
   ]
  },
  {
   "cell_type": "code",
   "execution_count": 1,
   "metadata": {},
   "outputs": [],
   "source": [
    "# Mengimpor Library\n",
    "import pandas as pd\n",
    "import matplotlib.pyplot as plt\n",
    "import seaborn as sns"
   ]
  },
  {
   "cell_type": "code",
   "execution_count": 2,
   "metadata": {},
   "outputs": [],
   "source": [
    "# Membaca data dari file CSV\n",
    "try:\n",
    "    cost = pd.read_csv('/datasets/ad_costs_us.csv')\n",
    "    events = pd.read_csv('/datasets/events_us.csv')\n",
    "    source = pd.read_csv('/datasets/user_source_us.csv')\n",
    "except:\n",
    "    print('Ada sesuatu yang tidak beres.')"
   ]
  },
  {
   "cell_type": "code",
   "execution_count": 3,
   "metadata": {},
   "outputs": [],
   "source": [
    "# Mengatur tampilan untuk menampilkan semua kolom\n",
    "pd.set_option('display.max_columns', None)\n",
    "\n",
    "# Mengatur lebar kolom\n",
    "pd.set_option(\"max_colwidth\", 999)\n",
    "\n",
    "# Mengabaikan peringatan yang muncul\n",
    "import warnings\n",
    "warnings.simplefilter('ignore')"
   ]
  },
  {
   "cell_type": "code",
   "execution_count": 4,
   "metadata": {},
   "outputs": [
    {
     "data": {
      "text/html": [
       "<div>\n",
       "<style scoped>\n",
       "    .dataframe tbody tr th:only-of-type {\n",
       "        vertical-align: middle;\n",
       "    }\n",
       "\n",
       "    .dataframe tbody tr th {\n",
       "        vertical-align: top;\n",
       "    }\n",
       "\n",
       "    .dataframe thead th {\n",
       "        text-align: right;\n",
       "    }\n",
       "</style>\n",
       "<table border=\"1\" class=\"dataframe\">\n",
       "  <thead>\n",
       "    <tr style=\"text-align: right;\">\n",
       "      <th></th>\n",
       "      <th>source</th>\n",
       "      <th>day</th>\n",
       "      <th>cost</th>\n",
       "    </tr>\n",
       "  </thead>\n",
       "  <tbody>\n",
       "    <tr>\n",
       "      <th>0</th>\n",
       "      <td>facebook_ads</td>\n",
       "      <td>2020-05-03</td>\n",
       "      <td>935.882786</td>\n",
       "    </tr>\n",
       "    <tr>\n",
       "      <th>1</th>\n",
       "      <td>facebook_ads</td>\n",
       "      <td>2020-05-04</td>\n",
       "      <td>548.354480</td>\n",
       "    </tr>\n",
       "    <tr>\n",
       "      <th>2</th>\n",
       "      <td>facebook_ads</td>\n",
       "      <td>2020-05-05</td>\n",
       "      <td>260.185754</td>\n",
       "    </tr>\n",
       "    <tr>\n",
       "      <th>3</th>\n",
       "      <td>facebook_ads</td>\n",
       "      <td>2020-05-06</td>\n",
       "      <td>177.982200</td>\n",
       "    </tr>\n",
       "    <tr>\n",
       "      <th>4</th>\n",
       "      <td>facebook_ads</td>\n",
       "      <td>2020-05-07</td>\n",
       "      <td>111.766796</td>\n",
       "    </tr>\n",
       "  </tbody>\n",
       "</table>\n",
       "</div>"
      ],
      "text/plain": [
       "         source         day        cost\n",
       "0  facebook_ads  2020-05-03  935.882786\n",
       "1  facebook_ads  2020-05-04  548.354480\n",
       "2  facebook_ads  2020-05-05  260.185754\n",
       "3  facebook_ads  2020-05-06  177.982200\n",
       "4  facebook_ads  2020-05-07  111.766796"
      ]
     },
     "execution_count": 4,
     "metadata": {},
     "output_type": "execute_result"
    }
   ],
   "source": [
    "cost.head()"
   ]
  },
  {
   "cell_type": "code",
   "execution_count": 5,
   "metadata": {},
   "outputs": [
    {
     "data": {
      "text/html": [
       "<div>\n",
       "<style scoped>\n",
       "    .dataframe tbody tr th:only-of-type {\n",
       "        vertical-align: middle;\n",
       "    }\n",
       "\n",
       "    .dataframe tbody tr th {\n",
       "        vertical-align: top;\n",
       "    }\n",
       "\n",
       "    .dataframe thead th {\n",
       "        text-align: right;\n",
       "    }\n",
       "</style>\n",
       "<table border=\"1\" class=\"dataframe\">\n",
       "  <thead>\n",
       "    <tr style=\"text-align: right;\">\n",
       "      <th></th>\n",
       "      <th>event_datetime</th>\n",
       "      <th>event</th>\n",
       "      <th>building_type</th>\n",
       "      <th>user_id</th>\n",
       "      <th>project_type</th>\n",
       "    </tr>\n",
       "  </thead>\n",
       "  <tbody>\n",
       "    <tr>\n",
       "      <th>0</th>\n",
       "      <td>2020-05-04 00:00:01</td>\n",
       "      <td>building</td>\n",
       "      <td>assembly_shop</td>\n",
       "      <td>55e92310-cb8e-4754-b622-597e124b03de</td>\n",
       "      <td>NaN</td>\n",
       "    </tr>\n",
       "    <tr>\n",
       "      <th>1</th>\n",
       "      <td>2020-05-04 00:00:03</td>\n",
       "      <td>building</td>\n",
       "      <td>assembly_shop</td>\n",
       "      <td>c07b1c10-f477-44dc-81dc-ec82254b1347</td>\n",
       "      <td>NaN</td>\n",
       "    </tr>\n",
       "    <tr>\n",
       "      <th>2</th>\n",
       "      <td>2020-05-04 00:00:16</td>\n",
       "      <td>building</td>\n",
       "      <td>assembly_shop</td>\n",
       "      <td>6edd42cc-e753-4ff6-a947-2107cd560710</td>\n",
       "      <td>NaN</td>\n",
       "    </tr>\n",
       "    <tr>\n",
       "      <th>3</th>\n",
       "      <td>2020-05-04 00:00:16</td>\n",
       "      <td>building</td>\n",
       "      <td>assembly_shop</td>\n",
       "      <td>92c69003-d60a-444a-827f-8cc51bf6bf4c</td>\n",
       "      <td>NaN</td>\n",
       "    </tr>\n",
       "    <tr>\n",
       "      <th>4</th>\n",
       "      <td>2020-05-04 00:00:35</td>\n",
       "      <td>building</td>\n",
       "      <td>assembly_shop</td>\n",
       "      <td>cdc6bb92-0ccb-4490-9866-ef142f09139d</td>\n",
       "      <td>NaN</td>\n",
       "    </tr>\n",
       "  </tbody>\n",
       "</table>\n",
       "</div>"
      ],
      "text/plain": [
       "        event_datetime     event  building_type  \\\n",
       "0  2020-05-04 00:00:01  building  assembly_shop   \n",
       "1  2020-05-04 00:00:03  building  assembly_shop   \n",
       "2  2020-05-04 00:00:16  building  assembly_shop   \n",
       "3  2020-05-04 00:00:16  building  assembly_shop   \n",
       "4  2020-05-04 00:00:35  building  assembly_shop   \n",
       "\n",
       "                                user_id project_type  \n",
       "0  55e92310-cb8e-4754-b622-597e124b03de          NaN  \n",
       "1  c07b1c10-f477-44dc-81dc-ec82254b1347          NaN  \n",
       "2  6edd42cc-e753-4ff6-a947-2107cd560710          NaN  \n",
       "3  92c69003-d60a-444a-827f-8cc51bf6bf4c          NaN  \n",
       "4  cdc6bb92-0ccb-4490-9866-ef142f09139d          NaN  "
      ]
     },
     "execution_count": 5,
     "metadata": {},
     "output_type": "execute_result"
    }
   ],
   "source": [
    "events.head()"
   ]
  },
  {
   "cell_type": "code",
   "execution_count": 6,
   "metadata": {},
   "outputs": [
    {
     "data": {
      "text/html": [
       "<div>\n",
       "<style scoped>\n",
       "    .dataframe tbody tr th:only-of-type {\n",
       "        vertical-align: middle;\n",
       "    }\n",
       "\n",
       "    .dataframe tbody tr th {\n",
       "        vertical-align: top;\n",
       "    }\n",
       "\n",
       "    .dataframe thead th {\n",
       "        text-align: right;\n",
       "    }\n",
       "</style>\n",
       "<table border=\"1\" class=\"dataframe\">\n",
       "  <thead>\n",
       "    <tr style=\"text-align: right;\">\n",
       "      <th></th>\n",
       "      <th>user_id</th>\n",
       "      <th>event_date</th>\n",
       "      <th>source</th>\n",
       "    </tr>\n",
       "  </thead>\n",
       "  <tbody>\n",
       "    <tr>\n",
       "      <th>0</th>\n",
       "      <td>0001f83c-c6ac-4621-b7f0-8a28b283ac30</td>\n",
       "      <td>2020-05-06</td>\n",
       "      <td>facebook_ads</td>\n",
       "    </tr>\n",
       "    <tr>\n",
       "      <th>1</th>\n",
       "      <td>00151b4f-ba38-44a8-a650-d7cf130a0105</td>\n",
       "      <td>2020-05-06</td>\n",
       "      <td>google_play_ads</td>\n",
       "    </tr>\n",
       "    <tr>\n",
       "      <th>2</th>\n",
       "      <td>001aaea6-3d14-43f1-8ca8-7f48820f17aa</td>\n",
       "      <td>2020-05-05</td>\n",
       "      <td>youtube_channel_network</td>\n",
       "    </tr>\n",
       "    <tr>\n",
       "      <th>3</th>\n",
       "      <td>001d39dc-366c-4021-9604-6a3b9ff01e25</td>\n",
       "      <td>2020-05-05</td>\n",
       "      <td>instagram_new_adverts</td>\n",
       "    </tr>\n",
       "    <tr>\n",
       "      <th>4</th>\n",
       "      <td>002f508f-67b6-479f-814b-b05f00d4e995</td>\n",
       "      <td>2020-05-05</td>\n",
       "      <td>facebook_ads</td>\n",
       "    </tr>\n",
       "  </tbody>\n",
       "</table>\n",
       "</div>"
      ],
      "text/plain": [
       "                                user_id  event_date                   source\n",
       "0  0001f83c-c6ac-4621-b7f0-8a28b283ac30  2020-05-06             facebook_ads\n",
       "1  00151b4f-ba38-44a8-a650-d7cf130a0105  2020-05-06          google_play_ads\n",
       "2  001aaea6-3d14-43f1-8ca8-7f48820f17aa  2020-05-05  youtube_channel_network\n",
       "3  001d39dc-366c-4021-9604-6a3b9ff01e25  2020-05-05    instagram_new_adverts\n",
       "4  002f508f-67b6-479f-814b-b05f00d4e995  2020-05-05             facebook_ads"
      ]
     },
     "execution_count": 6,
     "metadata": {},
     "output_type": "execute_result"
    }
   ],
   "source": [
    "source.head()"
   ]
  },
  {
   "cell_type": "markdown",
   "metadata": {},
   "source": [
    "## 2. Pra-pemrosesan Data\n",
    "\n",
    "### 2.1. Menangani data yang hilang."
   ]
  },
  {
   "cell_type": "code",
   "execution_count": 7,
   "metadata": {},
   "outputs": [
    {
     "name": "stdout",
     "output_type": "stream",
     "text": [
      "<class 'pandas.core.frame.DataFrame'>\n",
      "RangeIndex: 135640 entries, 0 to 135639\n",
      "Data columns (total 5 columns):\n",
      " #   Column          Non-Null Count   Dtype \n",
      "---  ------          --------------   ----- \n",
      " 0   event_datetime  135640 non-null  object\n",
      " 1   event           135640 non-null  object\n",
      " 2   building_type   127957 non-null  object\n",
      " 3   user_id         135640 non-null  object\n",
      " 4   project_type    1866 non-null    object\n",
      "dtypes: object(5)\n",
      "memory usage: 5.2+ MB\n"
     ]
    }
   ],
   "source": [
    "# Melihat informasi umum tentang dataset \"events\"\n",
    "events.info()"
   ]
  },
  {
   "cell_type": "code",
   "execution_count": 8,
   "metadata": {},
   "outputs": [
    {
     "name": "stdout",
     "output_type": "stream",
     "text": [
      "<class 'pandas.core.frame.DataFrame'>\n",
      "RangeIndex: 135640 entries, 0 to 135639\n",
      "Data columns (total 5 columns):\n",
      " #   Column          Non-Null Count   Dtype         \n",
      "---  ------          --------------   -----         \n",
      " 0   event_datetime  135640 non-null  datetime64[ns]\n",
      " 1   event           135640 non-null  object        \n",
      " 2   building_type   127957 non-null  object        \n",
      " 3   user_id         135640 non-null  object        \n",
      " 4   project_type    1866 non-null    object        \n",
      "dtypes: datetime64[ns](1), object(4)\n",
      "memory usage: 5.2+ MB\n"
     ]
    }
   ],
   "source": [
    "# Koreksi kolom tanggal dalam dataset \"events\"\n",
    "events['event_datetime'] = pd.to_datetime(events['event_datetime'])\n",
    "events.info()"
   ]
  },
  {
   "cell_type": "code",
   "execution_count": 9,
   "metadata": {},
   "outputs": [
    {
     "data": {
      "text/html": [
       "<div>\n",
       "<style scoped>\n",
       "    .dataframe tbody tr th:only-of-type {\n",
       "        vertical-align: middle;\n",
       "    }\n",
       "\n",
       "    .dataframe tbody tr th {\n",
       "        vertical-align: top;\n",
       "    }\n",
       "\n",
       "    .dataframe thead th {\n",
       "        text-align: right;\n",
       "    }\n",
       "</style>\n",
       "<table border=\"1\" class=\"dataframe\">\n",
       "  <thead>\n",
       "    <tr style=\"text-align: right;\">\n",
       "      <th></th>\n",
       "      <th>event_datetime</th>\n",
       "      <th>event</th>\n",
       "      <th>building_type</th>\n",
       "      <th>user_id</th>\n",
       "      <th>project_type</th>\n",
       "    </tr>\n",
       "  </thead>\n",
       "  <tbody>\n",
       "    <tr>\n",
       "      <th>47121</th>\n",
       "      <td>2020-05-08 18:10:25</td>\n",
       "      <td>project</td>\n",
       "      <td>NaN</td>\n",
       "      <td>e3c66498-9d45-4000-9392-f81e6796e7da</td>\n",
       "      <td>satellite_orbital_assembly</td>\n",
       "    </tr>\n",
       "    <tr>\n",
       "      <th>57398</th>\n",
       "      <td>2020-05-09 13:49:11</td>\n",
       "      <td>project</td>\n",
       "      <td>NaN</td>\n",
       "      <td>936e7af6-8338-4703-a1df-fc6c3f5b8e34</td>\n",
       "      <td>satellite_orbital_assembly</td>\n",
       "    </tr>\n",
       "    <tr>\n",
       "      <th>58797</th>\n",
       "      <td>2020-05-09 16:19:33</td>\n",
       "      <td>project</td>\n",
       "      <td>NaN</td>\n",
       "      <td>a4491c86-c498-4f74-a56e-65c136d0e9a1</td>\n",
       "      <td>satellite_orbital_assembly</td>\n",
       "    </tr>\n",
       "    <tr>\n",
       "      <th>61174</th>\n",
       "      <td>2020-05-09 20:29:01</td>\n",
       "      <td>project</td>\n",
       "      <td>NaN</td>\n",
       "      <td>85d9e675-562b-4329-8bbd-14d3b39096be</td>\n",
       "      <td>satellite_orbital_assembly</td>\n",
       "    </tr>\n",
       "    <tr>\n",
       "      <th>63770</th>\n",
       "      <td>2020-05-10 00:57:47</td>\n",
       "      <td>project</td>\n",
       "      <td>NaN</td>\n",
       "      <td>1889ca71-3c57-4e61-9ea6-a711971bbf0a</td>\n",
       "      <td>satellite_orbital_assembly</td>\n",
       "    </tr>\n",
       "    <tr>\n",
       "      <th>...</th>\n",
       "      <td>...</td>\n",
       "      <td>...</td>\n",
       "      <td>...</td>\n",
       "      <td>...</td>\n",
       "      <td>...</td>\n",
       "    </tr>\n",
       "    <tr>\n",
       "      <th>135602</th>\n",
       "      <td>2020-06-02 03:04:42</td>\n",
       "      <td>project</td>\n",
       "      <td>NaN</td>\n",
       "      <td>9d98001c-7e14-40d7-896e-46b3047365fd</td>\n",
       "      <td>satellite_orbital_assembly</td>\n",
       "    </tr>\n",
       "    <tr>\n",
       "      <th>135603</th>\n",
       "      <td>2020-06-02 06:21:03</td>\n",
       "      <td>project</td>\n",
       "      <td>NaN</td>\n",
       "      <td>df4a1e13-eba9-4928-a7cf-ee303d6f80f9</td>\n",
       "      <td>satellite_orbital_assembly</td>\n",
       "    </tr>\n",
       "    <tr>\n",
       "      <th>135609</th>\n",
       "      <td>2020-06-02 17:17:28</td>\n",
       "      <td>project</td>\n",
       "      <td>NaN</td>\n",
       "      <td>82e46f34-e243-4728-8e20-2e171fc33ea4</td>\n",
       "      <td>satellite_orbital_assembly</td>\n",
       "    </tr>\n",
       "    <tr>\n",
       "      <th>135617</th>\n",
       "      <td>2020-06-03 09:46:04</td>\n",
       "      <td>project</td>\n",
       "      <td>NaN</td>\n",
       "      <td>fe032991-71e0-48c5-889f-4c3805ba4c9b</td>\n",
       "      <td>satellite_orbital_assembly</td>\n",
       "    </tr>\n",
       "    <tr>\n",
       "      <th>135630</th>\n",
       "      <td>2020-06-04 08:29:42</td>\n",
       "      <td>project</td>\n",
       "      <td>NaN</td>\n",
       "      <td>d477dde8-7c22-4f23-9c4f-4ec31a1aa4c8</td>\n",
       "      <td>satellite_orbital_assembly</td>\n",
       "    </tr>\n",
       "  </tbody>\n",
       "</table>\n",
       "<p>1866 rows × 5 columns</p>\n",
       "</div>"
      ],
      "text/plain": [
       "            event_datetime    event building_type  \\\n",
       "47121  2020-05-08 18:10:25  project           NaN   \n",
       "57398  2020-05-09 13:49:11  project           NaN   \n",
       "58797  2020-05-09 16:19:33  project           NaN   \n",
       "61174  2020-05-09 20:29:01  project           NaN   \n",
       "63770  2020-05-10 00:57:47  project           NaN   \n",
       "...                    ...      ...           ...   \n",
       "135602 2020-06-02 03:04:42  project           NaN   \n",
       "135603 2020-06-02 06:21:03  project           NaN   \n",
       "135609 2020-06-02 17:17:28  project           NaN   \n",
       "135617 2020-06-03 09:46:04  project           NaN   \n",
       "135630 2020-06-04 08:29:42  project           NaN   \n",
       "\n",
       "                                     user_id                project_type  \n",
       "47121   e3c66498-9d45-4000-9392-f81e6796e7da  satellite_orbital_assembly  \n",
       "57398   936e7af6-8338-4703-a1df-fc6c3f5b8e34  satellite_orbital_assembly  \n",
       "58797   a4491c86-c498-4f74-a56e-65c136d0e9a1  satellite_orbital_assembly  \n",
       "61174   85d9e675-562b-4329-8bbd-14d3b39096be  satellite_orbital_assembly  \n",
       "63770   1889ca71-3c57-4e61-9ea6-a711971bbf0a  satellite_orbital_assembly  \n",
       "...                                      ...                         ...  \n",
       "135602  9d98001c-7e14-40d7-896e-46b3047365fd  satellite_orbital_assembly  \n",
       "135603  df4a1e13-eba9-4928-a7cf-ee303d6f80f9  satellite_orbital_assembly  \n",
       "135609  82e46f34-e243-4728-8e20-2e171fc33ea4  satellite_orbital_assembly  \n",
       "135617  fe032991-71e0-48c5-889f-4c3805ba4c9b  satellite_orbital_assembly  \n",
       "135630  d477dde8-7c22-4f23-9c4f-4ec31a1aa4c8  satellite_orbital_assembly  \n",
       "\n",
       "[1866 rows x 5 columns]"
      ]
     },
     "execution_count": 9,
     "metadata": {},
     "output_type": "execute_result"
    }
   ],
   "source": [
    "events[events['event'] =='project']"
   ]
  },
  {
   "cell_type": "code",
   "execution_count": 10,
   "metadata": {},
   "outputs": [
    {
     "data": {
      "text/plain": [
       "1"
      ]
     },
     "execution_count": 10,
     "metadata": {},
     "output_type": "execute_result"
    }
   ],
   "source": [
    "events.duplicated().sum()"
   ]
  },
  {
   "cell_type": "code",
   "execution_count": 11,
   "metadata": {},
   "outputs": [],
   "source": [
    "# Menghapus duplikat dalam dataset \"events\" dan mereset indeks\n",
    "events = events.drop_duplicates().reset_index(drop=True)"
   ]
  },
  {
   "cell_type": "code",
   "execution_count": 12,
   "metadata": {},
   "outputs": [
    {
     "data": {
      "text/plain": [
       "0"
      ]
     },
     "execution_count": 12,
     "metadata": {},
     "output_type": "execute_result"
    }
   ],
   "source": [
    "events.duplicated().sum()"
   ]
  },
  {
   "cell_type": "markdown",
   "metadata": {},
   "source": [
    "Secara keseluruhan, data dalam dataset utama sudah bersih. Jenis data dalam kolom tanggal kejadian telah diperbarui, dan duplikat telah dihapus. Kehadiran nilai yang hilang dalam kolom pemilihan jenis bangunan sepenuhnya dapat dimengerti, karena jika pengguna melakukan suatu kejadian yang tidak terkait dengan pembangunan bangunan (misalnya menyelesaikan proyek), maka akan ada nilai yang hilang dalam baris tersebut. Hal yang sama berlaku untuk jenis proyek yang sudah direalisasikan; jika pengguna tidak menyelesaikan proyek, maka akan ada nilai yang hilang dalam kolom tersebut."
   ]
  },
  {
   "cell_type": "markdown",
   "metadata": {},
   "source": [
    "### 2.2. Mengubah jenis data yang diperlukan."
   ]
  },
  {
   "cell_type": "code",
   "execution_count": 13,
   "metadata": {},
   "outputs": [],
   "source": [
    "# Mengganti format numerik menjadi format tanggal (hari)\n",
    "events['event_datetime'] = events['event_datetime'].dt.date"
   ]
  },
  {
   "cell_type": "code",
   "execution_count": 14,
   "metadata": {},
   "outputs": [
    {
     "name": "stdout",
     "output_type": "stream",
     "text": [
      "<class 'pandas.core.frame.DataFrame'>\n",
      "RangeIndex: 28 entries, 0 to 27\n",
      "Data columns (total 3 columns):\n",
      " #   Column  Non-Null Count  Dtype  \n",
      "---  ------  --------------  -----  \n",
      " 0   source  28 non-null     object \n",
      " 1   day     28 non-null     object \n",
      " 2   cost    28 non-null     float64\n",
      "dtypes: float64(1), object(2)\n",
      "memory usage: 800.0+ bytes\n"
     ]
    }
   ],
   "source": [
    "# Melihat informasi umum tentang dataset \"cost\"\n",
    "cost.info()"
   ]
  },
  {
   "cell_type": "code",
   "execution_count": 15,
   "metadata": {},
   "outputs": [
    {
     "name": "stdout",
     "output_type": "stream",
     "text": [
      "<class 'pandas.core.frame.DataFrame'>\n",
      "RangeIndex: 28 entries, 0 to 27\n",
      "Data columns (total 3 columns):\n",
      " #   Column  Non-Null Count  Dtype         \n",
      "---  ------  --------------  -----         \n",
      " 0   source  28 non-null     object        \n",
      " 1   day     28 non-null     datetime64[ns]\n",
      " 2   cost    28 non-null     float64       \n",
      "dtypes: datetime64[ns](1), float64(1), object(1)\n",
      "memory usage: 800.0+ bytes\n"
     ]
    }
   ],
   "source": [
    "# Koreksi kolom tanggal dalam dataset \"cost\"\n",
    "cost['day'] = pd.to_datetime(cost['day'])\n",
    "cost.info()"
   ]
  },
  {
   "cell_type": "markdown",
   "metadata": {},
   "source": [
    "### 2.3. Mencari duplikat dalam data."
   ]
  },
  {
   "cell_type": "code",
   "execution_count": 16,
   "metadata": {},
   "outputs": [
    {
     "data": {
      "text/plain": [
       "0"
      ]
     },
     "execution_count": 16,
     "metadata": {},
     "output_type": "execute_result"
    }
   ],
   "source": [
    "cost.duplicated().sum()"
   ]
  },
  {
   "cell_type": "markdown",
   "metadata": {},
   "source": [
    "Semuanya dalam keadaan baik. Hanya mengubah jenis data pada kolom tanggal."
   ]
  },
  {
   "cell_type": "code",
   "execution_count": 17,
   "metadata": {},
   "outputs": [
    {
     "name": "stdout",
     "output_type": "stream",
     "text": [
      "<class 'pandas.core.frame.DataFrame'>\n",
      "RangeIndex: 13576 entries, 0 to 13575\n",
      "Data columns (total 3 columns):\n",
      " #   Column      Non-Null Count  Dtype \n",
      "---  ------      --------------  ----- \n",
      " 0   user_id     13576 non-null  object\n",
      " 1   event_date  13576 non-null  object\n",
      " 2   source      13576 non-null  object\n",
      "dtypes: object(3)\n",
      "memory usage: 318.3+ KB\n"
     ]
    }
   ],
   "source": [
    "# Melihat informasi umum tentang dataset \"source\"\n",
    "source.info()"
   ]
  },
  {
   "cell_type": "code",
   "execution_count": 18,
   "metadata": {},
   "outputs": [
    {
     "data": {
      "text/plain": [
       "0"
      ]
     },
     "execution_count": 18,
     "metadata": {},
     "output_type": "execute_result"
    }
   ],
   "source": [
    "source.duplicated().sum()"
   ]
  },
  {
   "cell_type": "markdown",
   "metadata": {},
   "source": [
    "Semuanya baik-baik saja di sini."
   ]
  },
  {
   "cell_type": "markdown",
   "metadata": {},
   "source": [
    "## 3. Eksploratif Data Analisis\n",
    "\n",
    "### 3.1. Analisis Pengguna"
   ]
  },
  {
   "cell_type": "code",
   "execution_count": 19,
   "metadata": {},
   "outputs": [
    {
     "name": "stdout",
     "output_type": "stream",
     "text": [
      "13576\n"
     ]
    }
   ],
   "source": [
    "# Menghitung jumlah pengguna unik\n",
    "print(len(events['user_id'].unique()))"
   ]
  },
  {
   "cell_type": "code",
   "execution_count": 20,
   "metadata": {},
   "outputs": [
    {
     "data": {
      "text/plain": [
       "5817"
      ]
     },
     "execution_count": 20,
     "metadata": {},
     "output_type": "execute_result"
    }
   ],
   "source": [
    "# Menghitung berapa banyak pengguna yang menyelesaikan tahap pertama\n",
    "events[events['event'] == 'finished_stage_1'].count()[0]"
   ]
  },
  {
   "cell_type": "code",
   "execution_count": 21,
   "metadata": {},
   "outputs": [
    {
     "data": {
      "text/plain": [
       "42.847672362993514"
      ]
     },
     "execution_count": 21,
     "metadata": {},
     "output_type": "execute_result"
    }
   ],
   "source": [
    "# Menghitung persentase pengguna yang menyelesaikan tahap pertama\n",
    "percentage = (events[events['event']=='finished_stage_1'].count()[0]/len(events['user_id'].unique())) * 100\n",
    "percentage"
   ]
  },
  {
   "cell_type": "markdown",
   "metadata": {},
   "source": [
    "Dari total 13.576 pengguna unik selama periode ini, sebanyak 5.817 pengguna telah menyelesaikan tahap pertama. Dengan demikian, sekitar 42% dari pengguna telah berhasil menyelesaikan tahap pertama permainan."
   ]
  },
  {
   "cell_type": "markdown",
   "metadata": {},
   "source": [
    "#### 3.1.1. Membangun diagram jumlah objek yang dibangun."
   ]
  },
  {
   "cell_type": "code",
   "execution_count": 22,
   "metadata": {},
   "outputs": [
    {
     "data": {
      "image/png": "[encoded data removed]",
      "text/plain": [
       "<Figure size 432x288 with 1 Axes>"
      ]
     },
     "metadata": {
      "needs_background": "light"
     },
     "output_type": "display_data"
    }
   ],
   "source": [
    "# Menghitung jumlah objek yang dibangun berdasarkan jenisnya\n",
    "count_obj = events.groupby('building_type')['building_type'].count().sort_values(ascending=False)\n",
    "\n",
    "# Membuat diagram batang\n",
    "count_obj.plot(kind='bar')\n",
    "plt.title('Jumlah Objek yang Dibangun  \\n ')\n",
    "plt.ylabel(\"Jumlah \\n\")\n",
    "plt.xlabel(\" \\nJenis Objek\")\n",
    "plt.xticks(rotation=45)\n",
    "plt.show()"
   ]
  },
  {
   "cell_type": "markdown",
   "metadata": {},
   "source": [
    "Pusat penelitian dibangun jauh lebih jarang daripada pelabuhan luar angkasa dan pabrik perakitan. Kemungkinan besar, untuk membangunnya, Anda perlu menghabiskan lebih banyak sumber daya."
   ]
  },
  {
   "cell_type": "markdown",
   "metadata": {},
   "source": [
    "#### 3.1.2. Membangun diagram jumlah peristiwa per hari."
   ]
  },
  {
   "cell_type": "code",
   "execution_count": 23,
   "metadata": {},
   "outputs": [
    {
     "data": {
      "image/png": "[encoded data removed]",
      "text/plain": [
       "<Figure size 432x288 with 1 Axes>"
      ]
     },
     "metadata": {
      "needs_background": "light"
     },
     "output_type": "display_data"
    }
   ],
   "source": [
    "# Menghitung jumlah acara berdasarkan tanggal\n",
    "day_events = events.groupby('event_datetime')['event'].count().to_frame().reset_index()\n",
    "\n",
    "# Membuat diagram\n",
    "day_events.plot()\n",
    "plt.title('Jumlah Acara per Hari  \\n ')\n",
    "plt.ylabel(\"Jumlah \\n\")\n",
    "plt.xlabel(\" \\nHari\")\n",
    "plt.xticks(rotation=45)\n",
    "plt.show()"
   ]
  },
  {
   "cell_type": "markdown",
   "metadata": {},
   "source": [
    "Dalam lima hari pertama, pengguna aktif membangun bangunan dengan intensitas tinggi. Kemungkinan setelah itu, pembangunan membutuhkan lebih banyak sumber daya, dan membangun bangunan dengan cepat tidak lagi memungkinkan."
   ]
  },
  {
   "cell_type": "markdown",
   "metadata": {},
   "source": [
    "#### 3.1.3. Membangun diagram jumlah bangunan yang dibangun per hari dengan pemisahan berdasarkan jenis bangunan."
   ]
  },
  {
   "cell_type": "code",
   "execution_count": 24,
   "metadata": {},
   "outputs": [
    {
     "data": {
      "image/png": "[encoded data removed]",
      "text/plain": [
       "<Figure size 432x288 with 1 Axes>"
      ]
     },
     "metadata": {
      "needs_background": "light"
     },
     "output_type": "display_data"
    }
   ],
   "source": [
    "# Membangun tabel pivot untuk menghitung jumlah bangunan yang dibangun setiap hari berdasarkan jenisnya\n",
    "p = events[['event_datetime', 'building_type', 'user_id']].pivot_table(\n",
    "    index='event_datetime', columns='building_type', aggfunc='count').plot()\n",
    "\n",
    "plt.title('Jumlah Bangunan yang Dibangun per Hari  \\n ')\n",
    "plt.ylabel(\"Jumlah \\n\")\n",
    "plt.xlabel(\" \\nHari\")\n",
    "plt.xticks(rotation=45)\n",
    "plt.show()"
   ]
  },
  {
   "cell_type": "markdown",
   "metadata": {},
   "source": [
    "Dalam tujuh hari pertama, pemain sangat aktif membangun pabrik perakitan, kemudian pelabuhan luar angkasa dan pusat penelitian mulai digunakan. Hal yang menarik, semua pengguna berhenti membangun pabrik perakitan setelah seminggu."
   ]
  },
  {
   "cell_type": "code",
   "execution_count": 25,
   "metadata": {},
   "outputs": [],
   "source": [
    "# Menghasilkan dataset yang berisi pengguna yang menyelesaikan tingkat melalui cara selain membangun\n",
    "finished_level = events[events['event']!='building']"
   ]
  },
  {
   "cell_type": "code",
   "execution_count": 26,
   "metadata": {},
   "outputs": [
    {
     "data": {
      "text/plain": [
       "1866"
      ]
     },
     "execution_count": 26,
     "metadata": {},
     "output_type": "execute_result"
    }
   ],
   "source": [
    "# Menghitung berapa banyak pengguna yang menyelesaikan tingkat melalui proyek\n",
    "finished_level[finished_level['event']=='project'].count()[0]"
   ]
  },
  {
   "cell_type": "code",
   "execution_count": 27,
   "metadata": {},
   "outputs": [
    {
     "data": {
      "text/plain": [
       "5817"
      ]
     },
     "execution_count": 27,
     "metadata": {},
     "output_type": "execute_result"
    }
   ],
   "source": [
    "# Menghitung jumlah pengguna yang menyelesaikan tingkat melalui cara selain membangun\n",
    "len(finished_level['user_id'].unique())"
   ]
  },
  {
   "cell_type": "markdown",
   "metadata": {},
   "source": [
    "Sebanyak 1.866 pemain menyelesaikan tingkat dengan menyelesaikan proyek, sementara 3.951 pemain menyelesaikannya dengan mengalahkan musuh. Ini mungkin mengindikasikan bahwa metode kedua lebih mudah. Mungkin pengguna secara tidak sengaja bertemu dengan pemain lain dan terpaksa harus bertarung, atau membangun proyek mungkin lebih memakan waktu dan memerlukan lebih banyak sumber daya."
   ]
  },
  {
   "cell_type": "markdown",
   "metadata": {},
   "source": [
    "### 3.2. Analisis Aktivitas Periklanan\n",
    "\n",
    "#### 3.2.1. Membangun diagram jumlah sumber pengguna yang mengunduh aplikasi."
   ]
  },
  {
   "cell_type": "code",
   "execution_count": 28,
   "metadata": {},
   "outputs": [
    {
     "data": {
      "image/png": "[encoded data removed]",
      "text/plain": [
       "<Figure size 432x288 with 1 Axes>"
      ]
     },
     "metadata": {
      "needs_background": "light"
     },
     "output_type": "display_data"
    }
   ],
   "source": [
    "# Membangun diagram batang yang menampilkan jumlah pengguna yang datang dari berbagai sumber\n",
    "s = source.groupby('source')['user_id'].count().sort_values(ascending=False)\n",
    "s.plot(kind='bar')\n",
    "plt.title('Jumlah Pengguna yang Datang dari Berbagai Sumber \\n ')\n",
    "plt.ylabel(\"Jumlah \\n\")\n",
    "plt.xlabel(\" \\nSumber\")\n",
    "plt.xticks(rotation=45)\n",
    "plt.show()"
   ]
  },
  {
   "cell_type": "markdown",
   "metadata": {},
   "source": [
    "Sebagian besar pengguna datang dari google_play_ads."
   ]
  },
  {
   "cell_type": "markdown",
   "metadata": {},
   "source": [
    "#### 3.2.2. Membangun diagram biaya berdasarkan sumber."
   ]
  },
  {
   "cell_type": "code",
   "execution_count": 29,
   "metadata": {},
   "outputs": [
    {
     "data": {
      "image/png": "[encoded data removed]",
      "text/plain": [
       "<Figure size 432x288 with 1 Axes>"
      ]
     },
     "metadata": {
      "needs_background": "light"
     },
     "output_type": "display_data"
    }
   ],
   "source": [
    "# Membangun diagram batang yang menampilkan total biaya untuk setiap sumber lalu lintas\n",
    "cbs = cost.groupby('source')['cost'].sum().sort_values(ascending=False)\n",
    "cbs.plot(kind='bar')\n",
    "plt.title('Total Biaya untuk Setiap Sumber Lalu Lintas \\n ')\n",
    "plt.ylabel(\"Biaya \\n\")\n",
    "plt.xlabel(\" \\nSumber\")\n",
    "plt.xticks(rotation=45)\n",
    "plt.show()"
   ]
  },
  {
   "cell_type": "code",
   "execution_count": 30,
   "metadata": {},
   "outputs": [],
   "source": [
    "s = s.to_frame().reset_index()\n",
    "cbs = cbs.to_frame().reset_index()"
   ]
  },
  {
   "cell_type": "code",
   "execution_count": 31,
   "metadata": {},
   "outputs": [
    {
     "data": {
      "image/png": "[encoded data removed]",
      "text/plain": [
       "<Figure size 432x288 with 1 Axes>"
      ]
     },
     "metadata": {
      "needs_background": "light"
     },
     "output_type": "display_data"
    }
   ],
   "source": [
    "# Menghitung biaya per pelanggan baru untuk setiap sumber lalu lintas\n",
    "cpu = s.merge(cbs, on='source')\n",
    "cpu['cost_per_user'] = cpu['cost'] / cpu['user_id']\n",
    "cpu = cpu.sort_values(by='cost_per_user')\n",
    "\n",
    "sns.barplot(x='source', y='cost_per_user', data=cpu)\n",
    "plt.title('Biaya Perolehan Pelanggan Baru \\n ')\n",
    "plt.ylabel(\"Biaya \\n\")\n",
    "plt.xlabel(\" \\nSumber\")\n",
    "plt.xticks(rotation=45)\n",
    "plt.show()"
   ]
  },
  {
   "cell_type": "markdown",
   "metadata": {},
   "source": [
    "Meskipun jumlah pelanggan yang datang dari YouTube lebih sedikit, biaya perolehan pelanggan baru melalui sumber ini sangat rendah karena iklannya murah. Dengan kata lain, satu tayangan iklan (dari mana kita mendapatkan $0,07) sepenuhnya mencukupi untuk menutup biaya perolehan pelanggan baru (kecuali Facebook)."
   ]
  },
  {
   "cell_type": "markdown",
   "metadata": {},
   "source": [
    "#### 3.2.3. Membangun diagram biaya per hari."
   ]
  },
  {
   "cell_type": "code",
   "execution_count": 32,
   "metadata": {},
   "outputs": [
    {
     "data": {
      "image/png": "[encoded data removed]",
      "text/plain": [
       "<Figure size 432x288 with 1 Axes>"
      ]
     },
     "metadata": {
      "needs_background": "light"
     },
     "output_type": "display_data"
    }
   ],
   "source": [
    "# Membangun grafik yang menampilkan total biaya periklanan setiap hari\n",
    "cpd = cost.groupby('day')['cost'].sum()\n",
    "cpd.plot()\n",
    "plt.title('Total Biaya Periklanan per Hari \\n ')\n",
    "plt.ylabel(\"Biaya \\n\")\n",
    "plt.xlabel(\" \\nHari\")\n",
    "plt.xticks(rotation=45)\n",
    "plt.show()"
   ]
  },
  {
   "cell_type": "markdown",
   "metadata": {},
   "source": [
    "Biaya per klik secara monoton menurun. Dengan kata lain, setiap hari semakin sedikit pengguna yang mengklik iklan, meskipun harga per klik tetap konstan."
   ]
  },
  {
   "cell_type": "markdown",
   "metadata": {},
   "source": [
    "### 3.3. Analisis Pengaruh Peristiwa Terhadap Pencapaian Tujuan"
   ]
  },
  {
   "cell_type": "code",
   "execution_count": 33,
   "metadata": {},
   "outputs": [],
   "source": [
    "# Membagi kolom 'event' menjadi kolom-kolom terpisah dalam DataFrame\n",
    "def process_column(s):\n",
    "    splits = s.split(' ')\n",
    "    d = {}\n",
    "    for key, *rest in [splits[i:i + 3] for i in range(0, len(splits), 3)]:\n",
    "        d.setdefault(key, []).append(' '.join(rest))\n",
    "\n",
    "    d2 = {}\n",
    "    for key, values in d.items():\n",
    "        if len(values) > 1:\n",
    "            for i, value in enumerate(values):\n",
    "                d2[f'{key}{i + 1}'] = value\n",
    "        else:\n",
    "            d2[key] = values[0]\n",
    "    return pd.Series(d2)\n",
    "\n",
    "# Menggunakan fungsi di atas untuk memproses kolom 'event' dalam DataFrame 'events'\n",
    "events = pd.merge(events, events.event.apply(process_column), left_index=True, right_index=True)"
   ]
  },
  {
   "cell_type": "code",
   "execution_count": 34,
   "metadata": {},
   "outputs": [
    {
     "data": {
      "text/html": [
       "<div>\n",
       "<style scoped>\n",
       "    .dataframe tbody tr th:only-of-type {\n",
       "        vertical-align: middle;\n",
       "    }\n",
       "\n",
       "    .dataframe tbody tr th {\n",
       "        vertical-align: top;\n",
       "    }\n",
       "\n",
       "    .dataframe thead th {\n",
       "        text-align: right;\n",
       "    }\n",
       "</style>\n",
       "<table border=\"1\" class=\"dataframe\">\n",
       "  <thead>\n",
       "    <tr style=\"text-align: right;\">\n",
       "      <th></th>\n",
       "      <th>event_datetime</th>\n",
       "      <th>event</th>\n",
       "      <th>building_type</th>\n",
       "      <th>user_id</th>\n",
       "      <th>project_type</th>\n",
       "      <th>building</th>\n",
       "      <th>finished_stage_1</th>\n",
       "      <th>project</th>\n",
       "    </tr>\n",
       "  </thead>\n",
       "  <tbody>\n",
       "    <tr>\n",
       "      <th>0</th>\n",
       "      <td>2020-05-04</td>\n",
       "      <td>building</td>\n",
       "      <td>assembly_shop</td>\n",
       "      <td>55e92310-cb8e-4754-b622-597e124b03de</td>\n",
       "      <td>NaN</td>\n",
       "      <td></td>\n",
       "      <td>NaN</td>\n",
       "      <td>NaN</td>\n",
       "    </tr>\n",
       "    <tr>\n",
       "      <th>1</th>\n",
       "      <td>2020-05-04</td>\n",
       "      <td>building</td>\n",
       "      <td>assembly_shop</td>\n",
       "      <td>c07b1c10-f477-44dc-81dc-ec82254b1347</td>\n",
       "      <td>NaN</td>\n",
       "      <td></td>\n",
       "      <td>NaN</td>\n",
       "      <td>NaN</td>\n",
       "    </tr>\n",
       "    <tr>\n",
       "      <th>2</th>\n",
       "      <td>2020-05-04</td>\n",
       "      <td>building</td>\n",
       "      <td>assembly_shop</td>\n",
       "      <td>6edd42cc-e753-4ff6-a947-2107cd560710</td>\n",
       "      <td>NaN</td>\n",
       "      <td></td>\n",
       "      <td>NaN</td>\n",
       "      <td>NaN</td>\n",
       "    </tr>\n",
       "    <tr>\n",
       "      <th>3</th>\n",
       "      <td>2020-05-04</td>\n",
       "      <td>building</td>\n",
       "      <td>assembly_shop</td>\n",
       "      <td>92c69003-d60a-444a-827f-8cc51bf6bf4c</td>\n",
       "      <td>NaN</td>\n",
       "      <td></td>\n",
       "      <td>NaN</td>\n",
       "      <td>NaN</td>\n",
       "    </tr>\n",
       "    <tr>\n",
       "      <th>4</th>\n",
       "      <td>2020-05-04</td>\n",
       "      <td>building</td>\n",
       "      <td>assembly_shop</td>\n",
       "      <td>cdc6bb92-0ccb-4490-9866-ef142f09139d</td>\n",
       "      <td>NaN</td>\n",
       "      <td></td>\n",
       "      <td>NaN</td>\n",
       "      <td>NaN</td>\n",
       "    </tr>\n",
       "    <tr>\n",
       "      <th>...</th>\n",
       "      <td>...</td>\n",
       "      <td>...</td>\n",
       "      <td>...</td>\n",
       "      <td>...</td>\n",
       "      <td>...</td>\n",
       "      <td>...</td>\n",
       "      <td>...</td>\n",
       "      <td>...</td>\n",
       "    </tr>\n",
       "    <tr>\n",
       "      <th>135634</th>\n",
       "      <td>2020-06-05</td>\n",
       "      <td>building</td>\n",
       "      <td>research_center</td>\n",
       "      <td>f21d179f-1c4b-437e-b9c6-ab1976907195</td>\n",
       "      <td>NaN</td>\n",
       "      <td></td>\n",
       "      <td>NaN</td>\n",
       "      <td>NaN</td>\n",
       "    </tr>\n",
       "    <tr>\n",
       "      <th>135635</th>\n",
       "      <td>2020-06-05</td>\n",
       "      <td>finished_stage_1</td>\n",
       "      <td>NaN</td>\n",
       "      <td>515c1952-99aa-4bca-a7ea-d0449eb5385a</td>\n",
       "      <td>NaN</td>\n",
       "      <td>NaN</td>\n",
       "      <td></td>\n",
       "      <td>NaN</td>\n",
       "    </tr>\n",
       "    <tr>\n",
       "      <th>135636</th>\n",
       "      <td>2020-06-05</td>\n",
       "      <td>building</td>\n",
       "      <td>research_center</td>\n",
       "      <td>ed3e7d02-8a96-4be7-9998-e9813ff9c316</td>\n",
       "      <td>NaN</td>\n",
       "      <td></td>\n",
       "      <td>NaN</td>\n",
       "      <td>NaN</td>\n",
       "    </tr>\n",
       "    <tr>\n",
       "      <th>135637</th>\n",
       "      <td>2020-06-05</td>\n",
       "      <td>finished_stage_1</td>\n",
       "      <td>NaN</td>\n",
       "      <td>32572adb-900f-4b5d-a453-1eb1e6d88d8b</td>\n",
       "      <td>NaN</td>\n",
       "      <td>NaN</td>\n",
       "      <td></td>\n",
       "      <td>NaN</td>\n",
       "    </tr>\n",
       "    <tr>\n",
       "      <th>135638</th>\n",
       "      <td>2020-06-05</td>\n",
       "      <td>finished_stage_1</td>\n",
       "      <td>NaN</td>\n",
       "      <td>f21d179f-1c4b-437e-b9c6-ab1976907195</td>\n",
       "      <td>NaN</td>\n",
       "      <td>NaN</td>\n",
       "      <td></td>\n",
       "      <td>NaN</td>\n",
       "    </tr>\n",
       "  </tbody>\n",
       "</table>\n",
       "<p>135639 rows × 8 columns</p>\n",
       "</div>"
      ],
      "text/plain": [
       "       event_datetime             event    building_type  \\\n",
       "0          2020-05-04          building    assembly_shop   \n",
       "1          2020-05-04          building    assembly_shop   \n",
       "2          2020-05-04          building    assembly_shop   \n",
       "3          2020-05-04          building    assembly_shop   \n",
       "4          2020-05-04          building    assembly_shop   \n",
       "...               ...               ...              ...   \n",
       "135634     2020-06-05          building  research_center   \n",
       "135635     2020-06-05  finished_stage_1              NaN   \n",
       "135636     2020-06-05          building  research_center   \n",
       "135637     2020-06-05  finished_stage_1              NaN   \n",
       "135638     2020-06-05  finished_stage_1              NaN   \n",
       "\n",
       "                                     user_id project_type building  \\\n",
       "0       55e92310-cb8e-4754-b622-597e124b03de          NaN            \n",
       "1       c07b1c10-f477-44dc-81dc-ec82254b1347          NaN            \n",
       "2       6edd42cc-e753-4ff6-a947-2107cd560710          NaN            \n",
       "3       92c69003-d60a-444a-827f-8cc51bf6bf4c          NaN            \n",
       "4       cdc6bb92-0ccb-4490-9866-ef142f09139d          NaN            \n",
       "...                                      ...          ...      ...   \n",
       "135634  f21d179f-1c4b-437e-b9c6-ab1976907195          NaN            \n",
       "135635  515c1952-99aa-4bca-a7ea-d0449eb5385a          NaN      NaN   \n",
       "135636  ed3e7d02-8a96-4be7-9998-e9813ff9c316          NaN            \n",
       "135637  32572adb-900f-4b5d-a453-1eb1e6d88d8b          NaN      NaN   \n",
       "135638  f21d179f-1c4b-437e-b9c6-ab1976907195          NaN      NaN   \n",
       "\n",
       "       finished_stage_1 project  \n",
       "0                   NaN     NaN  \n",
       "1                   NaN     NaN  \n",
       "2                   NaN     NaN  \n",
       "3                   NaN     NaN  \n",
       "4                   NaN     NaN  \n",
       "...                 ...     ...  \n",
       "135634              NaN     NaN  \n",
       "135635                      NaN  \n",
       "135636              NaN     NaN  \n",
       "135637                      NaN  \n",
       "135638                      NaN  \n",
       "\n",
       "[135639 rows x 8 columns]"
      ]
     },
     "execution_count": 34,
     "metadata": {},
     "output_type": "execute_result"
    }
   ],
   "source": [
    "events"
   ]
  },
  {
   "cell_type": "code",
   "execution_count": 35,
   "metadata": {},
   "outputs": [
    {
     "data": {
      "text/html": [
       "<div>\n",
       "<style scoped>\n",
       "    .dataframe tbody tr th:only-of-type {\n",
       "        vertical-align: middle;\n",
       "    }\n",
       "\n",
       "    .dataframe tbody tr th {\n",
       "        vertical-align: top;\n",
       "    }\n",
       "\n",
       "    .dataframe thead th {\n",
       "        text-align: right;\n",
       "    }\n",
       "</style>\n",
       "<table border=\"1\" class=\"dataframe\">\n",
       "  <thead>\n",
       "    <tr style=\"text-align: right;\">\n",
       "      <th></th>\n",
       "      <th>user_id</th>\n",
       "      <th>building_type</th>\n",
       "      <th>finished_stage_1</th>\n",
       "    </tr>\n",
       "  </thead>\n",
       "  <tbody>\n",
       "    <tr>\n",
       "      <th>0</th>\n",
       "      <td>0001f83c-c6ac-4621-b7f0-8a28b283ac30</td>\n",
       "      <td>13</td>\n",
       "      <td>0</td>\n",
       "    </tr>\n",
       "    <tr>\n",
       "      <th>1</th>\n",
       "      <td>00151b4f-ba38-44a8-a650-d7cf130a0105</td>\n",
       "      <td>9</td>\n",
       "      <td>0</td>\n",
       "    </tr>\n",
       "    <tr>\n",
       "      <th>2</th>\n",
       "      <td>001aaea6-3d14-43f1-8ca8-7f48820f17aa</td>\n",
       "      <td>4</td>\n",
       "      <td>0</td>\n",
       "    </tr>\n",
       "    <tr>\n",
       "      <th>3</th>\n",
       "      <td>001d39dc-366c-4021-9604-6a3b9ff01e25</td>\n",
       "      <td>8</td>\n",
       "      <td>1</td>\n",
       "    </tr>\n",
       "    <tr>\n",
       "      <th>4</th>\n",
       "      <td>002f508f-67b6-479f-814b-b05f00d4e995</td>\n",
       "      <td>12</td>\n",
       "      <td>0</td>\n",
       "    </tr>\n",
       "    <tr>\n",
       "      <th>...</th>\n",
       "      <td>...</td>\n",
       "      <td>...</td>\n",
       "      <td>...</td>\n",
       "    </tr>\n",
       "    <tr>\n",
       "      <th>13571</th>\n",
       "      <td>ffef4fed-164c-40e1-bde1-3980f76d0fb5</td>\n",
       "      <td>9</td>\n",
       "      <td>1</td>\n",
       "    </tr>\n",
       "    <tr>\n",
       "      <th>13572</th>\n",
       "      <td>fffab3da-da0e-4e30-ae62-10d0a2e24a4e</td>\n",
       "      <td>16</td>\n",
       "      <td>0</td>\n",
       "    </tr>\n",
       "    <tr>\n",
       "      <th>13573</th>\n",
       "      <td>fffb626c-5ab6-47c9-8113-2062a2f18494</td>\n",
       "      <td>9</td>\n",
       "      <td>1</td>\n",
       "    </tr>\n",
       "    <tr>\n",
       "      <th>13574</th>\n",
       "      <td>ffff194a-56b7-4c12-860d-3485242ae7f5</td>\n",
       "      <td>7</td>\n",
       "      <td>0</td>\n",
       "    </tr>\n",
       "    <tr>\n",
       "      <th>13575</th>\n",
       "      <td>ffff69cc-fec1-4fd3-9f98-93be1112a6b8</td>\n",
       "      <td>12</td>\n",
       "      <td>1</td>\n",
       "    </tr>\n",
       "  </tbody>\n",
       "</table>\n",
       "<p>13576 rows × 3 columns</p>\n",
       "</div>"
      ],
      "text/plain": [
       "                                    user_id  building_type  finished_stage_1\n",
       "0      0001f83c-c6ac-4621-b7f0-8a28b283ac30             13                 0\n",
       "1      00151b4f-ba38-44a8-a650-d7cf130a0105              9                 0\n",
       "2      001aaea6-3d14-43f1-8ca8-7f48820f17aa              4                 0\n",
       "3      001d39dc-366c-4021-9604-6a3b9ff01e25              8                 1\n",
       "4      002f508f-67b6-479f-814b-b05f00d4e995             12                 0\n",
       "...                                     ...            ...               ...\n",
       "13571  ffef4fed-164c-40e1-bde1-3980f76d0fb5              9                 1\n",
       "13572  fffab3da-da0e-4e30-ae62-10d0a2e24a4e             16                 0\n",
       "13573  fffb626c-5ab6-47c9-8113-2062a2f18494              9                 1\n",
       "13574  ffff194a-56b7-4c12-860d-3485242ae7f5              7                 0\n",
       "13575  ffff69cc-fec1-4fd3-9f98-93be1112a6b8             12                 1\n",
       "\n",
       "[13576 rows x 3 columns]"
      ]
     },
     "execution_count": 35,
     "metadata": {},
     "output_type": "execute_result"
    }
   ],
   "source": [
    "# Menghitung jumlah bangunan yang dibangun oleh setiap pengguna dan apakah mereka menyelesaikan level 1 atau tidak\n",
    "build_fin = events.groupby('user_id')[['building_type', 'finished_stage_1']].count().reset_index()\n",
    "build_fin"
   ]
  },
  {
   "cell_type": "markdown",
   "metadata": {},
   "source": [
    "#### 3.3.1. Membangun grafik ketergantungan antara jumlah bangunan dan penyelesaian level."
   ]
  },
  {
   "cell_type": "code",
   "execution_count": 36,
   "metadata": {},
   "outputs": [
    {
     "data": {
      "image/png": "[encoded data removed]",
      "text/plain": [
       "<Figure size 432x288 with 1 Axes>"
      ]
     },
     "metadata": {
      "needs_background": "light"
     },
     "output_type": "display_data"
    }
   ],
   "source": [
    "# Membangun diagram batang yang menunjukkan hubungan antara jumlah bangunan yang dibangun dan jumlah pengguna yang menyelesaikan level 1\n",
    "sns.barplot(x='building_type', y='finished_stage_1', data=build_fin)\n",
    "plt.title('Hubungan Antara Jumlah Bangunan yang Dibangun dan Pencapaian Level 1 \\n ')\n",
    "plt.ylabel(\"Persentase yang Menyelesaikan Level 1 \\n\")\n",
    "plt.xlabel(\" \\nJumlah Bangunan\")\n",
    "plt.xticks(rotation=45)\n",
    "plt.show()"
   ]
  },
  {
   "cell_type": "markdown",
   "metadata": {},
   "source": [
    "Seperti yang terlihat, sangat sedikit orang yang menyelesaikan level dengan jumlah bangunan yang sedikit (kurang dari 7). Setelahnya, persentase menyelesaikan level tumbuh pesat, namun kemudian kembali menurun. Banyak orang memiliki lebih dari 15 bangunan dan masih belum menyelesaikan level. Kemungkinan mereka tidak mengklik tombol menyelesaikan level atau membangun banyak bangunan dengan biaya rendah."
   ]
  },
  {
   "cell_type": "markdown",
   "metadata": {},
   "source": [
    "#### 3.3.2. Membangun grafik ketergantungan antara jumlah hari dalam permainan dan penyelesaian level."
   ]
  },
  {
   "cell_type": "code",
   "execution_count": 37,
   "metadata": {},
   "outputs": [
    {
     "data": {
      "image/png": "[encoded data removed]",
      "text/plain": [
       "<Figure size 432x288 with 1 Axes>"
      ]
     },
     "metadata": {
      "needs_background": "light"
     },
     "output_type": "display_data"
    }
   ],
   "source": [
    "# Membangun grafik yang menunjukkan hubungan antara jumlah hari dalam permainan dan jumlah pengguna yang menyelesaikan level 1\n",
    "day_fin = events.groupby('event_datetime')['finished_stage_1'].count().reset_index()\n",
    "\n",
    "day_fin.plot()\n",
    "plt.title('Hubungan Antara Jumlah Hari dalam Permainan dan Pencapaian Level 1 \\n ')\n",
    "plt.ylabel(\"Jumlah yang Menyelesaikan Level 1 \\n\")\n",
    "plt.xlabel(\" \\nHari\")\n",
    "plt.xticks(rotation=45)\n",
    "plt.show()"
   ]
  },
  {
   "cell_type": "markdown",
   "metadata": {},
   "source": [
    "Pada awalnya, jumlah orang yang menyelesaikan level meningkat dengan cepat hingga mencapai titik tertentu, dan kemudian menurun tajam. Sebagian besar pengguna menyelesaikan level dalam waktu 13 hari, atau mereka mungkin berhenti bermain dan keluar dari permainan."
   ]
  },
  {
   "cell_type": "markdown",
   "metadata": {},
   "source": [
    "#### 3.3.3. Membangun grafik ketergantungan antara sumber pengguna dan penyelesaian level."
   ]
  },
  {
   "cell_type": "code",
   "execution_count": 38,
   "metadata": {},
   "outputs": [],
   "source": [
    "# Menggabungkan DataFrame 'actions' dengan DataFrame 'source' berdasarkan kolom 'user_id'\n",
    "events = events.merge(source, on='user_id')"
   ]
  },
  {
   "cell_type": "code",
   "execution_count": 39,
   "metadata": {},
   "outputs": [
    {
     "data": {
      "image/png": "[encoded data removed]",
      "text/plain": [
       "<Figure size 432x288 with 1 Axes>"
      ]
     },
     "metadata": {
      "needs_background": "light"
     },
     "output_type": "display_data"
    }
   ],
   "source": [
    "# Menghitung jumlah pengguna yang menyelesaikan level 1 berdasarkan sumber pengguna (kolom 'source')\n",
    "l = (events.groupby('source')['finished_stage_1'].count().to_frame()\n",
    "             .reset_index().sort_values(by='finished_stage_1', ascending=False))\n",
    "\n",
    "# Membangun diagram batang yang menunjukkan hubungan antara sumber pengguna dan jumlah yang menyelesaikan level 1\n",
    "sns.barplot(x='source', y='finished_stage_1', data=l)\n",
    "plt.title('Hubungan Antara Sumber Pengguna dan Pencapaian Level 1 \\n ')\n",
    "plt.ylabel(\"Jumlah yang Menyelesaikan Level 1 \\n\")\n",
    "plt.xlabel(\" \\nSumber\")\n",
    "plt.xticks(rotation=45)\n",
    "plt.show()"
   ]
  },
  {
   "cell_type": "markdown",
   "metadata": {},
   "source": [
    "Pengguna yang datang dari google_play_ads lebih sering menyelesaikan level dibandingkan dengan pengguna yang datang dari Facebook. Kemungkinan besar, komunitas yang datang dari google_play_ads memiliki tingkat keterlibatan yang lebih tinggi daripada yang datang dari Facebook."
   ]
  },
  {
   "cell_type": "code",
   "execution_count": 40,
   "metadata": {},
   "outputs": [
    {
     "data": {
      "image/png": "[encoded data removed]",
      "text/plain": [
       "<Figure size 432x288 with 1 Axes>"
      ]
     },
     "metadata": {
      "needs_background": "light"
     },
     "output_type": "display_data"
    }
   ],
   "source": [
    "# Menghitung jumlah bangunan yang dibangun oleh pengguna berdasarkan sumber pengguna (kolom 'source')\n",
    "d = (events.groupby('source')['building_type'].count().to_frame()\n",
    "             .reset_index().sort_values(by='building_type', ascending=False))\n",
    "\n",
    "# Membangun diagram batang yang menunjukkan hubungan antara sumber pengguna dan jumlah bangunan yang dibangun\n",
    "sns.barplot(x='source', y='building_type', data=d)\n",
    "plt.title('Hubungan Antara Sumber Pengguna dan Jumlah Bangunan yang Dibangun \\n ')\n",
    "plt.ylabel(\"Jumlah Bangunan \\n\")\n",
    "plt.xlabel(\" \\nSumber\")\n",
    "plt.xticks(rotation=45)\n",
    "plt.show()"
   ]
  },
  {
   "cell_type": "markdown",
   "metadata": {},
   "source": [
    "Pengguna dari google_play_ads lebih sering menyelesaikan level dan, sebagai akibatnya, membangun lebih banyak bangunan. Hal ini perlu diperhatikan karena setiap kali pengguna membangun sebuah bangunan, mereka mungkin akan melihat iklan."
   ]
  },
  {
   "cell_type": "code",
   "execution_count": 41,
   "metadata": {},
   "outputs": [
    {
     "data": {
      "text/html": [
       "<div>\n",
       "<style scoped>\n",
       "    .dataframe tbody tr th:only-of-type {\n",
       "        vertical-align: middle;\n",
       "    }\n",
       "\n",
       "    .dataframe tbody tr th {\n",
       "        vertical-align: top;\n",
       "    }\n",
       "\n",
       "    .dataframe thead th {\n",
       "        text-align: right;\n",
       "    }\n",
       "</style>\n",
       "<table border=\"1\" class=\"dataframe\">\n",
       "  <thead>\n",
       "    <tr style=\"text-align: right;\">\n",
       "      <th></th>\n",
       "      <th>event_datetime</th>\n",
       "      <th>event</th>\n",
       "      <th>building_type</th>\n",
       "      <th>user_id</th>\n",
       "      <th>project_type</th>\n",
       "      <th>building</th>\n",
       "      <th>finished_stage_1</th>\n",
       "      <th>project</th>\n",
       "      <th>event_date</th>\n",
       "      <th>source</th>\n",
       "    </tr>\n",
       "  </thead>\n",
       "  <tbody>\n",
       "    <tr>\n",
       "      <th>7</th>\n",
       "      <td>2020-05-04</td>\n",
       "      <td>building</td>\n",
       "      <td>assembly_shop</td>\n",
       "      <td>c07b1c10-f477-44dc-81dc-ec82254b1347</td>\n",
       "      <td>NaN</td>\n",
       "      <td></td>\n",
       "      <td>NaN</td>\n",
       "      <td>NaN</td>\n",
       "      <td>2020-05-04</td>\n",
       "      <td>facebook_ads</td>\n",
       "    </tr>\n",
       "    <tr>\n",
       "      <th>8</th>\n",
       "      <td>2020-05-06</td>\n",
       "      <td>building</td>\n",
       "      <td>assembly_shop</td>\n",
       "      <td>c07b1c10-f477-44dc-81dc-ec82254b1347</td>\n",
       "      <td>NaN</td>\n",
       "      <td></td>\n",
       "      <td>NaN</td>\n",
       "      <td>NaN</td>\n",
       "      <td>2020-05-04</td>\n",
       "      <td>facebook_ads</td>\n",
       "    </tr>\n",
       "    <tr>\n",
       "      <th>9</th>\n",
       "      <td>2020-05-07</td>\n",
       "      <td>building</td>\n",
       "      <td>spaceport</td>\n",
       "      <td>c07b1c10-f477-44dc-81dc-ec82254b1347</td>\n",
       "      <td>NaN</td>\n",
       "      <td></td>\n",
       "      <td>NaN</td>\n",
       "      <td>NaN</td>\n",
       "      <td>2020-05-04</td>\n",
       "      <td>facebook_ads</td>\n",
       "    </tr>\n",
       "    <tr>\n",
       "      <th>10</th>\n",
       "      <td>2020-05-07</td>\n",
       "      <td>building</td>\n",
       "      <td>assembly_shop</td>\n",
       "      <td>c07b1c10-f477-44dc-81dc-ec82254b1347</td>\n",
       "      <td>NaN</td>\n",
       "      <td></td>\n",
       "      <td>NaN</td>\n",
       "      <td>NaN</td>\n",
       "      <td>2020-05-04</td>\n",
       "      <td>facebook_ads</td>\n",
       "    </tr>\n",
       "    <tr>\n",
       "      <th>11</th>\n",
       "      <td>2020-05-07</td>\n",
       "      <td>building</td>\n",
       "      <td>assembly_shop</td>\n",
       "      <td>c07b1c10-f477-44dc-81dc-ec82254b1347</td>\n",
       "      <td>NaN</td>\n",
       "      <td></td>\n",
       "      <td>NaN</td>\n",
       "      <td>NaN</td>\n",
       "      <td>2020-05-04</td>\n",
       "      <td>facebook_ads</td>\n",
       "    </tr>\n",
       "    <tr>\n",
       "      <th>...</th>\n",
       "      <td>...</td>\n",
       "      <td>...</td>\n",
       "      <td>...</td>\n",
       "      <td>...</td>\n",
       "      <td>...</td>\n",
       "      <td>...</td>\n",
       "      <td>...</td>\n",
       "      <td>...</td>\n",
       "      <td>...</td>\n",
       "      <td>...</td>\n",
       "    </tr>\n",
       "    <tr>\n",
       "      <th>135583</th>\n",
       "      <td>2020-05-28</td>\n",
       "      <td>building</td>\n",
       "      <td>spaceport</td>\n",
       "      <td>637a8d39-3872-4549-80cc-bebee6c88056</td>\n",
       "      <td>NaN</td>\n",
       "      <td></td>\n",
       "      <td>NaN</td>\n",
       "      <td>NaN</td>\n",
       "      <td>2020-05-10</td>\n",
       "      <td>google_play_ads</td>\n",
       "    </tr>\n",
       "    <tr>\n",
       "      <th>135584</th>\n",
       "      <td>2020-05-28</td>\n",
       "      <td>building</td>\n",
       "      <td>research_center</td>\n",
       "      <td>637a8d39-3872-4549-80cc-bebee6c88056</td>\n",
       "      <td>NaN</td>\n",
       "      <td></td>\n",
       "      <td>NaN</td>\n",
       "      <td>NaN</td>\n",
       "      <td>2020-05-10</td>\n",
       "      <td>google_play_ads</td>\n",
       "    </tr>\n",
       "    <tr>\n",
       "      <th>135585</th>\n",
       "      <td>2020-05-30</td>\n",
       "      <td>building</td>\n",
       "      <td>research_center</td>\n",
       "      <td>637a8d39-3872-4549-80cc-bebee6c88056</td>\n",
       "      <td>NaN</td>\n",
       "      <td></td>\n",
       "      <td>NaN</td>\n",
       "      <td>NaN</td>\n",
       "      <td>2020-05-10</td>\n",
       "      <td>google_play_ads</td>\n",
       "    </tr>\n",
       "    <tr>\n",
       "      <th>135586</th>\n",
       "      <td>2020-06-01</td>\n",
       "      <td>project</td>\n",
       "      <td>NaN</td>\n",
       "      <td>637a8d39-3872-4549-80cc-bebee6c88056</td>\n",
       "      <td>satellite_orbital_assembly</td>\n",
       "      <td>NaN</td>\n",
       "      <td>NaN</td>\n",
       "      <td></td>\n",
       "      <td>2020-05-10</td>\n",
       "      <td>google_play_ads</td>\n",
       "    </tr>\n",
       "    <tr>\n",
       "      <th>135587</th>\n",
       "      <td>2020-06-02</td>\n",
       "      <td>finished_stage_1</td>\n",
       "      <td>NaN</td>\n",
       "      <td>637a8d39-3872-4549-80cc-bebee6c88056</td>\n",
       "      <td>NaN</td>\n",
       "      <td>NaN</td>\n",
       "      <td></td>\n",
       "      <td>NaN</td>\n",
       "      <td>2020-05-10</td>\n",
       "      <td>google_play_ads</td>\n",
       "    </tr>\n",
       "  </tbody>\n",
       "</table>\n",
       "<p>27333 rows × 10 columns</p>\n",
       "</div>"
      ],
      "text/plain": [
       "       event_datetime             event    building_type  \\\n",
       "7          2020-05-04          building    assembly_shop   \n",
       "8          2020-05-06          building    assembly_shop   \n",
       "9          2020-05-07          building        spaceport   \n",
       "10         2020-05-07          building    assembly_shop   \n",
       "11         2020-05-07          building    assembly_shop   \n",
       "...               ...               ...              ...   \n",
       "135583     2020-05-28          building        spaceport   \n",
       "135584     2020-05-28          building  research_center   \n",
       "135585     2020-05-30          building  research_center   \n",
       "135586     2020-06-01           project              NaN   \n",
       "135587     2020-06-02  finished_stage_1              NaN   \n",
       "\n",
       "                                     user_id                project_type  \\\n",
       "7       c07b1c10-f477-44dc-81dc-ec82254b1347                         NaN   \n",
       "8       c07b1c10-f477-44dc-81dc-ec82254b1347                         NaN   \n",
       "9       c07b1c10-f477-44dc-81dc-ec82254b1347                         NaN   \n",
       "10      c07b1c10-f477-44dc-81dc-ec82254b1347                         NaN   \n",
       "11      c07b1c10-f477-44dc-81dc-ec82254b1347                         NaN   \n",
       "...                                      ...                         ...   \n",
       "135583  637a8d39-3872-4549-80cc-bebee6c88056                         NaN   \n",
       "135584  637a8d39-3872-4549-80cc-bebee6c88056                         NaN   \n",
       "135585  637a8d39-3872-4549-80cc-bebee6c88056                         NaN   \n",
       "135586  637a8d39-3872-4549-80cc-bebee6c88056  satellite_orbital_assembly   \n",
       "135587  637a8d39-3872-4549-80cc-bebee6c88056                         NaN   \n",
       "\n",
       "       building finished_stage_1 project  event_date           source  \n",
       "7                            NaN     NaN  2020-05-04     facebook_ads  \n",
       "8                            NaN     NaN  2020-05-04     facebook_ads  \n",
       "9                            NaN     NaN  2020-05-04     facebook_ads  \n",
       "10                           NaN     NaN  2020-05-04     facebook_ads  \n",
       "11                           NaN     NaN  2020-05-04     facebook_ads  \n",
       "...         ...              ...     ...         ...              ...  \n",
       "135583                       NaN     NaN  2020-05-10  google_play_ads  \n",
       "135584                       NaN     NaN  2020-05-10  google_play_ads  \n",
       "135585                       NaN     NaN  2020-05-10  google_play_ads  \n",
       "135586      NaN              NaN          2020-05-10  google_play_ads  \n",
       "135587      NaN                      NaN  2020-05-10  google_play_ads  \n",
       "\n",
       "[27333 rows x 10 columns]"
      ]
     },
     "execution_count": 41,
     "metadata": {},
     "output_type": "execute_result"
    }
   ],
   "source": [
    "# Mengidentifikasi pengguna yang menyelesaikan level melalui proyek\n",
    "p = events[events['event'] == 'project']\n",
    "\n",
    "# Mencari pengguna-pengguna tersebut dalam DataFrame 'events'\n",
    "pr = events['user_id'].isin(p['user_id'])\n",
    "projects = events[pr]\n",
    "projects"
   ]
  },
  {
   "cell_type": "code",
   "execution_count": 42,
   "metadata": {},
   "outputs": [
    {
     "name": "stdout",
     "output_type": "stream",
     "text": [
      "Rata-rata jumlah bangunan oleh pengguna yang menyelesaikan level melalui proyek: 12.64790996784566\n"
     ]
    }
   ],
   "source": [
    "print('Rata-rata jumlah bangunan oleh pengguna yang menyelesaikan level melalui proyek:', projects['building_type'].count() / len(projects['user_id'].unique()))"
   ]
  },
  {
   "cell_type": "code",
   "execution_count": 43,
   "metadata": {},
   "outputs": [
    {
     "data": {
      "text/html": [
       "<div>\n",
       "<style scoped>\n",
       "    .dataframe tbody tr th:only-of-type {\n",
       "        vertical-align: middle;\n",
       "    }\n",
       "\n",
       "    .dataframe tbody tr th {\n",
       "        vertical-align: top;\n",
       "    }\n",
       "\n",
       "    .dataframe thead th {\n",
       "        text-align: right;\n",
       "    }\n",
       "</style>\n",
       "<table border=\"1\" class=\"dataframe\">\n",
       "  <thead>\n",
       "    <tr style=\"text-align: right;\">\n",
       "      <th></th>\n",
       "      <th>event_datetime</th>\n",
       "      <th>event</th>\n",
       "      <th>building_type</th>\n",
       "      <th>user_id</th>\n",
       "      <th>project_type</th>\n",
       "      <th>building</th>\n",
       "      <th>finished_stage_1</th>\n",
       "      <th>project</th>\n",
       "      <th>event_date</th>\n",
       "      <th>source</th>\n",
       "    </tr>\n",
       "  </thead>\n",
       "  <tbody>\n",
       "    <tr>\n",
       "      <th>7</th>\n",
       "      <td>2020-05-04</td>\n",
       "      <td>building</td>\n",
       "      <td>assembly_shop</td>\n",
       "      <td>c07b1c10-f477-44dc-81dc-ec82254b1347</td>\n",
       "      <td>NaN</td>\n",
       "      <td></td>\n",
       "      <td>NaN</td>\n",
       "      <td>NaN</td>\n",
       "      <td>2020-05-04</td>\n",
       "      <td>facebook_ads</td>\n",
       "    </tr>\n",
       "    <tr>\n",
       "      <th>8</th>\n",
       "      <td>2020-05-06</td>\n",
       "      <td>building</td>\n",
       "      <td>assembly_shop</td>\n",
       "      <td>c07b1c10-f477-44dc-81dc-ec82254b1347</td>\n",
       "      <td>NaN</td>\n",
       "      <td></td>\n",
       "      <td>NaN</td>\n",
       "      <td>NaN</td>\n",
       "      <td>2020-05-04</td>\n",
       "      <td>facebook_ads</td>\n",
       "    </tr>\n",
       "    <tr>\n",
       "      <th>9</th>\n",
       "      <td>2020-05-07</td>\n",
       "      <td>building</td>\n",
       "      <td>spaceport</td>\n",
       "      <td>c07b1c10-f477-44dc-81dc-ec82254b1347</td>\n",
       "      <td>NaN</td>\n",
       "      <td></td>\n",
       "      <td>NaN</td>\n",
       "      <td>NaN</td>\n",
       "      <td>2020-05-04</td>\n",
       "      <td>facebook_ads</td>\n",
       "    </tr>\n",
       "    <tr>\n",
       "      <th>10</th>\n",
       "      <td>2020-05-07</td>\n",
       "      <td>building</td>\n",
       "      <td>assembly_shop</td>\n",
       "      <td>c07b1c10-f477-44dc-81dc-ec82254b1347</td>\n",
       "      <td>NaN</td>\n",
       "      <td></td>\n",
       "      <td>NaN</td>\n",
       "      <td>NaN</td>\n",
       "      <td>2020-05-04</td>\n",
       "      <td>facebook_ads</td>\n",
       "    </tr>\n",
       "    <tr>\n",
       "      <th>11</th>\n",
       "      <td>2020-05-07</td>\n",
       "      <td>building</td>\n",
       "      <td>assembly_shop</td>\n",
       "      <td>c07b1c10-f477-44dc-81dc-ec82254b1347</td>\n",
       "      <td>NaN</td>\n",
       "      <td></td>\n",
       "      <td>NaN</td>\n",
       "      <td>NaN</td>\n",
       "      <td>2020-05-04</td>\n",
       "      <td>facebook_ads</td>\n",
       "    </tr>\n",
       "    <tr>\n",
       "      <th>...</th>\n",
       "      <td>...</td>\n",
       "      <td>...</td>\n",
       "      <td>...</td>\n",
       "      <td>...</td>\n",
       "      <td>...</td>\n",
       "      <td>...</td>\n",
       "      <td>...</td>\n",
       "      <td>...</td>\n",
       "      <td>...</td>\n",
       "      <td>...</td>\n",
       "    </tr>\n",
       "    <tr>\n",
       "      <th>135616</th>\n",
       "      <td>2020-05-17</td>\n",
       "      <td>building</td>\n",
       "      <td>spaceport</td>\n",
       "      <td>20bc9d79-10c4-4f2d-862e-4a6dece3b4ec</td>\n",
       "      <td>NaN</td>\n",
       "      <td></td>\n",
       "      <td>NaN</td>\n",
       "      <td>NaN</td>\n",
       "      <td>2020-05-10</td>\n",
       "      <td>youtube_channel_network</td>\n",
       "    </tr>\n",
       "    <tr>\n",
       "      <th>135617</th>\n",
       "      <td>2020-05-23</td>\n",
       "      <td>building</td>\n",
       "      <td>spaceport</td>\n",
       "      <td>20bc9d79-10c4-4f2d-862e-4a6dece3b4ec</td>\n",
       "      <td>NaN</td>\n",
       "      <td></td>\n",
       "      <td>NaN</td>\n",
       "      <td>NaN</td>\n",
       "      <td>2020-05-10</td>\n",
       "      <td>youtube_channel_network</td>\n",
       "    </tr>\n",
       "    <tr>\n",
       "      <th>135618</th>\n",
       "      <td>2020-05-26</td>\n",
       "      <td>building</td>\n",
       "      <td>spaceport</td>\n",
       "      <td>20bc9d79-10c4-4f2d-862e-4a6dece3b4ec</td>\n",
       "      <td>NaN</td>\n",
       "      <td></td>\n",
       "      <td>NaN</td>\n",
       "      <td>NaN</td>\n",
       "      <td>2020-05-10</td>\n",
       "      <td>youtube_channel_network</td>\n",
       "    </tr>\n",
       "    <tr>\n",
       "      <th>135619</th>\n",
       "      <td>2020-05-30</td>\n",
       "      <td>building</td>\n",
       "      <td>spaceport</td>\n",
       "      <td>20bc9d79-10c4-4f2d-862e-4a6dece3b4ec</td>\n",
       "      <td>NaN</td>\n",
       "      <td></td>\n",
       "      <td>NaN</td>\n",
       "      <td>NaN</td>\n",
       "      <td>2020-05-10</td>\n",
       "      <td>youtube_channel_network</td>\n",
       "    </tr>\n",
       "    <tr>\n",
       "      <th>135620</th>\n",
       "      <td>2020-05-31</td>\n",
       "      <td>finished_stage_1</td>\n",
       "      <td>NaN</td>\n",
       "      <td>20bc9d79-10c4-4f2d-862e-4a6dece3b4ec</td>\n",
       "      <td>NaN</td>\n",
       "      <td>NaN</td>\n",
       "      <td></td>\n",
       "      <td>NaN</td>\n",
       "      <td>2020-05-10</td>\n",
       "      <td>youtube_channel_network</td>\n",
       "    </tr>\n",
       "  </tbody>\n",
       "</table>\n",
       "<p>68469 rows × 10 columns</p>\n",
       "</div>"
      ],
      "text/plain": [
       "       event_datetime             event  building_type  \\\n",
       "7          2020-05-04          building  assembly_shop   \n",
       "8          2020-05-06          building  assembly_shop   \n",
       "9          2020-05-07          building      spaceport   \n",
       "10         2020-05-07          building  assembly_shop   \n",
       "11         2020-05-07          building  assembly_shop   \n",
       "...               ...               ...            ...   \n",
       "135616     2020-05-17          building      spaceport   \n",
       "135617     2020-05-23          building      spaceport   \n",
       "135618     2020-05-26          building      spaceport   \n",
       "135619     2020-05-30          building      spaceport   \n",
       "135620     2020-05-31  finished_stage_1            NaN   \n",
       "\n",
       "                                     user_id project_type building  \\\n",
       "7       c07b1c10-f477-44dc-81dc-ec82254b1347          NaN            \n",
       "8       c07b1c10-f477-44dc-81dc-ec82254b1347          NaN            \n",
       "9       c07b1c10-f477-44dc-81dc-ec82254b1347          NaN            \n",
       "10      c07b1c10-f477-44dc-81dc-ec82254b1347          NaN            \n",
       "11      c07b1c10-f477-44dc-81dc-ec82254b1347          NaN            \n",
       "...                                      ...          ...      ...   \n",
       "135616  20bc9d79-10c4-4f2d-862e-4a6dece3b4ec          NaN            \n",
       "135617  20bc9d79-10c4-4f2d-862e-4a6dece3b4ec          NaN            \n",
       "135618  20bc9d79-10c4-4f2d-862e-4a6dece3b4ec          NaN            \n",
       "135619  20bc9d79-10c4-4f2d-862e-4a6dece3b4ec          NaN            \n",
       "135620  20bc9d79-10c4-4f2d-862e-4a6dece3b4ec          NaN      NaN   \n",
       "\n",
       "       finished_stage_1 project  event_date                   source  \n",
       "7                   NaN     NaN  2020-05-04             facebook_ads  \n",
       "8                   NaN     NaN  2020-05-04             facebook_ads  \n",
       "9                   NaN     NaN  2020-05-04             facebook_ads  \n",
       "10                  NaN     NaN  2020-05-04             facebook_ads  \n",
       "11                  NaN     NaN  2020-05-04             facebook_ads  \n",
       "...                 ...     ...         ...                      ...  \n",
       "135616              NaN     NaN  2020-05-10  youtube_channel_network  \n",
       "135617              NaN     NaN  2020-05-10  youtube_channel_network  \n",
       "135618              NaN     NaN  2020-05-10  youtube_channel_network  \n",
       "135619              NaN     NaN  2020-05-10  youtube_channel_network  \n",
       "135620                      NaN  2020-05-10  youtube_channel_network  \n",
       "\n",
       "[68469 rows x 10 columns]"
      ]
     },
     "execution_count": 43,
     "metadata": {},
     "output_type": "execute_result"
    }
   ],
   "source": [
    "# Mengidentifikasi pengguna yang menyelesaikan level dengan mengalahkan musuh (event = 'finished_stage_1')\n",
    "enemy = events[events['event'] == 'finished_stage_1']\n",
    "\n",
    "# Mencari pengguna-pengguna tersebut dalam DataFrame 'actions'\n",
    "enemy_users = events['user_id'].isin(enemy['user_id'])\n",
    "enemy = events[enemy_users]\n",
    "enemy"
   ]
  },
  {
   "cell_type": "code",
   "execution_count": 44,
   "metadata": {},
   "outputs": [
    {
     "name": "stdout",
     "output_type": "stream",
     "text": [
      "Rata-rata jumlah bangunan oleh pengguna yang menyelesaikan level dengan mengalahkan musuh: 10.449716348633316\n"
     ]
    }
   ],
   "source": [
    "print('Rata-rata jumlah bangunan oleh pengguna yang menyelesaikan level dengan mengalahkan musuh:', enemy['building_type'].count() / len(enemy['user_id'].unique()))"
   ]
  },
  {
   "cell_type": "markdown",
   "metadata": {},
   "source": [
    "Pengguna yang menyelesaikan level melalui proyek rata-rata membangun lebih banyak bangunan daripada pengguna yang menyelesaikan level dengan mengalahkan musuh. Ini akan memerlukan konfirmasi melalui analisis statistik, tetapi jika ditemukan bahwa perbedaan tersebut signifikan, maka mungkin bukan ide terbaik untuk menampilkan iklan pada layar pemilihan tipe bangunan, karena penghasilan yang dihasilkan dapat berbeda tergantung pada strategi pengguna. Selain itu, sebagian besar pengguna menyelesaikan level dengan cara mengalahkan musuh."
   ]
  },
  {
   "cell_type": "markdown",
   "metadata": {},
   "source": [
    "## 4. Pengujian Hipotesis\n",
    "\n",
    "### 4.1. Hipotesis tentang perbedaan waktu penyelesaian level antara pengguna yang menyelesaikan level dengan proyek dan yang menyelesaikannya dengan mengalahkan pemain lain.\n",
    "\n",
    "    H0 (Hipotesis Nol): Rata-rata waktu menyelesaikan level melalui proyek sama dengan rata-rata waktu menyelesaikan level melalui mengalahkan musuh.\n",
    "    H1 (Hipotesis Alternatif): Rata-rata waktu menyelesaikan level melalui proyek tidak sama dengan rata-rata waktu menyelesaikan level melalui mengalahkan musuh."
   ]
  },
  {
   "cell_type": "code",
   "execution_count": 45,
   "metadata": {},
   "outputs": [
    {
     "data": {
      "text/html": [
       "<div>\n",
       "<style scoped>\n",
       "    .dataframe tbody tr th:only-of-type {\n",
       "        vertical-align: middle;\n",
       "    }\n",
       "\n",
       "    .dataframe tbody tr th {\n",
       "        vertical-align: top;\n",
       "    }\n",
       "\n",
       "    .dataframe thead th {\n",
       "        text-align: right;\n",
       "    }\n",
       "</style>\n",
       "<table border=\"1\" class=\"dataframe\">\n",
       "  <thead>\n",
       "    <tr style=\"text-align: right;\">\n",
       "      <th></th>\n",
       "      <th>user_id</th>\n",
       "      <th>first</th>\n",
       "      <th>last</th>\n",
       "    </tr>\n",
       "  </thead>\n",
       "  <tbody>\n",
       "    <tr>\n",
       "      <th>0</th>\n",
       "      <td>006380d6-67a6-45de-ab1e-6eb54ad8dbe8</td>\n",
       "      <td>2020-05-04</td>\n",
       "      <td>2020-05-16</td>\n",
       "    </tr>\n",
       "    <tr>\n",
       "      <th>1</th>\n",
       "      <td>00be7371-fa79-4fbd-b8e7-8ba32e3f8f82</td>\n",
       "      <td>2020-05-08</td>\n",
       "      <td>2020-05-24</td>\n",
       "    </tr>\n",
       "    <tr>\n",
       "      <th>2</th>\n",
       "      <td>00c2b9f2-2615-439c-aed0-6974e4c6c1c1</td>\n",
       "      <td>2020-05-07</td>\n",
       "      <td>2020-05-27</td>\n",
       "    </tr>\n",
       "    <tr>\n",
       "      <th>3</th>\n",
       "      <td>00de2809-403e-4476-a2f7-ca1b11700190</td>\n",
       "      <td>2020-05-04</td>\n",
       "      <td>2020-05-18</td>\n",
       "    </tr>\n",
       "    <tr>\n",
       "      <th>4</th>\n",
       "      <td>00e83261-5fd4-4939-9616-802b5a0202c6</td>\n",
       "      <td>2020-05-05</td>\n",
       "      <td>2020-05-20</td>\n",
       "    </tr>\n",
       "    <tr>\n",
       "      <th>...</th>\n",
       "      <td>...</td>\n",
       "      <td>...</td>\n",
       "      <td>...</td>\n",
       "    </tr>\n",
       "    <tr>\n",
       "      <th>1861</th>\n",
       "      <td>ff50f63a-c4b3-494e-8bf9-3f19dbfc513e</td>\n",
       "      <td>2020-05-04</td>\n",
       "      <td>2020-05-23</td>\n",
       "    </tr>\n",
       "    <tr>\n",
       "      <th>1862</th>\n",
       "      <td>ff60fcd1-4329-494e-b82d-461fbdf5b5eb</td>\n",
       "      <td>2020-05-05</td>\n",
       "      <td>2020-05-13</td>\n",
       "    </tr>\n",
       "    <tr>\n",
       "      <th>1863</th>\n",
       "      <td>ff83bdd8-f49a-49fd-8aad-9fa1fb30d516</td>\n",
       "      <td>2020-05-04</td>\n",
       "      <td>2020-05-18</td>\n",
       "    </tr>\n",
       "    <tr>\n",
       "      <th>1864</th>\n",
       "      <td>ff841992-d93b-462e-bc6e-18c24a514f36</td>\n",
       "      <td>2020-05-05</td>\n",
       "      <td>2020-05-16</td>\n",
       "    </tr>\n",
       "    <tr>\n",
       "      <th>1865</th>\n",
       "      <td>ffff69cc-fec1-4fd3-9f98-93be1112a6b8</td>\n",
       "      <td>2020-05-08</td>\n",
       "      <td>2020-05-25</td>\n",
       "    </tr>\n",
       "  </tbody>\n",
       "</table>\n",
       "<p>1866 rows × 3 columns</p>\n",
       "</div>"
      ],
      "text/plain": [
       "                                   user_id       first        last\n",
       "0     006380d6-67a6-45de-ab1e-6eb54ad8dbe8  2020-05-04  2020-05-16\n",
       "1     00be7371-fa79-4fbd-b8e7-8ba32e3f8f82  2020-05-08  2020-05-24\n",
       "2     00c2b9f2-2615-439c-aed0-6974e4c6c1c1  2020-05-07  2020-05-27\n",
       "3     00de2809-403e-4476-a2f7-ca1b11700190  2020-05-04  2020-05-18\n",
       "4     00e83261-5fd4-4939-9616-802b5a0202c6  2020-05-05  2020-05-20\n",
       "...                                    ...         ...         ...\n",
       "1861  ff50f63a-c4b3-494e-8bf9-3f19dbfc513e  2020-05-04  2020-05-23\n",
       "1862  ff60fcd1-4329-494e-b82d-461fbdf5b5eb  2020-05-05  2020-05-13\n",
       "1863  ff83bdd8-f49a-49fd-8aad-9fa1fb30d516  2020-05-04  2020-05-18\n",
       "1864  ff841992-d93b-462e-bc6e-18c24a514f36  2020-05-05  2020-05-16\n",
       "1865  ffff69cc-fec1-4fd3-9f98-93be1112a6b8  2020-05-08  2020-05-25\n",
       "\n",
       "[1866 rows x 3 columns]"
      ]
     },
     "execution_count": 45,
     "metadata": {},
     "output_type": "execute_result"
    }
   ],
   "source": [
    "# Mengidentifikasi waktu pertama dan terakhir pengguna menyelesaikan level melalui proyek\n",
    "mean_time_projects = projects.groupby('user_id')['event_datetime'].agg(['first', 'last']).reset_index()\n",
    "mean_time_projects"
   ]
  },
  {
   "cell_type": "code",
   "execution_count": 46,
   "metadata": {},
   "outputs": [
    {
     "data": {
      "text/html": [
       "<div>\n",
       "<style scoped>\n",
       "    .dataframe tbody tr th:only-of-type {\n",
       "        vertical-align: middle;\n",
       "    }\n",
       "\n",
       "    .dataframe tbody tr th {\n",
       "        vertical-align: top;\n",
       "    }\n",
       "\n",
       "    .dataframe thead th {\n",
       "        text-align: right;\n",
       "    }\n",
       "</style>\n",
       "<table border=\"1\" class=\"dataframe\">\n",
       "  <thead>\n",
       "    <tr style=\"text-align: right;\">\n",
       "      <th></th>\n",
       "      <th>user_id</th>\n",
       "      <th>first</th>\n",
       "      <th>last</th>\n",
       "      <th>diffr</th>\n",
       "    </tr>\n",
       "  </thead>\n",
       "  <tbody>\n",
       "    <tr>\n",
       "      <th>0</th>\n",
       "      <td>006380d6-67a6-45de-ab1e-6eb54ad8dbe8</td>\n",
       "      <td>2020-05-04</td>\n",
       "      <td>2020-05-16</td>\n",
       "      <td>12 days</td>\n",
       "    </tr>\n",
       "    <tr>\n",
       "      <th>1</th>\n",
       "      <td>00be7371-fa79-4fbd-b8e7-8ba32e3f8f82</td>\n",
       "      <td>2020-05-08</td>\n",
       "      <td>2020-05-24</td>\n",
       "      <td>16 days</td>\n",
       "    </tr>\n",
       "    <tr>\n",
       "      <th>2</th>\n",
       "      <td>00c2b9f2-2615-439c-aed0-6974e4c6c1c1</td>\n",
       "      <td>2020-05-07</td>\n",
       "      <td>2020-05-27</td>\n",
       "      <td>20 days</td>\n",
       "    </tr>\n",
       "    <tr>\n",
       "      <th>3</th>\n",
       "      <td>00de2809-403e-4476-a2f7-ca1b11700190</td>\n",
       "      <td>2020-05-04</td>\n",
       "      <td>2020-05-18</td>\n",
       "      <td>14 days</td>\n",
       "    </tr>\n",
       "    <tr>\n",
       "      <th>4</th>\n",
       "      <td>00e83261-5fd4-4939-9616-802b5a0202c6</td>\n",
       "      <td>2020-05-05</td>\n",
       "      <td>2020-05-20</td>\n",
       "      <td>15 days</td>\n",
       "    </tr>\n",
       "    <tr>\n",
       "      <th>...</th>\n",
       "      <td>...</td>\n",
       "      <td>...</td>\n",
       "      <td>...</td>\n",
       "      <td>...</td>\n",
       "    </tr>\n",
       "    <tr>\n",
       "      <th>1861</th>\n",
       "      <td>ff50f63a-c4b3-494e-8bf9-3f19dbfc513e</td>\n",
       "      <td>2020-05-04</td>\n",
       "      <td>2020-05-23</td>\n",
       "      <td>19 days</td>\n",
       "    </tr>\n",
       "    <tr>\n",
       "      <th>1862</th>\n",
       "      <td>ff60fcd1-4329-494e-b82d-461fbdf5b5eb</td>\n",
       "      <td>2020-05-05</td>\n",
       "      <td>2020-05-13</td>\n",
       "      <td>8 days</td>\n",
       "    </tr>\n",
       "    <tr>\n",
       "      <th>1863</th>\n",
       "      <td>ff83bdd8-f49a-49fd-8aad-9fa1fb30d516</td>\n",
       "      <td>2020-05-04</td>\n",
       "      <td>2020-05-18</td>\n",
       "      <td>14 days</td>\n",
       "    </tr>\n",
       "    <tr>\n",
       "      <th>1864</th>\n",
       "      <td>ff841992-d93b-462e-bc6e-18c24a514f36</td>\n",
       "      <td>2020-05-05</td>\n",
       "      <td>2020-05-16</td>\n",
       "      <td>11 days</td>\n",
       "    </tr>\n",
       "    <tr>\n",
       "      <th>1865</th>\n",
       "      <td>ffff69cc-fec1-4fd3-9f98-93be1112a6b8</td>\n",
       "      <td>2020-05-08</td>\n",
       "      <td>2020-05-25</td>\n",
       "      <td>17 days</td>\n",
       "    </tr>\n",
       "  </tbody>\n",
       "</table>\n",
       "<p>1866 rows × 4 columns</p>\n",
       "</div>"
      ],
      "text/plain": [
       "                                   user_id       first        last   diffr\n",
       "0     006380d6-67a6-45de-ab1e-6eb54ad8dbe8  2020-05-04  2020-05-16 12 days\n",
       "1     00be7371-fa79-4fbd-b8e7-8ba32e3f8f82  2020-05-08  2020-05-24 16 days\n",
       "2     00c2b9f2-2615-439c-aed0-6974e4c6c1c1  2020-05-07  2020-05-27 20 days\n",
       "3     00de2809-403e-4476-a2f7-ca1b11700190  2020-05-04  2020-05-18 14 days\n",
       "4     00e83261-5fd4-4939-9616-802b5a0202c6  2020-05-05  2020-05-20 15 days\n",
       "...                                    ...         ...         ...     ...\n",
       "1861  ff50f63a-c4b3-494e-8bf9-3f19dbfc513e  2020-05-04  2020-05-23 19 days\n",
       "1862  ff60fcd1-4329-494e-b82d-461fbdf5b5eb  2020-05-05  2020-05-13  8 days\n",
       "1863  ff83bdd8-f49a-49fd-8aad-9fa1fb30d516  2020-05-04  2020-05-18 14 days\n",
       "1864  ff841992-d93b-462e-bc6e-18c24a514f36  2020-05-05  2020-05-16 11 days\n",
       "1865  ffff69cc-fec1-4fd3-9f98-93be1112a6b8  2020-05-08  2020-05-25 17 days\n",
       "\n",
       "[1866 rows x 4 columns]"
      ]
     },
     "execution_count": 46,
     "metadata": {},
     "output_type": "execute_result"
    }
   ],
   "source": [
    "# Menghitung perbedaan waktu antara waktu pertama dan terakhir pengguna menyelesaikan level melalui proyek\n",
    "mean_time_projects['diffr'] = mean_time_projects['last'] - mean_time_projects['first']\n",
    "mean_time_projects"
   ]
  },
  {
   "cell_type": "code",
   "execution_count": 47,
   "metadata": {},
   "outputs": [
    {
     "data": {
      "text/plain": [
       "Timedelta('13 days 09:31:03.665594855')"
      ]
     },
     "execution_count": 47,
     "metadata": {},
     "output_type": "execute_result"
    }
   ],
   "source": [
    "mean_time_projects['diffr'].mean()"
   ]
  },
  {
   "cell_type": "code",
   "execution_count": 48,
   "metadata": {},
   "outputs": [
    {
     "data": {
      "text/plain": [
       "Timedelta('11 days 19:24:13.739040742')"
      ]
     },
     "execution_count": 48,
     "metadata": {},
     "output_type": "execute_result"
    }
   ],
   "source": [
    "mean_time_enemy = enemy.groupby('user_id')['event_datetime'].agg(['first', 'last']).reset_index()\n",
    "mean_time_enemy['diffr'] = mean_time_enemy['last'] - mean_time_enemy['first']\n",
    "mean_time_enemy['diffr'].mean()"
   ]
  },
  {
   "cell_type": "code",
   "execution_count": 49,
   "metadata": {},
   "outputs": [],
   "source": [
    "mean_time_projects['total_days_td'] = mean_time_projects['diffr'] / pd.to_timedelta(1, unit='D')\n",
    "mean_time_enemy['total_days_td'] = mean_time_enemy['diffr'] / pd.to_timedelta(1, unit='D')"
   ]
  },
  {
   "cell_type": "code",
   "execution_count": 50,
   "metadata": {},
   "outputs": [
    {
     "data": {
      "text/html": [
       "<div>\n",
       "<style scoped>\n",
       "    .dataframe tbody tr th:only-of-type {\n",
       "        vertical-align: middle;\n",
       "    }\n",
       "\n",
       "    .dataframe tbody tr th {\n",
       "        vertical-align: top;\n",
       "    }\n",
       "\n",
       "    .dataframe thead th {\n",
       "        text-align: right;\n",
       "    }\n",
       "</style>\n",
       "<table border=\"1\" class=\"dataframe\">\n",
       "  <thead>\n",
       "    <tr style=\"text-align: right;\">\n",
       "      <th></th>\n",
       "      <th>user_id</th>\n",
       "      <th>first</th>\n",
       "      <th>last</th>\n",
       "      <th>diffr</th>\n",
       "      <th>total_days_td</th>\n",
       "    </tr>\n",
       "  </thead>\n",
       "  <tbody>\n",
       "    <tr>\n",
       "      <th>0</th>\n",
       "      <td>006380d6-67a6-45de-ab1e-6eb54ad8dbe8</td>\n",
       "      <td>2020-05-04</td>\n",
       "      <td>2020-05-16</td>\n",
       "      <td>12 days</td>\n",
       "      <td>12.0</td>\n",
       "    </tr>\n",
       "    <tr>\n",
       "      <th>1</th>\n",
       "      <td>00be7371-fa79-4fbd-b8e7-8ba32e3f8f82</td>\n",
       "      <td>2020-05-08</td>\n",
       "      <td>2020-05-24</td>\n",
       "      <td>16 days</td>\n",
       "      <td>16.0</td>\n",
       "    </tr>\n",
       "    <tr>\n",
       "      <th>2</th>\n",
       "      <td>00c2b9f2-2615-439c-aed0-6974e4c6c1c1</td>\n",
       "      <td>2020-05-07</td>\n",
       "      <td>2020-05-27</td>\n",
       "      <td>20 days</td>\n",
       "      <td>20.0</td>\n",
       "    </tr>\n",
       "    <tr>\n",
       "      <th>3</th>\n",
       "      <td>00de2809-403e-4476-a2f7-ca1b11700190</td>\n",
       "      <td>2020-05-04</td>\n",
       "      <td>2020-05-18</td>\n",
       "      <td>14 days</td>\n",
       "      <td>14.0</td>\n",
       "    </tr>\n",
       "    <tr>\n",
       "      <th>4</th>\n",
       "      <td>00e83261-5fd4-4939-9616-802b5a0202c6</td>\n",
       "      <td>2020-05-05</td>\n",
       "      <td>2020-05-20</td>\n",
       "      <td>15 days</td>\n",
       "      <td>15.0</td>\n",
       "    </tr>\n",
       "    <tr>\n",
       "      <th>...</th>\n",
       "      <td>...</td>\n",
       "      <td>...</td>\n",
       "      <td>...</td>\n",
       "      <td>...</td>\n",
       "      <td>...</td>\n",
       "    </tr>\n",
       "    <tr>\n",
       "      <th>1861</th>\n",
       "      <td>ff50f63a-c4b3-494e-8bf9-3f19dbfc513e</td>\n",
       "      <td>2020-05-04</td>\n",
       "      <td>2020-05-23</td>\n",
       "      <td>19 days</td>\n",
       "      <td>19.0</td>\n",
       "    </tr>\n",
       "    <tr>\n",
       "      <th>1862</th>\n",
       "      <td>ff60fcd1-4329-494e-b82d-461fbdf5b5eb</td>\n",
       "      <td>2020-05-05</td>\n",
       "      <td>2020-05-13</td>\n",
       "      <td>8 days</td>\n",
       "      <td>8.0</td>\n",
       "    </tr>\n",
       "    <tr>\n",
       "      <th>1863</th>\n",
       "      <td>ff83bdd8-f49a-49fd-8aad-9fa1fb30d516</td>\n",
       "      <td>2020-05-04</td>\n",
       "      <td>2020-05-18</td>\n",
       "      <td>14 days</td>\n",
       "      <td>14.0</td>\n",
       "    </tr>\n",
       "    <tr>\n",
       "      <th>1864</th>\n",
       "      <td>ff841992-d93b-462e-bc6e-18c24a514f36</td>\n",
       "      <td>2020-05-05</td>\n",
       "      <td>2020-05-16</td>\n",
       "      <td>11 days</td>\n",
       "      <td>11.0</td>\n",
       "    </tr>\n",
       "    <tr>\n",
       "      <th>1865</th>\n",
       "      <td>ffff69cc-fec1-4fd3-9f98-93be1112a6b8</td>\n",
       "      <td>2020-05-08</td>\n",
       "      <td>2020-05-25</td>\n",
       "      <td>17 days</td>\n",
       "      <td>17.0</td>\n",
       "    </tr>\n",
       "  </tbody>\n",
       "</table>\n",
       "<p>1866 rows × 5 columns</p>\n",
       "</div>"
      ],
      "text/plain": [
       "                                   user_id       first        last   diffr  \\\n",
       "0     006380d6-67a6-45de-ab1e-6eb54ad8dbe8  2020-05-04  2020-05-16 12 days   \n",
       "1     00be7371-fa79-4fbd-b8e7-8ba32e3f8f82  2020-05-08  2020-05-24 16 days   \n",
       "2     00c2b9f2-2615-439c-aed0-6974e4c6c1c1  2020-05-07  2020-05-27 20 days   \n",
       "3     00de2809-403e-4476-a2f7-ca1b11700190  2020-05-04  2020-05-18 14 days   \n",
       "4     00e83261-5fd4-4939-9616-802b5a0202c6  2020-05-05  2020-05-20 15 days   \n",
       "...                                    ...         ...         ...     ...   \n",
       "1861  ff50f63a-c4b3-494e-8bf9-3f19dbfc513e  2020-05-04  2020-05-23 19 days   \n",
       "1862  ff60fcd1-4329-494e-b82d-461fbdf5b5eb  2020-05-05  2020-05-13  8 days   \n",
       "1863  ff83bdd8-f49a-49fd-8aad-9fa1fb30d516  2020-05-04  2020-05-18 14 days   \n",
       "1864  ff841992-d93b-462e-bc6e-18c24a514f36  2020-05-05  2020-05-16 11 days   \n",
       "1865  ffff69cc-fec1-4fd3-9f98-93be1112a6b8  2020-05-08  2020-05-25 17 days   \n",
       "\n",
       "      total_days_td  \n",
       "0              12.0  \n",
       "1              16.0  \n",
       "2              20.0  \n",
       "3              14.0  \n",
       "4              15.0  \n",
       "...             ...  \n",
       "1861           19.0  \n",
       "1862            8.0  \n",
       "1863           14.0  \n",
       "1864           11.0  \n",
       "1865           17.0  \n",
       "\n",
       "[1866 rows x 5 columns]"
      ]
     },
     "execution_count": 50,
     "metadata": {},
     "output_type": "execute_result"
    }
   ],
   "source": [
    "mean_time_projects"
   ]
  },
  {
   "cell_type": "markdown",
   "metadata": {},
   "source": [
    "    H0 (Hipotesis Nol): Rata-rata waktu menyelesaikan level melalui proyek sama dengan rata-rata waktu menyelesaikan level melalui mengalahkan musuh.\n",
    "    H1 (Hipotesis Alternatif): Rata-rata waktu menyelesaikan level melalui proyek tidak sama dengan rata-rata waktu menyelesaikan level melalui mengalahkan musuh."
   ]
  },
  {
   "cell_type": "code",
   "execution_count": 51,
   "metadata": {},
   "outputs": [
    {
     "name": "stdout",
     "output_type": "stream",
     "text": [
      "Rata-rata waktu penyelesaian tingkat melalui proyek:  13.396570203644158\n",
      "Rata-rata waktu penyelesaian tingkat melalui membunuh musuh:  11.808492350008596\n",
      "Nilai p: 6.795995547277736e-51\n",
      "Perbedaan Statistik Signifikan!\n"
     ]
    }
   ],
   "source": [
    "# Uji Hipotesis Kita\n",
    "from scipy import stats as st\n",
    "project_hyp = mean_time_projects['total_days_td']\n",
    "enemy_hyp = mean_time_enemy['total_days_td']\n",
    "\n",
    "print('Rata-rata waktu penyelesaian tingkat melalui proyek: ', pd.Series(project_hyp).mean())\n",
    "print('Rata-rata waktu penyelesaian tingkat melalui membunuh musuh: ', pd.Series(enemy_hyp).mean())\n",
    "\n",
    "alpha = 0.05 # Ambil tingkat signifikansi statistik 5%\n",
    "\n",
    "results = st.ttest_ind(\n",
    "    project_hyp, \n",
    "    enemy_hyp)\n",
    "print('Nilai p:', results.pvalue)\n",
    "\n",
    "if results.pvalue < alpha:\n",
    "    print(\"Perbedaan Statistik Signifikan!\")\n",
    "else:\n",
    "    print(\"TIDAK ADA PERBEDAAN statistik dalam waktu penyelesaian!\")"
   ]
  },
  {
   "cell_type": "markdown",
   "metadata": {},
   "source": [
    "### 4.2. Hipotesis tentang perbedaan rata-rata jumlah bangunan yang dibangun oleh pengguna yang menyelesaikan level melalui proyek dan dengan mengalahkan pemain lain.\n",
    "\n",
    "Dengan nilai p-value yang sangat rendah, kita dapat dengan keyakinan mengatakan bahwa ada perbedaan yang signifikan dalam waktu yang dibutuhkan untuk menyelesaikan level antara pengguna yang memilih strategi proyek dan mereka yang memilih strategi mengalahkan musuh.\n",
    "\n",
    "    H0: Rata-rata jumlah bangunan yang dibangun oleh pengguna melalui proyek sama dengan rata-rata jumlah bangunan yang dibangun oleh pengguna melalui pembunuhan musuh.\n",
    "    H1: Rata-rata jumlah bangunan yang dibangun oleh pengguna melalui proyek tidak sama dengan rata-rata jumlah bangunan yang dibangun oleh pengguna melalui pembunuhan musuh."
   ]
  },
  {
   "cell_type": "code",
   "execution_count": 52,
   "metadata": {},
   "outputs": [
    {
     "data": {
      "text/html": [
       "<div>\n",
       "<style scoped>\n",
       "    .dataframe tbody tr th:only-of-type {\n",
       "        vertical-align: middle;\n",
       "    }\n",
       "\n",
       "    .dataframe tbody tr th {\n",
       "        vertical-align: top;\n",
       "    }\n",
       "\n",
       "    .dataframe thead th {\n",
       "        text-align: right;\n",
       "    }\n",
       "</style>\n",
       "<table border=\"1\" class=\"dataframe\">\n",
       "  <thead>\n",
       "    <tr style=\"text-align: right;\">\n",
       "      <th></th>\n",
       "      <th>user_id</th>\n",
       "      <th>building_type</th>\n",
       "    </tr>\n",
       "  </thead>\n",
       "  <tbody>\n",
       "    <tr>\n",
       "      <th>0</th>\n",
       "      <td>006380d6-67a6-45de-ab1e-6eb54ad8dbe8</td>\n",
       "      <td>11</td>\n",
       "    </tr>\n",
       "    <tr>\n",
       "      <th>1</th>\n",
       "      <td>00be7371-fa79-4fbd-b8e7-8ba32e3f8f82</td>\n",
       "      <td>12</td>\n",
       "    </tr>\n",
       "    <tr>\n",
       "      <th>2</th>\n",
       "      <td>00c2b9f2-2615-439c-aed0-6974e4c6c1c1</td>\n",
       "      <td>11</td>\n",
       "    </tr>\n",
       "    <tr>\n",
       "      <th>3</th>\n",
       "      <td>00de2809-403e-4476-a2f7-ca1b11700190</td>\n",
       "      <td>13</td>\n",
       "    </tr>\n",
       "    <tr>\n",
       "      <th>4</th>\n",
       "      <td>00e83261-5fd4-4939-9616-802b5a0202c6</td>\n",
       "      <td>13</td>\n",
       "    </tr>\n",
       "    <tr>\n",
       "      <th>...</th>\n",
       "      <td>...</td>\n",
       "      <td>...</td>\n",
       "    </tr>\n",
       "    <tr>\n",
       "      <th>1861</th>\n",
       "      <td>ff50f63a-c4b3-494e-8bf9-3f19dbfc513e</td>\n",
       "      <td>18</td>\n",
       "    </tr>\n",
       "    <tr>\n",
       "      <th>1862</th>\n",
       "      <td>ff60fcd1-4329-494e-b82d-461fbdf5b5eb</td>\n",
       "      <td>11</td>\n",
       "    </tr>\n",
       "    <tr>\n",
       "      <th>1863</th>\n",
       "      <td>ff83bdd8-f49a-49fd-8aad-9fa1fb30d516</td>\n",
       "      <td>13</td>\n",
       "    </tr>\n",
       "    <tr>\n",
       "      <th>1864</th>\n",
       "      <td>ff841992-d93b-462e-bc6e-18c24a514f36</td>\n",
       "      <td>20</td>\n",
       "    </tr>\n",
       "    <tr>\n",
       "      <th>1865</th>\n",
       "      <td>ffff69cc-fec1-4fd3-9f98-93be1112a6b8</td>\n",
       "      <td>12</td>\n",
       "    </tr>\n",
       "  </tbody>\n",
       "</table>\n",
       "<p>1866 rows × 2 columns</p>\n",
       "</div>"
      ],
      "text/plain": [
       "                                   user_id  building_type\n",
       "0     006380d6-67a6-45de-ab1e-6eb54ad8dbe8             11\n",
       "1     00be7371-fa79-4fbd-b8e7-8ba32e3f8f82             12\n",
       "2     00c2b9f2-2615-439c-aed0-6974e4c6c1c1             11\n",
       "3     00de2809-403e-4476-a2f7-ca1b11700190             13\n",
       "4     00e83261-5fd4-4939-9616-802b5a0202c6             13\n",
       "...                                    ...            ...\n",
       "1861  ff50f63a-c4b3-494e-8bf9-3f19dbfc513e             18\n",
       "1862  ff60fcd1-4329-494e-b82d-461fbdf5b5eb             11\n",
       "1863  ff83bdd8-f49a-49fd-8aad-9fa1fb30d516             13\n",
       "1864  ff841992-d93b-462e-bc6e-18c24a514f36             20\n",
       "1865  ffff69cc-fec1-4fd3-9f98-93be1112a6b8             12\n",
       "\n",
       "[1866 rows x 2 columns]"
      ]
     },
     "execution_count": 52,
     "metadata": {},
     "output_type": "execute_result"
    }
   ],
   "source": [
    "mean_build_projects = projects.groupby('user_id')['building_type'].count().reset_index()\n",
    "mean_build_projects"
   ]
  },
  {
   "cell_type": "code",
   "execution_count": 53,
   "metadata": {},
   "outputs": [
    {
     "data": {
      "text/html": [
       "<div>\n",
       "<style scoped>\n",
       "    .dataframe tbody tr th:only-of-type {\n",
       "        vertical-align: middle;\n",
       "    }\n",
       "\n",
       "    .dataframe tbody tr th {\n",
       "        vertical-align: top;\n",
       "    }\n",
       "\n",
       "    .dataframe thead th {\n",
       "        text-align: right;\n",
       "    }\n",
       "</style>\n",
       "<table border=\"1\" class=\"dataframe\">\n",
       "  <thead>\n",
       "    <tr style=\"text-align: right;\">\n",
       "      <th></th>\n",
       "      <th>user_id</th>\n",
       "      <th>building_type</th>\n",
       "    </tr>\n",
       "  </thead>\n",
       "  <tbody>\n",
       "    <tr>\n",
       "      <th>0</th>\n",
       "      <td>001d39dc-366c-4021-9604-6a3b9ff01e25</td>\n",
       "      <td>8</td>\n",
       "    </tr>\n",
       "    <tr>\n",
       "      <th>1</th>\n",
       "      <td>003ee7e8-6356-4286-a715-62f22a18d2a1</td>\n",
       "      <td>8</td>\n",
       "    </tr>\n",
       "    <tr>\n",
       "      <th>2</th>\n",
       "      <td>004074f8-251a-4776-922c-8348dca1a2f6</td>\n",
       "      <td>12</td>\n",
       "    </tr>\n",
       "    <tr>\n",
       "      <th>3</th>\n",
       "      <td>00464e5e-28ed-4be6-bf44-517ef7b3937b</td>\n",
       "      <td>8</td>\n",
       "    </tr>\n",
       "    <tr>\n",
       "      <th>4</th>\n",
       "      <td>0056c007-c082-43cc-bdef-afc49bca4cb9</td>\n",
       "      <td>3</td>\n",
       "    </tr>\n",
       "    <tr>\n",
       "      <th>...</th>\n",
       "      <td>...</td>\n",
       "      <td>...</td>\n",
       "    </tr>\n",
       "    <tr>\n",
       "      <th>5812</th>\n",
       "      <td>ffd002f3-3545-423e-8dba-0c6a2d48a3aa</td>\n",
       "      <td>7</td>\n",
       "    </tr>\n",
       "    <tr>\n",
       "      <th>5813</th>\n",
       "      <td>ffe810f4-1a1f-464b-924d-6f120b0cb8df</td>\n",
       "      <td>16</td>\n",
       "    </tr>\n",
       "    <tr>\n",
       "      <th>5814</th>\n",
       "      <td>ffef4fed-164c-40e1-bde1-3980f76d0fb5</td>\n",
       "      <td>9</td>\n",
       "    </tr>\n",
       "    <tr>\n",
       "      <th>5815</th>\n",
       "      <td>fffb626c-5ab6-47c9-8113-2062a2f18494</td>\n",
       "      <td>9</td>\n",
       "    </tr>\n",
       "    <tr>\n",
       "      <th>5816</th>\n",
       "      <td>ffff69cc-fec1-4fd3-9f98-93be1112a6b8</td>\n",
       "      <td>12</td>\n",
       "    </tr>\n",
       "  </tbody>\n",
       "</table>\n",
       "<p>5817 rows × 2 columns</p>\n",
       "</div>"
      ],
      "text/plain": [
       "                                   user_id  building_type\n",
       "0     001d39dc-366c-4021-9604-6a3b9ff01e25              8\n",
       "1     003ee7e8-6356-4286-a715-62f22a18d2a1              8\n",
       "2     004074f8-251a-4776-922c-8348dca1a2f6             12\n",
       "3     00464e5e-28ed-4be6-bf44-517ef7b3937b              8\n",
       "4     0056c007-c082-43cc-bdef-afc49bca4cb9              3\n",
       "...                                    ...            ...\n",
       "5812  ffd002f3-3545-423e-8dba-0c6a2d48a3aa              7\n",
       "5813  ffe810f4-1a1f-464b-924d-6f120b0cb8df             16\n",
       "5814  ffef4fed-164c-40e1-bde1-3980f76d0fb5              9\n",
       "5815  fffb626c-5ab6-47c9-8113-2062a2f18494              9\n",
       "5816  ffff69cc-fec1-4fd3-9f98-93be1112a6b8             12\n",
       "\n",
       "[5817 rows x 2 columns]"
      ]
     },
     "execution_count": 53,
     "metadata": {},
     "output_type": "execute_result"
    }
   ],
   "source": [
    "mean_build_enemy = enemy.groupby('user_id')['building_type'].count().reset_index()\n",
    "mean_build_enemy"
   ]
  },
  {
   "cell_type": "markdown",
   "metadata": {},
   "source": [
    "    H0: Rata-rata jumlah bangunan yang dibangun oleh pengguna melalui proyek sama dengan rata-rata jumlah bangunan yang dibangun oleh pengguna melalui pembunuhan musuh.\n",
    "    H1: Rata-rata jumlah bangunan yang dibangun oleh pengguna melalui proyek tidak sama dengan rata-rata jumlah bangunan yang dibangun oleh pengguna melalui pembunuhan musuh."
   ]
  },
  {
   "cell_type": "code",
   "execution_count": 54,
   "metadata": {},
   "outputs": [
    {
     "name": "stdout",
     "output_type": "stream",
     "text": [
      "Rata-rata jumlah bangunan yang dibangun oleh pengguna melalui proyek: 12.64790996784566\n",
      "Rata-rata jumlah bangunan yang dibangun oleh pengguna melalui mengalahkan musuh: 10.449716348633316\n",
      "p-nilai: 1.6750102222325502e-162\n",
      "Perbedaan Statistik Signifikan!\n"
     ]
    }
   ],
   "source": [
    "project_hyp_2 = mean_build_projects['building_type']\n",
    "enemy_hyp_2 = mean_build_enemy['building_type']\n",
    "\n",
    "# Menghitung rata-rata jumlah bangunan yang dibangun oleh pengguna melalui proyek\n",
    "mean_buildings_project = pd.Series(project_hyp_2).mean()\n",
    "\n",
    "# Menghitung rata-rata jumlah bangunan yang dibangun oleh pengguna melalui mengalahkan musuh\n",
    "mean_buildings_enemy = pd.Series(enemy_hyp_2).mean()\n",
    "\n",
    "print('Rata-rata jumlah bangunan yang dibangun oleh pengguna melalui proyek:', mean_buildings_project)\n",
    "print('Rata-rata jumlah bangunan yang dibangun oleh pengguna melalui mengalahkan musuh:', mean_buildings_enemy)\n",
    "\n",
    "alpha = 0.05  # Mengambil tingkat signifikansi kritis 5%\n",
    "\n",
    "# Melakukan uji t independen untuk membandingkan kedua kelompok\n",
    "results = st.ttest_ind(project_hyp_2, enemy_hyp_2)\n",
    "print('p-nilai:', results.pvalue)\n",
    "\n",
    "if results.pvalue < alpha:\n",
    "    print(\"Perbedaan Statistik Signifikan!\")\n",
    "else:\n",
    "    print(\"TIDAK ADA PERBEDAAN signifikan antara jumlah bangunan yang dibangun oleh pengguna melalui proyek dan melalui mengalahkan musuh!\")"
   ]
  },
  {
   "cell_type": "markdown",
   "metadata": {},
   "source": [
    "Hipothesis ini telah terkonfirmasi. Memang benar, tergantung pada pilihan strategi pengguna, pemain membangun rata-rata jumlah bangunan yang berbeda. Ini berarti menampilkan iklan saat pengguna memilih jenis bangunan untuk dibangun bukanlah ide yang baik.\n",
    "\n",
    "1. Bisa menampilkan iklan selama jeda permainan.\n",
    "2. Juga bisa menampilkan iklan dalam bentuk banner - iklan berbentuk persegi panjang yang muncul di bagian atas atau bawah layar. Mereka ditampilkan langsung saat bermain game tanpa mengganggu permainan.\n",
    "3. Selain itu, bisa mempertimbangkan iklan dengan imbalan - iklan yang pengguna interaksikan untuk mendapatkan bonus dalam aplikasi, yang biasanya hanya dapat diperoleh dengan membayar. Iklan dengan imbalan bisa berupa video atau permainan interaktif."
   ]
  },
  {
   "cell_type": "markdown",
   "metadata": {},
   "source": [
    "## 5. Analisis Indikator Bisnis\n",
    "\n",
    "### 5.1. Analisis biaya akuisisi pelanggan (CAC)."
   ]
  },
  {
   "cell_type": "code",
   "execution_count": 55,
   "metadata": {},
   "outputs": [
    {
     "data": {
      "image/png": "[encoded data removed]",
      "text/plain": [
       "<Figure size 720x360 with 1 Axes>"
      ]
     },
     "metadata": {
      "needs_background": "light"
     },
     "output_type": "display_data"
    }
   ],
   "source": [
    "cost.pivot_table(\n",
    "    index='day', columns='source', values='cost', aggfunc='sum'\n",
    ").plot(grid=True, figsize=(10, 5))\n",
    "plt.ylabel('Biaya')\n",
    "plt.xlabel('Tanggal')\n",
    "plt.title('Dinamika CAC berdasarkan Saluran Akuisisi')\n",
    "plt.show()"
   ]
  },
  {
   "cell_type": "markdown",
   "metadata": {},
   "source": [
    "Di seluruh saluran, biaya mengalami penurunan setiap harinya. Karena biaya ini merupakan biaya per klik, ini mengindikasikan bahwa setiap harinya ada jumlah pengguna yang mengklik iklan yang semakin sedikit, asalkan harga per klik tidak mengalami perubahan."
   ]
  },
  {
   "cell_type": "code",
   "execution_count": 56,
   "metadata": {},
   "outputs": [
    {
     "data": {
      "text/html": [
       "<div>\n",
       "<style scoped>\n",
       "    .dataframe tbody tr th:only-of-type {\n",
       "        vertical-align: middle;\n",
       "    }\n",
       "\n",
       "    .dataframe tbody tr th {\n",
       "        vertical-align: top;\n",
       "    }\n",
       "\n",
       "    .dataframe thead th {\n",
       "        text-align: right;\n",
       "    }\n",
       "</style>\n",
       "<table border=\"1\" class=\"dataframe\">\n",
       "  <thead>\n",
       "    <tr style=\"text-align: right;\">\n",
       "      <th></th>\n",
       "      <th>event_datetime</th>\n",
       "      <th>event</th>\n",
       "      <th>building_type</th>\n",
       "      <th>user_id</th>\n",
       "      <th>project_type</th>\n",
       "      <th>building</th>\n",
       "      <th>finished_stage_1</th>\n",
       "      <th>project</th>\n",
       "      <th>event_date</th>\n",
       "      <th>source</th>\n",
       "    </tr>\n",
       "  </thead>\n",
       "  <tbody>\n",
       "    <tr>\n",
       "      <th>0</th>\n",
       "      <td>2020-05-04</td>\n",
       "      <td>building</td>\n",
       "      <td>assembly_shop</td>\n",
       "      <td>55e92310-cb8e-4754-b622-597e124b03de</td>\n",
       "      <td>NaN</td>\n",
       "      <td></td>\n",
       "      <td>NaN</td>\n",
       "      <td>NaN</td>\n",
       "      <td>2020-05-04</td>\n",
       "      <td>youtube_channel_network</td>\n",
       "    </tr>\n",
       "    <tr>\n",
       "      <th>1</th>\n",
       "      <td>2020-05-05</td>\n",
       "      <td>building</td>\n",
       "      <td>assembly_shop</td>\n",
       "      <td>55e92310-cb8e-4754-b622-597e124b03de</td>\n",
       "      <td>NaN</td>\n",
       "      <td></td>\n",
       "      <td>NaN</td>\n",
       "      <td>NaN</td>\n",
       "      <td>2020-05-04</td>\n",
       "      <td>youtube_channel_network</td>\n",
       "    </tr>\n",
       "    <tr>\n",
       "      <th>2</th>\n",
       "      <td>2020-05-05</td>\n",
       "      <td>building</td>\n",
       "      <td>assembly_shop</td>\n",
       "      <td>55e92310-cb8e-4754-b622-597e124b03de</td>\n",
       "      <td>NaN</td>\n",
       "      <td></td>\n",
       "      <td>NaN</td>\n",
       "      <td>NaN</td>\n",
       "      <td>2020-05-04</td>\n",
       "      <td>youtube_channel_network</td>\n",
       "    </tr>\n",
       "    <tr>\n",
       "      <th>3</th>\n",
       "      <td>2020-05-05</td>\n",
       "      <td>building</td>\n",
       "      <td>assembly_shop</td>\n",
       "      <td>55e92310-cb8e-4754-b622-597e124b03de</td>\n",
       "      <td>NaN</td>\n",
       "      <td></td>\n",
       "      <td>NaN</td>\n",
       "      <td>NaN</td>\n",
       "      <td>2020-05-04</td>\n",
       "      <td>youtube_channel_network</td>\n",
       "    </tr>\n",
       "    <tr>\n",
       "      <th>4</th>\n",
       "      <td>2020-05-06</td>\n",
       "      <td>building</td>\n",
       "      <td>assembly_shop</td>\n",
       "      <td>55e92310-cb8e-4754-b622-597e124b03de</td>\n",
       "      <td>NaN</td>\n",
       "      <td></td>\n",
       "      <td>NaN</td>\n",
       "      <td>NaN</td>\n",
       "      <td>2020-05-04</td>\n",
       "      <td>youtube_channel_network</td>\n",
       "    </tr>\n",
       "  </tbody>\n",
       "</table>\n",
       "</div>"
      ],
      "text/plain": [
       "  event_datetime     event  building_type  \\\n",
       "0     2020-05-04  building  assembly_shop   \n",
       "1     2020-05-05  building  assembly_shop   \n",
       "2     2020-05-05  building  assembly_shop   \n",
       "3     2020-05-05  building  assembly_shop   \n",
       "4     2020-05-06  building  assembly_shop   \n",
       "\n",
       "                                user_id project_type building  \\\n",
       "0  55e92310-cb8e-4754-b622-597e124b03de          NaN            \n",
       "1  55e92310-cb8e-4754-b622-597e124b03de          NaN            \n",
       "2  55e92310-cb8e-4754-b622-597e124b03de          NaN            \n",
       "3  55e92310-cb8e-4754-b622-597e124b03de          NaN            \n",
       "4  55e92310-cb8e-4754-b622-597e124b03de          NaN            \n",
       "\n",
       "  finished_stage_1 project  event_date                   source  \n",
       "0              NaN     NaN  2020-05-04  youtube_channel_network  \n",
       "1              NaN     NaN  2020-05-04  youtube_channel_network  \n",
       "2              NaN     NaN  2020-05-04  youtube_channel_network  \n",
       "3              NaN     NaN  2020-05-04  youtube_channel_network  \n",
       "4              NaN     NaN  2020-05-04  youtube_channel_network  "
      ]
     },
     "execution_count": 56,
     "metadata": {},
     "output_type": "execute_result"
    }
   ],
   "source": [
    "buildings = events.query('event !=\"finished_stage_1\" and event !=\"project\"')\n",
    "buildings.head()"
   ]
  },
  {
   "cell_type": "code",
   "execution_count": 57,
   "metadata": {},
   "outputs": [
    {
     "data": {
      "text/html": [
       "<div>\n",
       "<style scoped>\n",
       "    .dataframe tbody tr th:only-of-type {\n",
       "        vertical-align: middle;\n",
       "    }\n",
       "\n",
       "    .dataframe tbody tr th {\n",
       "        vertical-align: top;\n",
       "    }\n",
       "\n",
       "    .dataframe thead th {\n",
       "        text-align: right;\n",
       "    }\n",
       "</style>\n",
       "<table border=\"1\" class=\"dataframe\">\n",
       "  <thead>\n",
       "    <tr style=\"text-align: right;\">\n",
       "      <th></th>\n",
       "      <th>event_datetime</th>\n",
       "      <th>event</th>\n",
       "      <th>building_type</th>\n",
       "      <th>user_id</th>\n",
       "      <th>project_type</th>\n",
       "      <th>building</th>\n",
       "      <th>finished_stage_1</th>\n",
       "      <th>project</th>\n",
       "      <th>event_date</th>\n",
       "      <th>source</th>\n",
       "    </tr>\n",
       "  </thead>\n",
       "  <tbody>\n",
       "    <tr>\n",
       "      <th>17</th>\n",
       "      <td>2020-05-13</td>\n",
       "      <td>project</td>\n",
       "      <td>NaN</td>\n",
       "      <td>c07b1c10-f477-44dc-81dc-ec82254b1347</td>\n",
       "      <td>satellite_orbital_assembly</td>\n",
       "      <td>NaN</td>\n",
       "      <td>NaN</td>\n",
       "      <td></td>\n",
       "      <td>2020-05-04</td>\n",
       "      <td>facebook_ads</td>\n",
       "    </tr>\n",
       "    <tr>\n",
       "      <th>19</th>\n",
       "      <td>2020-05-15</td>\n",
       "      <td>finished_stage_1</td>\n",
       "      <td>NaN</td>\n",
       "      <td>c07b1c10-f477-44dc-81dc-ec82254b1347</td>\n",
       "      <td>NaN</td>\n",
       "      <td>NaN</td>\n",
       "      <td></td>\n",
       "      <td>NaN</td>\n",
       "      <td>2020-05-04</td>\n",
       "      <td>facebook_ads</td>\n",
       "    </tr>\n",
       "    <tr>\n",
       "      <th>32</th>\n",
       "      <td>2020-05-16</td>\n",
       "      <td>finished_stage_1</td>\n",
       "      <td>NaN</td>\n",
       "      <td>6edd42cc-e753-4ff6-a947-2107cd560710</td>\n",
       "      <td>NaN</td>\n",
       "      <td>NaN</td>\n",
       "      <td></td>\n",
       "      <td>NaN</td>\n",
       "      <td>2020-05-04</td>\n",
       "      <td>instagram_new_adverts</td>\n",
       "    </tr>\n",
       "    <tr>\n",
       "      <th>49</th>\n",
       "      <td>2020-05-11</td>\n",
       "      <td>finished_stage_1</td>\n",
       "      <td>NaN</td>\n",
       "      <td>cdc6bb92-0ccb-4490-9866-ef142f09139d</td>\n",
       "      <td>NaN</td>\n",
       "      <td>NaN</td>\n",
       "      <td></td>\n",
       "      <td>NaN</td>\n",
       "      <td>2020-05-04</td>\n",
       "      <td>google_play_ads</td>\n",
       "    </tr>\n",
       "    <tr>\n",
       "      <th>73</th>\n",
       "      <td>2020-05-16</td>\n",
       "      <td>finished_stage_1</td>\n",
       "      <td>NaN</td>\n",
       "      <td>4fe0f101-694b-4e31-9740-d1d87f7208ea</td>\n",
       "      <td>NaN</td>\n",
       "      <td>NaN</td>\n",
       "      <td></td>\n",
       "      <td>NaN</td>\n",
       "      <td>2020-05-04</td>\n",
       "      <td>facebook_ads</td>\n",
       "    </tr>\n",
       "  </tbody>\n",
       "</table>\n",
       "</div>"
      ],
      "text/plain": [
       "   event_datetime             event building_type  \\\n",
       "17     2020-05-13           project           NaN   \n",
       "19     2020-05-15  finished_stage_1           NaN   \n",
       "32     2020-05-16  finished_stage_1           NaN   \n",
       "49     2020-05-11  finished_stage_1           NaN   \n",
       "73     2020-05-16  finished_stage_1           NaN   \n",
       "\n",
       "                                 user_id                project_type building  \\\n",
       "17  c07b1c10-f477-44dc-81dc-ec82254b1347  satellite_orbital_assembly      NaN   \n",
       "19  c07b1c10-f477-44dc-81dc-ec82254b1347                         NaN      NaN   \n",
       "32  6edd42cc-e753-4ff6-a947-2107cd560710                         NaN      NaN   \n",
       "49  cdc6bb92-0ccb-4490-9866-ef142f09139d                         NaN      NaN   \n",
       "73  4fe0f101-694b-4e31-9740-d1d87f7208ea                         NaN      NaN   \n",
       "\n",
       "   finished_stage_1 project  event_date                 source  \n",
       "17              NaN          2020-05-04           facebook_ads  \n",
       "19                      NaN  2020-05-04           facebook_ads  \n",
       "32                      NaN  2020-05-04  instagram_new_adverts  \n",
       "49                      NaN  2020-05-04        google_play_ads  \n",
       "73                      NaN  2020-05-04           facebook_ads  "
      ]
     },
     "execution_count": 57,
     "metadata": {},
     "output_type": "execute_result"
    }
   ],
   "source": [
    "finish = events.query('event !=\"building\"')\n",
    "finish.head()"
   ]
  },
  {
   "cell_type": "code",
   "execution_count": 58,
   "metadata": {},
   "outputs": [],
   "source": [
    "buildings['revenue'] = 0.07"
   ]
  },
  {
   "cell_type": "code",
   "execution_count": 59,
   "metadata": {},
   "outputs": [
    {
     "data": {
      "text/html": [
       "<div>\n",
       "<style scoped>\n",
       "    .dataframe tbody tr th:only-of-type {\n",
       "        vertical-align: middle;\n",
       "    }\n",
       "\n",
       "    .dataframe tbody tr th {\n",
       "        vertical-align: top;\n",
       "    }\n",
       "\n",
       "    .dataframe thead th {\n",
       "        text-align: right;\n",
       "    }\n",
       "</style>\n",
       "<table border=\"1\" class=\"dataframe\">\n",
       "  <thead>\n",
       "    <tr style=\"text-align: right;\">\n",
       "      <th></th>\n",
       "      <th>event_datetime</th>\n",
       "      <th>event</th>\n",
       "      <th>building_type</th>\n",
       "      <th>user_id</th>\n",
       "      <th>project_type</th>\n",
       "      <th>building</th>\n",
       "      <th>finished_stage_1</th>\n",
       "      <th>project</th>\n",
       "      <th>event_date</th>\n",
       "      <th>source</th>\n",
       "      <th>revenue</th>\n",
       "    </tr>\n",
       "  </thead>\n",
       "  <tbody>\n",
       "    <tr>\n",
       "      <th>0</th>\n",
       "      <td>2020-05-04</td>\n",
       "      <td>building</td>\n",
       "      <td>assembly_shop</td>\n",
       "      <td>55e92310-cb8e-4754-b622-597e124b03de</td>\n",
       "      <td>NaN</td>\n",
       "      <td></td>\n",
       "      <td>NaN</td>\n",
       "      <td>NaN</td>\n",
       "      <td>2020-05-04</td>\n",
       "      <td>youtube_channel_network</td>\n",
       "      <td>0.07</td>\n",
       "    </tr>\n",
       "    <tr>\n",
       "      <th>1</th>\n",
       "      <td>2020-05-05</td>\n",
       "      <td>building</td>\n",
       "      <td>assembly_shop</td>\n",
       "      <td>55e92310-cb8e-4754-b622-597e124b03de</td>\n",
       "      <td>NaN</td>\n",
       "      <td></td>\n",
       "      <td>NaN</td>\n",
       "      <td>NaN</td>\n",
       "      <td>2020-05-04</td>\n",
       "      <td>youtube_channel_network</td>\n",
       "      <td>0.07</td>\n",
       "    </tr>\n",
       "    <tr>\n",
       "      <th>2</th>\n",
       "      <td>2020-05-05</td>\n",
       "      <td>building</td>\n",
       "      <td>assembly_shop</td>\n",
       "      <td>55e92310-cb8e-4754-b622-597e124b03de</td>\n",
       "      <td>NaN</td>\n",
       "      <td></td>\n",
       "      <td>NaN</td>\n",
       "      <td>NaN</td>\n",
       "      <td>2020-05-04</td>\n",
       "      <td>youtube_channel_network</td>\n",
       "      <td>0.07</td>\n",
       "    </tr>\n",
       "    <tr>\n",
       "      <th>3</th>\n",
       "      <td>2020-05-05</td>\n",
       "      <td>building</td>\n",
       "      <td>assembly_shop</td>\n",
       "      <td>55e92310-cb8e-4754-b622-597e124b03de</td>\n",
       "      <td>NaN</td>\n",
       "      <td></td>\n",
       "      <td>NaN</td>\n",
       "      <td>NaN</td>\n",
       "      <td>2020-05-04</td>\n",
       "      <td>youtube_channel_network</td>\n",
       "      <td>0.07</td>\n",
       "    </tr>\n",
       "    <tr>\n",
       "      <th>4</th>\n",
       "      <td>2020-05-06</td>\n",
       "      <td>building</td>\n",
       "      <td>assembly_shop</td>\n",
       "      <td>55e92310-cb8e-4754-b622-597e124b03de</td>\n",
       "      <td>NaN</td>\n",
       "      <td></td>\n",
       "      <td>NaN</td>\n",
       "      <td>NaN</td>\n",
       "      <td>2020-05-04</td>\n",
       "      <td>youtube_channel_network</td>\n",
       "      <td>0.07</td>\n",
       "    </tr>\n",
       "    <tr>\n",
       "      <th>...</th>\n",
       "      <td>...</td>\n",
       "      <td>...</td>\n",
       "      <td>...</td>\n",
       "      <td>...</td>\n",
       "      <td>...</td>\n",
       "      <td>...</td>\n",
       "      <td>...</td>\n",
       "      <td>...</td>\n",
       "      <td>...</td>\n",
       "      <td>...</td>\n",
       "      <td>...</td>\n",
       "    </tr>\n",
       "    <tr>\n",
       "      <th>135634</th>\n",
       "      <td>2020-05-13</td>\n",
       "      <td>building</td>\n",
       "      <td>spaceport</td>\n",
       "      <td>cafd1b8b-507b-49ae-abf0-89fe863a8b03</td>\n",
       "      <td>NaN</td>\n",
       "      <td></td>\n",
       "      <td>NaN</td>\n",
       "      <td>NaN</td>\n",
       "      <td>2020-05-10</td>\n",
       "      <td>facebook_ads</td>\n",
       "      <td>0.07</td>\n",
       "    </tr>\n",
       "    <tr>\n",
       "      <th>135635</th>\n",
       "      <td>2020-05-18</td>\n",
       "      <td>building</td>\n",
       "      <td>spaceport</td>\n",
       "      <td>cafd1b8b-507b-49ae-abf0-89fe863a8b03</td>\n",
       "      <td>NaN</td>\n",
       "      <td></td>\n",
       "      <td>NaN</td>\n",
       "      <td>NaN</td>\n",
       "      <td>2020-05-10</td>\n",
       "      <td>facebook_ads</td>\n",
       "      <td>0.07</td>\n",
       "    </tr>\n",
       "    <tr>\n",
       "      <th>135636</th>\n",
       "      <td>2020-05-10</td>\n",
       "      <td>building</td>\n",
       "      <td>assembly_shop</td>\n",
       "      <td>bdc53e19-462a-4dc3-8b55-b4a34278af6a</td>\n",
       "      <td>NaN</td>\n",
       "      <td></td>\n",
       "      <td>NaN</td>\n",
       "      <td>NaN</td>\n",
       "      <td>2020-05-10</td>\n",
       "      <td>youtube_channel_network</td>\n",
       "      <td>0.07</td>\n",
       "    </tr>\n",
       "    <tr>\n",
       "      <th>135637</th>\n",
       "      <td>2020-05-13</td>\n",
       "      <td>building</td>\n",
       "      <td>spaceport</td>\n",
       "      <td>bdc53e19-462a-4dc3-8b55-b4a34278af6a</td>\n",
       "      <td>NaN</td>\n",
       "      <td></td>\n",
       "      <td>NaN</td>\n",
       "      <td>NaN</td>\n",
       "      <td>2020-05-10</td>\n",
       "      <td>youtube_channel_network</td>\n",
       "      <td>0.07</td>\n",
       "    </tr>\n",
       "    <tr>\n",
       "      <th>135638</th>\n",
       "      <td>2020-05-18</td>\n",
       "      <td>building</td>\n",
       "      <td>spaceport</td>\n",
       "      <td>bdc53e19-462a-4dc3-8b55-b4a34278af6a</td>\n",
       "      <td>NaN</td>\n",
       "      <td></td>\n",
       "      <td>NaN</td>\n",
       "      <td>NaN</td>\n",
       "      <td>2020-05-10</td>\n",
       "      <td>youtube_channel_network</td>\n",
       "      <td>0.07</td>\n",
       "    </tr>\n",
       "  </tbody>\n",
       "</table>\n",
       "<p>127956 rows × 11 columns</p>\n",
       "</div>"
      ],
      "text/plain": [
       "       event_datetime     event  building_type  \\\n",
       "0          2020-05-04  building  assembly_shop   \n",
       "1          2020-05-05  building  assembly_shop   \n",
       "2          2020-05-05  building  assembly_shop   \n",
       "3          2020-05-05  building  assembly_shop   \n",
       "4          2020-05-06  building  assembly_shop   \n",
       "...               ...       ...            ...   \n",
       "135634     2020-05-13  building      spaceport   \n",
       "135635     2020-05-18  building      spaceport   \n",
       "135636     2020-05-10  building  assembly_shop   \n",
       "135637     2020-05-13  building      spaceport   \n",
       "135638     2020-05-18  building      spaceport   \n",
       "\n",
       "                                     user_id project_type building  \\\n",
       "0       55e92310-cb8e-4754-b622-597e124b03de          NaN            \n",
       "1       55e92310-cb8e-4754-b622-597e124b03de          NaN            \n",
       "2       55e92310-cb8e-4754-b622-597e124b03de          NaN            \n",
       "3       55e92310-cb8e-4754-b622-597e124b03de          NaN            \n",
       "4       55e92310-cb8e-4754-b622-597e124b03de          NaN            \n",
       "...                                      ...          ...      ...   \n",
       "135634  cafd1b8b-507b-49ae-abf0-89fe863a8b03          NaN            \n",
       "135635  cafd1b8b-507b-49ae-abf0-89fe863a8b03          NaN            \n",
       "135636  bdc53e19-462a-4dc3-8b55-b4a34278af6a          NaN            \n",
       "135637  bdc53e19-462a-4dc3-8b55-b4a34278af6a          NaN            \n",
       "135638  bdc53e19-462a-4dc3-8b55-b4a34278af6a          NaN            \n",
       "\n",
       "       finished_stage_1 project  event_date                   source  revenue  \n",
       "0                   NaN     NaN  2020-05-04  youtube_channel_network     0.07  \n",
       "1                   NaN     NaN  2020-05-04  youtube_channel_network     0.07  \n",
       "2                   NaN     NaN  2020-05-04  youtube_channel_network     0.07  \n",
       "3                   NaN     NaN  2020-05-04  youtube_channel_network     0.07  \n",
       "4                   NaN     NaN  2020-05-04  youtube_channel_network     0.07  \n",
       "...                 ...     ...         ...                      ...      ...  \n",
       "135634              NaN     NaN  2020-05-10             facebook_ads     0.07  \n",
       "135635              NaN     NaN  2020-05-10             facebook_ads     0.07  \n",
       "135636              NaN     NaN  2020-05-10  youtube_channel_network     0.07  \n",
       "135637              NaN     NaN  2020-05-10  youtube_channel_network     0.07  \n",
       "135638              NaN     NaN  2020-05-10  youtube_channel_network     0.07  \n",
       "\n",
       "[127956 rows x 11 columns]"
      ]
     },
     "execution_count": 59,
     "metadata": {},
     "output_type": "execute_result"
    }
   ],
   "source": [
    "buildings"
   ]
  },
  {
   "cell_type": "code",
   "execution_count": 60,
   "metadata": {},
   "outputs": [
    {
     "data": {
      "text/html": [
       "<div>\n",
       "<style scoped>\n",
       "    .dataframe tbody tr th:only-of-type {\n",
       "        vertical-align: middle;\n",
       "    }\n",
       "\n",
       "    .dataframe tbody tr th {\n",
       "        vertical-align: top;\n",
       "    }\n",
       "\n",
       "    .dataframe thead th {\n",
       "        text-align: right;\n",
       "    }\n",
       "</style>\n",
       "<table border=\"1\" class=\"dataframe\">\n",
       "  <thead>\n",
       "    <tr style=\"text-align: right;\">\n",
       "      <th></th>\n",
       "      <th>event_datetime</th>\n",
       "      <th>event</th>\n",
       "      <th>building_type</th>\n",
       "      <th>user_id</th>\n",
       "      <th>project_type</th>\n",
       "      <th>building</th>\n",
       "      <th>finished_stage_1</th>\n",
       "      <th>project</th>\n",
       "      <th>event_date</th>\n",
       "      <th>source</th>\n",
       "      <th>revenue</th>\n",
       "    </tr>\n",
       "  </thead>\n",
       "  <tbody>\n",
       "    <tr>\n",
       "      <th>0</th>\n",
       "      <td>2020-05-04</td>\n",
       "      <td>building</td>\n",
       "      <td>assembly_shop</td>\n",
       "      <td>55e92310-cb8e-4754-b622-597e124b03de</td>\n",
       "      <td>NaN</td>\n",
       "      <td></td>\n",
       "      <td>NaN</td>\n",
       "      <td>NaN</td>\n",
       "      <td>2020-05-04</td>\n",
       "      <td>youtube_channel_network</td>\n",
       "      <td>0.07</td>\n",
       "    </tr>\n",
       "    <tr>\n",
       "      <th>1</th>\n",
       "      <td>2020-05-05</td>\n",
       "      <td>building</td>\n",
       "      <td>assembly_shop</td>\n",
       "      <td>55e92310-cb8e-4754-b622-597e124b03de</td>\n",
       "      <td>NaN</td>\n",
       "      <td></td>\n",
       "      <td>NaN</td>\n",
       "      <td>NaN</td>\n",
       "      <td>2020-05-04</td>\n",
       "      <td>youtube_channel_network</td>\n",
       "      <td>0.07</td>\n",
       "    </tr>\n",
       "    <tr>\n",
       "      <th>2</th>\n",
       "      <td>2020-05-05</td>\n",
       "      <td>building</td>\n",
       "      <td>assembly_shop</td>\n",
       "      <td>55e92310-cb8e-4754-b622-597e124b03de</td>\n",
       "      <td>NaN</td>\n",
       "      <td></td>\n",
       "      <td>NaN</td>\n",
       "      <td>NaN</td>\n",
       "      <td>2020-05-04</td>\n",
       "      <td>youtube_channel_network</td>\n",
       "      <td>0.07</td>\n",
       "    </tr>\n",
       "    <tr>\n",
       "      <th>3</th>\n",
       "      <td>2020-05-05</td>\n",
       "      <td>building</td>\n",
       "      <td>assembly_shop</td>\n",
       "      <td>55e92310-cb8e-4754-b622-597e124b03de</td>\n",
       "      <td>NaN</td>\n",
       "      <td></td>\n",
       "      <td>NaN</td>\n",
       "      <td>NaN</td>\n",
       "      <td>2020-05-04</td>\n",
       "      <td>youtube_channel_network</td>\n",
       "      <td>0.07</td>\n",
       "    </tr>\n",
       "    <tr>\n",
       "      <th>4</th>\n",
       "      <td>2020-05-06</td>\n",
       "      <td>building</td>\n",
       "      <td>assembly_shop</td>\n",
       "      <td>55e92310-cb8e-4754-b622-597e124b03de</td>\n",
       "      <td>NaN</td>\n",
       "      <td></td>\n",
       "      <td>NaN</td>\n",
       "      <td>NaN</td>\n",
       "      <td>2020-05-04</td>\n",
       "      <td>youtube_channel_network</td>\n",
       "      <td>0.07</td>\n",
       "    </tr>\n",
       "    <tr>\n",
       "      <th>...</th>\n",
       "      <td>...</td>\n",
       "      <td>...</td>\n",
       "      <td>...</td>\n",
       "      <td>...</td>\n",
       "      <td>...</td>\n",
       "      <td>...</td>\n",
       "      <td>...</td>\n",
       "      <td>...</td>\n",
       "      <td>...</td>\n",
       "      <td>...</td>\n",
       "      <td>...</td>\n",
       "    </tr>\n",
       "    <tr>\n",
       "      <th>135534</th>\n",
       "      <td>2020-05-27</td>\n",
       "      <td>finished_stage_1</td>\n",
       "      <td>NaN</td>\n",
       "      <td>825e727b-7847-4c5f-a26c-3ee0f18d8177</td>\n",
       "      <td>NaN</td>\n",
       "      <td>NaN</td>\n",
       "      <td></td>\n",
       "      <td>NaN</td>\n",
       "      <td>2020-05-10</td>\n",
       "      <td>youtube_channel_network</td>\n",
       "      <td>NaN</td>\n",
       "    </tr>\n",
       "    <tr>\n",
       "      <th>135586</th>\n",
       "      <td>2020-06-01</td>\n",
       "      <td>project</td>\n",
       "      <td>NaN</td>\n",
       "      <td>637a8d39-3872-4549-80cc-bebee6c88056</td>\n",
       "      <td>satellite_orbital_assembly</td>\n",
       "      <td>NaN</td>\n",
       "      <td>NaN</td>\n",
       "      <td></td>\n",
       "      <td>2020-05-10</td>\n",
       "      <td>google_play_ads</td>\n",
       "      <td>NaN</td>\n",
       "    </tr>\n",
       "    <tr>\n",
       "      <th>135587</th>\n",
       "      <td>2020-06-02</td>\n",
       "      <td>finished_stage_1</td>\n",
       "      <td>NaN</td>\n",
       "      <td>637a8d39-3872-4549-80cc-bebee6c88056</td>\n",
       "      <td>NaN</td>\n",
       "      <td>NaN</td>\n",
       "      <td></td>\n",
       "      <td>NaN</td>\n",
       "      <td>2020-05-10</td>\n",
       "      <td>google_play_ads</td>\n",
       "      <td>NaN</td>\n",
       "    </tr>\n",
       "    <tr>\n",
       "      <th>135609</th>\n",
       "      <td>2020-05-26</td>\n",
       "      <td>finished_stage_1</td>\n",
       "      <td>NaN</td>\n",
       "      <td>0d37a895-ee0f-4e36-aadb-880cef670f0b</td>\n",
       "      <td>NaN</td>\n",
       "      <td>NaN</td>\n",
       "      <td></td>\n",
       "      <td>NaN</td>\n",
       "      <td>2020-05-10</td>\n",
       "      <td>google_play_ads</td>\n",
       "      <td>NaN</td>\n",
       "    </tr>\n",
       "    <tr>\n",
       "      <th>135620</th>\n",
       "      <td>2020-05-31</td>\n",
       "      <td>finished_stage_1</td>\n",
       "      <td>NaN</td>\n",
       "      <td>20bc9d79-10c4-4f2d-862e-4a6dece3b4ec</td>\n",
       "      <td>NaN</td>\n",
       "      <td>NaN</td>\n",
       "      <td></td>\n",
       "      <td>NaN</td>\n",
       "      <td>2020-05-10</td>\n",
       "      <td>youtube_channel_network</td>\n",
       "      <td>NaN</td>\n",
       "    </tr>\n",
       "  </tbody>\n",
       "</table>\n",
       "<p>135639 rows × 11 columns</p>\n",
       "</div>"
      ],
      "text/plain": [
       "       event_datetime             event  building_type  \\\n",
       "0          2020-05-04          building  assembly_shop   \n",
       "1          2020-05-05          building  assembly_shop   \n",
       "2          2020-05-05          building  assembly_shop   \n",
       "3          2020-05-05          building  assembly_shop   \n",
       "4          2020-05-06          building  assembly_shop   \n",
       "...               ...               ...            ...   \n",
       "135534     2020-05-27  finished_stage_1            NaN   \n",
       "135586     2020-06-01           project            NaN   \n",
       "135587     2020-06-02  finished_stage_1            NaN   \n",
       "135609     2020-05-26  finished_stage_1            NaN   \n",
       "135620     2020-05-31  finished_stage_1            NaN   \n",
       "\n",
       "                                     user_id                project_type  \\\n",
       "0       55e92310-cb8e-4754-b622-597e124b03de                         NaN   \n",
       "1       55e92310-cb8e-4754-b622-597e124b03de                         NaN   \n",
       "2       55e92310-cb8e-4754-b622-597e124b03de                         NaN   \n",
       "3       55e92310-cb8e-4754-b622-597e124b03de                         NaN   \n",
       "4       55e92310-cb8e-4754-b622-597e124b03de                         NaN   \n",
       "...                                      ...                         ...   \n",
       "135534  825e727b-7847-4c5f-a26c-3ee0f18d8177                         NaN   \n",
       "135586  637a8d39-3872-4549-80cc-bebee6c88056  satellite_orbital_assembly   \n",
       "135587  637a8d39-3872-4549-80cc-bebee6c88056                         NaN   \n",
       "135609  0d37a895-ee0f-4e36-aadb-880cef670f0b                         NaN   \n",
       "135620  20bc9d79-10c4-4f2d-862e-4a6dece3b4ec                         NaN   \n",
       "\n",
       "       building finished_stage_1 project  event_date                   source  \\\n",
       "0                            NaN     NaN  2020-05-04  youtube_channel_network   \n",
       "1                            NaN     NaN  2020-05-04  youtube_channel_network   \n",
       "2                            NaN     NaN  2020-05-04  youtube_channel_network   \n",
       "3                            NaN     NaN  2020-05-04  youtube_channel_network   \n",
       "4                            NaN     NaN  2020-05-04  youtube_channel_network   \n",
       "...         ...              ...     ...         ...                      ...   \n",
       "135534      NaN                      NaN  2020-05-10  youtube_channel_network   \n",
       "135586      NaN              NaN          2020-05-10          google_play_ads   \n",
       "135587      NaN                      NaN  2020-05-10          google_play_ads   \n",
       "135609      NaN                      NaN  2020-05-10          google_play_ads   \n",
       "135620      NaN                      NaN  2020-05-10  youtube_channel_network   \n",
       "\n",
       "        revenue  \n",
       "0          0.07  \n",
       "1          0.07  \n",
       "2          0.07  \n",
       "3          0.07  \n",
       "4          0.07  \n",
       "...         ...  \n",
       "135534      NaN  \n",
       "135586      NaN  \n",
       "135587      NaN  \n",
       "135609      NaN  \n",
       "135620      NaN  \n",
       "\n",
       "[135639 rows x 11 columns]"
      ]
     },
     "execution_count": 60,
     "metadata": {},
     "output_type": "execute_result"
    }
   ],
   "source": [
    "rev = pd.concat([buildings, finish])\n",
    "rev"
   ]
  },
  {
   "cell_type": "markdown",
   "metadata": {},
   "source": [
    "### 5.2. Analisis pendapatan dari iklan (LTV)."
   ]
  },
  {
   "cell_type": "code",
   "execution_count": 61,
   "metadata": {},
   "outputs": [
    {
     "data": {
      "image/png": "[encoded data removed]",
      "text/plain": [
       "<Figure size 720x360 with 1 Axes>"
      ]
     },
     "metadata": {
      "needs_background": "light"
     },
     "output_type": "display_data"
    }
   ],
   "source": [
    "rev.pivot_table(\n",
    "    index='event_datetime', values='revenue', aggfunc='mean'\n",
    ").plot(grid=True, figsize=(10, 5))\n",
    "plt.ylabel('LTV')\n",
    "plt.xlabel('Tanggal')\n",
    "plt.title('Dinamika LTV')\n",
    "plt.show()"
   ]
  },
  {
   "cell_type": "markdown",
   "metadata": {},
   "source": [
    "Dalam 4 hari pertama, terjadi lonjakan pendapatan yang sangat besar, dan kemudian terjadi penurunan tajam. Seperti yang saya duga sebelumnya, pengguna mungkin membangun lebih sedikit bangunan dari waktu ke waktu karena berbagai alasan. Ini tidak baik ketika LTV sangat tidak stabil. Ini sekali lagi mengindikasikan kepada kita bahwa menampilkan iklan saat pemilihan jenis bangunan bukanlah ide terbaik."
   ]
  },
  {
   "cell_type": "code",
   "execution_count": 62,
   "metadata": {},
   "outputs": [],
   "source": [
    "rev['event_datetime'] = pd.to_datetime(rev['event_datetime'])"
   ]
  },
  {
   "cell_type": "code",
   "execution_count": 63,
   "metadata": {},
   "outputs": [
    {
     "name": "stdout",
     "output_type": "stream",
     "text": [
      "Rata-rata jumlah bangunan yang dibangun dalam 1 hari: 1.39419795221843\n"
     ]
    }
   ],
   "source": [
    "first_day = rev.query('event_datetime == \"2020-05-04\"')\n",
    "first_day_users = first_day.groupby('user_id')['building_type'].count().to_frame().reset_index()\n",
    "first_day_users = first_day_users.query('building_type!=0')\n",
    "print('Rata-rata jumlah bangunan yang dibangun dalam 1 hari:', first_day_users['building_type'].mean())"
   ]
  },
  {
   "cell_type": "code",
   "execution_count": 64,
   "metadata": {},
   "outputs": [
    {
     "name": "stdout",
     "output_type": "stream",
     "text": [
      "Rata-rata jumlah bangunan yang dibangun dalam 2 hari: 1.4185864284594891\n"
     ]
    }
   ],
   "source": [
    "second_day = rev.query('event_datetime == \"2020-05-05\"')\n",
    "second_day_users = second_day.groupby('user_id')['building_type'].count().to_frame().reset_index()\n",
    "second_day_users = second_day_users.query('building_type!=0')\n",
    "print('Rata-rata jumlah bangunan yang dibangun dalam 2 hari:', second_day_users['building_type'].mean())"
   ]
  },
  {
   "cell_type": "code",
   "execution_count": 65,
   "metadata": {},
   "outputs": [
    {
     "name": "stdout",
     "output_type": "stream",
     "text": [
      "Rata-rata jumlah bangunan yang dibangun dalam 3 hari: 1.4476871443163577\n"
     ]
    }
   ],
   "source": [
    "third_day = rev.query('event_datetime == \"2020-05-06\"')\n",
    "third_day_users = third_day.groupby('user_id')['building_type'].count().to_frame().reset_index()\n",
    "third_day_users = third_day_users.query('building_type!=0')\n",
    "print('Rata-rata jumlah bangunan yang dibangun dalam 3 hari:', third_day_users['building_type'].mean())"
   ]
  },
  {
   "cell_type": "markdown",
   "metadata": {},
   "source": [
    "## 6. Kesimpulan Umum\n",
    "\n",
    "### 6.1. Temuan utama, momen menarik, dan kesimpulan dari proyek ini."
   ]
  },
  {
   "cell_type": "markdown",
   "metadata": {},
   "source": [
    "Berdasarkan penelitian yang telah dilakukan, dapat diajukan beberapa pernyataan berikut:\n",
    "\n",
    "1. Kebanyakan pengguna menyelesaikan permainan dalam 11-13 hari.\n",
    "2. Selama 5 hari pertama permainan, pengguna rata-rata membangun lebih banyak bangunan.\n",
    "3. Jumlah pengguna terbanyak berasal dari iklan google_play_ads.\n",
    "4. Hipotesis tentang perbedaan waktu penyelesaian level tergantung pada pilihan strategi pemain telah dikonfirmasi.\n",
    "5. Hipotesis tentang perbedaan jumlah bangunan yang dibangun tergantung pada pilihan strategi pemain telah dikonfirmasi.\n",
    "6. Grafik dinamika pengeluaran berdasarkan saluran akuisisi menurun secara monoton.\n",
    "7. LTV menjadi tidak stabil.\n",
    "\n",
    "Dari hal-hal tersebut, dapat disimpulkan bahwa menunda peluncuran iklan tidak boleh dilakukan, karena akan menyebabkan hilangnya banyak pendapatan. Pengguna rata-rata membangun 1-2 bangunan per hari dan menyelesaikan level dalam 11-13 hari. Oleh karena itu, saya merekomendasikan untuk mengintegrasikan iklan setelah 3 bangunan pengguna. Artinya, iklan akan mulai ditampilkan kepada pengguna pada hari berikutnya. Dengan demikian, kami akan memberikan waktu bagi pengguna untuk terbiasa dengan antarmuka permainan dan tidak kehilangan sebagian besar pendapatan.\n",
    "\n",
    "Anda juga dapat memasukkan iklan dalam bentuk iklan hadiah. Ini adalah iklan video yang memberikan penghargaan kepada pengguna setelah mereka menontonnya: peralatan untuk karakter, bonus permainan, nyawa tambahan, petunjuk, mata uang virtual, dan lainnya. Orang akan mendapatkan bonus untuk menonton iklan, dan ini sangat penting dalam permainan. Motivasi untuk menonton iklan hingga selesai akan meningkat secara signifikan."
   ]
  }
 ],
 "metadata": {
  "kernelspec": {
   "display_name": "Python 3 (ipykernel)",
   "language": "python",
   "name": "python3"
  },
  "language_info": {
   "codemirror_mode": {
    "name": "ipython",
    "version": 3
   },
   "file_extension": ".py",
   "mimetype": "text/x-python",
   "name": "python",
   "nbconvert_exporter": "python",
   "pygments_lexer": "ipython3",
   "version": "3.9.5"
  },
  "toc": {
   "base_numbering": 1,
   "nav_menu": {},
   "number_sections": false,
   "sideBar": true,
   "skip_h1_title": true,
   "title_cell": "Table of Contents",
   "title_sidebar": "Contents",
   "toc_cell": false,
   "toc_position": {
    "height": "calc(100% - 180px)",
    "left": "10px",
    "top": "150px",
    "width": "165px"
   },
   "toc_section_display": true,
   "toc_window_display": false
  }
 },
 "nbformat": 4,
 "nbformat_minor": 2
}
