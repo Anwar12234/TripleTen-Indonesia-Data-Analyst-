{
 "cells": [
  {
   "cell_type": "markdown",
   "metadata": {},
   "source": [
    "# Faktor Apakah yang Menjual Sebuah Mobil?\n",
    "\n",
    "Anda adalah seorang analis di Crankshaft List. Ratusan iklan kendaraan gratis ditayangkan di situs web Anda setiap hari. Anda perlu mempelajari kumpulan data selama beberapa tahun terakhir dan menentukan faktor-faktor yang memengaruhi harga sebuah kendaraan."
   ]
  },
  {
   "cell_type": "markdown",
   "metadata": {},
   "source": [
    "# Daftar Isi\n",
    "\n",
    "* [Tujuan](#)\n",
    "* [Hipotesis](#)\n",
    "* [Tahapan](#)\n",
    "* [1. Pra-pemrosesan](#)\n",
    "    * [1.1. Memuat Data](#)\n",
    "    * [1.2. Mengeksploarasi Data Awal](#)\n",
    "    * [Kesimpulan dan Langkah-Langkah Selanjutnya](#)\n",
    "        * [Nilai yang Hilang](#)\n",
    "        * [Gaya Penulisan](#)\n",
    "        * [Duplikat](#)\n",
    "        * [Anomali Data](#)\n",
    "    * [1.3. Mengatasi Nilai-Nilai yang Hilang](#)\n",
    "    * [1.4. Memperbaiki Tipe Data](#)\n",
    "    * [1.5. Memperbaiki Kualitas Data](#)\n",
    "* [2. Analisis Data Exploratif (EDA)](#)\n",
    "    * [2.1. Memeriksa Data yang Sudah Bersih](#)\n",
    "    * [2.2. Mempelajari Parameter Inti](#)\n",
    "        * [Kesimpulan](#)\n",
    "    * [2.3. Mempelajari dan Menangani Outlier](#)\n",
    "    * [2.4. Masa Berlaku Iklan](#)\n",
    "    * [2.5. Harga Rata-Rata Setiap Jenis Kendaraan](#)\n",
    "    * [2.6. Faktor Harga](#)\n",
    "    * [Kesimpulan Umum](#)\n",
    "        * [A. Pra-pemrosesan](#)\n",
    "        * [B. Analisis Data Eksploratif (EDA)](#)    "
   ]
  },
  {
   "cell_type": "markdown",
   "metadata": {},
   "source": [
    "## Tujuan\n",
    "\n",
    "Proyek ini berfokus pada EDA dan Data Visualization untuk menentukan hubungan dan faktor yang paling memengaruhi harga mobil dengan menggunakan teknik statistik dan visualisasi data."
   ]
  },
  {
   "cell_type": "markdown",
   "metadata": {},
   "source": [
    "## Hipotesis\n",
    "\n",
    "1. Harga mobil cenderung lebih murah jika mobil tersebut sudah berusia tua.\n",
    "2. Mobil dengan jarak tempuh yang lebih kecil umumnya memiliki harga yang lebih murah dibandingkan dengan mobil dengan jarak tempuh yang lebih jauh.\n",
    "3. Mobil yang memiliki kondisi yang baik cenderung memiliki harga yang lebih tinggi dibandingkan dengan mobil yang kondisinya kurang baik.\n",
    "4. Secara umum, mobil dengan tipe transmisi matic memiliki harga yang lebih tinggi dibandingkan dengan mobil dengan tipe transmisi manual.\n",
    "5. Warna mobil yang kurang umum seperti kuning, hijau, biru, dan merah cenderung kurang diminati dan memiliki nilai lebih rendah dibandingkan dengan warna hitam, putih, atau silver."
   ]
  },
  {
   "cell_type": "markdown",
   "metadata": {},
   "source": [
    "## Tahapan\n",
    "\n",
    "1. Pra-pemrosesan Data\n",
    "2. Analisis Data Exploratif (EDA)"
   ]
  },
  {
   "cell_type": "markdown",
   "metadata": {},
   "source": [
    "# 1. Pra-pemrosesan\n",
    "\n",
    "**Import *library* yang dibutuhkan:**"
   ]
  },
  {
   "cell_type": "code",
   "execution_count": 1,
   "metadata": {},
   "outputs": [],
   "source": [
    "# Import library\n",
    "import pandas as pd\n",
    "import matplotlib.pyplot as plt"
   ]
  },
  {
   "cell_type": "markdown",
   "metadata": {},
   "source": [
    "## 1.1. Memuat Data"
   ]
  },
  {
   "cell_type": "code",
   "execution_count": 2,
   "metadata": {},
   "outputs": [
    {
     "data": {
      "text/html": [
       "<div>\n",
       "<style scoped>\n",
       "    .dataframe tbody tr th:only-of-type {\n",
       "        vertical-align: middle;\n",
       "    }\n",
       "\n",
       "    .dataframe tbody tr th {\n",
       "        vertical-align: top;\n",
       "    }\n",
       "\n",
       "    .dataframe thead th {\n",
       "        text-align: right;\n",
       "    }\n",
       "</style>\n",
       "<table border=\"1\" class=\"dataframe\">\n",
       "  <thead>\n",
       "    <tr style=\"text-align: right;\">\n",
       "      <th></th>\n",
       "      <th>price</th>\n",
       "      <th>model_year</th>\n",
       "      <th>model</th>\n",
       "      <th>condition</th>\n",
       "      <th>cylinders</th>\n",
       "      <th>fuel</th>\n",
       "      <th>odometer</th>\n",
       "      <th>transmission</th>\n",
       "      <th>type</th>\n",
       "      <th>paint_color</th>\n",
       "      <th>is_4wd</th>\n",
       "      <th>date_posted</th>\n",
       "      <th>days_listed</th>\n",
       "    </tr>\n",
       "  </thead>\n",
       "  <tbody>\n",
       "    <tr>\n",
       "      <th>0</th>\n",
       "      <td>9400</td>\n",
       "      <td>2011.0</td>\n",
       "      <td>bmw x5</td>\n",
       "      <td>good</td>\n",
       "      <td>6.0</td>\n",
       "      <td>gas</td>\n",
       "      <td>145000.0</td>\n",
       "      <td>automatic</td>\n",
       "      <td>SUV</td>\n",
       "      <td>NaN</td>\n",
       "      <td>1.0</td>\n",
       "      <td>2018-06-23</td>\n",
       "      <td>19</td>\n",
       "    </tr>\n",
       "    <tr>\n",
       "      <th>1</th>\n",
       "      <td>25500</td>\n",
       "      <td>NaN</td>\n",
       "      <td>ford f-150</td>\n",
       "      <td>good</td>\n",
       "      <td>6.0</td>\n",
       "      <td>gas</td>\n",
       "      <td>88705.0</td>\n",
       "      <td>automatic</td>\n",
       "      <td>pickup</td>\n",
       "      <td>white</td>\n",
       "      <td>1.0</td>\n",
       "      <td>2018-10-19</td>\n",
       "      <td>50</td>\n",
       "    </tr>\n",
       "    <tr>\n",
       "      <th>2</th>\n",
       "      <td>5500</td>\n",
       "      <td>2013.0</td>\n",
       "      <td>hyundai sonata</td>\n",
       "      <td>like new</td>\n",
       "      <td>4.0</td>\n",
       "      <td>gas</td>\n",
       "      <td>110000.0</td>\n",
       "      <td>automatic</td>\n",
       "      <td>sedan</td>\n",
       "      <td>red</td>\n",
       "      <td>NaN</td>\n",
       "      <td>2019-02-07</td>\n",
       "      <td>79</td>\n",
       "    </tr>\n",
       "    <tr>\n",
       "      <th>3</th>\n",
       "      <td>1500</td>\n",
       "      <td>2003.0</td>\n",
       "      <td>ford f-150</td>\n",
       "      <td>fair</td>\n",
       "      <td>8.0</td>\n",
       "      <td>gas</td>\n",
       "      <td>NaN</td>\n",
       "      <td>automatic</td>\n",
       "      <td>pickup</td>\n",
       "      <td>NaN</td>\n",
       "      <td>NaN</td>\n",
       "      <td>2019-03-22</td>\n",
       "      <td>9</td>\n",
       "    </tr>\n",
       "    <tr>\n",
       "      <th>4</th>\n",
       "      <td>14900</td>\n",
       "      <td>2017.0</td>\n",
       "      <td>chrysler 200</td>\n",
       "      <td>excellent</td>\n",
       "      <td>4.0</td>\n",
       "      <td>gas</td>\n",
       "      <td>80903.0</td>\n",
       "      <td>automatic</td>\n",
       "      <td>sedan</td>\n",
       "      <td>black</td>\n",
       "      <td>NaN</td>\n",
       "      <td>2019-04-02</td>\n",
       "      <td>28</td>\n",
       "    </tr>\n",
       "    <tr>\n",
       "      <th>...</th>\n",
       "      <td>...</td>\n",
       "      <td>...</td>\n",
       "      <td>...</td>\n",
       "      <td>...</td>\n",
       "      <td>...</td>\n",
       "      <td>...</td>\n",
       "      <td>...</td>\n",
       "      <td>...</td>\n",
       "      <td>...</td>\n",
       "      <td>...</td>\n",
       "      <td>...</td>\n",
       "      <td>...</td>\n",
       "      <td>...</td>\n",
       "    </tr>\n",
       "    <tr>\n",
       "      <th>51520</th>\n",
       "      <td>9249</td>\n",
       "      <td>2013.0</td>\n",
       "      <td>nissan maxima</td>\n",
       "      <td>like new</td>\n",
       "      <td>6.0</td>\n",
       "      <td>gas</td>\n",
       "      <td>88136.0</td>\n",
       "      <td>automatic</td>\n",
       "      <td>sedan</td>\n",
       "      <td>black</td>\n",
       "      <td>NaN</td>\n",
       "      <td>2018-10-03</td>\n",
       "      <td>37</td>\n",
       "    </tr>\n",
       "    <tr>\n",
       "      <th>51521</th>\n",
       "      <td>2700</td>\n",
       "      <td>2002.0</td>\n",
       "      <td>honda civic</td>\n",
       "      <td>salvage</td>\n",
       "      <td>4.0</td>\n",
       "      <td>gas</td>\n",
       "      <td>181500.0</td>\n",
       "      <td>automatic</td>\n",
       "      <td>sedan</td>\n",
       "      <td>white</td>\n",
       "      <td>NaN</td>\n",
       "      <td>2018-11-14</td>\n",
       "      <td>22</td>\n",
       "    </tr>\n",
       "    <tr>\n",
       "      <th>51522</th>\n",
       "      <td>3950</td>\n",
       "      <td>2009.0</td>\n",
       "      <td>hyundai sonata</td>\n",
       "      <td>excellent</td>\n",
       "      <td>4.0</td>\n",
       "      <td>gas</td>\n",
       "      <td>128000.0</td>\n",
       "      <td>automatic</td>\n",
       "      <td>sedan</td>\n",
       "      <td>blue</td>\n",
       "      <td>NaN</td>\n",
       "      <td>2018-11-15</td>\n",
       "      <td>32</td>\n",
       "    </tr>\n",
       "    <tr>\n",
       "      <th>51523</th>\n",
       "      <td>7455</td>\n",
       "      <td>2013.0</td>\n",
       "      <td>toyota corolla</td>\n",
       "      <td>good</td>\n",
       "      <td>4.0</td>\n",
       "      <td>gas</td>\n",
       "      <td>139573.0</td>\n",
       "      <td>automatic</td>\n",
       "      <td>sedan</td>\n",
       "      <td>black</td>\n",
       "      <td>NaN</td>\n",
       "      <td>2018-07-02</td>\n",
       "      <td>71</td>\n",
       "    </tr>\n",
       "    <tr>\n",
       "      <th>51524</th>\n",
       "      <td>6300</td>\n",
       "      <td>2014.0</td>\n",
       "      <td>nissan altima</td>\n",
       "      <td>good</td>\n",
       "      <td>4.0</td>\n",
       "      <td>gas</td>\n",
       "      <td>NaN</td>\n",
       "      <td>automatic</td>\n",
       "      <td>sedan</td>\n",
       "      <td>NaN</td>\n",
       "      <td>NaN</td>\n",
       "      <td>2018-06-05</td>\n",
       "      <td>10</td>\n",
       "    </tr>\n",
       "  </tbody>\n",
       "</table>\n",
       "<p>51525 rows × 13 columns</p>\n",
       "</div>"
      ],
      "text/plain": [
       "       price  model_year           model  condition  cylinders fuel  odometer  \\\n",
       "0       9400      2011.0          bmw x5       good        6.0  gas  145000.0   \n",
       "1      25500         NaN      ford f-150       good        6.0  gas   88705.0   \n",
       "2       5500      2013.0  hyundai sonata   like new        4.0  gas  110000.0   \n",
       "3       1500      2003.0      ford f-150       fair        8.0  gas       NaN   \n",
       "4      14900      2017.0    chrysler 200  excellent        4.0  gas   80903.0   \n",
       "...      ...         ...             ...        ...        ...  ...       ...   \n",
       "51520   9249      2013.0   nissan maxima   like new        6.0  gas   88136.0   \n",
       "51521   2700      2002.0     honda civic    salvage        4.0  gas  181500.0   \n",
       "51522   3950      2009.0  hyundai sonata  excellent        4.0  gas  128000.0   \n",
       "51523   7455      2013.0  toyota corolla       good        4.0  gas  139573.0   \n",
       "51524   6300      2014.0   nissan altima       good        4.0  gas       NaN   \n",
       "\n",
       "      transmission    type paint_color  is_4wd date_posted  days_listed  \n",
       "0        automatic     SUV         NaN     1.0  2018-06-23           19  \n",
       "1        automatic  pickup       white     1.0  2018-10-19           50  \n",
       "2        automatic   sedan         red     NaN  2019-02-07           79  \n",
       "3        automatic  pickup         NaN     NaN  2019-03-22            9  \n",
       "4        automatic   sedan       black     NaN  2019-04-02           28  \n",
       "...            ...     ...         ...     ...         ...          ...  \n",
       "51520    automatic   sedan       black     NaN  2018-10-03           37  \n",
       "51521    automatic   sedan       white     NaN  2018-11-14           22  \n",
       "51522    automatic   sedan        blue     NaN  2018-11-15           32  \n",
       "51523    automatic   sedan       black     NaN  2018-07-02           71  \n",
       "51524    automatic   sedan         NaN     NaN  2018-06-05           10  \n",
       "\n",
       "[51525 rows x 13 columns]"
      ]
     },
     "execution_count": 2,
     "metadata": {},
     "output_type": "execute_result"
    }
   ],
   "source": [
    "# Try and except datasets\n",
    "try:\n",
    "    data = pd.read_csv('vehicles_us.csv')\n",
    "except:\n",
    "    data = pd.read_csv('/datasets/vehicles_us.csv')\n",
    "data"
   ]
  },
  {
   "cell_type": "markdown",
   "metadata": {},
   "source": [
    "## 1.2. Mengeksplorasi Data Awal"
   ]
  },
  {
   "cell_type": "markdown",
   "metadata": {},
   "source": [
    "**Deskripsi Data:**\n",
    "\n",
    "\n",
    "- `price` — Harga mobil\n",
    "- `model_year` — Tahun produksi mobil\n",
    "- `model` — Merk dan seri mobil\n",
    "- `condition` — Kondisi mobil\n",
    "- `cylinders` — Jumlah silinder mesin mobil\n",
    "- `fuel` — Gas, disel, dan lain-lain.\n",
    "- `odometer` — Jarak tempuh kendaraan saat iklan ditayangkan\n",
    "- `transmission` — Tipe transisi mobil\n",
    "- `type` — Tipe mobil\n",
    "- `paint_color` — Warna mobil\n",
    "- `is_4wd` — Apakah kendaraan memiliki penggerak 4 roda (tipe Boolean)\n",
    "- `date_posted` — Tanggal iklan ditayangkan\n",
    "- `days_listed` — Jumlah hari iklan ditayangkan hingga dihapus"
   ]
  },
  {
   "cell_type": "code",
   "execution_count": 3,
   "metadata": {
    "scrolled": true
   },
   "outputs": [
    {
     "name": "stdout",
     "output_type": "stream",
     "text": [
      "<class 'pandas.core.frame.DataFrame'>\n",
      "RangeIndex: 51525 entries, 0 to 51524\n",
      "Data columns (total 13 columns):\n",
      " #   Column        Non-Null Count  Dtype  \n",
      "---  ------        --------------  -----  \n",
      " 0   price         51525 non-null  int64  \n",
      " 1   model_year    47906 non-null  float64\n",
      " 2   model         51525 non-null  object \n",
      " 3   condition     51525 non-null  object \n",
      " 4   cylinders     46265 non-null  float64\n",
      " 5   fuel          51525 non-null  object \n",
      " 6   odometer      43633 non-null  float64\n",
      " 7   transmission  51525 non-null  object \n",
      " 8   type          51525 non-null  object \n",
      " 9   paint_color   42258 non-null  object \n",
      " 10  is_4wd        25572 non-null  float64\n",
      " 11  date_posted   51525 non-null  object \n",
      " 12  days_listed   51525 non-null  int64  \n",
      "dtypes: float64(4), int64(2), object(7)\n",
      "memory usage: 5.1+ MB\n"
     ]
    }
   ],
   "source": [
    "# Check data info\n",
    "data.info()"
   ]
  },
  {
   "cell_type": "code",
   "execution_count": 4,
   "metadata": {
    "scrolled": false
   },
   "outputs": [
    {
     "data": {
      "text/html": [
       "<div>\n",
       "<style scoped>\n",
       "    .dataframe tbody tr th:only-of-type {\n",
       "        vertical-align: middle;\n",
       "    }\n",
       "\n",
       "    .dataframe tbody tr th {\n",
       "        vertical-align: top;\n",
       "    }\n",
       "\n",
       "    .dataframe thead th {\n",
       "        text-align: right;\n",
       "    }\n",
       "</style>\n",
       "<table border=\"1\" class=\"dataframe\">\n",
       "  <thead>\n",
       "    <tr style=\"text-align: right;\">\n",
       "      <th></th>\n",
       "      <th>price</th>\n",
       "      <th>model_year</th>\n",
       "      <th>model</th>\n",
       "      <th>condition</th>\n",
       "      <th>cylinders</th>\n",
       "      <th>fuel</th>\n",
       "      <th>odometer</th>\n",
       "      <th>transmission</th>\n",
       "      <th>type</th>\n",
       "      <th>paint_color</th>\n",
       "      <th>is_4wd</th>\n",
       "      <th>date_posted</th>\n",
       "      <th>days_listed</th>\n",
       "    </tr>\n",
       "  </thead>\n",
       "  <tbody>\n",
       "    <tr>\n",
       "      <th>0</th>\n",
       "      <td>9400</td>\n",
       "      <td>2011.0</td>\n",
       "      <td>bmw x5</td>\n",
       "      <td>good</td>\n",
       "      <td>6.0</td>\n",
       "      <td>gas</td>\n",
       "      <td>145000.0</td>\n",
       "      <td>automatic</td>\n",
       "      <td>SUV</td>\n",
       "      <td>NaN</td>\n",
       "      <td>1.0</td>\n",
       "      <td>2018-06-23</td>\n",
       "      <td>19</td>\n",
       "    </tr>\n",
       "    <tr>\n",
       "      <th>1</th>\n",
       "      <td>25500</td>\n",
       "      <td>NaN</td>\n",
       "      <td>ford f-150</td>\n",
       "      <td>good</td>\n",
       "      <td>6.0</td>\n",
       "      <td>gas</td>\n",
       "      <td>88705.0</td>\n",
       "      <td>automatic</td>\n",
       "      <td>pickup</td>\n",
       "      <td>white</td>\n",
       "      <td>1.0</td>\n",
       "      <td>2018-10-19</td>\n",
       "      <td>50</td>\n",
       "    </tr>\n",
       "    <tr>\n",
       "      <th>2</th>\n",
       "      <td>5500</td>\n",
       "      <td>2013.0</td>\n",
       "      <td>hyundai sonata</td>\n",
       "      <td>like new</td>\n",
       "      <td>4.0</td>\n",
       "      <td>gas</td>\n",
       "      <td>110000.0</td>\n",
       "      <td>automatic</td>\n",
       "      <td>sedan</td>\n",
       "      <td>red</td>\n",
       "      <td>NaN</td>\n",
       "      <td>2019-02-07</td>\n",
       "      <td>79</td>\n",
       "    </tr>\n",
       "    <tr>\n",
       "      <th>3</th>\n",
       "      <td>1500</td>\n",
       "      <td>2003.0</td>\n",
       "      <td>ford f-150</td>\n",
       "      <td>fair</td>\n",
       "      <td>8.0</td>\n",
       "      <td>gas</td>\n",
       "      <td>NaN</td>\n",
       "      <td>automatic</td>\n",
       "      <td>pickup</td>\n",
       "      <td>NaN</td>\n",
       "      <td>NaN</td>\n",
       "      <td>2019-03-22</td>\n",
       "      <td>9</td>\n",
       "    </tr>\n",
       "    <tr>\n",
       "      <th>4</th>\n",
       "      <td>14900</td>\n",
       "      <td>2017.0</td>\n",
       "      <td>chrysler 200</td>\n",
       "      <td>excellent</td>\n",
       "      <td>4.0</td>\n",
       "      <td>gas</td>\n",
       "      <td>80903.0</td>\n",
       "      <td>automatic</td>\n",
       "      <td>sedan</td>\n",
       "      <td>black</td>\n",
       "      <td>NaN</td>\n",
       "      <td>2019-04-02</td>\n",
       "      <td>28</td>\n",
       "    </tr>\n",
       "    <tr>\n",
       "      <th>5</th>\n",
       "      <td>14990</td>\n",
       "      <td>2014.0</td>\n",
       "      <td>chrysler 300</td>\n",
       "      <td>excellent</td>\n",
       "      <td>6.0</td>\n",
       "      <td>gas</td>\n",
       "      <td>57954.0</td>\n",
       "      <td>automatic</td>\n",
       "      <td>sedan</td>\n",
       "      <td>black</td>\n",
       "      <td>1.0</td>\n",
       "      <td>2018-06-20</td>\n",
       "      <td>15</td>\n",
       "    </tr>\n",
       "    <tr>\n",
       "      <th>6</th>\n",
       "      <td>12990</td>\n",
       "      <td>2015.0</td>\n",
       "      <td>toyota camry</td>\n",
       "      <td>excellent</td>\n",
       "      <td>4.0</td>\n",
       "      <td>gas</td>\n",
       "      <td>79212.0</td>\n",
       "      <td>automatic</td>\n",
       "      <td>sedan</td>\n",
       "      <td>white</td>\n",
       "      <td>NaN</td>\n",
       "      <td>2018-12-27</td>\n",
       "      <td>73</td>\n",
       "    </tr>\n",
       "    <tr>\n",
       "      <th>7</th>\n",
       "      <td>15990</td>\n",
       "      <td>2013.0</td>\n",
       "      <td>honda pilot</td>\n",
       "      <td>excellent</td>\n",
       "      <td>6.0</td>\n",
       "      <td>gas</td>\n",
       "      <td>109473.0</td>\n",
       "      <td>automatic</td>\n",
       "      <td>SUV</td>\n",
       "      <td>black</td>\n",
       "      <td>1.0</td>\n",
       "      <td>2019-01-07</td>\n",
       "      <td>68</td>\n",
       "    </tr>\n",
       "    <tr>\n",
       "      <th>8</th>\n",
       "      <td>11500</td>\n",
       "      <td>2012.0</td>\n",
       "      <td>kia sorento</td>\n",
       "      <td>excellent</td>\n",
       "      <td>4.0</td>\n",
       "      <td>gas</td>\n",
       "      <td>104174.0</td>\n",
       "      <td>automatic</td>\n",
       "      <td>SUV</td>\n",
       "      <td>NaN</td>\n",
       "      <td>1.0</td>\n",
       "      <td>2018-07-16</td>\n",
       "      <td>19</td>\n",
       "    </tr>\n",
       "    <tr>\n",
       "      <th>9</th>\n",
       "      <td>9200</td>\n",
       "      <td>2008.0</td>\n",
       "      <td>honda pilot</td>\n",
       "      <td>excellent</td>\n",
       "      <td>NaN</td>\n",
       "      <td>gas</td>\n",
       "      <td>147191.0</td>\n",
       "      <td>automatic</td>\n",
       "      <td>SUV</td>\n",
       "      <td>blue</td>\n",
       "      <td>1.0</td>\n",
       "      <td>2019-02-15</td>\n",
       "      <td>17</td>\n",
       "    </tr>\n",
       "  </tbody>\n",
       "</table>\n",
       "</div>"
      ],
      "text/plain": [
       "   price  model_year           model  condition  cylinders fuel  odometer  \\\n",
       "0   9400      2011.0          bmw x5       good        6.0  gas  145000.0   \n",
       "1  25500         NaN      ford f-150       good        6.0  gas   88705.0   \n",
       "2   5500      2013.0  hyundai sonata   like new        4.0  gas  110000.0   \n",
       "3   1500      2003.0      ford f-150       fair        8.0  gas       NaN   \n",
       "4  14900      2017.0    chrysler 200  excellent        4.0  gas   80903.0   \n",
       "5  14990      2014.0    chrysler 300  excellent        6.0  gas   57954.0   \n",
       "6  12990      2015.0    toyota camry  excellent        4.0  gas   79212.0   \n",
       "7  15990      2013.0     honda pilot  excellent        6.0  gas  109473.0   \n",
       "8  11500      2012.0     kia sorento  excellent        4.0  gas  104174.0   \n",
       "9   9200      2008.0     honda pilot  excellent        NaN  gas  147191.0   \n",
       "\n",
       "  transmission    type paint_color  is_4wd date_posted  days_listed  \n",
       "0    automatic     SUV         NaN     1.0  2018-06-23           19  \n",
       "1    automatic  pickup       white     1.0  2018-10-19           50  \n",
       "2    automatic   sedan         red     NaN  2019-02-07           79  \n",
       "3    automatic  pickup         NaN     NaN  2019-03-22            9  \n",
       "4    automatic   sedan       black     NaN  2019-04-02           28  \n",
       "5    automatic   sedan       black     1.0  2018-06-20           15  \n",
       "6    automatic   sedan       white     NaN  2018-12-27           73  \n",
       "7    automatic     SUV       black     1.0  2019-01-07           68  \n",
       "8    automatic     SUV         NaN     1.0  2018-07-16           19  \n",
       "9    automatic     SUV        blue     1.0  2019-02-15           17  "
      ]
     },
     "execution_count": 4,
     "metadata": {},
     "output_type": "execute_result"
    }
   ],
   "source": [
    "# Check first 10 data\n",
    "data.head(10)"
   ]
  },
  {
   "cell_type": "code",
   "execution_count": 5,
   "metadata": {},
   "outputs": [
    {
     "data": {
      "text/html": [
       "<div>\n",
       "<style scoped>\n",
       "    .dataframe tbody tr th:only-of-type {\n",
       "        vertical-align: middle;\n",
       "    }\n",
       "\n",
       "    .dataframe tbody tr th {\n",
       "        vertical-align: top;\n",
       "    }\n",
       "\n",
       "    .dataframe thead th {\n",
       "        text-align: right;\n",
       "    }\n",
       "</style>\n",
       "<table border=\"1\" class=\"dataframe\">\n",
       "  <thead>\n",
       "    <tr style=\"text-align: right;\">\n",
       "      <th></th>\n",
       "      <th>price</th>\n",
       "      <th>model_year</th>\n",
       "      <th>model</th>\n",
       "      <th>condition</th>\n",
       "      <th>cylinders</th>\n",
       "      <th>fuel</th>\n",
       "      <th>odometer</th>\n",
       "      <th>transmission</th>\n",
       "      <th>type</th>\n",
       "      <th>paint_color</th>\n",
       "      <th>is_4wd</th>\n",
       "      <th>date_posted</th>\n",
       "      <th>days_listed</th>\n",
       "    </tr>\n",
       "  </thead>\n",
       "  <tbody>\n",
       "    <tr>\n",
       "      <th>13804</th>\n",
       "      <td>7995</td>\n",
       "      <td>2005.0</td>\n",
       "      <td>toyota tundra</td>\n",
       "      <td>excellent</td>\n",
       "      <td>8.0</td>\n",
       "      <td>gas</td>\n",
       "      <td>152000.0</td>\n",
       "      <td>automatic</td>\n",
       "      <td>truck</td>\n",
       "      <td>NaN</td>\n",
       "      <td>NaN</td>\n",
       "      <td>2018-06-10</td>\n",
       "      <td>47</td>\n",
       "    </tr>\n",
       "    <tr>\n",
       "      <th>24278</th>\n",
       "      <td>12900</td>\n",
       "      <td>2008.0</td>\n",
       "      <td>ram 1500</td>\n",
       "      <td>like new</td>\n",
       "      <td>8.0</td>\n",
       "      <td>gas</td>\n",
       "      <td>159794.0</td>\n",
       "      <td>automatic</td>\n",
       "      <td>pickup</td>\n",
       "      <td>grey</td>\n",
       "      <td>1.0</td>\n",
       "      <td>2019-03-05</td>\n",
       "      <td>60</td>\n",
       "    </tr>\n",
       "    <tr>\n",
       "      <th>4065</th>\n",
       "      <td>28500</td>\n",
       "      <td>NaN</td>\n",
       "      <td>ford f150 supercrew cab xlt</td>\n",
       "      <td>good</td>\n",
       "      <td>6.0</td>\n",
       "      <td>gas</td>\n",
       "      <td>44044.0</td>\n",
       "      <td>other</td>\n",
       "      <td>pickup</td>\n",
       "      <td>black</td>\n",
       "      <td>1.0</td>\n",
       "      <td>2018-09-30</td>\n",
       "      <td>67</td>\n",
       "    </tr>\n",
       "    <tr>\n",
       "      <th>46672</th>\n",
       "      <td>8500</td>\n",
       "      <td>2015.0</td>\n",
       "      <td>hyundai sonata</td>\n",
       "      <td>good</td>\n",
       "      <td>4.0</td>\n",
       "      <td>gas</td>\n",
       "      <td>171000.0</td>\n",
       "      <td>automatic</td>\n",
       "      <td>sedan</td>\n",
       "      <td>silver</td>\n",
       "      <td>NaN</td>\n",
       "      <td>2018-09-27</td>\n",
       "      <td>30</td>\n",
       "    </tr>\n",
       "    <tr>\n",
       "      <th>47236</th>\n",
       "      <td>7800</td>\n",
       "      <td>2016.0</td>\n",
       "      <td>chevrolet cruze</td>\n",
       "      <td>good</td>\n",
       "      <td>4.0</td>\n",
       "      <td>gas</td>\n",
       "      <td>132078.0</td>\n",
       "      <td>automatic</td>\n",
       "      <td>sedan</td>\n",
       "      <td>silver</td>\n",
       "      <td>NaN</td>\n",
       "      <td>2018-06-07</td>\n",
       "      <td>17</td>\n",
       "    </tr>\n",
       "    <tr>\n",
       "      <th>47412</th>\n",
       "      <td>4999</td>\n",
       "      <td>2005.0</td>\n",
       "      <td>subaru outback</td>\n",
       "      <td>excellent</td>\n",
       "      <td>6.0</td>\n",
       "      <td>gas</td>\n",
       "      <td>187100.0</td>\n",
       "      <td>automatic</td>\n",
       "      <td>SUV</td>\n",
       "      <td>silver</td>\n",
       "      <td>1.0</td>\n",
       "      <td>2018-09-15</td>\n",
       "      <td>9</td>\n",
       "    </tr>\n",
       "    <tr>\n",
       "      <th>5668</th>\n",
       "      <td>7995</td>\n",
       "      <td>2013.0</td>\n",
       "      <td>toyota tacoma</td>\n",
       "      <td>good</td>\n",
       "      <td>4.0</td>\n",
       "      <td>gas</td>\n",
       "      <td>170000.0</td>\n",
       "      <td>automatic</td>\n",
       "      <td>truck</td>\n",
       "      <td>white</td>\n",
       "      <td>NaN</td>\n",
       "      <td>2018-08-02</td>\n",
       "      <td>6</td>\n",
       "    </tr>\n",
       "    <tr>\n",
       "      <th>5040</th>\n",
       "      <td>2500</td>\n",
       "      <td>1985.0</td>\n",
       "      <td>ford mustang</td>\n",
       "      <td>fair</td>\n",
       "      <td>8.0</td>\n",
       "      <td>gas</td>\n",
       "      <td>100000.0</td>\n",
       "      <td>manual</td>\n",
       "      <td>coupe</td>\n",
       "      <td>black</td>\n",
       "      <td>NaN</td>\n",
       "      <td>2018-05-11</td>\n",
       "      <td>49</td>\n",
       "    </tr>\n",
       "    <tr>\n",
       "      <th>26927</th>\n",
       "      <td>28900</td>\n",
       "      <td>2015.0</td>\n",
       "      <td>ford f-150</td>\n",
       "      <td>good</td>\n",
       "      <td>6.0</td>\n",
       "      <td>gas</td>\n",
       "      <td>117397.0</td>\n",
       "      <td>automatic</td>\n",
       "      <td>truck</td>\n",
       "      <td>white</td>\n",
       "      <td>1.0</td>\n",
       "      <td>2018-11-02</td>\n",
       "      <td>46</td>\n",
       "    </tr>\n",
       "    <tr>\n",
       "      <th>21550</th>\n",
       "      <td>4900</td>\n",
       "      <td>2013.0</td>\n",
       "      <td>nissan versa</td>\n",
       "      <td>fair</td>\n",
       "      <td>4.0</td>\n",
       "      <td>gas</td>\n",
       "      <td>98185.0</td>\n",
       "      <td>automatic</td>\n",
       "      <td>sedan</td>\n",
       "      <td>silver</td>\n",
       "      <td>NaN</td>\n",
       "      <td>2018-10-13</td>\n",
       "      <td>39</td>\n",
       "    </tr>\n",
       "  </tbody>\n",
       "</table>\n",
       "</div>"
      ],
      "text/plain": [
       "       price  model_year                        model  condition  cylinders  \\\n",
       "13804   7995      2005.0                toyota tundra  excellent        8.0   \n",
       "24278  12900      2008.0                     ram 1500   like new        8.0   \n",
       "4065   28500         NaN  ford f150 supercrew cab xlt       good        6.0   \n",
       "46672   8500      2015.0               hyundai sonata       good        4.0   \n",
       "47236   7800      2016.0              chevrolet cruze       good        4.0   \n",
       "47412   4999      2005.0               subaru outback  excellent        6.0   \n",
       "5668    7995      2013.0                toyota tacoma       good        4.0   \n",
       "5040    2500      1985.0                 ford mustang       fair        8.0   \n",
       "26927  28900      2015.0                   ford f-150       good        6.0   \n",
       "21550   4900      2013.0                 nissan versa       fair        4.0   \n",
       "\n",
       "      fuel  odometer transmission    type paint_color  is_4wd date_posted  \\\n",
       "13804  gas  152000.0    automatic   truck         NaN     NaN  2018-06-10   \n",
       "24278  gas  159794.0    automatic  pickup        grey     1.0  2019-03-05   \n",
       "4065   gas   44044.0        other  pickup       black     1.0  2018-09-30   \n",
       "46672  gas  171000.0    automatic   sedan      silver     NaN  2018-09-27   \n",
       "47236  gas  132078.0    automatic   sedan      silver     NaN  2018-06-07   \n",
       "47412  gas  187100.0    automatic     SUV      silver     1.0  2018-09-15   \n",
       "5668   gas  170000.0    automatic   truck       white     NaN  2018-08-02   \n",
       "5040   gas  100000.0       manual   coupe       black     NaN  2018-05-11   \n",
       "26927  gas  117397.0    automatic   truck       white     1.0  2018-11-02   \n",
       "21550  gas   98185.0    automatic   sedan      silver     NaN  2018-10-13   \n",
       "\n",
       "       days_listed  \n",
       "13804           47  \n",
       "24278           60  \n",
       "4065            67  \n",
       "46672           30  \n",
       "47236           17  \n",
       "47412            9  \n",
       "5668             6  \n",
       "5040            49  \n",
       "26927           46  \n",
       "21550           39  "
      ]
     },
     "execution_count": 5,
     "metadata": {},
     "output_type": "execute_result"
    }
   ],
   "source": [
    "# Check 10 sample data\n",
    "data.sample(10)"
   ]
  },
  {
   "cell_type": "markdown",
   "metadata": {},
   "source": [
    "**Kesimpulan Sementara :**\n",
    "\n",
    "- Terlihat bahwa terdapat beberapa nilai yang hilang pada data 10 baris pertama.\n",
    "- Agar lebih rapi, kolom model_year sebaiknya diubah menjadi tipe data integer.\n",
    "- Untuk membuat kolom condition lebih rapi, sebaiknya nilai string diubah menjadi skala numerik.\n",
    "- Agar lebih sesuai format, sebaiknya kolom date_posted diubah menjadi tipe data datetime64."
   ]
  },
  {
   "cell_type": "code",
   "execution_count": 6,
   "metadata": {},
   "outputs": [
    {
     "data": {
      "text/plain": [
       "is_4wd          25953\n",
       "paint_color      9267\n",
       "odometer         7892\n",
       "cylinders        5260\n",
       "model_year       3619\n",
       "price               0\n",
       "model               0\n",
       "condition           0\n",
       "fuel                0\n",
       "transmission        0\n",
       "type                0\n",
       "date_posted         0\n",
       "days_listed         0\n",
       "dtype: int64"
      ]
     },
     "execution_count": 6,
     "metadata": {},
     "output_type": "execute_result"
    }
   ],
   "source": [
    "# Check total missing values descending\n",
    "data.isna().sum().sort_values(ascending=False)"
   ]
  },
  {
   "cell_type": "code",
   "execution_count": 7,
   "metadata": {},
   "outputs": [
    {
     "name": "stdout",
     "output_type": "stream",
     "text": [
      "['automatic' 'manual' 'other']\n",
      "['SUV' 'pickup' 'sedan' 'truck' 'coupe' 'van' 'convertible' 'hatchback'\n",
      " 'wagon' 'mini-van' 'other' 'offroad' 'bus']\n"
     ]
    }
   ],
   "source": [
    "# Check unique data from 'transmisson' and 'type' column\n",
    "print(data['transmission'].unique())\n",
    "print(data['type'].unique())"
   ]
  },
  {
   "cell_type": "code",
   "execution_count": 8,
   "metadata": {},
   "outputs": [
    {
     "data": {
      "text/plain": [
       "0"
      ]
     },
     "execution_count": 8,
     "metadata": {},
     "output_type": "execute_result"
    }
   ],
   "source": [
    "# Check duplicated data\n",
    "data.duplicated().sum()"
   ]
  },
  {
   "cell_type": "markdown",
   "metadata": {},
   "source": [
    "**Kesimpulan Sementara:**\n",
    "\n",
    "- Dari data tersebut terlihat bahwa beberapa kolom seperti model_year, cylinders, odometer, paint_color, dan is_4wd memiliki nilai yang hilang yang perlu dianalisis lebih lanjut.\n",
    "- Kolom transmission dan type terdapat nilai \"other\" yang perlu dianalisis lebih lanjut untuk memahami apakah nilai tersebut valid atau tidak.\n",
    "- Dapat dilihat bahwa dataset tidak memiliki duplikat pada datanya, sehingga tidak diperlukan tindakan untuk menghapus data duplikat."
   ]
  },
  {
   "cell_type": "code",
   "execution_count": 9,
   "metadata": {},
   "outputs": [
    {
     "data": {
      "text/html": [
       "<div>\n",
       "<style scoped>\n",
       "    .dataframe tbody tr th:only-of-type {\n",
       "        vertical-align: middle;\n",
       "    }\n",
       "\n",
       "    .dataframe tbody tr th {\n",
       "        vertical-align: top;\n",
       "    }\n",
       "\n",
       "    .dataframe thead th {\n",
       "        text-align: right;\n",
       "    }\n",
       "</style>\n",
       "<table border=\"1\" class=\"dataframe\">\n",
       "  <thead>\n",
       "    <tr style=\"text-align: right;\">\n",
       "      <th></th>\n",
       "      <th>price</th>\n",
       "      <th>model_year</th>\n",
       "      <th>cylinders</th>\n",
       "      <th>odometer</th>\n",
       "      <th>is_4wd</th>\n",
       "      <th>days_listed</th>\n",
       "    </tr>\n",
       "  </thead>\n",
       "  <tbody>\n",
       "    <tr>\n",
       "      <th>count</th>\n",
       "      <td>51525.000000</td>\n",
       "      <td>47906.000000</td>\n",
       "      <td>46265.000000</td>\n",
       "      <td>43633.000000</td>\n",
       "      <td>25572.0</td>\n",
       "      <td>51525.00000</td>\n",
       "    </tr>\n",
       "    <tr>\n",
       "      <th>mean</th>\n",
       "      <td>12132.464920</td>\n",
       "      <td>2009.750470</td>\n",
       "      <td>6.125235</td>\n",
       "      <td>115553.461738</td>\n",
       "      <td>1.0</td>\n",
       "      <td>39.55476</td>\n",
       "    </tr>\n",
       "    <tr>\n",
       "      <th>std</th>\n",
       "      <td>10040.803015</td>\n",
       "      <td>6.282065</td>\n",
       "      <td>1.660360</td>\n",
       "      <td>65094.611341</td>\n",
       "      <td>0.0</td>\n",
       "      <td>28.20427</td>\n",
       "    </tr>\n",
       "    <tr>\n",
       "      <th>min</th>\n",
       "      <td>1.000000</td>\n",
       "      <td>1908.000000</td>\n",
       "      <td>3.000000</td>\n",
       "      <td>0.000000</td>\n",
       "      <td>1.0</td>\n",
       "      <td>0.00000</td>\n",
       "    </tr>\n",
       "    <tr>\n",
       "      <th>25%</th>\n",
       "      <td>5000.000000</td>\n",
       "      <td>2006.000000</td>\n",
       "      <td>4.000000</td>\n",
       "      <td>70000.000000</td>\n",
       "      <td>1.0</td>\n",
       "      <td>19.00000</td>\n",
       "    </tr>\n",
       "    <tr>\n",
       "      <th>50%</th>\n",
       "      <td>9000.000000</td>\n",
       "      <td>2011.000000</td>\n",
       "      <td>6.000000</td>\n",
       "      <td>113000.000000</td>\n",
       "      <td>1.0</td>\n",
       "      <td>33.00000</td>\n",
       "    </tr>\n",
       "    <tr>\n",
       "      <th>75%</th>\n",
       "      <td>16839.000000</td>\n",
       "      <td>2014.000000</td>\n",
       "      <td>8.000000</td>\n",
       "      <td>155000.000000</td>\n",
       "      <td>1.0</td>\n",
       "      <td>53.00000</td>\n",
       "    </tr>\n",
       "    <tr>\n",
       "      <th>max</th>\n",
       "      <td>375000.000000</td>\n",
       "      <td>2019.000000</td>\n",
       "      <td>12.000000</td>\n",
       "      <td>990000.000000</td>\n",
       "      <td>1.0</td>\n",
       "      <td>271.00000</td>\n",
       "    </tr>\n",
       "  </tbody>\n",
       "</table>\n",
       "</div>"
      ],
      "text/plain": [
       "               price    model_year     cylinders       odometer   is_4wd  \\\n",
       "count   51525.000000  47906.000000  46265.000000   43633.000000  25572.0   \n",
       "mean    12132.464920   2009.750470      6.125235  115553.461738      1.0   \n",
       "std     10040.803015      6.282065      1.660360   65094.611341      0.0   \n",
       "min         1.000000   1908.000000      3.000000       0.000000      1.0   \n",
       "25%      5000.000000   2006.000000      4.000000   70000.000000      1.0   \n",
       "50%      9000.000000   2011.000000      6.000000  113000.000000      1.0   \n",
       "75%     16839.000000   2014.000000      8.000000  155000.000000      1.0   \n",
       "max    375000.000000   2019.000000     12.000000  990000.000000      1.0   \n",
       "\n",
       "       days_listed  \n",
       "count  51525.00000  \n",
       "mean      39.55476  \n",
       "std       28.20427  \n",
       "min        0.00000  \n",
       "25%       19.00000  \n",
       "50%       33.00000  \n",
       "75%       53.00000  \n",
       "max      271.00000  "
      ]
     },
     "execution_count": 9,
     "metadata": {},
     "output_type": "execute_result"
    }
   ],
   "source": [
    "# Calculating some statistical data \n",
    "data.describe()"
   ]
  },
  {
   "cell_type": "markdown",
   "metadata": {},
   "source": [
    "**Keseimpulan Sementara:**\n",
    "\n",
    "Perlu dilakukan analisis lebih lanjut pada kolom `price` karena terdapat nilai yang tidak wajar, yaitu nilai minimum adalah 1.000000, sehingga perlu dicari penyebabnya."
   ]
  },
  {
   "cell_type": "markdown",
   "metadata": {},
   "source": [
    "### Kesimpulan dan Langkah-Langkah Selanjutnya\n",
    "\n",
    "#### Nilai yang Hilang\n",
    "\n",
    "Setiap baris dalam tabel berisi informasi tentang harga mobil yang telah dijual. Terdapat beberapa kolom yang memberikan deskripsi tentang mobil itu sendiri, seperti tahun produksi, merek, kondisi, silinder mesin, tipe bahan bakar, jarak tempuh, tipe transmisi, tipe mobil, warna, dan apakah mobil tersebut memiliki penggerak empat roda. Sementara itu, ada juga kolom yang menyimpan informasi terkait iklan mobil yang telah ditayangkan, seperti tanggal dan lama iklan ditayangkan sebelum dihapus.\n",
    "\n",
    "Data yang tersedia sudah cukup untuk dilakukan pengujian hipotesis, namun terdapat beberapa nilai yang hilang pada dataset tersebut.\n",
    "\n",
    "- Nilai-nilai yang hilang dalam kolom cylinders dan is_4wd tidak begitu penting dan dapat diganti dengan penanda yang jelas.\n",
    "- Nilai-nilai yang hilang dalam kolom model_year, odometer, dan paint_color perlu di-evaluasi karena dapat memengaruhi perbandingan harga mobil. Namun, alasan mengapa data tersebut hilang belum diketahui dalam proyek ini.\n",
    "\n",
    "Data yang hilang dapat memberikan informasi penting untuk memperbaiki data dan menghindari bias dalam analisis, namun keterbatasan dalam proyek ini mengharuskan fokus pada analisis yang dapat dilakukan dengan data yang tersedia.\n",
    "\n",
    "#### Gaya Penulisan\n",
    "\n",
    "Setelah menyelesaikan nilai yang hilang, selanjutnya mulai untuk merapihkan data.\n",
    "\n",
    "- Konversi nilai pada kolom `model_year` ke tipe data integer.\n",
    "- Transformasi nilai pada kolom `condition` menjadi skala angka.\n",
    "- Konversi tipe data kolom `date_posted` menjadi datetime64.\n",
    "- Tambahkan informasi hari dalam minggu, bulan, dan tahun pada data iklan yang ditayangkan.\n",
    "- Tambahkan kolom baru yang menunjukkan usia kendaraan (dalam tahun) saat iklan ditayangkan dan rata-rata jarak tempuh kendaraan per tahun.\n",
    "\n",
    "#### Duplikat\n",
    "\n",
    "Data tidak memiliki duplikat, sehingga tidak perlu dilakukan analisis duplikat awal.\n",
    "\n",
    "#### Anomali Data \n",
    "\n",
    "Setelah pemeriksaan duplikat, perlu memperhatikan data anomali yang dapat mempengaruhi analisis penelitian.\n",
    "\n",
    "- Kolom `price` memiliki nilai yang tidak wajar, yaitu 1.000.000 pada harga mobil.\n",
    "- Pada kolom `transmission` dan `type` terdapat nilai \"other\" yang seharusnya diketahui karena merupakan data yang mendeskripsikan mobil."
   ]
  },
  {
   "cell_type": "markdown",
   "metadata": {},
   "source": [
    "## 1.3. Mengatasi Nilai-Nilai yang Hilang"
   ]
  },
  {
   "cell_type": "code",
   "execution_count": 10,
   "metadata": {},
   "outputs": [
    {
     "data": {
      "text/plain": [
       "is_4wd          25953\n",
       "paint_color      9267\n",
       "odometer         7892\n",
       "cylinders        5260\n",
       "model_year       3619\n",
       "price               0\n",
       "model               0\n",
       "condition           0\n",
       "fuel                0\n",
       "transmission        0\n",
       "type                0\n",
       "date_posted         0\n",
       "days_listed         0\n",
       "dtype: int64"
      ]
     },
     "execution_count": 10,
     "metadata": {},
     "output_type": "execute_result"
    }
   ],
   "source": [
    "# Check total missing values descending\n",
    "data.isna().sum().sort_values(ascending=False)"
   ]
  },
  {
   "cell_type": "markdown",
   "metadata": {},
   "source": [
    "**Langkah awal** untuk menangani nilai-nilai yang hilang adalah dengan menghitung persentasenya, dan membandingkannya dengan keseluruhan data untuk mengetahui dampak nilai-nilai yang hilang terhadap dataset."
   ]
  },
  {
   "cell_type": "code",
   "execution_count": 11,
   "metadata": {},
   "outputs": [
    {
     "name": "stdout",
     "output_type": "stream",
     "text": [
      "Kolom price: 0.00% nilai yang hilang.\n",
      "Kolom model_year: 7.02% nilai yang hilang.\n",
      "Kolom model: 0.00% nilai yang hilang.\n",
      "Kolom condition: 0.00% nilai yang hilang.\n",
      "Kolom cylinders: 10.21% nilai yang hilang.\n",
      "Kolom fuel: 0.00% nilai yang hilang.\n",
      "Kolom odometer: 15.32% nilai yang hilang.\n",
      "Kolom transmission: 0.00% nilai yang hilang.\n",
      "Kolom type: 0.00% nilai yang hilang.\n",
      "Kolom paint_color: 17.99% nilai yang hilang.\n",
      "Kolom is_4wd: 50.37% nilai yang hilang.\n",
      "Kolom date_posted: 0.00% nilai yang hilang.\n",
      "Kolom days_listed: 0.00% nilai yang hilang.\n"
     ]
    }
   ],
   "source": [
    "# Loop for checking the percentage of missing values per total values each column\n",
    "for col in data.columns:\n",
    "    missing = data[col].isnull().sum()\n",
    "    total = data[col].shape[0]\n",
    "    percent = (missing/total) * 100\n",
    "    print(f\"Kolom {col}: {percent:.2f}% nilai yang hilang.\")"
   ]
  },
  {
   "cell_type": "markdown",
   "metadata": {},
   "source": [
    "**Kesimpulan Sementara :**\n",
    "\n",
    "- Persentase data yang hilang pada kolom `is_4wd` adalah 50.37%.\n",
    "- Persentase data yang hilang pada kolom `paint_color` adalah 17.99%.\n",
    "- Persentase data yang hilang pada kolom `odometer` adalah 15.32%.\n",
    "- Persentase data yang hilang pada kolom `cylinders` adalah 10.21%.\n",
    "- Persentase data yang hilang pada kolom `model_year` adalah 7.02%.\n",
    "\n",
    "Dalam beberapa situasi, jika persentase nilai yang hilang tidak signifikan (katakanlah, 5-10%), nilai tersebut dapat dihapus dari dataset.\n",
    "\n",
    "**Langkah selanjutnya** dalam menangani nilai-nilai yang hilang adalah dengan menentukan apakah nilai yang hilang termasuk dalam variabel kategoris atau kuantitatif."
   ]
  },
  {
   "cell_type": "code",
   "execution_count": 12,
   "metadata": {},
   "outputs": [],
   "source": [
    "# Function for finding variable type each column\n",
    "def find_missing_variable_type(data):\n",
    "    \n",
    "    missing_variable_type = {}\n",
    "    \n",
    "    for col in data.columns:\n",
    "        unique_values = data[col].nunique()\n",
    "        \n",
    "        # If there are less than 400 unique values, assume the column is categorical\n",
    "        if unique_values < 400:\n",
    "            missing_variable_type[col] = \"kategoris\"\n",
    "        # Otherwise, assume the column is quantitative\n",
    "        else:\n",
    "            missing_variable_type[col] = \"kuantitatif\"\n",
    "    \n",
    "    return missing_variable_type"
   ]
  },
  {
   "cell_type": "code",
   "execution_count": 13,
   "metadata": {},
   "outputs": [
    {
     "name": "stdout",
     "output_type": "stream",
     "text": [
      "{'price': 'kuantitatif', 'model_year': 'kategoris', 'model': 'kategoris', 'condition': 'kategoris', 'cylinders': 'kategoris', 'fuel': 'kategoris', 'odometer': 'kuantitatif', 'transmission': 'kategoris', 'type': 'kategoris', 'paint_color': 'kategoris', 'is_4wd': 'kategoris', 'date_posted': 'kategoris', 'days_listed': 'kategoris'}\n"
     ]
    }
   ],
   "source": [
    "missing_variable_type = find_missing_variable_type(data)\n",
    "print(missing_variable_type)"
   ]
  },
  {
   "cell_type": "markdown",
   "metadata": {},
   "source": [
    "**Kesimpulan Sementara:**\n",
    "\n",
    "- Kolom `is_4wd` memiliki missing value yang termasuk dalam kategori variabel.\n",
    "- Kolom `paint_color` memiliki missing value yang masuk ke dalam kategori variabel kategoris.\n",
    "- Kolom `odometer` memiliki missing value yang termasuk dalam kategori variabel kuantitatif.\n",
    "- Kolom `cylinders` memiliki missing value yang termasuk dalam kategori variabel kategoris.\n",
    "- Kolom `model_year` memiliki nilai hilang yang termasuk variabel katagoris.\n",
    "\n",
    "**Langkah ketiga** dalam penanganan missing value adalah melakukan imputasi atau pengisian nilai yang hilang dengan nilai yang tepat berdasarkan metode yang telah ditentukan.\n",
    "\n",
    "1. Apabila variabel yang memiliki missing value adalah kategoris, maka langkah selanjutnya adalah menentukan apakah terdapat pola pada missing value tersebut.\n",
    "\n",
    " - Jika tidak terdapat pola pada nilai missing value pada variabel kategoris, maka nilai tersebut dapat diganti dengan nilai default seperti string kosong atau kata tertentu.\n",
    " - Apabila missing value pada variabel kategoris memiliki pola, maka diperlukan analisis lebih lanjut untuk menentukan metode imputasi yang tepat.\n",
    " \n",
    "2. Pada variabel kuantitatif yang memiliki missing value, langkah selanjutnya adalah menentukan apakah terdapat outlier yang signifikan pada data tersebut.\n",
    "\n",
    " - Apabila tidak terdapat outlier yang signifikan pada variabel kuantitatif dengan missing value, maka nilai tersebut dapat diimputasi dengan menggunakan rata-rata data pada kolom atau seluruh dataset.\n",
    " - Apabila data pada variabel kuantitatif dengan missing value memiliki outlier yang signifikan, maka nilai tersebut dapat diimputasi dengan menggunakan median data pada kolom atau seluruh dataset."
   ]
  },
  {
   "cell_type": "code",
   "execution_count": 14,
   "metadata": {},
   "outputs": [],
   "source": [
    "# Function for checking missing pattern\n",
    "def check_missing_pattern(data):\n",
    "    \n",
    "    missing_pattern = {}\n",
    "    \n",
    "    for col in data.columns:\n",
    "        # Create a boolean mask to identify missing values\n",
    "        mask = data[col].isnull()\n",
    "        # Get sum of missing values\n",
    "        missing = data[col].isnull().sum()\n",
    "        \n",
    "        # If there are no missing values, the pattern is \"none\"\n",
    "        if missing == 0:\n",
    "            missing_pattern[col] = \"none\"\n",
    "        # If there is a missing value, check if there is a pattern\n",
    "        else:\n",
    "            # Create a boolean mask to identify non-missing values\n",
    "            mask_not_missing = ~mask\n",
    "            # Count the number of unique values in a column\n",
    "            unique_values = data[col].nunique()\n",
    "            # If there are fewer unique values than missing values, the pattern is \"random\"\n",
    "            if unique_values < missing:\n",
    "                missing_pattern[col] = \"random\"\n",
    "            # Otherwise, the pattern is \"pattern\"\n",
    "            else:\n",
    "                missing_pattern[col] = \"pattern\"\n",
    "    \n",
    "    return missing_pattern"
   ]
  },
  {
   "cell_type": "code",
   "execution_count": 15,
   "metadata": {},
   "outputs": [
    {
     "name": "stdout",
     "output_type": "stream",
     "text": [
      "{'price': 'none', 'model_year': 'random', 'model': 'none', 'condition': 'none', 'cylinders': 'random', 'fuel': 'none', 'odometer': 'pattern', 'transmission': 'none', 'type': 'none', 'paint_color': 'random', 'is_4wd': 'random', 'date_posted': 'none', 'days_listed': 'none'}\n"
     ]
    }
   ],
   "source": [
    "# Check the missing pattern\n",
    "missing_pattern = check_missing_pattern(data)\n",
    "print(missing_pattern)"
   ]
  },
  {
   "cell_type": "markdown",
   "metadata": {},
   "source": [
    "**Kesimpulan Sementara:**\n",
    "\n",
    "- Kolom `is_4wd` memiliki missing value yang tidak menunjukkan adanya pola tertentu pada data.\n",
    "- Kolom `paint_color` memiliki missing value yang tidak memiliki pola tertentu pada data.\n",
    "- Kolom `odometer` memiliki missing value yang menunjukkan adanya pola tertentu pada data.\n",
    "- Kolom `cylinders` memiliki missing value yang tidak menunjukkan adanya pola tertentu pada data.\n",
    "- Kolom `model_year` memiliki missing value yang tidak menunjukkan adanya pola tertentu pada data.\n",
    "\n",
    "**Kolom** `is_4wd` memiliki missing value sebesar 50.37%, yang termasuk dalam kategori variabel kategoris dan tidak menunjukkan adanya pola tertentu pada data. Oleh karena itu, missing value tersebut dapat diimputasi dengan nilai lain, yaitu 0"
   ]
  },
  {
   "cell_type": "code",
   "execution_count": 16,
   "metadata": {},
   "outputs": [],
   "source": [
    "# Filling the missing values with fillna()\n",
    "data['is_4wd'] = data['is_4wd'].fillna(0)"
   ]
  },
  {
   "cell_type": "markdown",
   "metadata": {},
   "source": [
    "**Kolom** `paint_color` memiliki missing value sebesar 17.99%, yang termasuk dalam kategori variabel kategoris dan tidak menunjukkan adanya pola tertentu pada data. Oleh karena itu, missing value tersebut dapat diimputasi dengan nilai lain, yaitu 'unknown'."
   ]
  },
  {
   "cell_type": "code",
   "execution_count": 17,
   "metadata": {},
   "outputs": [],
   "source": [
    "# Filling the missing values with fillna()\n",
    "data['paint_color'] = data['paint_color'].fillna('unknown')"
   ]
  },
  {
   "cell_type": "markdown",
   "metadata": {},
   "source": [
    "**Kolom** `odometer` memiliki missing value sebesar 15.32%, yang termasuk dalam kategori variabel kuantitatif. Oleh karena itu, langkah pertama dalam menangani missing value pada kolom tersebut adalah menentukan terlebih dahulu apakah terdapat outlier pada data tersebut.\n",
    "\n",
    "**Kolom** `cylinders` memiliki missing value sebesar 10.21%, yang termasuk dalam kategori variabel kategoris dan tidak menunjukkan adanya pola tertentu pada data. Oleh karena itu, missing value tersebut dapat diimputasi dengan nilai lain, yaitu 0.0."
   ]
  },
  {
   "cell_type": "code",
   "execution_count": 18,
   "metadata": {},
   "outputs": [],
   "source": [
    "# Filling the missing values with fillna()\n",
    "median_cylinders = data['cylinders'].median()\n",
    "data['cylinders'] = data['cylinders'].fillna(median_cylinders)"
   ]
  },
  {
   "cell_type": "markdown",
   "metadata": {},
   "source": [
    "**Kolom** `model_year` memiliki missing value sebesar 7.02%, yang termasuk dalam kategori variabel kategoris dan tidak menunjukkan adanya pola tertentu pada data. Oleh karena kolom ini sangat penting dalam penelitian, maka missing value tersebut perlu diimputasi. Namun, karena kolom ini adalah variabel kategoris, tidak dapat dihitung median. Sehingga perlu dipertimbangkan imputasi dengan teknik lain seperti modus atau kategori yang paling sering muncul pada data."
   ]
  },
  {
   "cell_type": "code",
   "execution_count": 19,
   "metadata": {},
   "outputs": [
    {
     "data": {
      "text/plain": [
       "odometer        7892\n",
       "model_year      3619\n",
       "price              0\n",
       "model              0\n",
       "condition          0\n",
       "cylinders          0\n",
       "fuel               0\n",
       "transmission       0\n",
       "type               0\n",
       "paint_color        0\n",
       "is_4wd             0\n",
       "date_posted        0\n",
       "days_listed        0\n",
       "dtype: int64"
      ]
     },
     "execution_count": 19,
     "metadata": {},
     "output_type": "execute_result"
    }
   ],
   "source": [
    "# Check the missing values descending\n",
    "data.isna().sum().sort_values(ascending=False)"
   ]
  },
  {
   "cell_type": "markdown",
   "metadata": {},
   "source": [
    "Untuk mengatasi nilai hilang pada tiap kolom, dipilih untuk mengisi dengan median sebagai teknik imputasi karena pada beberapa kolom diduga terdapat adanya outlier yang signifikan. Sebelum melakukan imputasi, dibuat terlebih dahulu data baru yang berisi nilai yang hilang diisi dengan median agar tidak mempengaruhi data asli. Dengan hipotesis ini, diharapkan data hasil imputasi tetap memiliki karakteristik yang serupa dengan data asli dan dapat digunakan untuk analisis lebih lanjut."
   ]
  },
  {
   "cell_type": "code",
   "execution_count": 20,
   "metadata": {},
   "outputs": [],
   "source": [
    "# Create new dataset\n",
    "data_new = data.copy()\n",
    "\n",
    "# Function for filling missing values with mode\n",
    "def fill_missing_value_mode(dataframe, agg_column, value_column):\n",
    "    \n",
    "    # Calculates the mode value for each group in the aggregation column\n",
    "    grouped_values = dataframe.groupby(agg_column)[value_column].apply(lambda x: x.mode().iloc[0]).reset_index()\n",
    "    \n",
    "    # Fill in the missing values in the column with the mode value calculated for each group\n",
    "    dataframe[value_column] = dataframe[value_column].fillna(dataframe[agg_column].map(grouped_values.set_index(agg_column)[value_column]))\n",
    "    \n",
    "    return dataframe"
   ]
  },
  {
   "cell_type": "code",
   "execution_count": 21,
   "metadata": {},
   "outputs": [],
   "source": [
    "# Fill in the missing values in the odometer column using median\n",
    "data_new['odometer'] = data_new['odometer'].fillna(data_new['odometer'].median())\n",
    "\n",
    "# Fill in the missing values in the model_year column using mode\n",
    "data_new['model_year'] = data_new.groupby('model')['model_year'].apply(lambda x: x.fillna(x.mode()[0]))"
   ]
  },
  {
   "cell_type": "code",
   "execution_count": 22,
   "metadata": {},
   "outputs": [
    {
     "data": {
      "text/plain": [
       "price           0\n",
       "model_year      0\n",
       "model           0\n",
       "condition       0\n",
       "cylinders       0\n",
       "fuel            0\n",
       "odometer        0\n",
       "transmission    0\n",
       "type            0\n",
       "paint_color     0\n",
       "is_4wd          0\n",
       "date_posted     0\n",
       "days_listed     0\n",
       "dtype: int64"
      ]
     },
     "execution_count": 22,
     "metadata": {},
     "output_type": "execute_result"
    }
   ],
   "source": [
    "# Check the missing values\n",
    "data_new.isna().sum()"
   ]
  },
  {
   "cell_type": "markdown",
   "metadata": {},
   "source": [
    "## 1.4. Memperbaiki Tipe Data"
   ]
  },
  {
   "cell_type": "markdown",
   "metadata": {},
   "source": [
    "Data pada kolom `model_year` diubah menjadi integer."
   ]
  },
  {
   "cell_type": "code",
   "execution_count": 23,
   "metadata": {},
   "outputs": [],
   "source": [
    "# Change the model_year type to integer\n",
    "data_new['model_year'] = data_new['model_year'].astype(int)"
   ]
  },
  {
   "cell_type": "markdown",
   "metadata": {},
   "source": [
    "Data pada kolom `condition` diubah menjadi skala numerik."
   ]
  },
  {
   "cell_type": "code",
   "execution_count": 24,
   "metadata": {},
   "outputs": [],
   "source": [
    "# Function to change the condition values into numeric scale\n",
    "def conditions(scale):   \n",
    "    if scale == 'new':\n",
    "        return 5\n",
    "    if scale == 'like new':\n",
    "        return 4\n",
    "    if scale == 'excellent':\n",
    "        return 3\n",
    "    if scale == 'good':\n",
    "        return 2\n",
    "    if scale == 'fair':\n",
    "        return 1\n",
    "    else:\n",
    "        return 0\n",
    "    return 'Unidentified' "
   ]
  },
  {
   "cell_type": "code",
   "execution_count": 25,
   "metadata": {},
   "outputs": [
    {
     "data": {
      "text/plain": [
       "3    24773\n",
       "2    20145\n",
       "4     4742\n",
       "1     1607\n",
       "5      143\n",
       "0      115\n",
       "Name: condition, dtype: int64"
      ]
     },
     "execution_count": 25,
     "metadata": {},
     "output_type": "execute_result"
    }
   ],
   "source": [
    "# Apply the function\n",
    "data_new['condition'] = data_new['condition'].apply(conditions)\n",
    "data_new['condition'].value_counts()"
   ]
  },
  {
   "cell_type": "markdown",
   "metadata": {},
   "source": [
    "Data pada kolom `date_posted` diubah formatnya menjadi format datetime64."
   ]
  },
  {
   "cell_type": "code",
   "execution_count": 26,
   "metadata": {},
   "outputs": [
    {
     "name": "stdout",
     "output_type": "stream",
     "text": [
      "<class 'pandas.core.frame.DataFrame'>\n",
      "RangeIndex: 51525 entries, 0 to 51524\n",
      "Data columns (total 13 columns):\n",
      " #   Column        Non-Null Count  Dtype         \n",
      "---  ------        --------------  -----         \n",
      " 0   price         51525 non-null  int64         \n",
      " 1   model_year    51525 non-null  int64         \n",
      " 2   model         51525 non-null  object        \n",
      " 3   condition     51525 non-null  int64         \n",
      " 4   cylinders     51525 non-null  float64       \n",
      " 5   fuel          51525 non-null  object        \n",
      " 6   odometer      51525 non-null  float64       \n",
      " 7   transmission  51525 non-null  object        \n",
      " 8   type          51525 non-null  object        \n",
      " 9   paint_color   51525 non-null  object        \n",
      " 10  is_4wd        51525 non-null  float64       \n",
      " 11  date_posted   51525 non-null  datetime64[ns]\n",
      " 12  days_listed   51525 non-null  int64         \n",
      "dtypes: datetime64[ns](1), float64(3), int64(4), object(5)\n",
      "memory usage: 5.1+ MB\n"
     ]
    }
   ],
   "source": [
    "# Change date_posted format to datetime64\n",
    "data_new['date_posted'] = pd.to_datetime(data_new['date_posted'], format='%Y-%m-%d')\n",
    "data_new.info()"
   ]
  },
  {
   "cell_type": "markdown",
   "metadata": {},
   "source": [
    "## 1.5. Memperbaiki Kualitas Data"
   ]
  },
  {
   "cell_type": "markdown",
   "metadata": {},
   "source": [
    "Tambahkan kolom `day_of_week`, `month`, dan `year` yang berisi informasi hari dalam minggu, bulan, dan tahun iklan ditayangkan pada dataset."
   ]
  },
  {
   "cell_type": "code",
   "execution_count": 27,
   "metadata": {},
   "outputs": [],
   "source": [
    "# Add day_of_week, month, and year column\n",
    "data_new['day_of_week'] = data_new['date_posted'].dt.day_name()\n",
    "data_new['month'] = data_new['date_posted'].dt.month_name()\n",
    "data_new['year'] = data_new['date_posted'].dt.year"
   ]
  },
  {
   "cell_type": "markdown",
   "metadata": {},
   "source": [
    "Membuat kolom baru yang menunjukkan usia kendaraan pada saat iklan ditayangkan dengan menghitung selisih antara tahun saat iklan ditayangkan dengan tahun pembuatan kendaraan."
   ]
  },
  {
   "cell_type": "code",
   "execution_count": 28,
   "metadata": {},
   "outputs": [],
   "source": [
    "# Add car_age column\n",
    "data_new['car_age'] = (data_new['year'] + 1) - data_new['model_year']"
   ]
  },
  {
   "cell_type": "markdown",
   "metadata": {},
   "source": [
    "Kolom baru `jarak_tempuh_tahunan` ditambahkan ke dalam dataset, yang memuat jarak tempuh rata-rata kendaraan per tahun, dihitung berdasarkan perbedaan antara kolom `model_year` dan `odometer`."
   ]
  },
  {
   "cell_type": "code",
   "execution_count": 29,
   "metadata": {},
   "outputs": [],
   "source": [
    "# Add avg_mileage column\n",
    "data_new['avg_mileage'] = data_new['odometer'] / data_new['car_age']"
   ]
  },
  {
   "cell_type": "markdown",
   "metadata": {},
   "source": [
    "# 2. Analisis Data Exploratif (EDA)"
   ]
  },
  {
   "cell_type": "markdown",
   "metadata": {},
   "source": [
    "## 2.1. Memeriksa Data yang Sudah Bersih"
   ]
  },
  {
   "cell_type": "code",
   "execution_count": 30,
   "metadata": {
    "scrolled": false
   },
   "outputs": [
    {
     "name": "stdout",
     "output_type": "stream",
     "text": [
      "<class 'pandas.core.frame.DataFrame'>\n",
      "RangeIndex: 51525 entries, 0 to 51524\n",
      "Data columns (total 18 columns):\n",
      " #   Column        Non-Null Count  Dtype         \n",
      "---  ------        --------------  -----         \n",
      " 0   price         51525 non-null  int64         \n",
      " 1   model_year    51525 non-null  int64         \n",
      " 2   model         51525 non-null  object        \n",
      " 3   condition     51525 non-null  int64         \n",
      " 4   cylinders     51525 non-null  float64       \n",
      " 5   fuel          51525 non-null  object        \n",
      " 6   odometer      51525 non-null  float64       \n",
      " 7   transmission  51525 non-null  object        \n",
      " 8   type          51525 non-null  object        \n",
      " 9   paint_color   51525 non-null  object        \n",
      " 10  is_4wd        51525 non-null  float64       \n",
      " 11  date_posted   51525 non-null  datetime64[ns]\n",
      " 12  days_listed   51525 non-null  int64         \n",
      " 13  day_of_week   51525 non-null  object        \n",
      " 14  month         51525 non-null  object        \n",
      " 15  year          51525 non-null  int64         \n",
      " 16  car_age       51525 non-null  int64         \n",
      " 17  avg_mileage   51525 non-null  float64       \n",
      "dtypes: datetime64[ns](1), float64(4), int64(6), object(7)\n",
      "memory usage: 7.1+ MB\n"
     ]
    }
   ],
   "source": [
    "# Check general data_new info\n",
    "data_new.info()"
   ]
  },
  {
   "cell_type": "code",
   "execution_count": 31,
   "metadata": {},
   "outputs": [
    {
     "data": {
      "text/html": [
       "<div>\n",
       "<style scoped>\n",
       "    .dataframe tbody tr th:only-of-type {\n",
       "        vertical-align: middle;\n",
       "    }\n",
       "\n",
       "    .dataframe tbody tr th {\n",
       "        vertical-align: top;\n",
       "    }\n",
       "\n",
       "    .dataframe thead th {\n",
       "        text-align: right;\n",
       "    }\n",
       "</style>\n",
       "<table border=\"1\" class=\"dataframe\">\n",
       "  <thead>\n",
       "    <tr style=\"text-align: right;\">\n",
       "      <th></th>\n",
       "      <th>price</th>\n",
       "      <th>model_year</th>\n",
       "      <th>model</th>\n",
       "      <th>condition</th>\n",
       "      <th>cylinders</th>\n",
       "      <th>fuel</th>\n",
       "      <th>odometer</th>\n",
       "      <th>transmission</th>\n",
       "      <th>type</th>\n",
       "      <th>paint_color</th>\n",
       "      <th>is_4wd</th>\n",
       "      <th>date_posted</th>\n",
       "      <th>days_listed</th>\n",
       "      <th>day_of_week</th>\n",
       "      <th>month</th>\n",
       "      <th>year</th>\n",
       "      <th>car_age</th>\n",
       "      <th>avg_mileage</th>\n",
       "    </tr>\n",
       "  </thead>\n",
       "  <tbody>\n",
       "    <tr>\n",
       "      <th>611</th>\n",
       "      <td>5500</td>\n",
       "      <td>2011</td>\n",
       "      <td>subaru impreza</td>\n",
       "      <td>2</td>\n",
       "      <td>4.0</td>\n",
       "      <td>gas</td>\n",
       "      <td>140312.0</td>\n",
       "      <td>automatic</td>\n",
       "      <td>sedan</td>\n",
       "      <td>red</td>\n",
       "      <td>1.0</td>\n",
       "      <td>2019-04-15</td>\n",
       "      <td>48</td>\n",
       "      <td>Monday</td>\n",
       "      <td>April</td>\n",
       "      <td>2019</td>\n",
       "      <td>9</td>\n",
       "      <td>15590.222222</td>\n",
       "    </tr>\n",
       "    <tr>\n",
       "      <th>16965</th>\n",
       "      <td>15295</td>\n",
       "      <td>2018</td>\n",
       "      <td>chevrolet cruze</td>\n",
       "      <td>3</td>\n",
       "      <td>4.0</td>\n",
       "      <td>gas</td>\n",
       "      <td>113000.0</td>\n",
       "      <td>automatic</td>\n",
       "      <td>sedan</td>\n",
       "      <td>unknown</td>\n",
       "      <td>0.0</td>\n",
       "      <td>2019-03-02</td>\n",
       "      <td>33</td>\n",
       "      <td>Saturday</td>\n",
       "      <td>March</td>\n",
       "      <td>2019</td>\n",
       "      <td>2</td>\n",
       "      <td>56500.000000</td>\n",
       "    </tr>\n",
       "    <tr>\n",
       "      <th>41580</th>\n",
       "      <td>17845</td>\n",
       "      <td>2011</td>\n",
       "      <td>toyota tundra</td>\n",
       "      <td>2</td>\n",
       "      <td>8.0</td>\n",
       "      <td>gas</td>\n",
       "      <td>113000.0</td>\n",
       "      <td>automatic</td>\n",
       "      <td>truck</td>\n",
       "      <td>grey</td>\n",
       "      <td>1.0</td>\n",
       "      <td>2018-10-07</td>\n",
       "      <td>11</td>\n",
       "      <td>Sunday</td>\n",
       "      <td>October</td>\n",
       "      <td>2018</td>\n",
       "      <td>8</td>\n",
       "      <td>14125.000000</td>\n",
       "    </tr>\n",
       "    <tr>\n",
       "      <th>33564</th>\n",
       "      <td>5900</td>\n",
       "      <td>2002</td>\n",
       "      <td>ram 2500</td>\n",
       "      <td>2</td>\n",
       "      <td>10.0</td>\n",
       "      <td>gas</td>\n",
       "      <td>96000.0</td>\n",
       "      <td>automatic</td>\n",
       "      <td>truck</td>\n",
       "      <td>unknown</td>\n",
       "      <td>0.0</td>\n",
       "      <td>2019-01-07</td>\n",
       "      <td>79</td>\n",
       "      <td>Monday</td>\n",
       "      <td>January</td>\n",
       "      <td>2019</td>\n",
       "      <td>18</td>\n",
       "      <td>5333.333333</td>\n",
       "    </tr>\n",
       "    <tr>\n",
       "      <th>49951</th>\n",
       "      <td>9500</td>\n",
       "      <td>2015</td>\n",
       "      <td>dodge grand caravan</td>\n",
       "      <td>3</td>\n",
       "      <td>6.0</td>\n",
       "      <td>gas</td>\n",
       "      <td>84519.0</td>\n",
       "      <td>automatic</td>\n",
       "      <td>mini-van</td>\n",
       "      <td>grey</td>\n",
       "      <td>0.0</td>\n",
       "      <td>2018-08-17</td>\n",
       "      <td>84</td>\n",
       "      <td>Friday</td>\n",
       "      <td>August</td>\n",
       "      <td>2018</td>\n",
       "      <td>4</td>\n",
       "      <td>21129.750000</td>\n",
       "    </tr>\n",
       "    <tr>\n",
       "      <th>21422</th>\n",
       "      <td>6500</td>\n",
       "      <td>2013</td>\n",
       "      <td>chevrolet equinox</td>\n",
       "      <td>3</td>\n",
       "      <td>4.0</td>\n",
       "      <td>gas</td>\n",
       "      <td>94000.0</td>\n",
       "      <td>automatic</td>\n",
       "      <td>SUV</td>\n",
       "      <td>custom</td>\n",
       "      <td>0.0</td>\n",
       "      <td>2019-01-22</td>\n",
       "      <td>35</td>\n",
       "      <td>Tuesday</td>\n",
       "      <td>January</td>\n",
       "      <td>2019</td>\n",
       "      <td>7</td>\n",
       "      <td>13428.571429</td>\n",
       "    </tr>\n",
       "    <tr>\n",
       "      <th>40942</th>\n",
       "      <td>1800</td>\n",
       "      <td>2008</td>\n",
       "      <td>toyota 4runner</td>\n",
       "      <td>1</td>\n",
       "      <td>6.0</td>\n",
       "      <td>gas</td>\n",
       "      <td>253474.0</td>\n",
       "      <td>automatic</td>\n",
       "      <td>SUV</td>\n",
       "      <td>unknown</td>\n",
       "      <td>1.0</td>\n",
       "      <td>2019-04-14</td>\n",
       "      <td>45</td>\n",
       "      <td>Sunday</td>\n",
       "      <td>April</td>\n",
       "      <td>2019</td>\n",
       "      <td>12</td>\n",
       "      <td>21122.833333</td>\n",
       "    </tr>\n",
       "    <tr>\n",
       "      <th>22888</th>\n",
       "      <td>3900</td>\n",
       "      <td>2008</td>\n",
       "      <td>toyota prius</td>\n",
       "      <td>2</td>\n",
       "      <td>4.0</td>\n",
       "      <td>hybrid</td>\n",
       "      <td>238000.0</td>\n",
       "      <td>automatic</td>\n",
       "      <td>hatchback</td>\n",
       "      <td>red</td>\n",
       "      <td>0.0</td>\n",
       "      <td>2018-12-26</td>\n",
       "      <td>24</td>\n",
       "      <td>Wednesday</td>\n",
       "      <td>December</td>\n",
       "      <td>2018</td>\n",
       "      <td>11</td>\n",
       "      <td>21636.363636</td>\n",
       "    </tr>\n",
       "    <tr>\n",
       "      <th>44853</th>\n",
       "      <td>4800</td>\n",
       "      <td>2005</td>\n",
       "      <td>honda cr-v</td>\n",
       "      <td>3</td>\n",
       "      <td>4.0</td>\n",
       "      <td>gas</td>\n",
       "      <td>162000.0</td>\n",
       "      <td>automatic</td>\n",
       "      <td>SUV</td>\n",
       "      <td>brown</td>\n",
       "      <td>1.0</td>\n",
       "      <td>2018-05-11</td>\n",
       "      <td>53</td>\n",
       "      <td>Friday</td>\n",
       "      <td>May</td>\n",
       "      <td>2018</td>\n",
       "      <td>14</td>\n",
       "      <td>11571.428571</td>\n",
       "    </tr>\n",
       "    <tr>\n",
       "      <th>20803</th>\n",
       "      <td>10500</td>\n",
       "      <td>2016</td>\n",
       "      <td>chevrolet traverse</td>\n",
       "      <td>2</td>\n",
       "      <td>6.0</td>\n",
       "      <td>gas</td>\n",
       "      <td>55659.0</td>\n",
       "      <td>automatic</td>\n",
       "      <td>SUV</td>\n",
       "      <td>unknown</td>\n",
       "      <td>1.0</td>\n",
       "      <td>2019-01-06</td>\n",
       "      <td>18</td>\n",
       "      <td>Sunday</td>\n",
       "      <td>January</td>\n",
       "      <td>2019</td>\n",
       "      <td>4</td>\n",
       "      <td>13914.750000</td>\n",
       "    </tr>\n",
       "  </tbody>\n",
       "</table>\n",
       "</div>"
      ],
      "text/plain": [
       "       price  model_year                model  condition  cylinders    fuel  \\\n",
       "611     5500        2011       subaru impreza          2        4.0     gas   \n",
       "16965  15295        2018      chevrolet cruze          3        4.0     gas   \n",
       "41580  17845        2011        toyota tundra          2        8.0     gas   \n",
       "33564   5900        2002             ram 2500          2       10.0     gas   \n",
       "49951   9500        2015  dodge grand caravan          3        6.0     gas   \n",
       "21422   6500        2013    chevrolet equinox          3        4.0     gas   \n",
       "40942   1800        2008       toyota 4runner          1        6.0     gas   \n",
       "22888   3900        2008         toyota prius          2        4.0  hybrid   \n",
       "44853   4800        2005           honda cr-v          3        4.0     gas   \n",
       "20803  10500        2016   chevrolet traverse          2        6.0     gas   \n",
       "\n",
       "       odometer transmission       type paint_color  is_4wd date_posted  \\\n",
       "611    140312.0    automatic      sedan         red     1.0  2019-04-15   \n",
       "16965  113000.0    automatic      sedan     unknown     0.0  2019-03-02   \n",
       "41580  113000.0    automatic      truck        grey     1.0  2018-10-07   \n",
       "33564   96000.0    automatic      truck     unknown     0.0  2019-01-07   \n",
       "49951   84519.0    automatic   mini-van        grey     0.0  2018-08-17   \n",
       "21422   94000.0    automatic        SUV      custom     0.0  2019-01-22   \n",
       "40942  253474.0    automatic        SUV     unknown     1.0  2019-04-14   \n",
       "22888  238000.0    automatic  hatchback         red     0.0  2018-12-26   \n",
       "44853  162000.0    automatic        SUV       brown     1.0  2018-05-11   \n",
       "20803   55659.0    automatic        SUV     unknown     1.0  2019-01-06   \n",
       "\n",
       "       days_listed day_of_week     month  year  car_age   avg_mileage  \n",
       "611             48      Monday     April  2019        9  15590.222222  \n",
       "16965           33    Saturday     March  2019        2  56500.000000  \n",
       "41580           11      Sunday   October  2018        8  14125.000000  \n",
       "33564           79      Monday   January  2019       18   5333.333333  \n",
       "49951           84      Friday    August  2018        4  21129.750000  \n",
       "21422           35     Tuesday   January  2019        7  13428.571429  \n",
       "40942           45      Sunday     April  2019       12  21122.833333  \n",
       "22888           24   Wednesday  December  2018       11  21636.363636  \n",
       "44853           53      Friday       May  2018       14  11571.428571  \n",
       "20803           18      Sunday   January  2019        4  13914.750000  "
      ]
     },
     "execution_count": 31,
     "metadata": {},
     "output_type": "execute_result"
    }
   ],
   "source": [
    "# Check 10 sample\n",
    "data_new.sample(10)"
   ]
  },
  {
   "cell_type": "code",
   "execution_count": 32,
   "metadata": {
    "scrolled": true
   },
   "outputs": [
    {
     "data": {
      "text/html": [
       "<div>\n",
       "<style scoped>\n",
       "    .dataframe tbody tr th:only-of-type {\n",
       "        vertical-align: middle;\n",
       "    }\n",
       "\n",
       "    .dataframe tbody tr th {\n",
       "        vertical-align: top;\n",
       "    }\n",
       "\n",
       "    .dataframe thead th {\n",
       "        text-align: right;\n",
       "    }\n",
       "</style>\n",
       "<table border=\"1\" class=\"dataframe\">\n",
       "  <thead>\n",
       "    <tr style=\"text-align: right;\">\n",
       "      <th></th>\n",
       "      <th>price</th>\n",
       "      <th>model_year</th>\n",
       "      <th>condition</th>\n",
       "      <th>cylinders</th>\n",
       "      <th>odometer</th>\n",
       "      <th>is_4wd</th>\n",
       "      <th>days_listed</th>\n",
       "      <th>year</th>\n",
       "      <th>car_age</th>\n",
       "      <th>avg_mileage</th>\n",
       "    </tr>\n",
       "  </thead>\n",
       "  <tbody>\n",
       "    <tr>\n",
       "      <th>count</th>\n",
       "      <td>51525.000000</td>\n",
       "      <td>51525.000000</td>\n",
       "      <td>51525.000000</td>\n",
       "      <td>51525.000000</td>\n",
       "      <td>51525.000000</td>\n",
       "      <td>51525.000000</td>\n",
       "      <td>51525.00000</td>\n",
       "      <td>51525.000000</td>\n",
       "      <td>51525.000000</td>\n",
       "      <td>51525.000000</td>\n",
       "    </tr>\n",
       "    <tr>\n",
       "      <th>mean</th>\n",
       "      <td>12132.464920</td>\n",
       "      <td>2009.871033</td>\n",
       "      <td>2.637535</td>\n",
       "      <td>6.112450</td>\n",
       "      <td>115162.352179</td>\n",
       "      <td>0.496303</td>\n",
       "      <td>39.55476</td>\n",
       "      <td>2018.307462</td>\n",
       "      <td>9.436429</td>\n",
       "      <td>15844.238152</td>\n",
       "    </tr>\n",
       "    <tr>\n",
       "      <th>std</th>\n",
       "      <td>10040.803015</td>\n",
       "      <td>6.145084</td>\n",
       "      <td>0.712447</td>\n",
       "      <td>1.573784</td>\n",
       "      <td>59909.264385</td>\n",
       "      <td>0.499991</td>\n",
       "      <td>28.20427</td>\n",
       "      <td>0.461447</td>\n",
       "      <td>6.158509</td>\n",
       "      <td>12799.650725</td>\n",
       "    </tr>\n",
       "    <tr>\n",
       "      <th>min</th>\n",
       "      <td>1.000000</td>\n",
       "      <td>1908.000000</td>\n",
       "      <td>0.000000</td>\n",
       "      <td>3.000000</td>\n",
       "      <td>0.000000</td>\n",
       "      <td>0.000000</td>\n",
       "      <td>0.00000</td>\n",
       "      <td>2018.000000</td>\n",
       "      <td>1.000000</td>\n",
       "      <td>0.000000</td>\n",
       "    </tr>\n",
       "    <tr>\n",
       "      <th>25%</th>\n",
       "      <td>5000.000000</td>\n",
       "      <td>2007.000000</td>\n",
       "      <td>2.000000</td>\n",
       "      <td>4.000000</td>\n",
       "      <td>79181.000000</td>\n",
       "      <td>0.000000</td>\n",
       "      <td>19.00000</td>\n",
       "      <td>2018.000000</td>\n",
       "      <td>5.000000</td>\n",
       "      <td>9416.666667</td>\n",
       "    </tr>\n",
       "    <tr>\n",
       "      <th>50%</th>\n",
       "      <td>9000.000000</td>\n",
       "      <td>2011.000000</td>\n",
       "      <td>3.000000</td>\n",
       "      <td>6.000000</td>\n",
       "      <td>113000.000000</td>\n",
       "      <td>0.000000</td>\n",
       "      <td>33.00000</td>\n",
       "      <td>2018.000000</td>\n",
       "      <td>8.000000</td>\n",
       "      <td>13261.250000</td>\n",
       "    </tr>\n",
       "    <tr>\n",
       "      <th>75%</th>\n",
       "      <td>16839.000000</td>\n",
       "      <td>2014.000000</td>\n",
       "      <td>3.000000</td>\n",
       "      <td>8.000000</td>\n",
       "      <td>146541.000000</td>\n",
       "      <td>1.000000</td>\n",
       "      <td>53.00000</td>\n",
       "      <td>2019.000000</td>\n",
       "      <td>13.000000</td>\n",
       "      <td>18800.000000</td>\n",
       "    </tr>\n",
       "    <tr>\n",
       "      <th>max</th>\n",
       "      <td>375000.000000</td>\n",
       "      <td>2019.000000</td>\n",
       "      <td>5.000000</td>\n",
       "      <td>12.000000</td>\n",
       "      <td>990000.000000</td>\n",
       "      <td>1.000000</td>\n",
       "      <td>271.00000</td>\n",
       "      <td>2019.000000</td>\n",
       "      <td>111.000000</td>\n",
       "      <td>373200.000000</td>\n",
       "    </tr>\n",
       "  </tbody>\n",
       "</table>\n",
       "</div>"
      ],
      "text/plain": [
       "               price    model_year     condition     cylinders       odometer  \\\n",
       "count   51525.000000  51525.000000  51525.000000  51525.000000   51525.000000   \n",
       "mean    12132.464920   2009.871033      2.637535      6.112450  115162.352179   \n",
       "std     10040.803015      6.145084      0.712447      1.573784   59909.264385   \n",
       "min         1.000000   1908.000000      0.000000      3.000000       0.000000   \n",
       "25%      5000.000000   2007.000000      2.000000      4.000000   79181.000000   \n",
       "50%      9000.000000   2011.000000      3.000000      6.000000  113000.000000   \n",
       "75%     16839.000000   2014.000000      3.000000      8.000000  146541.000000   \n",
       "max    375000.000000   2019.000000      5.000000     12.000000  990000.000000   \n",
       "\n",
       "             is_4wd  days_listed          year       car_age    avg_mileage  \n",
       "count  51525.000000  51525.00000  51525.000000  51525.000000   51525.000000  \n",
       "mean       0.496303     39.55476   2018.307462      9.436429   15844.238152  \n",
       "std        0.499991     28.20427      0.461447      6.158509   12799.650725  \n",
       "min        0.000000      0.00000   2018.000000      1.000000       0.000000  \n",
       "25%        0.000000     19.00000   2018.000000      5.000000    9416.666667  \n",
       "50%        0.000000     33.00000   2018.000000      8.000000   13261.250000  \n",
       "75%        1.000000     53.00000   2019.000000     13.000000   18800.000000  \n",
       "max        1.000000    271.00000   2019.000000    111.000000  373200.000000  "
      ]
     },
     "execution_count": 32,
     "metadata": {},
     "output_type": "execute_result"
    }
   ],
   "source": [
    "# Calculating some statistical data\n",
    "data_new.describe()"
   ]
  },
  {
   "cell_type": "markdown",
   "metadata": {},
   "source": [
    "## 2.2. Mempelajari Parameter Inti"
   ]
  },
  {
   "cell_type": "markdown",
   "metadata": {},
   "source": [
    "Dalam mengkaji pengaruh outlier terhadap bentuk dan kemudahan pembacaan analisis, beberapa parameter yang dianggap relevan perlu dipertimbangkan.\n",
    "\n",
    "- Harga.\n",
    "- Usia kendaraan ketika iklan ditayangkan,\n",
    "- Jarak Tempuh,\n",
    "- Kondisi,\n",
    "- Jumlah silinder"
   ]
  },
  {
   "cell_type": "code",
   "execution_count": 33,
   "metadata": {},
   "outputs": [
    {
     "data": {
      "text/html": [
       "<div>\n",
       "<style scoped>\n",
       "    .dataframe tbody tr th:only-of-type {\n",
       "        vertical-align: middle;\n",
       "    }\n",
       "\n",
       "    .dataframe tbody tr th {\n",
       "        vertical-align: top;\n",
       "    }\n",
       "\n",
       "    .dataframe thead th {\n",
       "        text-align: right;\n",
       "    }\n",
       "</style>\n",
       "<table border=\"1\" class=\"dataframe\">\n",
       "  <thead>\n",
       "    <tr style=\"text-align: right;\">\n",
       "      <th></th>\n",
       "      <th>price</th>\n",
       "      <th>car_age</th>\n",
       "      <th>avg_mileage</th>\n",
       "      <th>condition</th>\n",
       "      <th>cylinders</th>\n",
       "    </tr>\n",
       "  </thead>\n",
       "  <tbody>\n",
       "    <tr>\n",
       "      <th>count</th>\n",
       "      <td>51525.000000</td>\n",
       "      <td>51525.000000</td>\n",
       "      <td>51525.000000</td>\n",
       "      <td>51525.000000</td>\n",
       "      <td>51525.000000</td>\n",
       "    </tr>\n",
       "    <tr>\n",
       "      <th>mean</th>\n",
       "      <td>12132.464920</td>\n",
       "      <td>9.436429</td>\n",
       "      <td>15844.238152</td>\n",
       "      <td>2.637535</td>\n",
       "      <td>6.112450</td>\n",
       "    </tr>\n",
       "    <tr>\n",
       "      <th>std</th>\n",
       "      <td>10040.803015</td>\n",
       "      <td>6.158509</td>\n",
       "      <td>12799.650725</td>\n",
       "      <td>0.712447</td>\n",
       "      <td>1.573784</td>\n",
       "    </tr>\n",
       "    <tr>\n",
       "      <th>min</th>\n",
       "      <td>1.000000</td>\n",
       "      <td>1.000000</td>\n",
       "      <td>0.000000</td>\n",
       "      <td>0.000000</td>\n",
       "      <td>3.000000</td>\n",
       "    </tr>\n",
       "    <tr>\n",
       "      <th>25%</th>\n",
       "      <td>5000.000000</td>\n",
       "      <td>5.000000</td>\n",
       "      <td>9416.666667</td>\n",
       "      <td>2.000000</td>\n",
       "      <td>4.000000</td>\n",
       "    </tr>\n",
       "    <tr>\n",
       "      <th>50%</th>\n",
       "      <td>9000.000000</td>\n",
       "      <td>8.000000</td>\n",
       "      <td>13261.250000</td>\n",
       "      <td>3.000000</td>\n",
       "      <td>6.000000</td>\n",
       "    </tr>\n",
       "    <tr>\n",
       "      <th>75%</th>\n",
       "      <td>16839.000000</td>\n",
       "      <td>13.000000</td>\n",
       "      <td>18800.000000</td>\n",
       "      <td>3.000000</td>\n",
       "      <td>8.000000</td>\n",
       "    </tr>\n",
       "    <tr>\n",
       "      <th>max</th>\n",
       "      <td>375000.000000</td>\n",
       "      <td>111.000000</td>\n",
       "      <td>373200.000000</td>\n",
       "      <td>5.000000</td>\n",
       "      <td>12.000000</td>\n",
       "    </tr>\n",
       "  </tbody>\n",
       "</table>\n",
       "</div>"
      ],
      "text/plain": [
       "               price       car_age    avg_mileage     condition     cylinders\n",
       "count   51525.000000  51525.000000   51525.000000  51525.000000  51525.000000\n",
       "mean    12132.464920      9.436429   15844.238152      2.637535      6.112450\n",
       "std     10040.803015      6.158509   12799.650725      0.712447      1.573784\n",
       "min         1.000000      1.000000       0.000000      0.000000      3.000000\n",
       "25%      5000.000000      5.000000    9416.666667      2.000000      4.000000\n",
       "50%      9000.000000      8.000000   13261.250000      3.000000      6.000000\n",
       "75%     16839.000000     13.000000   18800.000000      3.000000      8.000000\n",
       "max    375000.000000    111.000000  373200.000000      5.000000     12.000000"
      ]
     },
     "execution_count": 33,
     "metadata": {},
     "output_type": "execute_result"
    }
   ],
   "source": [
    "# Calculating some statistical data\n",
    "data_new[['price', 'car_age', 'avg_mileage', 'condition', 'cylinders']].describe()"
   ]
  },
  {
   "cell_type": "markdown",
   "metadata": {},
   "source": [
    "Berikut beberapa pertanyaan-pertanyaan dasar untuk memeriksa keakuratan data:\n",
    "\n",
    "- Berapa jumlah mobil terjual yang tercatat dalam data?\n",
    "- Berapa banyak model yang diamati?\n",
    "- Berapa jumlah mobil yang terjual per harinya?\n",
    "- Model mobil mana yang paling populer?\n",
    "- Pada hari apa mobil paling banyak terjual?"
   ]
  },
  {
   "cell_type": "code",
   "execution_count": 34,
   "metadata": {},
   "outputs": [
    {
     "name": "stdout",
     "output_type": "stream",
     "text": [
      "Jawaban pertanyaan dasar tersebut yaitu:\n",
      "Jumlah mobil terjual: 51525\n",
      "Jumlah model mobil: 100\n",
      "Rentang tanggal data diambil: 2018-05-01 00:00:00 hingga 2019-04-19\n",
      "Jumlah mobil terjual per hari: 73.60714285714286\n",
      "Mobil paling populer yaitu: ford f-150                  2796\n",
      "chevrolet silverado 1500    2171\n",
      "Name: model, dtype: int64\n",
      "Hari paling ramai yaitu: Thursday    7510\n",
      "Name: day_of_week, dtype: int64\n"
     ]
    }
   ],
   "source": [
    "# Ansewering basic question\n",
    "print('Jawaban pertanyaan dasar tersebut yaitu:')\n",
    "total_car_sold = data_new.shape[0]\n",
    "print('Jumlah mobil terjual:', total_car_sold)\n",
    "total_model_car = len(data_new['model'].unique())\n",
    "print('Jumlah model mobil:', total_model_car)\n",
    "print('Rentang tanggal data diambil:', data_new['date_posted'].min(),'hingga', data['date_posted'].max())\n",
    "total_days = 7 # simpan jumlah hari observasi\n",
    "car_sold_per_day =  total_car_sold/total_model_car/total_days\n",
    "print('Jumlah mobil terjual per hari:', car_sold_per_day)\n",
    "print('Mobil paling populer yaitu:',data_new['model'].value_counts().head(2))\n",
    "print('Hari paling ramai yaitu:', data_new['day_of_week'].value_counts().head(1))"
   ]
  },
  {
   "cell_type": "markdown",
   "metadata": {},
   "source": [
    "Pendekatan yang akan dilakukan selanjutnya adalah dengan menggunakan diagram data, di mana setiap batang atau bar pada diagram akan merepresentasikan sebuah nilai, dan perbedaan antara nilai-nilai tersebut akan terlihat dengan jelas melalui tinggi-rendahnya batang/bar pada diagram tersebut."
   ]
  },
  {
   "cell_type": "code",
   "execution_count": 35,
   "metadata": {},
   "outputs": [
    {
     "data": {
      "text/html": [
       "<div>\n",
       "<style scoped>\n",
       "    .dataframe tbody tr th:only-of-type {\n",
       "        vertical-align: middle;\n",
       "    }\n",
       "\n",
       "    .dataframe tbody tr th {\n",
       "        vertical-align: top;\n",
       "    }\n",
       "\n",
       "    .dataframe thead th {\n",
       "        text-align: right;\n",
       "    }\n",
       "</style>\n",
       "<table border=\"1\" class=\"dataframe\">\n",
       "  <thead>\n",
       "    <tr style=\"text-align: right;\">\n",
       "      <th></th>\n",
       "      <th>price</th>\n",
       "      <th>car_age</th>\n",
       "      <th>avg_mileage</th>\n",
       "      <th>condition</th>\n",
       "      <th>cylinders</th>\n",
       "    </tr>\n",
       "  </thead>\n",
       "  <tbody>\n",
       "    <tr>\n",
       "      <th>0</th>\n",
       "      <td>9400</td>\n",
       "      <td>8</td>\n",
       "      <td>18125.000000</td>\n",
       "      <td>2</td>\n",
       "      <td>6.0</td>\n",
       "    </tr>\n",
       "    <tr>\n",
       "      <th>1</th>\n",
       "      <td>25500</td>\n",
       "      <td>6</td>\n",
       "      <td>14784.166667</td>\n",
       "      <td>2</td>\n",
       "      <td>6.0</td>\n",
       "    </tr>\n",
       "    <tr>\n",
       "      <th>2</th>\n",
       "      <td>5500</td>\n",
       "      <td>7</td>\n",
       "      <td>15714.285714</td>\n",
       "      <td>4</td>\n",
       "      <td>4.0</td>\n",
       "    </tr>\n",
       "    <tr>\n",
       "      <th>3</th>\n",
       "      <td>1500</td>\n",
       "      <td>17</td>\n",
       "      <td>6647.058824</td>\n",
       "      <td>1</td>\n",
       "      <td>8.0</td>\n",
       "    </tr>\n",
       "    <tr>\n",
       "      <th>4</th>\n",
       "      <td>14900</td>\n",
       "      <td>3</td>\n",
       "      <td>26967.666667</td>\n",
       "      <td>3</td>\n",
       "      <td>4.0</td>\n",
       "    </tr>\n",
       "    <tr>\n",
       "      <th>...</th>\n",
       "      <td>...</td>\n",
       "      <td>...</td>\n",
       "      <td>...</td>\n",
       "      <td>...</td>\n",
       "      <td>...</td>\n",
       "    </tr>\n",
       "    <tr>\n",
       "      <th>51520</th>\n",
       "      <td>9249</td>\n",
       "      <td>6</td>\n",
       "      <td>14689.333333</td>\n",
       "      <td>4</td>\n",
       "      <td>6.0</td>\n",
       "    </tr>\n",
       "    <tr>\n",
       "      <th>51521</th>\n",
       "      <td>2700</td>\n",
       "      <td>17</td>\n",
       "      <td>10676.470588</td>\n",
       "      <td>0</td>\n",
       "      <td>4.0</td>\n",
       "    </tr>\n",
       "    <tr>\n",
       "      <th>51522</th>\n",
       "      <td>3950</td>\n",
       "      <td>10</td>\n",
       "      <td>12800.000000</td>\n",
       "      <td>3</td>\n",
       "      <td>4.0</td>\n",
       "    </tr>\n",
       "    <tr>\n",
       "      <th>51523</th>\n",
       "      <td>7455</td>\n",
       "      <td>6</td>\n",
       "      <td>23262.166667</td>\n",
       "      <td>2</td>\n",
       "      <td>4.0</td>\n",
       "    </tr>\n",
       "    <tr>\n",
       "      <th>51524</th>\n",
       "      <td>6300</td>\n",
       "      <td>5</td>\n",
       "      <td>22600.000000</td>\n",
       "      <td>2</td>\n",
       "      <td>4.0</td>\n",
       "    </tr>\n",
       "  </tbody>\n",
       "</table>\n",
       "<p>51525 rows × 5 columns</p>\n",
       "</div>"
      ],
      "text/plain": [
       "       price  car_age   avg_mileage  condition  cylinders\n",
       "0       9400        8  18125.000000          2        6.0\n",
       "1      25500        6  14784.166667          2        6.0\n",
       "2       5500        7  15714.285714          4        4.0\n",
       "3       1500       17   6647.058824          1        8.0\n",
       "4      14900        3  26967.666667          3        4.0\n",
       "...      ...      ...           ...        ...        ...\n",
       "51520   9249        6  14689.333333          4        6.0\n",
       "51521   2700       17  10676.470588          0        4.0\n",
       "51522   3950       10  12800.000000          3        4.0\n",
       "51523   7455        6  23262.166667          2        4.0\n",
       "51524   6300        5  22600.000000          2        4.0\n",
       "\n",
       "[51525 rows x 5 columns]"
      ]
     },
     "execution_count": 35,
     "metadata": {},
     "output_type": "execute_result"
    }
   ],
   "source": [
    "# Calculating some statistical data\n",
    "data_new[['price', 'car_age', 'avg_mileage', 'condition', 'cylinders']]"
   ]
  },
  {
   "cell_type": "markdown",
   "metadata": {},
   "source": [
    "Kolom `price` dan `odometer` digunakan Histogram dan Boxplot."
   ]
  },
  {
   "cell_type": "code",
   "execution_count": 36,
   "metadata": {},
   "outputs": [
    {
     "data": {
      "image/png": "[encoded data removed]",
      "text/plain": [
       "<Figure size 432x288 with 1 Axes>"
      ]
     },
     "metadata": {
      "needs_background": "light"
     },
     "output_type": "display_data"
    },
    {
     "data": {
      "image/png": "[encoded data removed]",
      "text/plain": [
       "<Figure size 432x288 with 1 Axes>"
      ]
     },
     "metadata": {
      "needs_background": "light"
     },
     "output_type": "display_data"
    }
   ],
   "source": [
    "kuantitatif_column = ['price', 'avg_mileage']\n",
    "\n",
    "for column in kuantitatif_column:\n",
    "    # Create a figure and axis\n",
    "    fig, ax = plt.subplots()\n",
    "\n",
    "    # Plot a histogram for the column\n",
    "    ax.hist(data_new[column], bins=100)\n",
    "\n",
    "    # Set the x-axis and y-axis labels\n",
    "    plt.xlabel('')\n",
    "    plt.ylabel('Jumlah Iklan')\n",
    "    plt.title(column)\n",
    "\n",
    "    # Show the plot\n",
    "    plt.show()"
   ]
  },
  {
   "cell_type": "markdown",
   "metadata": {},
   "source": [
    "**Kesimpulan Sementara:**\n",
    "\n",
    "- Histogram menunjukkan bahwa sebagian besar nilai berada pada angka nol, yang menandakan adanya keanehan pada data. Dalam histogram harga median, outlier terlihat jelas. Nilai-nilai tersebut mungkin merupakan hasil perhitungan yang salah atau strategi pemasaran untuk menarik pelanggan dengan harga murah yang sebenarnya tidak mencerminkan harga asli kendaraan.\n",
    "- Nilai yang mendekati nol pada kolom `avg_mileage` tidak menjadi masalah, karena mobil bisa memiliki odometer yang masih nol atau belum dipakai."
   ]
  },
  {
   "cell_type": "code",
   "execution_count": 37,
   "metadata": {
    "scrolled": false
   },
   "outputs": [
    {
     "data": {
      "image/png": "[encoded data removed]",
      "text/plain": [
       "<Figure size 432x288 with 1 Axes>"
      ]
     },
     "metadata": {
      "needs_background": "light"
     },
     "output_type": "display_data"
    },
    {
     "data": {
      "image/png": "[encoded data removed]",
      "text/plain": [
       "<Figure size 432x288 with 1 Axes>"
      ]
     },
     "metadata": {
      "needs_background": "light"
     },
     "output_type": "display_data"
    }
   ],
   "source": [
    "for column in kuantitatif_column:\n",
    "    # Create a figure and axis\n",
    "    fig, ax = plt.subplots()\n",
    "\n",
    "    # Plot a boxplot for the column\n",
    "    ax.boxplot(data_new[column])\n",
    "\n",
    "    plt.xlabel('')\n",
    "    plt.ylabel(column)\n",
    "\n",
    "    # Show the plot\n",
    "    plt.show()"
   ]
  },
  {
   "cell_type": "code",
   "execution_count": 38,
   "metadata": {
    "scrolled": true
   },
   "outputs": [
    {
     "data": {
      "text/html": [
       "<div>\n",
       "<style scoped>\n",
       "    .dataframe tbody tr th:only-of-type {\n",
       "        vertical-align: middle;\n",
       "    }\n",
       "\n",
       "    .dataframe tbody tr th {\n",
       "        vertical-align: top;\n",
       "    }\n",
       "\n",
       "    .dataframe thead th {\n",
       "        text-align: right;\n",
       "    }\n",
       "</style>\n",
       "<table border=\"1\" class=\"dataframe\">\n",
       "  <thead>\n",
       "    <tr style=\"text-align: right;\">\n",
       "      <th></th>\n",
       "      <th>price</th>\n",
       "      <th>avg_mileage</th>\n",
       "    </tr>\n",
       "  </thead>\n",
       "  <tbody>\n",
       "    <tr>\n",
       "      <th>count</th>\n",
       "      <td>51525.000000</td>\n",
       "      <td>51525.000000</td>\n",
       "    </tr>\n",
       "    <tr>\n",
       "      <th>mean</th>\n",
       "      <td>12132.464920</td>\n",
       "      <td>15844.238152</td>\n",
       "    </tr>\n",
       "    <tr>\n",
       "      <th>std</th>\n",
       "      <td>10040.803015</td>\n",
       "      <td>12799.650725</td>\n",
       "    </tr>\n",
       "    <tr>\n",
       "      <th>min</th>\n",
       "      <td>1.000000</td>\n",
       "      <td>0.000000</td>\n",
       "    </tr>\n",
       "    <tr>\n",
       "      <th>25%</th>\n",
       "      <td>5000.000000</td>\n",
       "      <td>9416.666667</td>\n",
       "    </tr>\n",
       "    <tr>\n",
       "      <th>50%</th>\n",
       "      <td>9000.000000</td>\n",
       "      <td>13261.250000</td>\n",
       "    </tr>\n",
       "    <tr>\n",
       "      <th>75%</th>\n",
       "      <td>16839.000000</td>\n",
       "      <td>18800.000000</td>\n",
       "    </tr>\n",
       "    <tr>\n",
       "      <th>max</th>\n",
       "      <td>375000.000000</td>\n",
       "      <td>373200.000000</td>\n",
       "    </tr>\n",
       "  </tbody>\n",
       "</table>\n",
       "</div>"
      ],
      "text/plain": [
       "               price    avg_mileage\n",
       "count   51525.000000   51525.000000\n",
       "mean    12132.464920   15844.238152\n",
       "std     10040.803015   12799.650725\n",
       "min         1.000000       0.000000\n",
       "25%      5000.000000    9416.666667\n",
       "50%      9000.000000   13261.250000\n",
       "75%     16839.000000   18800.000000\n",
       "max    375000.000000  373200.000000"
      ]
     },
     "execution_count": 38,
     "metadata": {},
     "output_type": "execute_result"
    }
   ],
   "source": [
    "# Calculating some statistical data\n",
    "data_new[['price', 'avg_mileage']].describe()"
   ]
  },
  {
   "cell_type": "markdown",
   "metadata": {},
   "source": [
    "**Kesimpulan Sementara:**\n",
    "\n",
    "Rata-rata `price` lebih tinggi dari median karena ada banyak nilai tinggi dalam distribusinya. Hal ini tidak memengaruhi nilai median.\n",
    "\n",
    "Karena kolom `car_age`, `condition`, dan `cylinders` adalah variabel kategorikal, maka diagram batang dapat digunakan untuk memvisualisasikan data dalam bentuk grafik yang dapat dengan mudah dipahami."
   ]
  },
  {
   "cell_type": "code",
   "execution_count": 39,
   "metadata": {},
   "outputs": [
    {
     "data": {
      "image/png": "[encoded data removed]",
      "text/plain": [
       "<Figure size 576x432 with 1 Axes>"
      ]
     },
     "metadata": {
      "needs_background": "light"
     },
     "output_type": "display_data"
    },
    {
     "data": {
      "image/png": "[encoded data removed]",
      "text/plain": [
       "<Figure size 576x432 with 1 Axes>"
      ]
     },
     "metadata": {
      "needs_background": "light"
     },
     "output_type": "display_data"
    },
    {
     "data": {
      "image/png": "[encoded data removed]",
      "text/plain": [
       "<Figure size 576x432 with 1 Axes>"
      ]
     },
     "metadata": {
      "needs_background": "light"
     },
     "output_type": "display_data"
    }
   ],
   "source": [
    "katagoris_column = ['car_age', 'condition', 'cylinders']\n",
    "\n",
    "# Loop through the column names\n",
    "for column in katagoris_column:\n",
    "    # Create a figure and axis with custom figure size\n",
    "    fig, ax = plt.subplots(figsize=(8,6))\n",
    "\n",
    "    # Get the counts of each category in the column\n",
    "    counts = data_new[column].value_counts()\n",
    "\n",
    "    # Set the x-axis values\n",
    "    x_pos = range(len(counts))\n",
    "\n",
    "    # Plot a bar chart with the counts\n",
    "    ax.bar(x_pos, counts)\n",
    "\n",
    "    # Set the x-axis labels\n",
    "    ax.set_xticks(x_pos)\n",
    "    ax.set_xticklabels(counts.index)\n",
    "\n",
    "    # Set the plot title and axis labels\n",
    "    plt.title('Jumlah Iklan Berdasarkan {}'.format(column))\n",
    "    plt.xlabel(column)\n",
    "    plt.ylabel('Jumlah Iklan')\n",
    "\n",
    "    # Display the plot\n",
    "    plt.show()"
   ]
  },
  {
   "cell_type": "markdown",
   "metadata": {},
   "source": [
    "**Kesimpulan Sementara:**\n",
    "\n",
    "- Berdasarkan data penjualan mobil yang ada, mobil yang berusia 7 tahun memiliki jumlah penjualan paling banyak.\n",
    "- Berdasarkan data penjualan mobil yang ada, mobil dengan kondisi 3 (excellent) memiliki jumlah penjualan paling banyak.\n",
    "- Berdasarkan data penjualan mobil yang ada, mobil dengan jumlah silinder 8.0 memiliki jumlah penjualan paling banyak."
   ]
  },
  {
   "cell_type": "markdown",
   "metadata": {},
   "source": [
    "### Kesimpulan\n",
    "\n",
    "1. Data penjualan mobil dari periode 2018-05-01 hingga 2019-04-19 menunjukkan bahwa sebanyak 51525 mobil terjual dengan 100 model mobil yang tersedia. Rata-rata penjualan per hari adalah sekitar 73 unit. Mobil paling populer yang terjual adalah Ford F-150 dengan total penjualan sebanyak 2796 unit. Penjualan mobil terbanyak terjadi pada hari Kamis.\n",
    "2. Terdapat sekitar 7800 data mobil yang memiliki harga mendekati nol dan beberapa mobil bahkan memiliki harga sebesar 1 dolar. Harga tersebut mungkin salah karena 1 dolar terlalu murah untuk sebuah mobil dan perlu dilakukan pengecekan lebih lanjut.\n",
    "3. Dalam grafik yang dianalisis terdapat nilai yang terlalu jauh dari sebagian besar data, atau yang dikenal dengan istilah outlier. Outlier tersebut terletak di sekitar angka 40000 dolar hingga 360000 dolar.\n",
    "4. Lebih dari 7000 unit mobil terjual dengan rata-rata jarak tempuh sekitar 15000 mile per tahun. Terdapat outlier pada rentang jarak tempuh sekitar 21000 hingga 373200 mile per tahun.\n",
    "5. Data penjualan mobil menunjukkan bahwa mobil berusia 7 tahun memiliki jumlah penjualan paling banyak. Namun, terdapat beberapa mobil yang sangat tua dengan usia mencapai 110 tahun.\n",
    "6. Berdasarkan data penjualan mobil, mobil dengan kondisi 3 dan 2 memiliki jumlah penjualan paling banyak. Namun, terdapat beberapa mobil yang memiliki kondisi 0 yang menarik untuk diperhatikan.\n",
    "7. Berdasarkan data penjualan mobil, mobil dengan jumlah silinder mesin 8.0, 6.0, dan 4.0 memiliki jumlah penjualan paling banyak. Namun, terdapat cukup banyak data mobil yang tidak diketahui jumlah silinder mesinnya dan diisi dengan nilai 0.0, yakni sekitar 5000 unit."
   ]
  },
  {
   "cell_type": "markdown",
   "metadata": {},
   "source": [
    "## 2.3. Mempelajari dan Menangani Outlier\n",
    "\n",
    "Berdasarkan hasil pembacaan beberapa parameter sebelumnya, terdapat kemungkinan adanya outlier pada kolom `price`, `avg_mileage`, dan `car_age`. Untuk menghilangkan outlier tersebut, langkah selanjutnya adalah dengan membuat DataFrame baru tanpa nilai outlier dengan cara menentukan batas bawah dan atas untuk rentang nilai normal, dan data yang melewati batas tersebut dianggap sebagai outlier dan dihapus dari DataFrame."
   ]
  },
  {
   "cell_type": "code",
   "execution_count": 40,
   "metadata": {},
   "outputs": [],
   "source": [
    "# Function for removing outlier, determine upper and lower whisker\n",
    "def upper_lower_whisker(column):\n",
    "    Q1  = data_new[column].quantile(0.25)\n",
    "    Q3  = data_new[column].quantile(0.75)\n",
    "    IQR = Q3 - Q1\n",
    "    lower_whisker = Q1 - 1.5*IQR\n",
    "    upper_whisker = Q3 + 1.5*IQR\n",
    "    return lower_whisker, upper_whisker"
   ]
  },
  {
   "cell_type": "code",
   "execution_count": 41,
   "metadata": {},
   "outputs": [],
   "source": [
    "outlier_column = ['price', 'avg_mileage', 'car_age']"
   ]
  },
  {
   "cell_type": "code",
   "execution_count": 42,
   "metadata": {},
   "outputs": [
    {
     "name": "stdout",
     "output_type": "stream",
     "text": [
      "Batas bawah outlier dari price -12758.5\n",
      "Batas atas outlier dari price 34597.5\n",
      "\n",
      "Batas bawah outlier dari avg_mileage -4658.333333333334\n",
      "Batas atas outlier dari avg_mileage 32875.0\n",
      "\n",
      "Batas bawah outlier dari car_age -7.0\n",
      "Batas atas outlier dari car_age 25.0\n",
      "\n"
     ]
    }
   ],
   "source": [
    "# Loop for applying the function\n",
    "for column in outlier_column:\n",
    "    lower, upper = upper_lower_whisker(column)\n",
    "    print('Batas bawah outlier dari',column, lower)\n",
    "    print('Batas atas outlier dari',column, upper)\n",
    "    print('')"
   ]
  },
  {
   "cell_type": "code",
   "execution_count": 43,
   "metadata": {},
   "outputs": [],
   "source": [
    "# Loop for cleaning the outlier\n",
    "data_clean = data_new.copy()\n",
    "\n",
    "for column in outlier_column:\n",
    "    lower, upper = upper_lower_whisker(column)\n",
    "    data_clean = data_clean[(data_clean[column] > lower) & (data_clean[column] < upper)]"
   ]
  },
  {
   "cell_type": "markdown",
   "metadata": {},
   "source": [
    "Untuk membersihkan nilai outlier pada kolom `price` mobil, langkah awal yang perlu dilakukan adalah dengan memeriksa persentase kesalahan data atau error rate-nya terlebih dahulu. Dalam hal ini, dapat digunakan metode seperti z-score atau interquartile range (IQR) untuk mengidentifikasi data yang dianggap sebagai outlier. Setelah itu, data yang dianggap sebagai outlier tersebut dapat dihapus dari DataFrame."
   ]
  },
  {
   "cell_type": "code",
   "execution_count": 44,
   "metadata": {},
   "outputs": [
    {
     "name": "stdout",
     "output_type": "stream",
     "text": [
      "Persentase data yang bermasalah pada kolom 'price' yaitu:2% dari keseluruhan data.\n"
     ]
    }
   ],
   "source": [
    "# Check the percentage of wrong price data\n",
    "wrong_data_price = data_clean[data_clean['price'] < 100]\n",
    "\n",
    "percentage_wrong_data_price = wrong_data_price['price'].count() / data_clean['price'].count()\n",
    "print(\"Persentase data yang bermasalah pada kolom 'price' yaitu:{:.0%} dari keseluruhan data.\".format(percentage_wrong_data_price))"
   ]
  },
  {
   "cell_type": "markdown",
   "metadata": {},
   "source": [
    "Karena hanya 2%, data bisa diiris."
   ]
  },
  {
   "cell_type": "code",
   "execution_count": 45,
   "metadata": {},
   "outputs": [],
   "source": [
    "# Slicing data\n",
    "too_cheap = 100\n",
    "\n",
    "data_clean = data_clean.query('price > @too_cheap')"
   ]
  },
  {
   "cell_type": "code",
   "execution_count": 46,
   "metadata": {},
   "outputs": [
    {
     "data": {
      "text/plain": [
       "45636"
      ]
     },
     "execution_count": 46,
     "metadata": {},
     "output_type": "execute_result"
    }
   ],
   "source": [
    "# Check new dataset line after slicing\n",
    "data_clean.shape[0]"
   ]
  },
  {
   "cell_type": "code",
   "execution_count": 47,
   "metadata": {
    "scrolled": true
   },
   "outputs": [
    {
     "data": {
      "text/plain": [
       "51525"
      ]
     },
     "execution_count": 47,
     "metadata": {},
     "output_type": "execute_result"
    }
   ],
   "source": [
    "# Check new dataset line before slicing\n",
    "data_new.shape[0]"
   ]
  },
  {
   "cell_type": "markdown",
   "metadata": {},
   "source": [
    "**Kesimpulan Sementara:**\n",
    "\n",
    "- Setelah outlier dihapus dari DataFrame, jumlah data yang tersisa berubah dari 51525 menjadi 45660, sehingga sebanyak 585 data dianggap sebagai outlier pada kolom price mobil."
   ]
  },
  {
   "cell_type": "code",
   "execution_count": 48,
   "metadata": {
    "scrolled": false
   },
   "outputs": [
    {
     "data": {
      "image/png": "[encoded data removed]",
      "text/plain": [
       "<Figure size 432x288 with 1 Axes>"
      ]
     },
     "metadata": {
      "needs_background": "light"
     },
     "output_type": "display_data"
    },
    {
     "data": {
      "image/png": "[encoded data removed]",
      "text/plain": [
       "<Figure size 432x288 with 1 Axes>"
      ]
     },
     "metadata": {
      "needs_background": "light"
     },
     "output_type": "display_data"
    },
    {
     "data": {
      "image/png": "[encoded data removed]",
      "text/plain": [
       "<Figure size 432x288 with 1 Axes>"
      ]
     },
     "metadata": {
      "needs_background": "light"
     },
     "output_type": "display_data"
    }
   ],
   "source": [
    "for column in outlier_column:\n",
    "    # Create a figure and axis\n",
    "    fig, ax = plt.subplots()\n",
    "\n",
    "    # Plot a histogram for the column\n",
    "    ax.hist(data_clean[column], bins=50)\n",
    "\n",
    "    # Set the x-axis and y-axis labels\n",
    "    plt.xlabel('')\n",
    "    plt.ylabel('Jumlah Iklan')\n",
    "    plt.title(column)\n",
    "\n",
    "    # Show the plot\n",
    "    plt.show()"
   ]
  },
  {
   "cell_type": "code",
   "execution_count": 49,
   "metadata": {
    "scrolled": false
   },
   "outputs": [
    {
     "data": {
      "image/png": "[encoded data removed]",
      "text/plain": [
       "<Figure size 432x288 with 1 Axes>"
      ]
     },
     "metadata": {
      "needs_background": "light"
     },
     "output_type": "display_data"
    },
    {
     "data": {
      "image/png": "[encoded data removed]",
      "text/plain": [
       "<Figure size 432x288 with 1 Axes>"
      ]
     },
     "metadata": {
      "needs_background": "light"
     },
     "output_type": "display_data"
    },
    {
     "data": {
      "image/png": "[encoded data removed]",
      "text/plain": [
       "<Figure size 432x288 with 1 Axes>"
      ]
     },
     "metadata": {
      "needs_background": "light"
     },
     "output_type": "display_data"
    }
   ],
   "source": [
    "for column in outlier_column:\n",
    "    # Create a figure and axis\n",
    "    fig, ax = plt.subplots()\n",
    "\n",
    "    # Plot a boxplot for the column\n",
    "    ax.boxplot(data_clean[column])\n",
    "\n",
    "    plt.xlabel('')\n",
    "    plt.ylabel(column)\n",
    "\n",
    "    # Show the plot\n",
    "    plt.show()"
   ]
  },
  {
   "cell_type": "code",
   "execution_count": 50,
   "metadata": {},
   "outputs": [
    {
     "data": {
      "text/html": [
       "<div>\n",
       "<style scoped>\n",
       "    .dataframe tbody tr th:only-of-type {\n",
       "        vertical-align: middle;\n",
       "    }\n",
       "\n",
       "    .dataframe tbody tr th {\n",
       "        vertical-align: top;\n",
       "    }\n",
       "\n",
       "    .dataframe thead th {\n",
       "        text-align: right;\n",
       "    }\n",
       "</style>\n",
       "<table border=\"1\" class=\"dataframe\">\n",
       "  <thead>\n",
       "    <tr style=\"text-align: right;\">\n",
       "      <th></th>\n",
       "      <th>price</th>\n",
       "      <th>model_year</th>\n",
       "      <th>condition</th>\n",
       "      <th>cylinders</th>\n",
       "      <th>odometer</th>\n",
       "      <th>is_4wd</th>\n",
       "      <th>days_listed</th>\n",
       "      <th>year</th>\n",
       "      <th>car_age</th>\n",
       "      <th>avg_mileage</th>\n",
       "    </tr>\n",
       "  </thead>\n",
       "  <tbody>\n",
       "    <tr>\n",
       "      <th>count</th>\n",
       "      <td>45636.000000</td>\n",
       "      <td>45636.000000</td>\n",
       "      <td>45636.000000</td>\n",
       "      <td>45636.000000</td>\n",
       "      <td>45636.000000</td>\n",
       "      <td>45636.000000</td>\n",
       "      <td>45636.000000</td>\n",
       "      <td>45636.000000</td>\n",
       "      <td>45636.000000</td>\n",
       "      <td>45636.000000</td>\n",
       "    </tr>\n",
       "    <tr>\n",
       "      <th>mean</th>\n",
       "      <td>11084.478876</td>\n",
       "      <td>2009.659786</td>\n",
       "      <td>2.612630</td>\n",
       "      <td>6.042488</td>\n",
       "      <td>117400.764922</td>\n",
       "      <td>0.481309</td>\n",
       "      <td>39.545644</td>\n",
       "      <td>2018.313985</td>\n",
       "      <td>9.654198</td>\n",
       "      <td>13756.977983</td>\n",
       "    </tr>\n",
       "    <tr>\n",
       "      <th>std</th>\n",
       "      <td>7612.822477</td>\n",
       "      <td>4.946719</td>\n",
       "      <td>0.702546</td>\n",
       "      <td>1.545289</td>\n",
       "      <td>57201.659765</td>\n",
       "      <td>0.499656</td>\n",
       "      <td>28.187992</td>\n",
       "      <td>0.464115</td>\n",
       "      <td>4.950306</td>\n",
       "      <td>6366.758434</td>\n",
       "    </tr>\n",
       "    <tr>\n",
       "      <th>min</th>\n",
       "      <td>105.000000</td>\n",
       "      <td>1995.000000</td>\n",
       "      <td>0.000000</td>\n",
       "      <td>3.000000</td>\n",
       "      <td>0.000000</td>\n",
       "      <td>0.000000</td>\n",
       "      <td>0.000000</td>\n",
       "      <td>2018.000000</td>\n",
       "      <td>1.000000</td>\n",
       "      <td>0.000000</td>\n",
       "    </tr>\n",
       "    <tr>\n",
       "      <th>25%</th>\n",
       "      <td>5000.000000</td>\n",
       "      <td>2006.000000</td>\n",
       "      <td>2.000000</td>\n",
       "      <td>4.000000</td>\n",
       "      <td>83790.250000</td>\n",
       "      <td>0.000000</td>\n",
       "      <td>19.000000</td>\n",
       "      <td>2018.000000</td>\n",
       "      <td>6.000000</td>\n",
       "      <td>9416.666667</td>\n",
       "    </tr>\n",
       "    <tr>\n",
       "      <th>50%</th>\n",
       "      <td>8950.000000</td>\n",
       "      <td>2010.000000</td>\n",
       "      <td>3.000000</td>\n",
       "      <td>6.000000</td>\n",
       "      <td>113000.000000</td>\n",
       "      <td>0.000000</td>\n",
       "      <td>33.000000</td>\n",
       "      <td>2018.000000</td>\n",
       "      <td>9.000000</td>\n",
       "      <td>12875.583333</td>\n",
       "    </tr>\n",
       "    <tr>\n",
       "      <th>75%</th>\n",
       "      <td>15500.000000</td>\n",
       "      <td>2013.000000</td>\n",
       "      <td>3.000000</td>\n",
       "      <td>8.000000</td>\n",
       "      <td>149180.000000</td>\n",
       "      <td>1.000000</td>\n",
       "      <td>53.000000</td>\n",
       "      <td>2019.000000</td>\n",
       "      <td>13.000000</td>\n",
       "      <td>17400.000000</td>\n",
       "    </tr>\n",
       "    <tr>\n",
       "      <th>max</th>\n",
       "      <td>34595.000000</td>\n",
       "      <td>2019.000000</td>\n",
       "      <td>5.000000</td>\n",
       "      <td>12.000000</td>\n",
       "      <td>710000.000000</td>\n",
       "      <td>1.000000</td>\n",
       "      <td>271.000000</td>\n",
       "      <td>2019.000000</td>\n",
       "      <td>24.000000</td>\n",
       "      <td>32868.250000</td>\n",
       "    </tr>\n",
       "  </tbody>\n",
       "</table>\n",
       "</div>"
      ],
      "text/plain": [
       "              price    model_year     condition     cylinders       odometer  \\\n",
       "count  45636.000000  45636.000000  45636.000000  45636.000000   45636.000000   \n",
       "mean   11084.478876   2009.659786      2.612630      6.042488  117400.764922   \n",
       "std     7612.822477      4.946719      0.702546      1.545289   57201.659765   \n",
       "min      105.000000   1995.000000      0.000000      3.000000       0.000000   \n",
       "25%     5000.000000   2006.000000      2.000000      4.000000   83790.250000   \n",
       "50%     8950.000000   2010.000000      3.000000      6.000000  113000.000000   \n",
       "75%    15500.000000   2013.000000      3.000000      8.000000  149180.000000   \n",
       "max    34595.000000   2019.000000      5.000000     12.000000  710000.000000   \n",
       "\n",
       "             is_4wd   days_listed          year       car_age   avg_mileage  \n",
       "count  45636.000000  45636.000000  45636.000000  45636.000000  45636.000000  \n",
       "mean       0.481309     39.545644   2018.313985      9.654198  13756.977983  \n",
       "std        0.499656     28.187992      0.464115      4.950306   6366.758434  \n",
       "min        0.000000      0.000000   2018.000000      1.000000      0.000000  \n",
       "25%        0.000000     19.000000   2018.000000      6.000000   9416.666667  \n",
       "50%        0.000000     33.000000   2018.000000      9.000000  12875.583333  \n",
       "75%        1.000000     53.000000   2019.000000     13.000000  17400.000000  \n",
       "max        1.000000    271.000000   2019.000000     24.000000  32868.250000  "
      ]
     },
     "execution_count": 50,
     "metadata": {},
     "output_type": "execute_result"
    }
   ],
   "source": [
    "# Check new dataset statistical data after slicing\n",
    "data_clean.describe()"
   ]
  },
  {
   "cell_type": "code",
   "execution_count": 51,
   "metadata": {},
   "outputs": [
    {
     "data": {
      "text/html": [
       "<div>\n",
       "<style scoped>\n",
       "    .dataframe tbody tr th:only-of-type {\n",
       "        vertical-align: middle;\n",
       "    }\n",
       "\n",
       "    .dataframe tbody tr th {\n",
       "        vertical-align: top;\n",
       "    }\n",
       "\n",
       "    .dataframe thead th {\n",
       "        text-align: right;\n",
       "    }\n",
       "</style>\n",
       "<table border=\"1\" class=\"dataframe\">\n",
       "  <thead>\n",
       "    <tr style=\"text-align: right;\">\n",
       "      <th></th>\n",
       "      <th>price</th>\n",
       "      <th>model_year</th>\n",
       "      <th>condition</th>\n",
       "      <th>cylinders</th>\n",
       "      <th>odometer</th>\n",
       "      <th>is_4wd</th>\n",
       "      <th>days_listed</th>\n",
       "      <th>year</th>\n",
       "      <th>car_age</th>\n",
       "      <th>avg_mileage</th>\n",
       "    </tr>\n",
       "  </thead>\n",
       "  <tbody>\n",
       "    <tr>\n",
       "      <th>count</th>\n",
       "      <td>51525.000000</td>\n",
       "      <td>51525.000000</td>\n",
       "      <td>51525.000000</td>\n",
       "      <td>51525.000000</td>\n",
       "      <td>51525.000000</td>\n",
       "      <td>51525.000000</td>\n",
       "      <td>51525.00000</td>\n",
       "      <td>51525.000000</td>\n",
       "      <td>51525.000000</td>\n",
       "      <td>51525.000000</td>\n",
       "    </tr>\n",
       "    <tr>\n",
       "      <th>mean</th>\n",
       "      <td>12132.464920</td>\n",
       "      <td>2009.871033</td>\n",
       "      <td>2.637535</td>\n",
       "      <td>6.112450</td>\n",
       "      <td>115162.352179</td>\n",
       "      <td>0.496303</td>\n",
       "      <td>39.55476</td>\n",
       "      <td>2018.307462</td>\n",
       "      <td>9.436429</td>\n",
       "      <td>15844.238152</td>\n",
       "    </tr>\n",
       "    <tr>\n",
       "      <th>std</th>\n",
       "      <td>10040.803015</td>\n",
       "      <td>6.145084</td>\n",
       "      <td>0.712447</td>\n",
       "      <td>1.573784</td>\n",
       "      <td>59909.264385</td>\n",
       "      <td>0.499991</td>\n",
       "      <td>28.20427</td>\n",
       "      <td>0.461447</td>\n",
       "      <td>6.158509</td>\n",
       "      <td>12799.650725</td>\n",
       "    </tr>\n",
       "    <tr>\n",
       "      <th>min</th>\n",
       "      <td>1.000000</td>\n",
       "      <td>1908.000000</td>\n",
       "      <td>0.000000</td>\n",
       "      <td>3.000000</td>\n",
       "      <td>0.000000</td>\n",
       "      <td>0.000000</td>\n",
       "      <td>0.00000</td>\n",
       "      <td>2018.000000</td>\n",
       "      <td>1.000000</td>\n",
       "      <td>0.000000</td>\n",
       "    </tr>\n",
       "    <tr>\n",
       "      <th>25%</th>\n",
       "      <td>5000.000000</td>\n",
       "      <td>2007.000000</td>\n",
       "      <td>2.000000</td>\n",
       "      <td>4.000000</td>\n",
       "      <td>79181.000000</td>\n",
       "      <td>0.000000</td>\n",
       "      <td>19.00000</td>\n",
       "      <td>2018.000000</td>\n",
       "      <td>5.000000</td>\n",
       "      <td>9416.666667</td>\n",
       "    </tr>\n",
       "    <tr>\n",
       "      <th>50%</th>\n",
       "      <td>9000.000000</td>\n",
       "      <td>2011.000000</td>\n",
       "      <td>3.000000</td>\n",
       "      <td>6.000000</td>\n",
       "      <td>113000.000000</td>\n",
       "      <td>0.000000</td>\n",
       "      <td>33.00000</td>\n",
       "      <td>2018.000000</td>\n",
       "      <td>8.000000</td>\n",
       "      <td>13261.250000</td>\n",
       "    </tr>\n",
       "    <tr>\n",
       "      <th>75%</th>\n",
       "      <td>16839.000000</td>\n",
       "      <td>2014.000000</td>\n",
       "      <td>3.000000</td>\n",
       "      <td>8.000000</td>\n",
       "      <td>146541.000000</td>\n",
       "      <td>1.000000</td>\n",
       "      <td>53.00000</td>\n",
       "      <td>2019.000000</td>\n",
       "      <td>13.000000</td>\n",
       "      <td>18800.000000</td>\n",
       "    </tr>\n",
       "    <tr>\n",
       "      <th>max</th>\n",
       "      <td>375000.000000</td>\n",
       "      <td>2019.000000</td>\n",
       "      <td>5.000000</td>\n",
       "      <td>12.000000</td>\n",
       "      <td>990000.000000</td>\n",
       "      <td>1.000000</td>\n",
       "      <td>271.00000</td>\n",
       "      <td>2019.000000</td>\n",
       "      <td>111.000000</td>\n",
       "      <td>373200.000000</td>\n",
       "    </tr>\n",
       "  </tbody>\n",
       "</table>\n",
       "</div>"
      ],
      "text/plain": [
       "               price    model_year     condition     cylinders       odometer  \\\n",
       "count   51525.000000  51525.000000  51525.000000  51525.000000   51525.000000   \n",
       "mean    12132.464920   2009.871033      2.637535      6.112450  115162.352179   \n",
       "std     10040.803015      6.145084      0.712447      1.573784   59909.264385   \n",
       "min         1.000000   1908.000000      0.000000      3.000000       0.000000   \n",
       "25%      5000.000000   2007.000000      2.000000      4.000000   79181.000000   \n",
       "50%      9000.000000   2011.000000      3.000000      6.000000  113000.000000   \n",
       "75%     16839.000000   2014.000000      3.000000      8.000000  146541.000000   \n",
       "max    375000.000000   2019.000000      5.000000     12.000000  990000.000000   \n",
       "\n",
       "             is_4wd  days_listed          year       car_age    avg_mileage  \n",
       "count  51525.000000  51525.00000  51525.000000  51525.000000   51525.000000  \n",
       "mean       0.496303     39.55476   2018.307462      9.436429   15844.238152  \n",
       "std        0.499991     28.20427      0.461447      6.158509   12799.650725  \n",
       "min        0.000000      0.00000   2018.000000      1.000000       0.000000  \n",
       "25%        0.000000     19.00000   2018.000000      5.000000    9416.666667  \n",
       "50%        0.000000     33.00000   2018.000000      8.000000   13261.250000  \n",
       "75%        1.000000     53.00000   2019.000000     13.000000   18800.000000  \n",
       "max        1.000000    271.00000   2019.000000    111.000000  373200.000000  "
      ]
     },
     "execution_count": 51,
     "metadata": {},
     "output_type": "execute_result"
    }
   ],
   "source": [
    "# Check new dataset statistical data before slicing\n",
    "data_new.describe()"
   ]
  },
  {
   "cell_type": "markdown",
   "metadata": {},
   "source": [
    "Setelah outlier dihapus, data terlihat lebih rapih dan terstruktur dengan baik, sehingga dapat memberikan hasil analisis yang lebih akurat dan dapat dipercaya. Data yang bersih dan terstruktur akan memudahkan pengambilan keputusan dan memberikan gambaran yang lebih jelas tentang tren atau pola dalam data yang dihadapi."
   ]
  },
  {
   "cell_type": "markdown",
   "metadata": {},
   "source": [
    "## 2.4. Masa Berlalu Iklan"
   ]
  },
  {
   "cell_type": "code",
   "execution_count": 52,
   "metadata": {},
   "outputs": [
    {
     "data": {
      "text/plain": [
       "count    45636.000000\n",
       "mean        39.545644\n",
       "std         28.187992\n",
       "min          0.000000\n",
       "25%         19.000000\n",
       "50%         33.000000\n",
       "75%         53.000000\n",
       "max        271.000000\n",
       "Name: days_listed, dtype: float64"
      ]
     },
     "execution_count": 52,
     "metadata": {},
     "output_type": "execute_result"
    }
   ],
   "source": [
    "# Check statisctial info about days_listed\n",
    "data_clean['days_listed'].describe()"
   ]
  },
  {
   "cell_type": "code",
   "execution_count": 53,
   "metadata": {},
   "outputs": [
    {
     "data": {
      "image/png": "[encoded data removed]",
      "text/plain": [
       "<Figure size 432x288 with 1 Axes>"
      ]
     },
     "metadata": {
      "needs_background": "light"
     },
     "output_type": "display_data"
    }
   ],
   "source": [
    "days_mean = data_clean['days_listed'].mean()\n",
    "days_median = data_clean['days_listed'].median()\n",
    "\n",
    "fig, ax = plt.subplots()\n",
    "\n",
    "# plot histogram using the 'days_listed' column of the 'data_clean' DataFrame\n",
    "ax.hist(data_clean['days_listed'], bins=50)\n",
    "ax.axvline(days_mean, color='red', linestyle='-', label='Mean')\n",
    "ax.axvline(days_median, color='green', linestyle='--', label='Median')\n",
    "\n",
    "ax.set_xlabel('Days')\n",
    "ax.set_ylabel('Iklan')\n",
    "ax.set_title('Masa Berlaku Iklan')\n",
    "\n",
    "plt.show()"
   ]
  },
  {
   "cell_type": "code",
   "execution_count": 54,
   "metadata": {},
   "outputs": [
    {
     "data": {
      "image/png": "[encoded data removed]",
      "text/plain": [
       "<Figure size 432x288 with 1 Axes>"
      ]
     },
     "metadata": {
      "needs_background": "light"
     },
     "output_type": "display_data"
    }
   ],
   "source": [
    "# Compare old and new dataset\n",
    "fig, ax = plt.subplots()\n",
    "\n",
    "# Plot histogram of days_listed for new dataset\n",
    "data_new['days_listed'].hist(bins=50, alpha=0.5, label='New Data')\n",
    "\n",
    "# Plot histogram of days_listed for clean dataset\n",
    "data_clean['days_listed'].hist(bins=50, alpha=0.5, label='Clean Data')\n",
    "\n",
    "# Set the plot title and axis labels\n",
    "plt.title('Perbandingan Jumlah Hari Listing')\n",
    "plt.xlabel('Hari')\n",
    "plt.ylabel('Frekuensi')\n",
    "\n",
    "# Add a legend to the plot\n",
    "plt.legend()\n",
    "\n",
    "# Display the plot\n",
    "plt.show()"
   ]
  },
  {
   "cell_type": "markdown",
   "metadata": {},
   "source": [
    "Berdasarkan analisis, iklan mobil ditayangkan selama periode 0 hingga 271 hari, dengan rata-rata waktu iklan ditayangkan sebelum dihapus selama 40 hari dan median 33 hari. Namun, sebagian besar iklan dihapus dalam waktu kurang dari 50 hari setelah ditayangkan. Iklan paling cepat dihapus atau terjual pada hari yang sama dengan ditayangkan, sementara iklan paling lama ditayangkan hingga 271 hari."
   ]
  },
  {
   "cell_type": "markdown",
   "metadata": {},
   "source": [
    "## 2.5. Harga Rata-Rata Setiap Jenis Kendaraan"
   ]
  },
  {
   "cell_type": "code",
   "execution_count": null,
   "metadata": {},
   "outputs": [],
   "source": [
    "# Pivot table about avg car price\n",
    "avg_car_price = data_clean.pivot_table(values='price', \n",
    "                                       index='type',\n",
    "                                       aggfunc=['mean', 'count'])\n",
    "avg_car_price.columns = ['avg_price', 'total_ads']\n",
    "print(avg_car_price.sort_values('total_ads', ascending=False))\n",
    "print(avg_car_price.sort_values('avg_price', ascending=False))"
   ]
  },
  {
   "cell_type": "code",
   "execution_count": null,
   "metadata": {},
   "outputs": [],
   "source": [
    "# Sorted version with bar chart for average car price\n",
    "fig, ax = plt.subplots()\n",
    "\n",
    "# Plot bar chart for sorted average car price\n",
    "sorted_avg_car_price.plot(kind='bar', ax=ax)\n",
    "\n",
    "# Set the plot title and axis labels\n",
    "plt.title('Rata-Rata Harga Mobil Berdasarkan Merek')\n",
    "plt.xlabel('Merek Mobil')\n",
    "plt.ylabel('Rata-Rata Harga')\n",
    "\n",
    "# Display the plot\n",
    "plt.show()\n",
    "\n",
    "# Sorted version with bar chart for total ads\n",
    "fig, ax = plt.subplots()\n",
    "\n",
    "# Plot bar chart for sorted total ads\n",
    "sorted_avg_car_price_ads.plot(kind='bar', ax=ax)\n",
    "\n",
    "# Set the plot title and axis labels\n",
    "plt.title('Jumlah Iklan Berdasarkan Merek Mobil')\n",
    "plt.xlabel('Merek Mobil')\n",
    "plt.ylabel('Jumlah Iklan')\n",
    "\n",
    "# Display the plot\n",
    "plt.show()"
   ]
  },
  {
   "cell_type": "markdown",
   "metadata": {},
   "source": [
    "**Kesimpulan**\n",
    "\n",
    "Mobil tipe sedan dan SUV memiliki jumlah iklan terbanyak dalam dataset. Mobil tipe bus dan truk memiliki harga jual termahal."
   ]
  },
  {
   "cell_type": "markdown",
   "metadata": {},
   "source": [
    "## 2.6. Faktor Harga"
   ]
  },
  {
   "cell_type": "markdown",
   "metadata": {},
   "source": [
    "Analisis korelasi antara mobil tipe sedan dan SUV menunjukkan bahwa usia mobil berkorelasi negatif dengan harga, sedangkan jarak tempuh memiliki korelasi positif dengan harga. Kondisi mobil dan tipe transisi tidak memiliki korelasi yang signifikan dengan harga. Warna mobil juga memiliki korelasi yang relatif rendah dengan harga."
   ]
  },
  {
   "cell_type": "code",
   "execution_count": null,
   "metadata": {},
   "outputs": [],
   "source": [
    "# Loop for check value counts\n",
    "for col in ['car_age', 'avg_mileage', 'condition']:\n",
    "    print(sedan_type[col].value_counts())\n",
    "    print()"
   ]
  },
  {
   "cell_type": "markdown",
   "metadata": {},
   "source": [
    "**Kesimpulan Sementara:**\n",
    "\n",
    "- Sedan mobil dengan usia 6 dan 5 tahun menjadi favorit di antara pembeli karena berhasil terjual paling banyak.\n",
    "- Sedan dengan rata-rata jarak tempuh yang paling diminati memiliki rentang antara 14890 mile/tahun hingga 17371.666667 mile/tahun.\n",
    "- Warna mobil sedan yang paling diminati adalah hitam dan putih. Namun, terdapat juga beberapa mobil dengan warna tidak biasa seperti lime green dan bright orange."
   ]
  },
  {
   "cell_type": "code",
   "execution_count": null,
   "metadata": {},
   "outputs": [],
   "source": [
    "# Scater plot and hexbin plot\n",
    "sedan_type.plot(x='price', y='car_age', kind='scatter', grid=True, title='Korelasi Harga dengan Usia Mobil Sedan')\n",
    "sedan_type.plot(x='price', y='car_age', kind='hexbin', gridsize=20, sharex=False, grid=True) "
   ]
  },
  {
   "cell_type": "code",
   "execution_count": null,
   "metadata": {},
   "outputs": [],
   "source": [
    "# Scater plot and hexbin plot\n",
    "sedan_type.plot(x='price', y='avg_mileage', kind='scatter', alpha=0.2, grid=True, title='Korelasi Harga dengan Rata-rata Jarak Tempuh/Tahun')\n",
    "sedan_type.plot(x='price', y='avg_mileage', kind='hexbin', gridsize=20, sharex=False, grid=True) "
   ]
  },
  {
   "cell_type": "code",
   "execution_count": null,
   "metadata": {},
   "outputs": [],
   "source": [
    "# Scater plot and hexbin plot\n",
    "sedan_type.plot(x='price', y='condition', kind='scatter', alpha=0.2, grid=True, title='Korelasi Harga dengan Kondisi Mobil')\n",
    "sedan_type.plot(x='price', y='condition', kind='hexbin', gridsize=20, sharex=False, grid=True) "
   ]
  },
  {
   "cell_type": "code",
   "execution_count": null,
   "metadata": {},
   "outputs": [],
   "source": [
    "# Check correlation\n",
    "print(sedan_type['price'].corr(sedan_type['car_age']))\n",
    "print(sedan_type['price'].corr(sedan_type['avg_mileage']))\n",
    "print(sedan_type['price'].corr(sedan_type['condition']))"
   ]
  },
  {
   "cell_type": "markdown",
   "metadata": {},
   "source": [
    "**Kesimpulan**\n",
    "\n",
    "- Grafik menunjukkan bahwa semakin rendah nilai milage, harga mobil semakin tinggi. Selain itu, mobil dengan milage 0 memiliki harga yang lebih tinggi daripada mobil dengan milage di atas 0. Harga mobil dengan milage rendah dan sedang berkisar di antara 5000 dolar - 15000 dolar.\n",
    "- Plot korelasi harga dengan rata-rata jarak tempuh menunjukkan bahwa tidak ada hubungan linier antara harga dan rata-rata jarak tempuh mobil sedan. Hal ini ditunjukkan oleh data yang terkumpul dalam area yang sama, menunjukkan tidak adanya korelasi antara variabel tersebut.\n",
    "- Hal ini menunjukkan bahwa pembeli cenderung mempertimbangkan kondisi mobil saat membeli, sehingga mobil dengan kondisi yang lebih baik cenderung memiliki harga yang lebih tinggi. Selain itu, tipe mobil sedan dengan kondisi 3 dan 2 merupakan pilihan yang paling diminati oleh pembeli dengan harga yang masih terjangkau.\n",
    "- Korelasi antara harga dengan usia mobil menunjukkan bahwa semakin tua usia mobil, maka semakin murah harga mobil tersebut. Sementara itu, korelasi antara harga dengan rata-rata jarak tempuh per tahun serta kondisi mobil menunjukkan bahwa semakin baik kondisi mobil dan semakin rendah rata-rata jarak tempuh per tahunnya, maka semakin tinggi harga mobil. Namun, korelasi antara harga dengan kedua faktor tersebut cenderung lemah atau mendekati nol, sehingga dapat disimpulkan bahwa tidak ada korelasi yang kuat antara harga dengan rata-rata jarak tempuh per tahun atau kondisi mobil."
   ]
  },
  {
   "cell_type": "code",
   "execution_count": null,
   "metadata": {},
   "outputs": [],
   "source": [
    "# Loop for check value counts\n",
    "for col in ['transmission', 'paint_color']:\n",
    "    print(sedan_type[col].value_counts())\n",
    "    print()"
   ]
  },
  {
   "cell_type": "code",
   "execution_count": null,
   "metadata": {},
   "outputs": [],
   "source": [
    "# Create a boxplot\n",
    "sedan_type.boxplot(column='price', by='transmission')\n",
    "\n",
    "# Set grid\n",
    "plt.grid(True)"
   ]
  },
  {
   "cell_type": "code",
   "execution_count": null,
   "metadata": {},
   "outputs": [],
   "source": [
    "# Create a boxplot\n",
    "sedan_type.boxplot(column='price', by='paint_color')\n",
    "\n",
    "plt.xticks(rotation=50)\n",
    "plt.grid(True)"
   ]
  },
  {
   "cell_type": "markdown",
   "metadata": {},
   "source": [
    "**Kesimpulan Sementara:**\n",
    "\n",
    "- Tipe transisi matic merupakan pilihan yang paling diminati oleh pembeli mobil sedan.\n",
    "- Terjual paling banyak, mobil sedan dengan warna tidak diketahui, diikuti oleh mobil berwarna silver dan hitam.\n",
    "- Boxplot menunjukkan bahwa tidak terdapat perbedaan signifikan dalam harga mobil sedan berdasarkan tipe transmisi dan warna, dengan distribusi data yang relatif seragam. Hal ini menunjukkan bahwa kedua faktor tersebut tidak memiliki korelasi yang kuat dengan harga mobil sedan."
   ]
  },
  {
   "cell_type": "code",
   "execution_count": null,
   "metadata": {},
   "outputs": [],
   "source": [
    "# Loop for check value counts\n",
    "for col in ['car_age', 'avg_mileage', 'condition']:\n",
    "    print(suv_type[col].value_counts())\n",
    "    print()"
   ]
  },
  {
   "cell_type": "markdown",
   "metadata": {},
   "source": [
    "**Kesimpulan Sementara:**\n",
    "\n",
    "- SUV yang berusia 7 dan 11 tahun menjadi pilihan populer di antara pembeli mobil karena berhasil terjual paling banyak.\n",
    "- SUV dengan rata-rata jarak tempuh 13028.750000 dan 17371.666667 mile/year paling diminati oleh pembeli.\n",
    "- Mobil SUV dengan kondisi good(3) dan fair(2) menjadi pilihan utama pembeli."
   ]
  },
  {
   "cell_type": "code",
   "execution_count": null,
   "metadata": {},
   "outputs": [],
   "source": [
    "# Scater plot and hexbin plot\n",
    "suv_type.plot(x='price', y='car_age', kind='scatter', grid=True, title='Korelasi Harga dengan Usia Mobil SUV')\n",
    "suv_type.plot(x='price', y='car_age', kind='hexbin', gridsize=20, sharex=False, grid=True) "
   ]
  },
  {
   "cell_type": "code",
   "execution_count": null,
   "metadata": {},
   "outputs": [],
   "source": [
    "# Scater plot and hexbin plot\n",
    "suv_type.plot(x='price', y='avg_mileage', kind='scatter', alpha=0.2, grid=True, title='Korelasi Harga dengan Rata-rata Jarak Tempuh/Tahun')\n",
    "suv_type.plot(x='price', y='avg_mileage', kind='hexbin', gridsize=20, sharex=False, grid=True) "
   ]
  },
  {
   "cell_type": "code",
   "execution_count": null,
   "metadata": {},
   "outputs": [],
   "source": [
    "# Scater plot and hexbin plot\n",
    "suv_type.plot(x='price', y='condition', kind='scatter', alpha=0.2, grid=True, title='Korelasi Harga dengan Kondisi Mobil')\n",
    "suv_type.plot(x='price', y='condition', kind='hexbin', gridsize=20, sharex=False, grid=True) "
   ]
  },
  {
   "cell_type": "code",
   "execution_count": null,
   "metadata": {},
   "outputs": [],
   "source": [
    "# Check correlation\n",
    "print(suv_type['price'].corr(suv_type['car_age']))\n",
    "print(suv_type['price'].corr(suv_type['avg_mileage']))\n",
    "print(suv_type['price'].corr(suv_type['condition']))"
   ]
  },
  {
   "cell_type": "markdown",
   "metadata": {},
   "source": [
    "**Kesimpulan**\n",
    "\n",
    "- Plot menunjukkan hubungan negatif antara harga dan usia mobil SUV, di mana mobil yang lebih tua cenderung memiliki harga yang lebih rendah. Terdapat kumpulan data yang menunjukkan bahwa mobil SUV berusia sekitar 4-17 tahun memiliki harga antara 2000 hingga 15000 dolar.\n",
    "- Korelasi antara harga dan rata-rata jarak tempuh pada mobil SUV tidak terlihat karena semua data terkumpul dalam area yang sama pada plot korelasi.\n",
    "- Harga mobil SUV memiliki korelasi positif dengan kondisi mobil, di mana semakin baik kondisi mobil maka harga mobil semakin tinggi. Paling banyak peminat SUV pada kondisi 2 dan 3 dengan rentang harga sekitar 3000 dolar hingga 18000 dolar.\n",
    "- Korelasi antara harga mobil SUV dengan usia mobil dan rata-rata jarak tempuh per tahun saling berlawanan dan kuat, sedangkan korelasi antara harga mobil dengan kondisi mobil hampir tidak ada pada tipe SUV."
   ]
  },
  {
   "cell_type": "code",
   "execution_count": null,
   "metadata": {},
   "outputs": [],
   "source": [
    "for col in ['transmission', 'paint_color']:\n",
    "    print(suv_type[col].value_counts())\n",
    "    print()"
   ]
  },
  {
   "cell_type": "code",
   "execution_count": null,
   "metadata": {},
   "outputs": [],
   "source": [
    "# Create a boxplot\n",
    "suv_type.boxplot(column='price', by='transmission')\n",
    "\n",
    "# Set the grid\n",
    "plt.grid(True)"
   ]
  },
  {
   "cell_type": "code",
   "execution_count": null,
   "metadata": {},
   "outputs": [],
   "source": [
    "# Create a boxplot\n",
    "sedan_type.boxplot(column='price', by='paint_color')\n",
    "\n",
    "# Set the grid\n",
    "plt.grid(True)"
   ]
  },
  {
   "cell_type": "markdown",
   "metadata": {},
   "source": [
    "**Kesimpulan Sementara**\n",
    "\n",
    "- Tipe transmisi matic merupakan tipe paling diminati pada mobil sedan.\n",
    "- Mobil sedan dengan warna tidak diketahui menjadi pilihan utama pembeli, namun mobil berwarna hitam dan putih juga cukup diminati.\n",
    "- Boxplot menunjukkan bahwa tidak terdapat perbedaan signifikan dalam harga mobil berdasarkan tipe transmisi maupun warna mobil, sehingga dapat disimpulkan bahwa tidak terdapat korelasi antara kedua faktor tersebut dengan harga mobil."
   ]
  },
  {
   "cell_type": "markdown",
   "metadata": {},
   "source": [
    "## Kesimpulan Umum\n",
    "\n",
    "### A. Pra-pemrosesan\n",
    "\n",
    "Dari eksplorasi pra-pemrosesan data, dapat disimpulkan bahwa:\n",
    "\n",
    " 1. Dataset terdiri dari 51525 baris dan 13 kolom, namun terdapat 5 kolom dengan missing value, yaitu model_year, cylinders, odometer, paint_color, dan is_4wd.\n",
    " 2. Tidak terdapat duplikat pada dataset yang dianalisis.\n",
    " 3. Dataset dilakukan pemeriksaan terhadap nilai-nilai yang hilang, tipe, dan polanya. Kemudian, nilai-nilai yang hilang diisi dengan menggunakan variabel tertentu dan median data, selain itu dilakukan perbaikan terhadap tipe data dan kualitas data. Pada akhirnya, beberapa kolom ditambahkan ke dalam dataset.\n",
    " \n",
    "### B. Analisis Data Eksploratif (EDA)\n",
    " \n",
    "Dari hasil analisis data esksploratif, dapat disimpulkan bahwa:\n",
    "    \n",
    " 1. Evaluasi parameter price, car_age, avg_mileage, condition, dan cylinders untuk memastikan akurasi data.\n",
    " 2. Dataset awal mengandung outlier pada kolom price, avg_mileage, dan car_age, sehingga dibuat dataset baru tanpa outlier dengan jumlah baris yang lebih sedikit yaitu 45660.\n",
    " 3. Frasa tersebut sudah cukup jelas dan padat. Tidak perlu perubahan.\n",
    " 4. Tipe mobil yang paling populer adalah sedan dan SUV.\n",
    " 5. Mobil SUV dan sedan memiliki hubungan korelasi negatif yang kuat antara harga dengan usia mobil, yang artinya semakin muda usia mobil maka semakin tinggi harga mobil tersebut.\n",
    " 6. Dataset sedan dan SUV menunjukkan bahwa tidak terdapat korelasi yang signifikan antara rata-rata jarak per tahun, kondisi mobil, tipe transmisi, dan warna mobil dengan harga."
   ]
  }
 ],
 "metadata": {
  "ExecuteTimeLog": [
   {
    "duration": 828,
    "start_time": "2021-11-16T09:21:11.304Z"
   },
   {
    "duration": 893,
    "start_time": "2021-11-16T09:21:17.728Z"
   },
   {
    "duration": 1150,
    "start_time": "2021-11-16T09:21:29.568Z"
   },
   {
    "duration": 3,
    "start_time": "2021-11-16T09:24:14.495Z"
   },
   {
    "duration": 120,
    "start_time": "2021-11-16T09:24:46.630Z"
   },
   {
    "duration": 3,
    "start_time": "2021-11-16T09:28:27.882Z"
   },
   {
    "duration": 4,
    "start_time": "2021-11-16T09:29:54.281Z"
   },
   {
    "duration": 3,
    "start_time": "2021-11-16T09:30:45.936Z"
   },
   {
    "duration": 4,
    "start_time": "2021-11-16T09:31:06.300Z"
   },
   {
    "duration": 113,
    "start_time": "2021-11-16T09:31:37.208Z"
   },
   {
    "duration": 143,
    "start_time": "2021-11-16T09:31:48.656Z"
   },
   {
    "duration": 98,
    "start_time": "2021-11-16T09:31:55.678Z"
   },
   {
    "duration": 3,
    "start_time": "2021-11-16T09:32:08.535Z"
   },
   {
    "duration": 111,
    "start_time": "2021-11-16T09:32:10.120Z"
   },
   {
    "duration": 3,
    "start_time": "2021-11-16T09:32:15.732Z"
   },
   {
    "duration": 4,
    "start_time": "2021-11-16T09:32:29.423Z"
   },
   {
    "duration": 3,
    "start_time": "2021-11-16T10:03:03.074Z"
   },
   {
    "duration": 3,
    "start_time": "2021-11-16T10:10:01.288Z"
   },
   {
    "duration": 3,
    "start_time": "2021-11-16T10:10:46.923Z"
   },
   {
    "duration": 121,
    "start_time": "2021-11-16T10:37:46.494Z"
   },
   {
    "duration": 125,
    "start_time": "2021-11-16T10:38:20.632Z"
   },
   {
    "duration": 112,
    "start_time": "2021-11-16T10:46:53.001Z"
   },
   {
    "duration": 110,
    "start_time": "2021-11-16T10:48:25.775Z"
   },
   {
    "duration": 3,
    "start_time": "2021-11-16T10:50:18.720Z"
   },
   {
    "duration": 4,
    "start_time": "2021-11-16T10:50:37.649Z"
   },
   {
    "duration": 2,
    "start_time": "2021-11-16T10:50:51.884Z"
   },
   {
    "duration": 3,
    "start_time": "2021-11-16T10:51:56.237Z"
   },
   {
    "duration": 101,
    "start_time": "2021-11-16T10:53:13.791Z"
   },
   {
    "duration": 3,
    "start_time": "2021-11-16T10:55:59.186Z"
   },
   {
    "duration": 3,
    "start_time": "2021-11-16T10:56:10.751Z"
   },
   {
    "duration": 3,
    "start_time": "2021-11-16T10:56:49.038Z"
   },
   {
    "duration": 3,
    "start_time": "2021-11-16T10:56:49.174Z"
   },
   {
    "duration": 4,
    "start_time": "2021-11-16T10:56:49.414Z"
   },
   {
    "duration": 3,
    "start_time": "2021-11-16T10:56:49.680Z"
   },
   {
    "duration": 3,
    "start_time": "2021-11-16T10:56:50.370Z"
   },
   {
    "duration": 114,
    "start_time": "2021-11-16T10:59:34.518Z"
   },
   {
    "duration": 3,
    "start_time": "2021-11-16T11:01:41.201Z"
   },
   {
    "duration": 116,
    "start_time": "2021-11-16T11:01:48.754Z"
   },
   {
    "duration": 3,
    "start_time": "2021-11-16T11:02:16.685Z"
   },
   {
    "duration": 3,
    "start_time": "2021-11-16T11:02:19.479Z"
   },
   {
    "duration": 3,
    "start_time": "2021-11-16T11:02:47.067Z"
   },
   {
    "duration": 3,
    "start_time": "2021-11-16T11:02:49.353Z"
   },
   {
    "duration": 3,
    "start_time": "2021-11-16T11:03:07.835Z"
   },
   {
    "duration": 3,
    "start_time": "2021-11-16T11:03:07.953Z"
   },
   {
    "duration": 112,
    "start_time": "2021-11-16T11:07:52.072Z"
   },
   {
    "duration": 187,
    "start_time": "2021-11-16T11:09:23.468Z"
   },
   {
    "duration": 4,
    "start_time": "2021-11-16T11:10:01.455Z"
   },
   {
    "duration": 3,
    "start_time": "2021-11-16T11:10:05.069Z"
   },
   {
    "duration": 4,
    "start_time": "2021-11-16T11:10:13.376Z"
   },
   {
    "duration": 3,
    "start_time": "2021-11-16T11:10:14.434Z"
   },
   {
    "duration": 3,
    "start_time": "2021-11-16T11:10:22.853Z"
   },
   {
    "duration": 4,
    "start_time": "2021-11-16T11:27:29.279Z"
   },
   {
    "duration": 4,
    "start_time": "2021-11-16T11:29:08.919Z"
   },
   {
    "duration": 118,
    "start_time": "2021-11-16T11:29:46.703Z"
   },
   {
    "duration": 437,
    "start_time": "2021-11-16T11:36:02.181Z"
   },
   {
    "duration": 157,
    "start_time": "2021-11-16T11:36:14.388Z"
   },
   {
    "duration": 207,
    "start_time": "2021-11-16T11:47:15.898Z"
   },
   {
    "duration": 3,
    "start_time": "2021-11-16T11:53:52.092Z"
   },
   {
    "duration": 3,
    "start_time": "2021-11-16T11:53:52.236Z"
   },
   {
    "duration": 3,
    "start_time": "2021-11-16T11:59:12.005Z"
   },
   {
    "duration": 112,
    "start_time": "2021-11-16T12:00:33.446Z"
   },
   {
    "duration": 3,
    "start_time": "2021-11-16T12:02:14.453Z"
   },
   {
    "duration": 3,
    "start_time": "2021-11-16T12:02:39.512Z"
   },
   {
    "duration": 106,
    "start_time": "2021-11-16T12:03:03.460Z"
   }
  ],
  "kernelspec": {
   "display_name": "Python 3 (ipykernel)",
   "language": "python",
   "name": "python3"
  },
  "language_info": {
   "codemirror_mode": {
    "name": "ipython",
    "version": 3
   },
   "file_extension": ".py",
   "mimetype": "text/x-python",
   "name": "python",
   "nbconvert_exporter": "python",
   "pygments_lexer": "ipython3",
   "version": "3.9.5"
  },
  "toc": {
   "base_numbering": "1",
   "nav_menu": {},
   "number_sections": false,
   "sideBar": true,
   "skip_h1_title": false,
   "title_cell": "Table of Contents",
   "title_sidebar": "Contents",
   "toc_cell": false,
   "toc_position": {
    "height": "428px",
    "left": "660px",
    "top": "111.125px",
    "width": "272.391px"
   },
   "toc_section_display": true,
   "toc_window_display": false
  }
 },
 "nbformat": 4,
 "nbformat_minor": 2
}
